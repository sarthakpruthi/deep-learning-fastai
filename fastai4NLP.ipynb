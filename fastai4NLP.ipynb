{
  "nbformat": 4,
  "nbformat_minor": 0,
  "metadata": {
    "colab": {
      "name": "fastai4NLP.ipynb",
      "provenance": [],
      "collapsed_sections": [],
      "include_colab_link": true
    },
    "kernelspec": {
      "name": "python3",
      "display_name": "Python 3"
    },
    "accelerator": "GPU"
  },
  "cells": [
    {
      "cell_type": "markdown",
      "metadata": {
        "id": "view-in-github",
        "colab_type": "text"
      },
      "source": [
        "<a href=\"https://colab.research.google.com/github/sarthakpruthi/deep-learning-fastai/blob/master/fastai4NLP.ipynb\" target=\"_parent\"><img src=\"https://colab.research.google.com/assets/colab-badge.svg\" alt=\"Open In Colab\"/></a>"
      ]
    },
    {
      "cell_type": "markdown",
      "metadata": {
        "id": "3-7npSNtNdyx",
        "colab_type": "text"
      },
      "source": [
        "here we need 3 models\n",
        "\n",
        "1.language model ie already there as Wikitext103\n",
        "\n",
        "2.Language model\n",
        "\n",
        "3.Classifier"
      ]
    },
    {
      "cell_type": "code",
      "metadata": {
        "id": "M0iIwiPOV3Jb",
        "colab_type": "code",
        "colab": {}
      },
      "source": [
        "from fastai import *\n",
        "from fastai.text import *"
      ],
      "execution_count": 0,
      "outputs": []
    },
    {
      "cell_type": "code",
      "metadata": {
        "id": "52QJIXCC-Hsw",
        "colab_type": "code",
        "colab": {
          "base_uri": "https://localhost:8080/",
          "height": 52
        },
        "outputId": "8e77384c-f98e-42a7-fbf3-65f4c0d469d5"
      },
      "source": [
        "paths=untar_data(URLs.IMDB_SAMPLE)\n",
        "paths.ls()"
      ],
      "execution_count": 2,
      "outputs": [
        {
          "output_type": "stream",
          "text": [
            "Downloading http://files.fast.ai/data/examples/imdb_sample\n"
          ],
          "name": "stdout"
        },
        {
          "output_type": "display_data",
          "data": {
            "text/html": [
              ""
            ],
            "text/plain": [
              "<IPython.core.display.HTML object>"
            ]
          },
          "metadata": {
            "tags": []
          }
        },
        {
          "output_type": "execute_result",
          "data": {
            "text/plain": [
              "[PosixPath('/root/.fastai/data/imdb_sample/texts.csv')]"
            ]
          },
          "metadata": {
            "tags": []
          },
          "execution_count": 2
        }
      ]
    },
    {
      "cell_type": "code",
      "metadata": {
        "id": "synw6aY1-S7A",
        "colab_type": "code",
        "colab": {
          "base_uri": "https://localhost:8080/",
          "height": 202
        },
        "outputId": "5c60edea-2066-4bc1-b686-d84a0ddcc173"
      },
      "source": [
        "df=pd.read_csv(paths/'texts.csv')\n",
        "df.head()"
      ],
      "execution_count": 3,
      "outputs": [
        {
          "output_type": "execute_result",
          "data": {
            "text/html": [
              "<div>\n",
              "<style scoped>\n",
              "    .dataframe tbody tr th:only-of-type {\n",
              "        vertical-align: middle;\n",
              "    }\n",
              "\n",
              "    .dataframe tbody tr th {\n",
              "        vertical-align: top;\n",
              "    }\n",
              "\n",
              "    .dataframe thead th {\n",
              "        text-align: right;\n",
              "    }\n",
              "</style>\n",
              "<table border=\"1\" class=\"dataframe\">\n",
              "  <thead>\n",
              "    <tr style=\"text-align: right;\">\n",
              "      <th></th>\n",
              "      <th>label</th>\n",
              "      <th>text</th>\n",
              "      <th>is_valid</th>\n",
              "    </tr>\n",
              "  </thead>\n",
              "  <tbody>\n",
              "    <tr>\n",
              "      <th>0</th>\n",
              "      <td>negative</td>\n",
              "      <td>Un-bleeping-believable! Meg Ryan doesn't even ...</td>\n",
              "      <td>False</td>\n",
              "    </tr>\n",
              "    <tr>\n",
              "      <th>1</th>\n",
              "      <td>positive</td>\n",
              "      <td>This is a extremely well-made film. The acting...</td>\n",
              "      <td>False</td>\n",
              "    </tr>\n",
              "    <tr>\n",
              "      <th>2</th>\n",
              "      <td>negative</td>\n",
              "      <td>Every once in a long while a movie will come a...</td>\n",
              "      <td>False</td>\n",
              "    </tr>\n",
              "    <tr>\n",
              "      <th>3</th>\n",
              "      <td>positive</td>\n",
              "      <td>Name just says it all. I watched this movie wi...</td>\n",
              "      <td>False</td>\n",
              "    </tr>\n",
              "    <tr>\n",
              "      <th>4</th>\n",
              "      <td>negative</td>\n",
              "      <td>This movie succeeds at being one of the most u...</td>\n",
              "      <td>False</td>\n",
              "    </tr>\n",
              "  </tbody>\n",
              "</table>\n",
              "</div>"
            ],
            "text/plain": [
              "      label                                               text  is_valid\n",
              "0  negative  Un-bleeping-believable! Meg Ryan doesn't even ...     False\n",
              "1  positive  This is a extremely well-made film. The acting...     False\n",
              "2  negative  Every once in a long while a movie will come a...     False\n",
              "3  positive  Name just says it all. I watched this movie wi...     False\n",
              "4  negative  This movie succeeds at being one of the most u...     False"
            ]
          },
          "metadata": {
            "tags": []
          },
          "execution_count": 3
        }
      ]
    },
    {
      "cell_type": "code",
      "metadata": {
        "id": "0G5ho3KC-wgH",
        "colab_type": "code",
        "colab": {
          "base_uri": "https://localhost:8080/",
          "height": 55
        },
        "outputId": "c7242de9-77e8-4403-8dc9-c485eb2281f5"
      },
      "source": [
        "df['text'][1]"
      ],
      "execution_count": 4,
      "outputs": [
        {
          "output_type": "execute_result",
          "data": {
            "text/plain": [
              "'This is a extremely well-made film. The acting, script and camera-work are all first-rate. The music is good, too, though it is mostly early in the film, when things are still relatively cheery. There are no really superstars in the cast, though several faces will be familiar. The entire cast does an excellent job with the script.<br /><br />But it is hard to watch, because there is no good end to a situation like the one presented. It is now fashionable to blame the British for setting Hindus and Muslims against each other, and then cruelly separating them into two countries. There is some merit in this view, but it\\'s also true that no one forced Hindus and Muslims in the region to mistreat each other as they did around the time of partition. It seems more likely that the British simply saw the tensions between the religions and were clever enough to exploit them to their own ends.<br /><br />The result is that there is much cruelty and inhumanity in the situation and this is very unpleasant to remember and to see on the screen. But it is never painted as a black-and-white case. There is baseness and nobility on both sides, and also the hope for change in the younger generation.<br /><br />There is redemption of a sort, in the end, when Puro has to make a hard choice between a man who has ruined her life, but also truly loved her, and her family which has disowned her, then later come looking for her. But by that point, she has no option that is without great pain for her.<br /><br />This film carries the message that both Muslims and Hindus have their grave faults, and also that both can be dignified and caring people. The reality of partition makes that realisation all the more wrenching, since there can never be real reconciliation across the India/Pakistan border. In that sense, it is similar to \"Mr & Mrs Iyer\".<br /><br />In the end, we were glad to have seen the film, even though the resolution was heartbreaking. If the UK and US could deal with their own histories of racism with this kind of frankness, they would certainly be better off.'"
            ]
          },
          "metadata": {
            "tags": []
          },
          "execution_count": 4
        }
      ]
    },
    {
      "cell_type": "code",
      "metadata": {
        "id": "LTVnKj6nBIUD",
        "colab_type": "code",
        "colab": {
          "base_uri": "https://localhost:8080/",
          "height": 17
        },
        "outputId": "f62ba4e7-18eb-4419-db87-6732b8023d1c"
      },
      "source": [
        "data_lm=TextLMDataBunch.from_csv(paths,'texts.csv')"
      ],
      "execution_count": 5,
      "outputs": [
        {
          "output_type": "display_data",
          "data": {
            "text/html": [
              ""
            ],
            "text/plain": [
              "<IPython.core.display.HTML object>"
            ]
          },
          "metadata": {
            "tags": []
          }
        },
        {
          "output_type": "display_data",
          "data": {
            "text/html": [
              ""
            ],
            "text/plain": [
              "<IPython.core.display.HTML object>"
            ]
          },
          "metadata": {
            "tags": []
          }
        }
      ]
    },
    {
      "cell_type": "code",
      "metadata": {
        "id": "765SNyGOCQad",
        "colab_type": "code",
        "colab": {
          "base_uri": "https://localhost:8080/",
          "height": 514
        },
        "outputId": "c24e16fe-e473-4ac7-b4a5-1689720049d1"
      },
      "source": [
        "data_lm.show_batch()"
      ],
      "execution_count": 6,
      "outputs": [
        {
          "output_type": "display_data",
          "data": {
            "text/html": [
              "<table border=\"1\" class=\"dataframe\">\n",
              "  <thead>\n",
              "    <tr style=\"text-align: right;\">\n",
              "      <th>idx</th>\n",
              "      <th>text</th>\n",
              "    </tr>\n",
              "  </thead>\n",
              "  <tbody>\n",
              "    <tr>\n",
              "      <td>0</td>\n",
              "      <td>described as \" highly xxunk , \" and yet a half hours searching efforts on the web have revealed nothing but endless comments on how the early episodes were so much better than the later episodes . ( xxmaj personally , i do n't see a whole lot of difference - the scripts and themes remain largely the same throughout - but they do lose some great people along the</td>\n",
              "    </tr>\n",
              "    <tr>\n",
              "      <td>1</td>\n",
              "      <td>refuses to pay her . xxmaj when he 's off peeing , she answers his cell phone and takes a message . xxmaj she runs away with his keys . \\n \\n  xxmaj then the story switches to the contractor , who pays a professional call on a rich , bored xxmaj new xxmaj york woman , who plays with him until he is aroused , then she pulls</td>\n",
              "    </tr>\n",
              "    <tr>\n",
              "      <td>2</td>\n",
              "      <td>think it over before making another one similar to this one . one final note haha ! ! xxup for xxup all xxup the xxup people xxup who xxup enjoy xxup watching xxup animals xxup xxunk xxup to xxup death , xxup letting xxup rot , xxup with xxup women xxup and xxup children xxup as xxup well xxup and a xxup five xxup minute xxup scene xxup of xxup</td>\n",
              "    </tr>\n",
              "    <tr>\n",
              "      <td>3</td>\n",
              "      <td>a strange xxunk like substance which sticks to the stick , if you know what i mean ! xxmaj it then xxunk up the stick &amp; xxunk itself to the old man 's hand . xxmaj meanwhile xxmaj steve &amp; xxmaj jane are quietly driving along xxunk their own business when the old man runs out in front of xxmaj steve 's car , xxmaj steve being a decent kinda</td>\n",
              "    </tr>\n",
              "    <tr>\n",
              "      <td>4</td>\n",
              "      <td>modern audiences ( like yours truly ) but sometimes , words can speak xxunk than actions . xxmaj mendes has delivered a fine follow - up to his xxmaj oscar - winning debut , a film which is as intelligent as it is beautiful to watch . \" xxmaj road xxmaj to xxmaj perdition \" may not be to everyone 's tastes but this is one xxup dvd i shall</td>\n",
              "    </tr>\n",
              "  </tbody>\n",
              "</table>"
            ],
            "text/plain": [
              "<IPython.core.display.HTML object>"
            ]
          },
          "metadata": {
            "tags": []
          }
        }
      ]
    },
    {
      "cell_type": "code",
      "metadata": {
        "id": "8wDQ8puiCTS5",
        "colab_type": "code",
        "colab": {}
      },
      "source": [
        "data_lm.save()"
      ],
      "execution_count": 0,
      "outputs": []
    },
    {
      "cell_type": "markdown",
      "metadata": {
        "id": "1L4NyPktCr9J",
        "colab_type": "text"
      },
      "source": [
        "Tokenization"
      ]
    },
    {
      "cell_type": "code",
      "metadata": {
        "id": "5RX49_rtCfst",
        "colab_type": "code",
        "colab": {
          "base_uri": "https://localhost:8080/",
          "height": 17
        },
        "outputId": "14d24783-caab-4053-d8a2-086cfe129d83"
      },
      "source": [
        "data_clas=TextClasDataBunch.from_csv(paths,'texts.csv')"
      ],
      "execution_count": 8,
      "outputs": [
        {
          "output_type": "display_data",
          "data": {
            "text/html": [
              ""
            ],
            "text/plain": [
              "<IPython.core.display.HTML object>"
            ]
          },
          "metadata": {
            "tags": []
          }
        },
        {
          "output_type": "display_data",
          "data": {
            "text/html": [
              ""
            ],
            "text/plain": [
              "<IPython.core.display.HTML object>"
            ]
          },
          "metadata": {
            "tags": []
          }
        }
      ]
    },
    {
      "cell_type": "code",
      "metadata": {
        "id": "sUFDb1CxC4Fu",
        "colab_type": "code",
        "colab": {
          "base_uri": "https://localhost:8080/",
          "height": 514
        },
        "outputId": "b9f4da2a-1521-4f88-fda3-29048067daf1"
      },
      "source": [
        "data_clas.show_batch()"
      ],
      "execution_count": 9,
      "outputs": [
        {
          "output_type": "display_data",
          "data": {
            "text/html": [
              "<table border=\"1\" class=\"dataframe\">\n",
              "  <thead>\n",
              "    <tr style=\"text-align: right;\">\n",
              "      <th>text</th>\n",
              "      <th>target</th>\n",
              "    </tr>\n",
              "  </thead>\n",
              "  <tbody>\n",
              "    <tr>\n",
              "      <td>xxbos xxmaj raising xxmaj victor xxmaj vargas : a xxmaj review \\n \\n  xxmaj you know , xxmaj raising xxmaj victor xxmaj vargas is like sticking your hands into a big , steaming bowl of xxunk . xxmaj it 's warm and gooey , but you 're not sure if it feels right . xxmaj try as i might , no matter how warm and gooey xxmaj raising xxmaj</td>\n",
              "      <td>negative</td>\n",
              "    </tr>\n",
              "    <tr>\n",
              "      <td>xxbos xxmaj this film sat on my xxmaj xxunk for weeks before i watched it . i xxunk a self - indulgent xxunk flick about relationships gone bad . i was wrong ; this was an xxunk xxunk into the xxunk - up xxunk of xxmaj new xxmaj yorkers . \\n \\n  xxmaj the format is the same as xxmaj max xxmaj xxunk ' \" xxmaj la xxmaj ronde</td>\n",
              "      <td>positive</td>\n",
              "    </tr>\n",
              "    <tr>\n",
              "      <td>xxbos i really wanted to love this show . i truly , honestly did . \\n \\n  xxmaj for the first time , gay viewers get their own version of the \" xxmaj the xxmaj bachelor \" . xxmaj with the help of his obligatory \" hag \" xxmaj xxunk , xxmaj james , a good looking , well - to - do thirty - something has the chance</td>\n",
              "      <td>negative</td>\n",
              "    </tr>\n",
              "    <tr>\n",
              "      <td>xxbos \\n \\n  i 'm sure things did n't exactly go the same way in the real life of xxmaj homer xxmaj hickam as they did in the film adaptation of his book , xxmaj rocket xxmaj boys , but the movie \" xxmaj october xxmaj sky \" ( an xxunk of the book 's title ) is good enough to stand alone . i have not read xxmaj</td>\n",
              "      <td>positive</td>\n",
              "    </tr>\n",
              "    <tr>\n",
              "      <td>xxbos xxmaj to review this movie , i without any doubt would have to quote that memorable scene in xxmaj tarantino 's \" xxmaj pulp xxmaj fiction \" ( xxunk ) when xxmaj jules and xxmaj vincent are talking about xxmaj mia xxmaj wallace and what she does for a living . xxmaj jules tells xxmaj vincent that the \" xxmaj only thing she did worthwhile was pilot \" .</td>\n",
              "      <td>negative</td>\n",
              "    </tr>\n",
              "  </tbody>\n",
              "</table>"
            ],
            "text/plain": [
              "<IPython.core.display.HTML object>"
            ]
          },
          "metadata": {
            "tags": []
          }
        }
      ]
    },
    {
      "cell_type": "code",
      "metadata": {
        "id": "RG0sM4bGPFH5",
        "colab_type": "code",
        "colab": {}
      },
      "source": [
        "# xxfld: This is a special thing where if you've got like title, summary, abstract, body, (i. e. separate parts of a document),\n",
        "# each one will get a separate field and so they will get numbered (e.g. xxfld 2).\n",
        "# xxup: If there's something in all caps, it gets lower cased and a token called xxup will get added to it."
      ],
      "execution_count": 0,
      "outputs": []
    },
    {
      "cell_type": "markdown",
      "metadata": {
        "id": "GCK8Dk58LHbA",
        "colab_type": "text"
      },
      "source": [
        "Numericalization"
      ]
    },
    {
      "cell_type": "code",
      "metadata": {
        "id": "ATw6x-c0C9vy",
        "colab_type": "code",
        "colab": {
          "base_uri": "https://localhost:8080/",
          "height": 191
        },
        "outputId": "735e4e80-fcef-491b-b8e3-618538c0ebb8"
      },
      "source": [
        "data_clas.vocab.itos[:10]"
      ],
      "execution_count": 11,
      "outputs": [
        {
          "output_type": "execute_result",
          "data": {
            "text/plain": [
              "['xxunk',\n",
              " 'xxpad',\n",
              " 'xxbos',\n",
              " 'xxeos',\n",
              " 'xxfld',\n",
              " 'xxmaj',\n",
              " 'xxup',\n",
              " 'xxrep',\n",
              " 'xxwrep',\n",
              " 'the']"
            ]
          },
          "metadata": {
            "tags": []
          },
          "execution_count": 11
        }
      ]
    },
    {
      "cell_type": "code",
      "metadata": {
        "id": "1cy9fyqALY5l",
        "colab_type": "code",
        "colab": {
          "base_uri": "https://localhost:8080/",
          "height": 159
        },
        "outputId": "6085eca6-e415-4973-83ca-7ae3ab89f8d8"
      },
      "source": [
        "data_clas.train_ds[0][0]"
      ],
      "execution_count": 12,
      "outputs": [
        {
          "output_type": "execute_result",
          "data": {
            "text/plain": [
              "Text xxbos i loved the first \" xxmaj azumi \" movie . i 've seen xxmaj ms. xxmaj ueto in a variety of her xxup tv appearances and i 've seen my fair share of samurai and ninja flicks . i have to say that this movie was much weaker than i 'd expected . \n",
              " \n",
              "  xxmaj given the movie 's cast and set up in \" xxmaj azumi \" , they should have been able to do a much better job with this movie , but instead it was slow , xxunk in parts , and sprinkled with very poor , unconvincing , and wooden acting . \n",
              " \n",
              "  xxmaj when they bothered to reference the first movie , they did so in a manner that was pretty loose and weak . xxmaj in \" xxmaj azumi \" , the title character is the best of a group of superior killers . xxmaj in \" xxmaj azumi 2 \" she seems somehow xxunk and less - impressive . \n",
              " \n",
              "  xxmaj that 's not to say it was a total loss . xxmaj there were a few decent fight scenes and some over - the - top characters . xxmaj unfortunately , the movie suffers overall from the simple fact that xxmaj xxunk xxmaj xxunk and xxmaj xxunk xxmaj xxunk are not xxmaj ryuhei xxmaj kitamura and xxmaj xxunk xxmaj xxunk . xxmaj the latter two truly captured the \" manga \" feel in their screenplay whereas the former never quite \" got it . \""
            ]
          },
          "metadata": {
            "tags": []
          },
          "execution_count": 12
        }
      ]
    },
    {
      "cell_type": "code",
      "metadata": {
        "id": "45N6JOcOMGKt",
        "colab_type": "code",
        "colab": {
          "base_uri": "https://localhost:8080/",
          "height": 35
        },
        "outputId": "e3d66b00-faf7-46c9-a0b0-cf02d695e019"
      },
      "source": [
        "data_clas.train_ds[0][0].data[:10]"
      ],
      "execution_count": 13,
      "outputs": [
        {
          "output_type": "execute_result",
          "data": {
            "text/plain": [
              "array([   2,   19,  491,    9,  107,   22,    5, 2227,   22,   27])"
            ]
          },
          "metadata": {
            "tags": []
          },
          "execution_count": 13
        }
      ]
    },
    {
      "cell_type": "code",
      "metadata": {
        "id": "eJoOLNK2NIpn",
        "colab_type": "code",
        "colab": {}
      },
      "source": [
        "#this does both tokenization and numericalization"
      ],
      "execution_count": 0,
      "outputs": []
    },
    {
      "cell_type": "code",
      "metadata": {
        "id": "uXnvWdHPNhU1",
        "colab_type": "code",
        "colab": {
          "base_uri": "https://localhost:8080/",
          "height": 17
        },
        "outputId": "f7804971-b793-4223-ba96-beafb89150b6"
      },
      "source": [
        "#  data=(TextList.from_csv(path,'texts.csv',col='text')\n",
        "#                          .split_from_df(col=2)\n",
        "#                          .label_from_df(cols=0)\n",
        "#                          .databunch())\n",
        "#this generates error\n",
        " data_lm = (TextList.from_csv(paths, 'texts.csv', cols='text')\n",
        "           #Where are the text? Column 'text' of texts.csv\n",
        "           .split_by_rand_pct()\n",
        "           #How to split it? Randomly with the default 20% in valid\n",
        "           .label_for_lm()\n",
        "           #Label it for a language model\n",
        "           .databunch())\n",
        "           #Finally we convert to a DataBunch"
      ],
      "execution_count": 15,
      "outputs": [
        {
          "output_type": "display_data",
          "data": {
            "text/html": [
              ""
            ],
            "text/plain": [
              "<IPython.core.display.HTML object>"
            ]
          },
          "metadata": {
            "tags": []
          }
        },
        {
          "output_type": "display_data",
          "data": {
            "text/html": [
              ""
            ],
            "text/plain": [
              "<IPython.core.display.HTML object>"
            ]
          },
          "metadata": {
            "tags": []
          }
        }
      ]
    },
    {
      "cell_type": "code",
      "metadata": {
        "id": "_w02RzGuPeIr",
        "colab_type": "code",
        "colab": {
          "base_uri": "https://localhost:8080/",
          "height": 156
        },
        "outputId": "b3bef90a-65fa-4bc4-d53a-652af7f60808"
      },
      "source": [
        "path=untar_data(URLs.IMDB)\n",
        "path.ls()"
      ],
      "execution_count": 16,
      "outputs": [
        {
          "output_type": "stream",
          "text": [
            "Downloading https://s3.amazonaws.com/fast-ai-nlp/imdb\n"
          ],
          "name": "stdout"
        },
        {
          "output_type": "display_data",
          "data": {
            "text/html": [
              ""
            ],
            "text/plain": [
              "<IPython.core.display.HTML object>"
            ]
          },
          "metadata": {
            "tags": []
          }
        },
        {
          "output_type": "execute_result",
          "data": {
            "text/plain": [
              "[PosixPath('/root/.fastai/data/imdb/tmp_clas'),\n",
              " PosixPath('/root/.fastai/data/imdb/tmp_lm'),\n",
              " PosixPath('/root/.fastai/data/imdb/train'),\n",
              " PosixPath('/root/.fastai/data/imdb/README'),\n",
              " PosixPath('/root/.fastai/data/imdb/imdb.vocab'),\n",
              " PosixPath('/root/.fastai/data/imdb/test'),\n",
              " PosixPath('/root/.fastai/data/imdb/unsup')]"
            ]
          },
          "metadata": {
            "tags": []
          },
          "execution_count": 16
        }
      ]
    },
    {
      "cell_type": "code",
      "metadata": {
        "id": "qexaOLVuSivd",
        "colab_type": "code",
        "colab": {
          "base_uri": "https://localhost:8080/",
          "height": 87
        },
        "outputId": "2fa5f100-2b21-411c-d49f-b22a55730039"
      },
      "source": [
        "(path/'train').ls()"
      ],
      "execution_count": 17,
      "outputs": [
        {
          "output_type": "execute_result",
          "data": {
            "text/plain": [
              "[PosixPath('/root/.fastai/data/imdb/train/unsupBow.feat'),\n",
              " PosixPath('/root/.fastai/data/imdb/train/labeledBow.feat'),\n",
              " PosixPath('/root/.fastai/data/imdb/train/neg'),\n",
              " PosixPath('/root/.fastai/data/imdb/train/pos')]"
            ]
          },
          "metadata": {
            "tags": []
          },
          "execution_count": 17
        }
      ]
    },
    {
      "cell_type": "code",
      "metadata": {
        "id": "eV5J5_CnSulh",
        "colab_type": "code",
        "colab": {
          "base_uri": "https://localhost:8080/",
          "height": 17
        },
        "outputId": "440a52ff-e00b-4b81-db7e-c45b3d8f0733"
      },
      "source": [
        "data_lm=(TextList.from_folder(path)\n",
        "                  .filter_by_folder(include=['train','test'])\n",
        "                  .split_by_rand_pct(0.1)\n",
        "                  .label_for_lm()#predicts next word from previous word\n",
        "                  .databunch())"
      ],
      "execution_count": 18,
      "outputs": [
        {
          "output_type": "display_data",
          "data": {
            "text/html": [
              ""
            ],
            "text/plain": [
              "<IPython.core.display.HTML object>"
            ]
          },
          "metadata": {
            "tags": []
          }
        },
        {
          "output_type": "display_data",
          "data": {
            "text/html": [
              ""
            ],
            "text/plain": [
              "<IPython.core.display.HTML object>"
            ]
          },
          "metadata": {
            "tags": []
          }
        }
      ]
    },
    {
      "cell_type": "code",
      "metadata": {
        "id": "iRGDHzL-UtWk",
        "colab_type": "code",
        "colab": {}
      },
      "source": [
        "data_lm.save('tm_lm')"
      ],
      "execution_count": 0,
      "outputs": []
    },
    {
      "cell_type": "code",
      "metadata": {
        "id": "FtKzT4rjLcSl",
        "colab_type": "code",
        "colab": {
          "base_uri": "https://localhost:8080/",
          "height": 514
        },
        "outputId": "a51ac3cb-e914-4755-cda3-66a92081093b"
      },
      "source": [
        "data_lm.show_batch()"
      ],
      "execution_count": 20,
      "outputs": [
        {
          "output_type": "display_data",
          "data": {
            "text/html": [
              "<table border=\"1\" class=\"dataframe\">\n",
              "  <thead>\n",
              "    <tr style=\"text-align: right;\">\n",
              "      <th>idx</th>\n",
              "      <th>text</th>\n",
              "    </tr>\n",
              "  </thead>\n",
              "  <tbody>\n",
              "    <tr>\n",
              "      <td>0</td>\n",
              "      <td>and you ca n't help wondering why a group of highly organized terrorists ( who later become pretty clueless ) fall for it . xxmaj the film starts with a pretty powerful scene but then meanders for quite a long time building up towards the great finale . xxmaj overall , i think xxmaj who dares wins could have been an interesting 45 minutes episode of xxmaj the xxmaj professionals</td>\n",
              "    </tr>\n",
              "    <tr>\n",
              "      <td>1</td>\n",
              "      <td>so much time to set up xxup that punchline ( example : the students ' awards gag ) . xxmaj and nearly all are directed without any artistry . xxmaj do n't get me wrong : about 1 every 10 jokes actually manages to be funny ( the iron / phone one is probably my favorite ) . xxmaj there is also some wonderful full - frontal nudity that proves</td>\n",
              "    </tr>\n",
              "    <tr>\n",
              "      <td>2</td>\n",
              "      <td>, and the radical religious nuts do n't need anymore funding . xxbos i gave this movie a very fair chance , and it betrayed me . xxmaj this is very little more than a black and white excuse to bore the hell out of the audience even as the egotist xxmaj xxunk ( who did way better with xxup targets ) gets \" great performances \" out of a</td>\n",
              "    </tr>\n",
              "    <tr>\n",
              "      <td>3</td>\n",
              "      <td>do well , and xxmaj brennan is always a thrill . xxmaj in fact , xxmaj mature may be the only acting downside of this flick . xxmaj still , it is the weakest of the old xxup ok xxmaj corral movies . xxbos xxmaj the main aspect about the xxmaj superstar 's movies at his later stages were the frequency , the xxunk between one movie and the next</td>\n",
              "    </tr>\n",
              "    <tr>\n",
              "      <td>4</td>\n",
              "      <td>lack of inspiration is likely to make the viewer laugh at the supposed \" scares \" on the screen . xxmaj the make - up effects of the \" ghosts \" were n't too bad given the low budget but their actions just defied logic . i was scratching my head quite a few times during this movie . \\n \\n  i could n't give away the ending even</td>\n",
              "    </tr>\n",
              "  </tbody>\n",
              "</table>"
            ],
            "text/plain": [
              "<IPython.core.display.HTML object>"
            ]
          },
          "metadata": {
            "tags": []
          }
        }
      ]
    },
    {
      "cell_type": "code",
      "metadata": {
        "id": "BfH2ZJ85LpcK",
        "colab_type": "code",
        "colab": {
          "base_uri": "https://localhost:8080/",
          "height": 35
        },
        "outputId": "b11ee8d5-c923-40b3-9a0a-b5783d806372"
      },
      "source": [
        "#not working\n",
        "#learn = language_model_learner(data_lm,arch=AWD_LSTM, drop_mult=0.3)\n",
        "#learn = language_model_learner(data_lm, pretrained_model=URLs.WT103_FWD, drop_mult=0.3)\n",
        "learn = language_model_learner(data_lm, AWD_LSTM)\n",
        "#language model is a model that learns to predict what would be next word of a sentence"
      ],
      "execution_count": 21,
      "outputs": [
        {
          "output_type": "stream",
          "text": [
            "Downloading https://s3.amazonaws.com/fast-ai-modelzoo/wt103-fwd\n"
          ],
          "name": "stdout"
        },
        {
          "output_type": "display_data",
          "data": {
            "text/html": [
              ""
            ],
            "text/plain": [
              "<IPython.core.display.HTML object>"
            ]
          },
          "metadata": {
            "tags": []
          }
        }
      ]
    },
    {
      "cell_type": "code",
      "metadata": {
        "id": "UG4EtC79MRAT",
        "colab_type": "code",
        "colab": {
          "base_uri": "https://localhost:8080/",
          "height": 55
        },
        "outputId": "30f081ca-e2df-402b-cf57-9eebc0c8c9f9"
      },
      "source": [
        "learn.lr_find()"
      ],
      "execution_count": 22,
      "outputs": [
        {
          "output_type": "display_data",
          "data": {
            "text/html": [
              ""
            ],
            "text/plain": [
              "<IPython.core.display.HTML object>"
            ]
          },
          "metadata": {
            "tags": []
          }
        },
        {
          "output_type": "stream",
          "text": [
            "LR Finder is complete, type {learner_name}.recorder.plot() to see the graph.\n"
          ],
          "name": "stdout"
        }
      ]
    },
    {
      "cell_type": "code",
      "metadata": {
        "id": "CHcQqnaKMQ80",
        "colab_type": "code",
        "colab": {
          "base_uri": "https://localhost:8080/",
          "height": 279
        },
        "outputId": "6f481dd1-865c-4c2b-9155-4bd25be0984b"
      },
      "source": [
        "learn.recorder.plot(skip_end=15)"
      ],
      "execution_count": 23,
      "outputs": [
        {
          "output_type": "display_data",
          "data": {
            "image/png": "[encoded data removed]",
            "text/plain": [
              "<Figure size 432x288 with 1 Axes>"
            ]
          },
          "metadata": {
            "tags": []
          }
        }
      ]
    },
    {
      "cell_type": "code",
      "metadata": {
        "id": "6bMay-D3MQ5f",
        "colab_type": "code",
        "colab": {
          "base_uri": "https://localhost:8080/",
          "height": 79
        },
        "outputId": "68d0d2d9-8c29-4b7f-b4df-e310accc1ec6"
      },
      "source": [
        "learn.fit_one_cycle(1,slice(4e-3,1e-2),moms=(0.8,0.7))"
      ],
      "execution_count": 24,
      "outputs": [
        {
          "output_type": "display_data",
          "data": {
            "text/html": [
              "<table border=\"1\" class=\"dataframe\">\n",
              "  <thead>\n",
              "    <tr style=\"text-align: left;\">\n",
              "      <th>epoch</th>\n",
              "      <th>train_loss</th>\n",
              "      <th>valid_loss</th>\n",
              "      <th>accuracy</th>\n",
              "      <th>time</th>\n",
              "    </tr>\n",
              "  </thead>\n",
              "  <tbody>\n",
              "    <tr>\n",
              "      <td>0</td>\n",
              "      <td>4.399446</td>\n",
              "      <td>4.052506</td>\n",
              "      <td>0.288603</td>\n",
              "      <td>09:53</td>\n",
              "    </tr>\n",
              "  </tbody>\n",
              "</table>"
            ],
            "text/plain": [
              "<IPython.core.display.HTML object>"
            ]
          },
          "metadata": {
            "tags": []
          }
        }
      ]
    },
    {
      "cell_type": "code",
      "metadata": {
        "id": "i5Nj3TepM6LA",
        "colab_type": "code",
        "colab": {}
      },
      "source": [
        "learn.save('fit_head')"
      ],
      "execution_count": 0,
      "outputs": []
    },
    {
      "cell_type": "code",
      "metadata": {
        "id": "E2Uocl4jM5-9",
        "colab_type": "code",
        "colab": {
          "base_uri": "https://localhost:8080/",
          "height": 1000
        },
        "outputId": "288cc114-ac5c-41df-bf9a-9825ff6490fb"
      },
      "source": [
        "learn.load('fit_head')"
      ],
      "execution_count": 26,
      "outputs": [
        {
          "output_type": "execute_result",
          "data": {
            "text/plain": [
              "LanguageLearner(data=TextLMDataBunch;\n",
              "\n",
              "Train: LabelList (45000 items)\n",
              "x: LMTextList\n",
              "xxbos xxmaj this is actually a pretty bad film . xxmaj the ideology is not as perverse as in those films xxmaj collins made later . xxmaj however , my main misgivings about the film are that it is implausible and quite frankly boring for a long time . xxmaj the whole concept of an ex - xxup sas man joining terrorists for no particular reason is n't very convincing and you ca n't help wondering why a group of highly organized terrorists ( who later become pretty clueless ) fall for it . xxmaj the film starts with a pretty powerful scene but then meanders for quite a long time building up towards the great finale . xxmaj overall , i think xxmaj who dares wins could have been an interesting 45 minutes episode of xxmaj the xxmaj professionals but the story does n't carry a feature film . xxmaj although reasonably successful at the time this film initiated the demise of xxmaj collins ' career who in the eighties mainly made cheap and dubious soldier - of - fortune or army films . xxmaj pity , because he actually is quite a versatile actor but at the end of the day xxmaj martin xxmaj shaw chose his roles more carefully and has a career that 's still successful .,xxbos xxmaj kojak meets the mafia . xxmaj telly xxmaj xxunk is one of those guys from the past that seems pretty forgettable . i never thought that his show was all that great . xxmaj this is his one dimensional characterization of a crime boss , with very predictable results . xxmaj if you take the car chases and the general rambling out , there is n't much plot development or action . i find mafia movies to be dull because i have no respect or interest in common criminals and their actions . xxmaj hollywood , and in this case , the xxmaj italian cinema , treat these guys as heroes . i saw the film and in a few days i wo n't remember much about it . xxmaj lots of shooting , innocent bystanders dying , betrayal , and that sick loyalty . xxmaj the film is photographed pretty well and the acting is decent . xxmaj but the dubbing is so bad ( due to voices that just could n't come out of those bodies ) , that i almost started looking for xxmaj godzilla approaching the bay .,xxbos i must say that i am fairly disappointed by this \" horror \" movie . i did not get scared even once while watching it . xxmaj it also is not very suspenseful either xxrep 4 . i was able to guess the ending half way through the movie ... xxmaj so .. what 's left ? \n",
              " \n",
              "  \" xxmaj the xxmaj ring \" is a trully scary movie ... i wish other movies would stop copying from it ( e.g. the trade - mark : long hair ) . xxmaj please give me some originality . \n",
              " \n",
              "  xxmaj will not recommend this movie .,xxbos xxup popeye xxup and xxup big xxup foot * * ; xxup popeye xxup 's xxup engine xxup company * * ; xxup getting xxup popeye xxup 's xxup goat * * 1 / 2 \n",
              " \n",
              "  i used to lap these up as a kid but , catching an episode of the series comprising three cartoons back - to - back now i.e. several years later ( they preceded the theatrical screening of the pirate yarn xxup raiders xxup of xxup the xxup seven xxup seas [ 1953 ] ) , i can see how they do n't hold up all that well ! xxmaj the character of xxmaj popeye is n't exactly sympathetic to begin with , xxmaj olive xxmaj oyl distinctly overbearing and xxmaj bluto 's antics failed to elicit much interest either  in short , the scripts were alarmingly thin , fairly awful and generally unfunny to boot . xxmaj they 're strictly juvenile fare , yet i doubt today 's kids would even have the patience to stick with them ! ; furthermore , the animation style is unattractive . \n",
              " \n",
              "  xxmaj taking each short per se , i guess they improved from one to the other : after the initial shock , one adapted to its mediocre quality as it were , so that the third cartoon easily results in being the most enjoyable of the lot  xxmaj popeye is entrusted with a mascot army goat whose immense appetite causes him no end of mischief ( hardly original , i know , but always an amusing ploy ) . xxmaj one interesting element here was that the shorts were bookended with xxmaj popeye delivering moralistic bits of wisdom to the kids in the audience .,xxbos xxmaj this is probably the worst movie i have ever seen , ( yes it 's even worse than xxmaj dungeons and xxmaj dragons and any film starring xxmaj kevin xxmaj costner . ) \n",
              " \n",
              "  xxmaj chris xxmaj rock looked very uncomfortable throughout this whole film , and his supporting actors did n't even look like they were trying to act . xxmaj chris xxmaj rock is a wonderful stand - up comedian , but he just ca n't transfer his talent to this film , which probably only has two strained laughs in the whole picture . \n",
              " \n",
              "  xxmaj if you have n't watched this film yet , avoid it like the plague . xxmaj go do something constructive and more interesting like watching the weather channel or watching paint dry on a brick wall . \n",
              " \n",
              "  xxmaj for xxmaj chris ' efforts i give it a 2 / 10 ! \n",
              " \n",
              " \n",
              "y: LMLabelList\n",
              ",,,,\n",
              "Path: /root/.fastai/data/imdb;\n",
              "\n",
              "Valid: LabelList (5000 items)\n",
              "x: LMTextList\n",
              "xxbos xxmaj in xxmaj alfred xxmaj hitchcock 's adaptation of xxmaj patricia xxmaj highsmith 's \" xxmaj strangers xxmaj on a xxmaj train \" , xxmaj guy xxmaj haines ( xxmaj farley xxmaj xxunk xxmaj bruno xxmaj anthony ( xxmaj robert xxmaj xxunk for the first time on a train journey and discuss the idea of carrying out two murders . xxmaj the rather pushy xxmaj anthony suggests that he could murder xxmaj haines ' unfaithful wife and xxmaj haines could murder xxmaj anthony 's domineering father . xxmaj the lack of any connection between the murderer and the victim in each case should ensure that both crimes would remain unsolved . xxmaj the tenor of the conversation leaves the more easy going xxmaj haines with the impression that the proposal is not entirely serious . xxmaj complications arise later when xxmaj anthony murders xxmaj haines ' wife in an amusement park and then pursues xxmaj haines to keep his side of the bargain . \n",
              " \n",
              "  xxmaj the differences between the two men are clear from the start . xxmaj haines is a professional tennis player , respectable and rather modest about his achievements whereas xxmaj anthony 's life is going nowhere and he admits to having been thrown out of three colleges for drinking and gambling . xxmaj haines is in a relationship with a xxmaj senator 's daughter who he wants to marry . xxmaj anthony characteristically interprets this as a cynical manoeuvre on xxmaj haines ' part to provide himself with a shortcut to a career . xxmaj the character differences are also reinforced visually . xxmaj anthony often inhabits shadowed areas and travels in a boat called \" xxmaj pluto \" whereas xxmaj haines is frequently seen from the more heroic perspective provided by low camera angles . \n",
              " \n",
              "  xxmaj there are some striking visual sequences such xxunk \n",
              " \n",
              "  ( 1 ) xxmaj the murder of xxmaj haines ' wife which is shown through the reflection of her glasses which fall to the ground as she struggles to free herself from xxmaj anthony . \n",
              " \n",
              "  ( 2 ) xxmaj the depiction of xxmaj anthony alone , dressed in black and looking very small against the enormous white xxmaj jefferson xxmaj memorial building . \n",
              " \n",
              "  ( 3 ) xxmaj the occasion where all the spectators at a tennis match are moving their heads in unison , following the action , whilst one head ( xxmaj anthony 's ) chillingly remains fixed in a position looking at xxmaj haines . \n",
              " \n",
              "  ( xxunk scene where the roundabout goes wildly out of control and eventually crashes spectacularly . \n",
              " \n",
              "  xxmaj frequent use is made of \" doubles \" throughout the story , for example , xxmaj haines and xxmaj anthony are originally introduced as 2 pairs of feet getting out of their taxis and going to the train . xxmaj as the train pulls out of the station , there are 2 sets of tracks each providing a choice of 2 ways forward . xxmaj the 2 men discuss the murders of 2 potential victims and order 2 double xxunk . xxmaj the xxmaj hitchcock cameo sees him struggling on board the train carrying a double bass . xxmaj haines feels double crossed when his wife xxunk on an agreement they had for her to see a lawyer to arrange a divorce . xxmaj haines ' wife goes to the amusement park with 2 boyfriends . xxmaj when xxmaj anthony confronts her before the murder he lights his cigarette lighter and produces 2 reflections in her glasses . xxmaj anthony later becomes very disconcerted when he meets the xxmaj senator 's younger daughter who he sees as a double for xxmaj haines ' wife . xxmaj anthony also feels double crossed when xxmaj haines refuses to go ahead with the second murder . xxmaj when xxmaj haines is travelling alone in a train going to xxmaj metcalf , he sees 2 men in the same carriage accidentally kicking their feet together in the same way that he and xxmaj anthony had . \n",
              " \n",
              "  xxmaj the action throughout the movie proceeds at a great pace and the performances of xxmaj robert xxmaj walker and xxmaj patricia xxmaj hitchcock ( as the xxmaj senator 's younger daughter ) are particularly powerful .,xxbos i just finished up this unofficial adaptation of xxup h.p. xxmaj lovecraft 's \" xxmaj the xxmaj lurking xxmaj fear \" that was shot in xxmaj louisiana . xxmaj outside of a few changes ( names , setting ) , this follows the short story point by point for the first 70 minutes but then tries to inject its own \" twist \" ending that you could see coming from a mile away . xxmaj either way , it is a much better adaptation than xxmaj full xxmaj moon 's xxup the xxup lurking xxup fear . xxmaj too bad it is a terrible film . xxmaj director xxmaj david mccormick shoots the thing with all the flair of an industrial short . i swear i counted maybe two camera movements . xxmaj the creature design is cheap ( we 're talking store bought masks here ) but shot in a dark manner ( intentional or not ) where they are somewhat creepy . xxmaj the most impressive thing in the picture is the abandoned mansion but mccormick fails to exploit that as well . xxmaj file this one under good adaptation , poor execution .,xxbos xxmaj long on action and stunt work , but so short on character delineation and development that it failed to hold our interest . xxmaj not always easy to figure out which side a character is on and who 's doing what to whom .,xxbos xxmaj this movie lacks in everything . xxmaj except xxmaj bobby deol , who in his own standards is mediocre , no one in this movie has come close to act in a single scene . xxmaj xxunk is complete fake in her acting . \n",
              " \n",
              "  xxmaj the great xxmaj anupam xxmaj kher has a guest appearance and is better in those 2 minutes than bobby in the whole movie . xxmaj the music does'nt compliment the movie \n",
              " \n",
              "  that well . xxmaj the contrast in xxmaj music between xxmaj bobby and xxmaj upen is not highlighted that well . xxmaj great concept gone completely wrong . xxmaj the movie does'nt have a proper ending . xxmaj please do n't waste your time as i did on this movie,xxbos i have begun to melt so i will make this review as short and sweet as possible . \n",
              " \n",
              "  xxmaj there 's this astronaut , and he goes up in a spacecraft with two other guys , ya know ? xxmaj except something happens that exposes him to radiation , and then when they come back ... well , never mind what happened to the other guys , but our astronaut has begun to melt ! xxmaj no , not just burn up , but xxup melt ! xxmaj like an ice cream cone in xxmaj july ! xxmaj well xxup ok maybe not that fast , but ya know what i mean . \n",
              " \n",
              "  xxmaj anyway , he gets all red & gooey , and the fact that he 's melting makes him really mad . i guess he also checked out the \" melting man \" handbook because suddenly he knows that in order to keep from totally melting away , he has to eat human flesh , so he starts ripping people apart . \n",
              " \n",
              "  xxmaj there are other characters , but in a movie where a man melts and melts and melts ( and melts ) , do you really need any others ? xxmaj what 's important is xxup who will he munch next , and xxup what will be left of them ? xxup how long will it take for him to just melt away to nothing ? xxup why was this movie made in the first place ? xxup where did they get the money ? xxup when will you fall asleep while watching it ? \n",
              " \n",
              "  i 've very nearly melted , but i still have enough time left to tell you that this movie is dreadfully boring , even though the idea is really cool and kind of gross . xxmaj the makeup is neat but everything else is ... xxup splat\n",
              "y: LMLabelList\n",
              ",,,,\n",
              "Path: /root/.fastai/data/imdb;\n",
              "\n",
              "Test: None, model=SequentialRNN(\n",
              "  (0): AWD_LSTM(\n",
              "    (encoder): Embedding(49808, 400, padding_idx=1)\n",
              "    (encoder_dp): EmbeddingDropout(\n",
              "      (emb): Embedding(49808, 400, padding_idx=1)\n",
              "    )\n",
              "    (rnns): ModuleList(\n",
              "      (0): WeightDropout(\n",
              "        (module): LSTM(400, 1152, batch_first=True)\n",
              "      )\n",
              "      (1): WeightDropout(\n",
              "        (module): LSTM(1152, 1152, batch_first=True)\n",
              "      )\n",
              "      (2): WeightDropout(\n",
              "        (module): LSTM(1152, 400, batch_first=True)\n",
              "      )\n",
              "    )\n",
              "    (input_dp): RNNDropout()\n",
              "    (hidden_dps): ModuleList(\n",
              "      (0): RNNDropout()\n",
              "      (1): RNNDropout()\n",
              "      (2): RNNDropout()\n",
              "    )\n",
              "  )\n",
              "  (1): LinearDecoder(\n",
              "    (decoder): Linear(in_features=400, out_features=49808, bias=True)\n",
              "    (output_dp): RNNDropout()\n",
              "  )\n",
              "), opt_func=functools.partial(<class 'torch.optim.adam.Adam'>, betas=(0.9, 0.99)), loss_func=FlattenedLoss of CrossEntropyLoss(), metrics=[<function accuracy at 0x7f92faf3f620>], true_wd=True, bn_wd=True, wd=0.01, train_bn=True, path=PosixPath('/root/.fastai/data/imdb'), model_dir='models', callback_fns=[functools.partial(<class 'fastai.basic_train.Recorder'>, add_time=True, silent=False)], callbacks=[RNNTrainer\n",
              "learn: LanguageLearner(data=TextLMDataBunch;\n",
              "\n",
              "Train: LabelList (45000 items)\n",
              "x: LMTextList\n",
              "xxbos xxmaj this is actually a pretty bad film . xxmaj the ideology is not as perverse as in those films xxmaj collins made later . xxmaj however , my main misgivings about the film are that it is implausible and quite frankly boring for a long time . xxmaj the whole concept of an ex - xxup sas man joining terrorists for no particular reason is n't very convincing and you ca n't help wondering why a group of highly organized terrorists ( who later become pretty clueless ) fall for it . xxmaj the film starts with a pretty powerful scene but then meanders for quite a long time building up towards the great finale . xxmaj overall , i think xxmaj who dares wins could have been an interesting 45 minutes episode of xxmaj the xxmaj professionals but the story does n't carry a feature film . xxmaj although reasonably successful at the time this film initiated the demise of xxmaj collins ' career who in the eighties mainly made cheap and dubious soldier - of - fortune or army films . xxmaj pity , because he actually is quite a versatile actor but at the end of the day xxmaj martin xxmaj shaw chose his roles more carefully and has a career that 's still successful .,xxbos xxmaj kojak meets the mafia . xxmaj telly xxmaj xxunk is one of those guys from the past that seems pretty forgettable . i never thought that his show was all that great . xxmaj this is his one dimensional characterization of a crime boss , with very predictable results . xxmaj if you take the car chases and the general rambling out , there is n't much plot development or action . i find mafia movies to be dull because i have no respect or interest in common criminals and their actions . xxmaj hollywood , and in this case , the xxmaj italian cinema , treat these guys as heroes . i saw the film and in a few days i wo n't remember much about it . xxmaj lots of shooting , innocent bystanders dying , betrayal , and that sick loyalty . xxmaj the film is photographed pretty well and the acting is decent . xxmaj but the dubbing is so bad ( due to voices that just could n't come out of those bodies ) , that i almost started looking for xxmaj godzilla approaching the bay .,xxbos i must say that i am fairly disappointed by this \" horror \" movie . i did not get scared even once while watching it . xxmaj it also is not very suspenseful either xxrep 4 . i was able to guess the ending half way through the movie ... xxmaj so .. what 's left ? \n",
              " \n",
              "  \" xxmaj the xxmaj ring \" is a trully scary movie ... i wish other movies would stop copying from it ( e.g. the trade - mark : long hair ) . xxmaj please give me some originality . \n",
              " \n",
              "  xxmaj will not recommend this movie .,xxbos xxup popeye xxup and xxup big xxup foot * * ; xxup popeye xxup 's xxup engine xxup company * * ; xxup getting xxup popeye xxup 's xxup goat * * 1 / 2 \n",
              " \n",
              "  i used to lap these up as a kid but , catching an episode of the series comprising three cartoons back - to - back now i.e. several years later ( they preceded the theatrical screening of the pirate yarn xxup raiders xxup of xxup the xxup seven xxup seas [ 1953 ] ) , i can see how they do n't hold up all that well ! xxmaj the character of xxmaj popeye is n't exactly sympathetic to begin with , xxmaj olive xxmaj oyl distinctly overbearing and xxmaj bluto 's antics failed to elicit much interest either  in short , the scripts were alarmingly thin , fairly awful and generally unfunny to boot . xxmaj they 're strictly juvenile fare , yet i doubt today 's kids would even have the patience to stick with them ! ; furthermore , the animation style is unattractive . \n",
              " \n",
              "  xxmaj taking each short per se , i guess they improved from one to the other : after the initial shock , one adapted to its mediocre quality as it were , so that the third cartoon easily results in being the most enjoyable of the lot  xxmaj popeye is entrusted with a mascot army goat whose immense appetite causes him no end of mischief ( hardly original , i know , but always an amusing ploy ) . xxmaj one interesting element here was that the shorts were bookended with xxmaj popeye delivering moralistic bits of wisdom to the kids in the audience .,xxbos xxmaj this is probably the worst movie i have ever seen , ( yes it 's even worse than xxmaj dungeons and xxmaj dragons and any film starring xxmaj kevin xxmaj costner . ) \n",
              " \n",
              "  xxmaj chris xxmaj rock looked very uncomfortable throughout this whole film , and his supporting actors did n't even look like they were trying to act . xxmaj chris xxmaj rock is a wonderful stand - up comedian , but he just ca n't transfer his talent to this film , which probably only has two strained laughs in the whole picture . \n",
              " \n",
              "  xxmaj if you have n't watched this film yet , avoid it like the plague . xxmaj go do something constructive and more interesting like watching the weather channel or watching paint dry on a brick wall . \n",
              " \n",
              "  xxmaj for xxmaj chris ' efforts i give it a 2 / 10 ! \n",
              " \n",
              " \n",
              "y: LMLabelList\n",
              ",,,,\n",
              "Path: /root/.fastai/data/imdb;\n",
              "\n",
              "Valid: LabelList (5000 items)\n",
              "x: LMTextList\n",
              "xxbos xxmaj in xxmaj alfred xxmaj hitchcock 's adaptation of xxmaj patricia xxmaj highsmith 's \" xxmaj strangers xxmaj on a xxmaj train \" , xxmaj guy xxmaj haines ( xxmaj farley xxmaj xxunk xxmaj bruno xxmaj anthony ( xxmaj robert xxmaj xxunk for the first time on a train journey and discuss the idea of carrying out two murders . xxmaj the rather pushy xxmaj anthony suggests that he could murder xxmaj haines ' unfaithful wife and xxmaj haines could murder xxmaj anthony 's domineering father . xxmaj the lack of any connection between the murderer and the victim in each case should ensure that both crimes would remain unsolved . xxmaj the tenor of the conversation leaves the more easy going xxmaj haines with the impression that the proposal is not entirely serious . xxmaj complications arise later when xxmaj anthony murders xxmaj haines ' wife in an amusement park and then pursues xxmaj haines to keep his side of the bargain . \n",
              " \n",
              "  xxmaj the differences between the two men are clear from the start . xxmaj haines is a professional tennis player , respectable and rather modest about his achievements whereas xxmaj anthony 's life is going nowhere and he admits to having been thrown out of three colleges for drinking and gambling . xxmaj haines is in a relationship with a xxmaj senator 's daughter who he wants to marry . xxmaj anthony characteristically interprets this as a cynical manoeuvre on xxmaj haines ' part to provide himself with a shortcut to a career . xxmaj the character differences are also reinforced visually . xxmaj anthony often inhabits shadowed areas and travels in a boat called \" xxmaj pluto \" whereas xxmaj haines is frequently seen from the more heroic perspective provided by low camera angles . \n",
              " \n",
              "  xxmaj there are some striking visual sequences such xxunk \n",
              " \n",
              "  ( 1 ) xxmaj the murder of xxmaj haines ' wife which is shown through the reflection of her glasses which fall to the ground as she struggles to free herself from xxmaj anthony . \n",
              " \n",
              "  ( 2 ) xxmaj the depiction of xxmaj anthony alone , dressed in black and looking very small against the enormous white xxmaj jefferson xxmaj memorial building . \n",
              " \n",
              "  ( 3 ) xxmaj the occasion where all the spectators at a tennis match are moving their heads in unison , following the action , whilst one head ( xxmaj anthony 's ) chillingly remains fixed in a position looking at xxmaj haines . \n",
              " \n",
              "  ( xxunk scene where the roundabout goes wildly out of control and eventually crashes spectacularly . \n",
              " \n",
              "  xxmaj frequent use is made of \" doubles \" throughout the story , for example , xxmaj haines and xxmaj anthony are originally introduced as 2 pairs of feet getting out of their taxis and going to the train . xxmaj as the train pulls out of the station , there are 2 sets of tracks each providing a choice of 2 ways forward . xxmaj the 2 men discuss the murders of 2 potential victims and order 2 double xxunk . xxmaj the xxmaj hitchcock cameo sees him struggling on board the train carrying a double bass . xxmaj haines feels double crossed when his wife xxunk on an agreement they had for her to see a lawyer to arrange a divorce . xxmaj haines ' wife goes to the amusement park with 2 boyfriends . xxmaj when xxmaj anthony confronts her before the murder he lights his cigarette lighter and produces 2 reflections in her glasses . xxmaj anthony later becomes very disconcerted when he meets the xxmaj senator 's younger daughter who he sees as a double for xxmaj haines ' wife . xxmaj anthony also feels double crossed when xxmaj haines refuses to go ahead with the second murder . xxmaj when xxmaj haines is travelling alone in a train going to xxmaj metcalf , he sees 2 men in the same carriage accidentally kicking their feet together in the same way that he and xxmaj anthony had . \n",
              " \n",
              "  xxmaj the action throughout the movie proceeds at a great pace and the performances of xxmaj robert xxmaj walker and xxmaj patricia xxmaj hitchcock ( as the xxmaj senator 's younger daughter ) are particularly powerful .,xxbos i just finished up this unofficial adaptation of xxup h.p. xxmaj lovecraft 's \" xxmaj the xxmaj lurking xxmaj fear \" that was shot in xxmaj louisiana . xxmaj outside of a few changes ( names , setting ) , this follows the short story point by point for the first 70 minutes but then tries to inject its own \" twist \" ending that you could see coming from a mile away . xxmaj either way , it is a much better adaptation than xxmaj full xxmaj moon 's xxup the xxup lurking xxup fear . xxmaj too bad it is a terrible film . xxmaj director xxmaj david mccormick shoots the thing with all the flair of an industrial short . i swear i counted maybe two camera movements . xxmaj the creature design is cheap ( we 're talking store bought masks here ) but shot in a dark manner ( intentional or not ) where they are somewhat creepy . xxmaj the most impressive thing in the picture is the abandoned mansion but mccormick fails to exploit that as well . xxmaj file this one under good adaptation , poor execution .,xxbos xxmaj long on action and stunt work , but so short on character delineation and development that it failed to hold our interest . xxmaj not always easy to figure out which side a character is on and who 's doing what to whom .,xxbos xxmaj this movie lacks in everything . xxmaj except xxmaj bobby deol , who in his own standards is mediocre , no one in this movie has come close to act in a single scene . xxmaj xxunk is complete fake in her acting . \n",
              " \n",
              "  xxmaj the great xxmaj anupam xxmaj kher has a guest appearance and is better in those 2 minutes than bobby in the whole movie . xxmaj the music does'nt compliment the movie \n",
              " \n",
              "  that well . xxmaj the contrast in xxmaj music between xxmaj bobby and xxmaj upen is not highlighted that well . xxmaj great concept gone completely wrong . xxmaj the movie does'nt have a proper ending . xxmaj please do n't waste your time as i did on this movie,xxbos i have begun to melt so i will make this review as short and sweet as possible . \n",
              " \n",
              "  xxmaj there 's this astronaut , and he goes up in a spacecraft with two other guys , ya know ? xxmaj except something happens that exposes him to radiation , and then when they come back ... well , never mind what happened to the other guys , but our astronaut has begun to melt ! xxmaj no , not just burn up , but xxup melt ! xxmaj like an ice cream cone in xxmaj july ! xxmaj well xxup ok maybe not that fast , but ya know what i mean . \n",
              " \n",
              "  xxmaj anyway , he gets all red & gooey , and the fact that he 's melting makes him really mad . i guess he also checked out the \" melting man \" handbook because suddenly he knows that in order to keep from totally melting away , he has to eat human flesh , so he starts ripping people apart . \n",
              " \n",
              "  xxmaj there are other characters , but in a movie where a man melts and melts and melts ( and melts ) , do you really need any others ? xxmaj what 's important is xxup who will he munch next , and xxup what will be left of them ? xxup how long will it take for him to just melt away to nothing ? xxup why was this movie made in the first place ? xxup where did they get the money ? xxup when will you fall asleep while watching it ? \n",
              " \n",
              "  i 've very nearly melted , but i still have enough time left to tell you that this movie is dreadfully boring , even though the idea is really cool and kind of gross . xxmaj the makeup is neat but everything else is ... xxup splat\n",
              "y: LMLabelList\n",
              ",,,,\n",
              "Path: /root/.fastai/data/imdb;\n",
              "\n",
              "Test: None, model=SequentialRNN(\n",
              "  (0): AWD_LSTM(\n",
              "    (encoder): Embedding(49808, 400, padding_idx=1)\n",
              "    (encoder_dp): EmbeddingDropout(\n",
              "      (emb): Embedding(49808, 400, padding_idx=1)\n",
              "    )\n",
              "    (rnns): ModuleList(\n",
              "      (0): WeightDropout(\n",
              "        (module): LSTM(400, 1152, batch_first=True)\n",
              "      )\n",
              "      (1): WeightDropout(\n",
              "        (module): LSTM(1152, 1152, batch_first=True)\n",
              "      )\n",
              "      (2): WeightDropout(\n",
              "        (module): LSTM(1152, 400, batch_first=True)\n",
              "      )\n",
              "    )\n",
              "    (input_dp): RNNDropout()\n",
              "    (hidden_dps): ModuleList(\n",
              "      (0): RNNDropout()\n",
              "      (1): RNNDropout()\n",
              "      (2): RNNDropout()\n",
              "    )\n",
              "  )\n",
              "  (1): LinearDecoder(\n",
              "    (decoder): Linear(in_features=400, out_features=49808, bias=True)\n",
              "    (output_dp): RNNDropout()\n",
              "  )\n",
              "), opt_func=functools.partial(<class 'torch.optim.adam.Adam'>, betas=(0.9, 0.99)), loss_func=FlattenedLoss of CrossEntropyLoss(), metrics=[<function accuracy at 0x7f92faf3f620>], true_wd=True, bn_wd=True, wd=0.01, train_bn=True, path=PosixPath('/root/.fastai/data/imdb'), model_dir='models', callback_fns=[functools.partial(<class 'fastai.basic_train.Recorder'>, add_time=True, silent=False)], callbacks=[...], layer_groups=[Sequential(\n",
              "  (0): WeightDropout(\n",
              "    (module): LSTM(400, 1152, batch_first=True)\n",
              "  )\n",
              "  (1): RNNDropout()\n",
              "), Sequential(\n",
              "  (0): WeightDropout(\n",
              "    (module): LSTM(1152, 1152, batch_first=True)\n",
              "  )\n",
              "  (1): RNNDropout()\n",
              "), Sequential(\n",
              "  (0): WeightDropout(\n",
              "    (module): LSTM(1152, 400, batch_first=True)\n",
              "  )\n",
              "  (1): RNNDropout()\n",
              "), Sequential(\n",
              "  (0): Embedding(49808, 400, padding_idx=1)\n",
              "  (1): EmbeddingDropout(\n",
              "    (emb): Embedding(49808, 400, padding_idx=1)\n",
              "  )\n",
              "  (2): LinearDecoder(\n",
              "    (decoder): Linear(in_features=400, out_features=49808, bias=True)\n",
              "    (output_dp): RNNDropout()\n",
              "  )\n",
              ")], add_time=True, silent=False)\n",
              "alpha: 2.0\n",
              "beta: 1.0], layer_groups=[Sequential(\n",
              "  (0): WeightDropout(\n",
              "    (module): LSTM(400, 1152, batch_first=True)\n",
              "  )\n",
              "  (1): RNNDropout()\n",
              "), Sequential(\n",
              "  (0): WeightDropout(\n",
              "    (module): LSTM(1152, 1152, batch_first=True)\n",
              "  )\n",
              "  (1): RNNDropout()\n",
              "), Sequential(\n",
              "  (0): WeightDropout(\n",
              "    (module): LSTM(1152, 400, batch_first=True)\n",
              "  )\n",
              "  (1): RNNDropout()\n",
              "), Sequential(\n",
              "  (0): Embedding(49808, 400, padding_idx=1)\n",
              "  (1): EmbeddingDropout(\n",
              "    (emb): Embedding(49808, 400, padding_idx=1)\n",
              "  )\n",
              "  (2): LinearDecoder(\n",
              "    (decoder): Linear(in_features=400, out_features=49808, bias=True)\n",
              "    (output_dp): RNNDropout()\n",
              "  )\n",
              ")], add_time=True, silent=False)"
            ]
          },
          "metadata": {
            "tags": []
          },
          "execution_count": 26
        }
      ]
    },
    {
      "cell_type": "code",
      "metadata": {
        "id": "w1_ZRCDjMQ1u",
        "colab_type": "code",
        "colab": {}
      },
      "source": [
        "learn.unfreeze()"
      ],
      "execution_count": 0,
      "outputs": []
    },
    {
      "cell_type": "code",
      "metadata": {
        "id": "qV3CqgOgwi3w",
        "colab_type": "code",
        "colab": {
          "base_uri": "https://localhost:8080/",
          "height": 55
        },
        "outputId": "788c7e8b-1de4-4820-8e4d-d3b90e71cef6"
      },
      "source": [
        "learn.lr_find()"
      ],
      "execution_count": 28,
      "outputs": [
        {
          "output_type": "display_data",
          "data": {
            "text/html": [
              ""
            ],
            "text/plain": [
              "<IPython.core.display.HTML object>"
            ]
          },
          "metadata": {
            "tags": []
          }
        },
        {
          "output_type": "stream",
          "text": [
            "LR Finder is complete, type {learner_name}.recorder.plot() to see the graph.\n"
          ],
          "name": "stdout"
        }
      ]
    },
    {
      "cell_type": "code",
      "metadata": {
        "id": "qBoJbd44wmqx",
        "colab_type": "code",
        "colab": {
          "base_uri": "https://localhost:8080/",
          "height": 279
        },
        "outputId": "bed2125a-5f2f-4ba7-91d9-d8339ea849af"
      },
      "source": [
        "learn.recorder.plot()"
      ],
      "execution_count": 29,
      "outputs": [
        {
          "output_type": "display_data",
          "data": {
            "image/png": "[encoded data removed]",
            "text/plain": [
              "<Figure size 432x288 with 1 Axes>"
            ]
          },
          "metadata": {
            "tags": []
          }
        }
      ]
    },
    {
      "cell_type": "code",
      "metadata": {
        "id": "4XaluhuzMQh0",
        "colab_type": "code",
        "colab": {
          "base_uri": "https://localhost:8080/",
          "height": 79
        },
        "outputId": "8f507c71-a328-454e-fe12-775bec2203d3"
      },
      "source": [
        "learn.fit_one_cycle(1,slice(1e-5,1e-4))"
      ],
      "execution_count": 30,
      "outputs": [
        {
          "output_type": "display_data",
          "data": {
            "text/html": [
              "<table border=\"1\" class=\"dataframe\">\n",
              "  <thead>\n",
              "    <tr style=\"text-align: left;\">\n",
              "      <th>epoch</th>\n",
              "      <th>train_loss</th>\n",
              "      <th>valid_loss</th>\n",
              "      <th>accuracy</th>\n",
              "      <th>time</th>\n",
              "    </tr>\n",
              "  </thead>\n",
              "  <tbody>\n",
              "    <tr>\n",
              "      <td>0</td>\n",
              "      <td>4.221441</td>\n",
              "      <td>3.988265</td>\n",
              "      <td>0.294541</td>\n",
              "      <td>11:21</td>\n",
              "    </tr>\n",
              "  </tbody>\n",
              "</table>"
            ],
            "text/plain": [
              "<IPython.core.display.HTML object>"
            ]
          },
          "metadata": {
            "tags": []
          }
        }
      ]
    },
    {
      "cell_type": "code",
      "metadata": {
        "id": "gBVcmKT5M3du",
        "colab_type": "code",
        "colab": {}
      },
      "source": [
        "learn.save('fine_tuned')"
      ],
      "execution_count": 0,
      "outputs": []
    },
    {
      "cell_type": "code",
      "metadata": {
        "id": "JtxwRecqM3ZW",
        "colab_type": "code",
        "colab": {
          "base_uri": "https://localhost:8080/",
          "height": 1000
        },
        "outputId": "d6fa0444-98a1-4119-c5f5-52b8f2f8480b"
      },
      "source": [
        "learn.load('fine_tuned')"
      ],
      "execution_count": 32,
      "outputs": [
        {
          "output_type": "execute_result",
          "data": {
            "text/plain": [
              "LanguageLearner(data=TextLMDataBunch;\n",
              "\n",
              "Train: LabelList (45000 items)\n",
              "x: LMTextList\n",
              "xxbos xxmaj this is actually a pretty bad film . xxmaj the ideology is not as perverse as in those films xxmaj collins made later . xxmaj however , my main misgivings about the film are that it is implausible and quite frankly boring for a long time . xxmaj the whole concept of an ex - xxup sas man joining terrorists for no particular reason is n't very convincing and you ca n't help wondering why a group of highly organized terrorists ( who later become pretty clueless ) fall for it . xxmaj the film starts with a pretty powerful scene but then meanders for quite a long time building up towards the great finale . xxmaj overall , i think xxmaj who dares wins could have been an interesting 45 minutes episode of xxmaj the xxmaj professionals but the story does n't carry a feature film . xxmaj although reasonably successful at the time this film initiated the demise of xxmaj collins ' career who in the eighties mainly made cheap and dubious soldier - of - fortune or army films . xxmaj pity , because he actually is quite a versatile actor but at the end of the day xxmaj martin xxmaj shaw chose his roles more carefully and has a career that 's still successful .,xxbos xxmaj kojak meets the mafia . xxmaj telly xxmaj xxunk is one of those guys from the past that seems pretty forgettable . i never thought that his show was all that great . xxmaj this is his one dimensional characterization of a crime boss , with very predictable results . xxmaj if you take the car chases and the general rambling out , there is n't much plot development or action . i find mafia movies to be dull because i have no respect or interest in common criminals and their actions . xxmaj hollywood , and in this case , the xxmaj italian cinema , treat these guys as heroes . i saw the film and in a few days i wo n't remember much about it . xxmaj lots of shooting , innocent bystanders dying , betrayal , and that sick loyalty . xxmaj the film is photographed pretty well and the acting is decent . xxmaj but the dubbing is so bad ( due to voices that just could n't come out of those bodies ) , that i almost started looking for xxmaj godzilla approaching the bay .,xxbos i must say that i am fairly disappointed by this \" horror \" movie . i did not get scared even once while watching it . xxmaj it also is not very suspenseful either xxrep 4 . i was able to guess the ending half way through the movie ... xxmaj so .. what 's left ? \n",
              " \n",
              "  \" xxmaj the xxmaj ring \" is a trully scary movie ... i wish other movies would stop copying from it ( e.g. the trade - mark : long hair ) . xxmaj please give me some originality . \n",
              " \n",
              "  xxmaj will not recommend this movie .,xxbos xxup popeye xxup and xxup big xxup foot * * ; xxup popeye xxup 's xxup engine xxup company * * ; xxup getting xxup popeye xxup 's xxup goat * * 1 / 2 \n",
              " \n",
              "  i used to lap these up as a kid but , catching an episode of the series comprising three cartoons back - to - back now i.e. several years later ( they preceded the theatrical screening of the pirate yarn xxup raiders xxup of xxup the xxup seven xxup seas [ 1953 ] ) , i can see how they do n't hold up all that well ! xxmaj the character of xxmaj popeye is n't exactly sympathetic to begin with , xxmaj olive xxmaj oyl distinctly overbearing and xxmaj bluto 's antics failed to elicit much interest either  in short , the scripts were alarmingly thin , fairly awful and generally unfunny to boot . xxmaj they 're strictly juvenile fare , yet i doubt today 's kids would even have the patience to stick with them ! ; furthermore , the animation style is unattractive . \n",
              " \n",
              "  xxmaj taking each short per se , i guess they improved from one to the other : after the initial shock , one adapted to its mediocre quality as it were , so that the third cartoon easily results in being the most enjoyable of the lot  xxmaj popeye is entrusted with a mascot army goat whose immense appetite causes him no end of mischief ( hardly original , i know , but always an amusing ploy ) . xxmaj one interesting element here was that the shorts were bookended with xxmaj popeye delivering moralistic bits of wisdom to the kids in the audience .,xxbos xxmaj this is probably the worst movie i have ever seen , ( yes it 's even worse than xxmaj dungeons and xxmaj dragons and any film starring xxmaj kevin xxmaj costner . ) \n",
              " \n",
              "  xxmaj chris xxmaj rock looked very uncomfortable throughout this whole film , and his supporting actors did n't even look like they were trying to act . xxmaj chris xxmaj rock is a wonderful stand - up comedian , but he just ca n't transfer his talent to this film , which probably only has two strained laughs in the whole picture . \n",
              " \n",
              "  xxmaj if you have n't watched this film yet , avoid it like the plague . xxmaj go do something constructive and more interesting like watching the weather channel or watching paint dry on a brick wall . \n",
              " \n",
              "  xxmaj for xxmaj chris ' efforts i give it a 2 / 10 ! \n",
              " \n",
              " \n",
              "y: LMLabelList\n",
              ",,,,\n",
              "Path: /root/.fastai/data/imdb;\n",
              "\n",
              "Valid: LabelList (5000 items)\n",
              "x: LMTextList\n",
              "xxbos xxmaj in xxmaj alfred xxmaj hitchcock 's adaptation of xxmaj patricia xxmaj highsmith 's \" xxmaj strangers xxmaj on a xxmaj train \" , xxmaj guy xxmaj haines ( xxmaj farley xxmaj xxunk xxmaj bruno xxmaj anthony ( xxmaj robert xxmaj xxunk for the first time on a train journey and discuss the idea of carrying out two murders . xxmaj the rather pushy xxmaj anthony suggests that he could murder xxmaj haines ' unfaithful wife and xxmaj haines could murder xxmaj anthony 's domineering father . xxmaj the lack of any connection between the murderer and the victim in each case should ensure that both crimes would remain unsolved . xxmaj the tenor of the conversation leaves the more easy going xxmaj haines with the impression that the proposal is not entirely serious . xxmaj complications arise later when xxmaj anthony murders xxmaj haines ' wife in an amusement park and then pursues xxmaj haines to keep his side of the bargain . \n",
              " \n",
              "  xxmaj the differences between the two men are clear from the start . xxmaj haines is a professional tennis player , respectable and rather modest about his achievements whereas xxmaj anthony 's life is going nowhere and he admits to having been thrown out of three colleges for drinking and gambling . xxmaj haines is in a relationship with a xxmaj senator 's daughter who he wants to marry . xxmaj anthony characteristically interprets this as a cynical manoeuvre on xxmaj haines ' part to provide himself with a shortcut to a career . xxmaj the character differences are also reinforced visually . xxmaj anthony often inhabits shadowed areas and travels in a boat called \" xxmaj pluto \" whereas xxmaj haines is frequently seen from the more heroic perspective provided by low camera angles . \n",
              " \n",
              "  xxmaj there are some striking visual sequences such xxunk \n",
              " \n",
              "  ( 1 ) xxmaj the murder of xxmaj haines ' wife which is shown through the reflection of her glasses which fall to the ground as she struggles to free herself from xxmaj anthony . \n",
              " \n",
              "  ( 2 ) xxmaj the depiction of xxmaj anthony alone , dressed in black and looking very small against the enormous white xxmaj jefferson xxmaj memorial building . \n",
              " \n",
              "  ( 3 ) xxmaj the occasion where all the spectators at a tennis match are moving their heads in unison , following the action , whilst one head ( xxmaj anthony 's ) chillingly remains fixed in a position looking at xxmaj haines . \n",
              " \n",
              "  ( xxunk scene where the roundabout goes wildly out of control and eventually crashes spectacularly . \n",
              " \n",
              "  xxmaj frequent use is made of \" doubles \" throughout the story , for example , xxmaj haines and xxmaj anthony are originally introduced as 2 pairs of feet getting out of their taxis and going to the train . xxmaj as the train pulls out of the station , there are 2 sets of tracks each providing a choice of 2 ways forward . xxmaj the 2 men discuss the murders of 2 potential victims and order 2 double xxunk . xxmaj the xxmaj hitchcock cameo sees him struggling on board the train carrying a double bass . xxmaj haines feels double crossed when his wife xxunk on an agreement they had for her to see a lawyer to arrange a divorce . xxmaj haines ' wife goes to the amusement park with 2 boyfriends . xxmaj when xxmaj anthony confronts her before the murder he lights his cigarette lighter and produces 2 reflections in her glasses . xxmaj anthony later becomes very disconcerted when he meets the xxmaj senator 's younger daughter who he sees as a double for xxmaj haines ' wife . xxmaj anthony also feels double crossed when xxmaj haines refuses to go ahead with the second murder . xxmaj when xxmaj haines is travelling alone in a train going to xxmaj metcalf , he sees 2 men in the same carriage accidentally kicking their feet together in the same way that he and xxmaj anthony had . \n",
              " \n",
              "  xxmaj the action throughout the movie proceeds at a great pace and the performances of xxmaj robert xxmaj walker and xxmaj patricia xxmaj hitchcock ( as the xxmaj senator 's younger daughter ) are particularly powerful .,xxbos i just finished up this unofficial adaptation of xxup h.p. xxmaj lovecraft 's \" xxmaj the xxmaj lurking xxmaj fear \" that was shot in xxmaj louisiana . xxmaj outside of a few changes ( names , setting ) , this follows the short story point by point for the first 70 minutes but then tries to inject its own \" twist \" ending that you could see coming from a mile away . xxmaj either way , it is a much better adaptation than xxmaj full xxmaj moon 's xxup the xxup lurking xxup fear . xxmaj too bad it is a terrible film . xxmaj director xxmaj david mccormick shoots the thing with all the flair of an industrial short . i swear i counted maybe two camera movements . xxmaj the creature design is cheap ( we 're talking store bought masks here ) but shot in a dark manner ( intentional or not ) where they are somewhat creepy . xxmaj the most impressive thing in the picture is the abandoned mansion but mccormick fails to exploit that as well . xxmaj file this one under good adaptation , poor execution .,xxbos xxmaj long on action and stunt work , but so short on character delineation and development that it failed to hold our interest . xxmaj not always easy to figure out which side a character is on and who 's doing what to whom .,xxbos xxmaj this movie lacks in everything . xxmaj except xxmaj bobby deol , who in his own standards is mediocre , no one in this movie has come close to act in a single scene . xxmaj xxunk is complete fake in her acting . \n",
              " \n",
              "  xxmaj the great xxmaj anupam xxmaj kher has a guest appearance and is better in those 2 minutes than bobby in the whole movie . xxmaj the music does'nt compliment the movie \n",
              " \n",
              "  that well . xxmaj the contrast in xxmaj music between xxmaj bobby and xxmaj upen is not highlighted that well . xxmaj great concept gone completely wrong . xxmaj the movie does'nt have a proper ending . xxmaj please do n't waste your time as i did on this movie,xxbos i have begun to melt so i will make this review as short and sweet as possible . \n",
              " \n",
              "  xxmaj there 's this astronaut , and he goes up in a spacecraft with two other guys , ya know ? xxmaj except something happens that exposes him to radiation , and then when they come back ... well , never mind what happened to the other guys , but our astronaut has begun to melt ! xxmaj no , not just burn up , but xxup melt ! xxmaj like an ice cream cone in xxmaj july ! xxmaj well xxup ok maybe not that fast , but ya know what i mean . \n",
              " \n",
              "  xxmaj anyway , he gets all red & gooey , and the fact that he 's melting makes him really mad . i guess he also checked out the \" melting man \" handbook because suddenly he knows that in order to keep from totally melting away , he has to eat human flesh , so he starts ripping people apart . \n",
              " \n",
              "  xxmaj there are other characters , but in a movie where a man melts and melts and melts ( and melts ) , do you really need any others ? xxmaj what 's important is xxup who will he munch next , and xxup what will be left of them ? xxup how long will it take for him to just melt away to nothing ? xxup why was this movie made in the first place ? xxup where did they get the money ? xxup when will you fall asleep while watching it ? \n",
              " \n",
              "  i 've very nearly melted , but i still have enough time left to tell you that this movie is dreadfully boring , even though the idea is really cool and kind of gross . xxmaj the makeup is neat but everything else is ... xxup splat\n",
              "y: LMLabelList\n",
              ",,,,\n",
              "Path: /root/.fastai/data/imdb;\n",
              "\n",
              "Test: None, model=SequentialRNN(\n",
              "  (0): AWD_LSTM(\n",
              "    (encoder): Embedding(49808, 400, padding_idx=1)\n",
              "    (encoder_dp): EmbeddingDropout(\n",
              "      (emb): Embedding(49808, 400, padding_idx=1)\n",
              "    )\n",
              "    (rnns): ModuleList(\n",
              "      (0): WeightDropout(\n",
              "        (module): LSTM(400, 1152, batch_first=True)\n",
              "      )\n",
              "      (1): WeightDropout(\n",
              "        (module): LSTM(1152, 1152, batch_first=True)\n",
              "      )\n",
              "      (2): WeightDropout(\n",
              "        (module): LSTM(1152, 400, batch_first=True)\n",
              "      )\n",
              "    )\n",
              "    (input_dp): RNNDropout()\n",
              "    (hidden_dps): ModuleList(\n",
              "      (0): RNNDropout()\n",
              "      (1): RNNDropout()\n",
              "      (2): RNNDropout()\n",
              "    )\n",
              "  )\n",
              "  (1): LinearDecoder(\n",
              "    (decoder): Linear(in_features=400, out_features=49808, bias=True)\n",
              "    (output_dp): RNNDropout()\n",
              "  )\n",
              "), opt_func=functools.partial(<class 'torch.optim.adam.Adam'>, betas=(0.9, 0.99)), loss_func=FlattenedLoss of CrossEntropyLoss(), metrics=[<function accuracy at 0x7f92faf3f620>], true_wd=True, bn_wd=True, wd=0.01, train_bn=True, path=PosixPath('/root/.fastai/data/imdb'), model_dir='models', callback_fns=[functools.partial(<class 'fastai.basic_train.Recorder'>, add_time=True, silent=False)], callbacks=[RNNTrainer\n",
              "learn: LanguageLearner(data=TextLMDataBunch;\n",
              "\n",
              "Train: LabelList (45000 items)\n",
              "x: LMTextList\n",
              "xxbos xxmaj this is actually a pretty bad film . xxmaj the ideology is not as perverse as in those films xxmaj collins made later . xxmaj however , my main misgivings about the film are that it is implausible and quite frankly boring for a long time . xxmaj the whole concept of an ex - xxup sas man joining terrorists for no particular reason is n't very convincing and you ca n't help wondering why a group of highly organized terrorists ( who later become pretty clueless ) fall for it . xxmaj the film starts with a pretty powerful scene but then meanders for quite a long time building up towards the great finale . xxmaj overall , i think xxmaj who dares wins could have been an interesting 45 minutes episode of xxmaj the xxmaj professionals but the story does n't carry a feature film . xxmaj although reasonably successful at the time this film initiated the demise of xxmaj collins ' career who in the eighties mainly made cheap and dubious soldier - of - fortune or army films . xxmaj pity , because he actually is quite a versatile actor but at the end of the day xxmaj martin xxmaj shaw chose his roles more carefully and has a career that 's still successful .,xxbos xxmaj kojak meets the mafia . xxmaj telly xxmaj xxunk is one of those guys from the past that seems pretty forgettable . i never thought that his show was all that great . xxmaj this is his one dimensional characterization of a crime boss , with very predictable results . xxmaj if you take the car chases and the general rambling out , there is n't much plot development or action . i find mafia movies to be dull because i have no respect or interest in common criminals and their actions . xxmaj hollywood , and in this case , the xxmaj italian cinema , treat these guys as heroes . i saw the film and in a few days i wo n't remember much about it . xxmaj lots of shooting , innocent bystanders dying , betrayal , and that sick loyalty . xxmaj the film is photographed pretty well and the acting is decent . xxmaj but the dubbing is so bad ( due to voices that just could n't come out of those bodies ) , that i almost started looking for xxmaj godzilla approaching the bay .,xxbos i must say that i am fairly disappointed by this \" horror \" movie . i did not get scared even once while watching it . xxmaj it also is not very suspenseful either xxrep 4 . i was able to guess the ending half way through the movie ... xxmaj so .. what 's left ? \n",
              " \n",
              "  \" xxmaj the xxmaj ring \" is a trully scary movie ... i wish other movies would stop copying from it ( e.g. the trade - mark : long hair ) . xxmaj please give me some originality . \n",
              " \n",
              "  xxmaj will not recommend this movie .,xxbos xxup popeye xxup and xxup big xxup foot * * ; xxup popeye xxup 's xxup engine xxup company * * ; xxup getting xxup popeye xxup 's xxup goat * * 1 / 2 \n",
              " \n",
              "  i used to lap these up as a kid but , catching an episode of the series comprising three cartoons back - to - back now i.e. several years later ( they preceded the theatrical screening of the pirate yarn xxup raiders xxup of xxup the xxup seven xxup seas [ 1953 ] ) , i can see how they do n't hold up all that well ! xxmaj the character of xxmaj popeye is n't exactly sympathetic to begin with , xxmaj olive xxmaj oyl distinctly overbearing and xxmaj bluto 's antics failed to elicit much interest either  in short , the scripts were alarmingly thin , fairly awful and generally unfunny to boot . xxmaj they 're strictly juvenile fare , yet i doubt today 's kids would even have the patience to stick with them ! ; furthermore , the animation style is unattractive . \n",
              " \n",
              "  xxmaj taking each short per se , i guess they improved from one to the other : after the initial shock , one adapted to its mediocre quality as it were , so that the third cartoon easily results in being the most enjoyable of the lot  xxmaj popeye is entrusted with a mascot army goat whose immense appetite causes him no end of mischief ( hardly original , i know , but always an amusing ploy ) . xxmaj one interesting element here was that the shorts were bookended with xxmaj popeye delivering moralistic bits of wisdom to the kids in the audience .,xxbos xxmaj this is probably the worst movie i have ever seen , ( yes it 's even worse than xxmaj dungeons and xxmaj dragons and any film starring xxmaj kevin xxmaj costner . ) \n",
              " \n",
              "  xxmaj chris xxmaj rock looked very uncomfortable throughout this whole film , and his supporting actors did n't even look like they were trying to act . xxmaj chris xxmaj rock is a wonderful stand - up comedian , but he just ca n't transfer his talent to this film , which probably only has two strained laughs in the whole picture . \n",
              " \n",
              "  xxmaj if you have n't watched this film yet , avoid it like the plague . xxmaj go do something constructive and more interesting like watching the weather channel or watching paint dry on a brick wall . \n",
              " \n",
              "  xxmaj for xxmaj chris ' efforts i give it a 2 / 10 ! \n",
              " \n",
              " \n",
              "y: LMLabelList\n",
              ",,,,\n",
              "Path: /root/.fastai/data/imdb;\n",
              "\n",
              "Valid: LabelList (5000 items)\n",
              "x: LMTextList\n",
              "xxbos xxmaj in xxmaj alfred xxmaj hitchcock 's adaptation of xxmaj patricia xxmaj highsmith 's \" xxmaj strangers xxmaj on a xxmaj train \" , xxmaj guy xxmaj haines ( xxmaj farley xxmaj xxunk xxmaj bruno xxmaj anthony ( xxmaj robert xxmaj xxunk for the first time on a train journey and discuss the idea of carrying out two murders . xxmaj the rather pushy xxmaj anthony suggests that he could murder xxmaj haines ' unfaithful wife and xxmaj haines could murder xxmaj anthony 's domineering father . xxmaj the lack of any connection between the murderer and the victim in each case should ensure that both crimes would remain unsolved . xxmaj the tenor of the conversation leaves the more easy going xxmaj haines with the impression that the proposal is not entirely serious . xxmaj complications arise later when xxmaj anthony murders xxmaj haines ' wife in an amusement park and then pursues xxmaj haines to keep his side of the bargain . \n",
              " \n",
              "  xxmaj the differences between the two men are clear from the start . xxmaj haines is a professional tennis player , respectable and rather modest about his achievements whereas xxmaj anthony 's life is going nowhere and he admits to having been thrown out of three colleges for drinking and gambling . xxmaj haines is in a relationship with a xxmaj senator 's daughter who he wants to marry . xxmaj anthony characteristically interprets this as a cynical manoeuvre on xxmaj haines ' part to provide himself with a shortcut to a career . xxmaj the character differences are also reinforced visually . xxmaj anthony often inhabits shadowed areas and travels in a boat called \" xxmaj pluto \" whereas xxmaj haines is frequently seen from the more heroic perspective provided by low camera angles . \n",
              " \n",
              "  xxmaj there are some striking visual sequences such xxunk \n",
              " \n",
              "  ( 1 ) xxmaj the murder of xxmaj haines ' wife which is shown through the reflection of her glasses which fall to the ground as she struggles to free herself from xxmaj anthony . \n",
              " \n",
              "  ( 2 ) xxmaj the depiction of xxmaj anthony alone , dressed in black and looking very small against the enormous white xxmaj jefferson xxmaj memorial building . \n",
              " \n",
              "  ( 3 ) xxmaj the occasion where all the spectators at a tennis match are moving their heads in unison , following the action , whilst one head ( xxmaj anthony 's ) chillingly remains fixed in a position looking at xxmaj haines . \n",
              " \n",
              "  ( xxunk scene where the roundabout goes wildly out of control and eventually crashes spectacularly . \n",
              " \n",
              "  xxmaj frequent use is made of \" doubles \" throughout the story , for example , xxmaj haines and xxmaj anthony are originally introduced as 2 pairs of feet getting out of their taxis and going to the train . xxmaj as the train pulls out of the station , there are 2 sets of tracks each providing a choice of 2 ways forward . xxmaj the 2 men discuss the murders of 2 potential victims and order 2 double xxunk . xxmaj the xxmaj hitchcock cameo sees him struggling on board the train carrying a double bass . xxmaj haines feels double crossed when his wife xxunk on an agreement they had for her to see a lawyer to arrange a divorce . xxmaj haines ' wife goes to the amusement park with 2 boyfriends . xxmaj when xxmaj anthony confronts her before the murder he lights his cigarette lighter and produces 2 reflections in her glasses . xxmaj anthony later becomes very disconcerted when he meets the xxmaj senator 's younger daughter who he sees as a double for xxmaj haines ' wife . xxmaj anthony also feels double crossed when xxmaj haines refuses to go ahead with the second murder . xxmaj when xxmaj haines is travelling alone in a train going to xxmaj metcalf , he sees 2 men in the same carriage accidentally kicking their feet together in the same way that he and xxmaj anthony had . \n",
              " \n",
              "  xxmaj the action throughout the movie proceeds at a great pace and the performances of xxmaj robert xxmaj walker and xxmaj patricia xxmaj hitchcock ( as the xxmaj senator 's younger daughter ) are particularly powerful .,xxbos i just finished up this unofficial adaptation of xxup h.p. xxmaj lovecraft 's \" xxmaj the xxmaj lurking xxmaj fear \" that was shot in xxmaj louisiana . xxmaj outside of a few changes ( names , setting ) , this follows the short story point by point for the first 70 minutes but then tries to inject its own \" twist \" ending that you could see coming from a mile away . xxmaj either way , it is a much better adaptation than xxmaj full xxmaj moon 's xxup the xxup lurking xxup fear . xxmaj too bad it is a terrible film . xxmaj director xxmaj david mccormick shoots the thing with all the flair of an industrial short . i swear i counted maybe two camera movements . xxmaj the creature design is cheap ( we 're talking store bought masks here ) but shot in a dark manner ( intentional or not ) where they are somewhat creepy . xxmaj the most impressive thing in the picture is the abandoned mansion but mccormick fails to exploit that as well . xxmaj file this one under good adaptation , poor execution .,xxbos xxmaj long on action and stunt work , but so short on character delineation and development that it failed to hold our interest . xxmaj not always easy to figure out which side a character is on and who 's doing what to whom .,xxbos xxmaj this movie lacks in everything . xxmaj except xxmaj bobby deol , who in his own standards is mediocre , no one in this movie has come close to act in a single scene . xxmaj xxunk is complete fake in her acting . \n",
              " \n",
              "  xxmaj the great xxmaj anupam xxmaj kher has a guest appearance and is better in those 2 minutes than bobby in the whole movie . xxmaj the music does'nt compliment the movie \n",
              " \n",
              "  that well . xxmaj the contrast in xxmaj music between xxmaj bobby and xxmaj upen is not highlighted that well . xxmaj great concept gone completely wrong . xxmaj the movie does'nt have a proper ending . xxmaj please do n't waste your time as i did on this movie,xxbos i have begun to melt so i will make this review as short and sweet as possible . \n",
              " \n",
              "  xxmaj there 's this astronaut , and he goes up in a spacecraft with two other guys , ya know ? xxmaj except something happens that exposes him to radiation , and then when they come back ... well , never mind what happened to the other guys , but our astronaut has begun to melt ! xxmaj no , not just burn up , but xxup melt ! xxmaj like an ice cream cone in xxmaj july ! xxmaj well xxup ok maybe not that fast , but ya know what i mean . \n",
              " \n",
              "  xxmaj anyway , he gets all red & gooey , and the fact that he 's melting makes him really mad . i guess he also checked out the \" melting man \" handbook because suddenly he knows that in order to keep from totally melting away , he has to eat human flesh , so he starts ripping people apart . \n",
              " \n",
              "  xxmaj there are other characters , but in a movie where a man melts and melts and melts ( and melts ) , do you really need any others ? xxmaj what 's important is xxup who will he munch next , and xxup what will be left of them ? xxup how long will it take for him to just melt away to nothing ? xxup why was this movie made in the first place ? xxup where did they get the money ? xxup when will you fall asleep while watching it ? \n",
              " \n",
              "  i 've very nearly melted , but i still have enough time left to tell you that this movie is dreadfully boring , even though the idea is really cool and kind of gross . xxmaj the makeup is neat but everything else is ... xxup splat\n",
              "y: LMLabelList\n",
              ",,,,\n",
              "Path: /root/.fastai/data/imdb;\n",
              "\n",
              "Test: None, model=SequentialRNN(\n",
              "  (0): AWD_LSTM(\n",
              "    (encoder): Embedding(49808, 400, padding_idx=1)\n",
              "    (encoder_dp): EmbeddingDropout(\n",
              "      (emb): Embedding(49808, 400, padding_idx=1)\n",
              "    )\n",
              "    (rnns): ModuleList(\n",
              "      (0): WeightDropout(\n",
              "        (module): LSTM(400, 1152, batch_first=True)\n",
              "      )\n",
              "      (1): WeightDropout(\n",
              "        (module): LSTM(1152, 1152, batch_first=True)\n",
              "      )\n",
              "      (2): WeightDropout(\n",
              "        (module): LSTM(1152, 400, batch_first=True)\n",
              "      )\n",
              "    )\n",
              "    (input_dp): RNNDropout()\n",
              "    (hidden_dps): ModuleList(\n",
              "      (0): RNNDropout()\n",
              "      (1): RNNDropout()\n",
              "      (2): RNNDropout()\n",
              "    )\n",
              "  )\n",
              "  (1): LinearDecoder(\n",
              "    (decoder): Linear(in_features=400, out_features=49808, bias=True)\n",
              "    (output_dp): RNNDropout()\n",
              "  )\n",
              "), opt_func=functools.partial(<class 'torch.optim.adam.Adam'>, betas=(0.9, 0.99)), loss_func=FlattenedLoss of CrossEntropyLoss(), metrics=[<function accuracy at 0x7f92faf3f620>], true_wd=True, bn_wd=True, wd=0.01, train_bn=True, path=PosixPath('/root/.fastai/data/imdb'), model_dir='models', callback_fns=[functools.partial(<class 'fastai.basic_train.Recorder'>, add_time=True, silent=False)], callbacks=[...], layer_groups=[Sequential(\n",
              "  (0): WeightDropout(\n",
              "    (module): LSTM(400, 1152, batch_first=True)\n",
              "  )\n",
              "  (1): RNNDropout()\n",
              "), Sequential(\n",
              "  (0): WeightDropout(\n",
              "    (module): LSTM(1152, 1152, batch_first=True)\n",
              "  )\n",
              "  (1): RNNDropout()\n",
              "), Sequential(\n",
              "  (0): WeightDropout(\n",
              "    (module): LSTM(1152, 400, batch_first=True)\n",
              "  )\n",
              "  (1): RNNDropout()\n",
              "), Sequential(\n",
              "  (0): Embedding(49808, 400, padding_idx=1)\n",
              "  (1): EmbeddingDropout(\n",
              "    (emb): Embedding(49808, 400, padding_idx=1)\n",
              "  )\n",
              "  (2): LinearDecoder(\n",
              "    (decoder): Linear(in_features=400, out_features=49808, bias=True)\n",
              "    (output_dp): RNNDropout()\n",
              "  )\n",
              ")], add_time=True, silent=False)\n",
              "alpha: 2.0\n",
              "beta: 1.0], layer_groups=[Sequential(\n",
              "  (0): WeightDropout(\n",
              "    (module): LSTM(400, 1152, batch_first=True)\n",
              "  )\n",
              "  (1): RNNDropout()\n",
              "), Sequential(\n",
              "  (0): WeightDropout(\n",
              "    (module): LSTM(1152, 1152, batch_first=True)\n",
              "  )\n",
              "  (1): RNNDropout()\n",
              "), Sequential(\n",
              "  (0): WeightDropout(\n",
              "    (module): LSTM(1152, 400, batch_first=True)\n",
              "  )\n",
              "  (1): RNNDropout()\n",
              "), Sequential(\n",
              "  (0): Embedding(49808, 400, padding_idx=1)\n",
              "  (1): EmbeddingDropout(\n",
              "    (emb): Embedding(49808, 400, padding_idx=1)\n",
              "  )\n",
              "  (2): LinearDecoder(\n",
              "    (decoder): Linear(in_features=400, out_features=49808, bias=True)\n",
              "    (output_dp): RNNDropout()\n",
              "  )\n",
              ")], add_time=True, silent=False)"
            ]
          },
          "metadata": {
            "tags": []
          },
          "execution_count": 32
        }
      ]
    },
    {
      "cell_type": "code",
      "metadata": {
        "id": "N7kLADliM3U-",
        "colab_type": "code",
        "colab": {
          "base_uri": "https://localhost:8080/",
          "height": 55
        },
        "outputId": "f95b464b-ddbc-453b-91db-80d17eddf1b0"
      },
      "source": [
        "learn.predict('I liked this movie because ', 100, temperature=1.1,min_p=0.001)"
      ],
      "execution_count": 33,
      "outputs": [
        {
          "output_type": "execute_result",
          "data": {
            "text/plain": [
              "'I liked this movie because  i was watching it on the screen , i was there and i \\'m the only reviewer here who like that , i thought the worst movie i \\'ve seen is a \" Black Chick \" show about a little black guy whose house was pretty much her mind and were all so sad . There \\'s OK about WHAT he does , but some better comedies of course OK . i feel the script was GOOD , and i do n\\'t understand what . Even a few of those are funny'"
            ]
          },
          "metadata": {
            "tags": []
          },
          "execution_count": 33
        }
      ]
    },
    {
      "cell_type": "code",
      "metadata": {
        "id": "w4hUFMsyM3Fi",
        "colab_type": "code",
        "colab": {}
      },
      "source": [
        "learn.save_encoder('fine_tuned_enc')#the second part is about predicting next part,but we want it to understand which is encoder"
      ],
      "execution_count": 0,
      "outputs": []
    },
    {
      "cell_type": "code",
      "metadata": {
        "id": "fOSw1IoLM2yx",
        "colab_type": "code",
        "colab": {}
      },
      "source": [
        "#now here our language model is ready"
      ],
      "execution_count": 0,
      "outputs": []
    },
    {
      "cell_type": "markdown",
      "metadata": {
        "id": "9pbPPw-HOEkl",
        "colab_type": "text"
      },
      "source": [
        "Classifier"
      ]
    },
    {
      "cell_type": "code",
      "metadata": {
        "id": "25cKaMDNOBhE",
        "colab_type": "code",
        "colab": {
          "base_uri": "https://localhost:8080/",
          "height": 17
        },
        "outputId": "fac76ca6-291e-45ea-fd58-a7629614a93b"
      },
      "source": [
        "data_clas=(TextList.from_folder(path,vocab=data_lm.vocab)\n",
        "                       .split_by_folder(valid='test')\n",
        "                       .label_from_folder(classes=['neg','pos'])\n",
        "                       .databunch(bs=50))\n",
        "data_clas.save('tm_clas')"
      ],
      "execution_count": 36,
      "outputs": [
        {
          "output_type": "display_data",
          "data": {
            "text/html": [
              ""
            ],
            "text/plain": [
              "<IPython.core.display.HTML object>"
            ]
          },
          "metadata": {
            "tags": []
          }
        },
        {
          "output_type": "display_data",
          "data": {
            "text/html": [
              ""
            ],
            "text/plain": [
              "<IPython.core.display.HTML object>"
            ]
          },
          "metadata": {
            "tags": []
          }
        }
      ]
    },
    {
      "cell_type": "code",
      "metadata": {
        "id": "Bgacj9UxOxSH",
        "colab_type": "code",
        "colab": {
          "base_uri": "https://localhost:8080/",
          "height": 549
        },
        "outputId": "ba1b593d-d8c6-42f9-bc3d-0a05b77d98f7"
      },
      "source": [
        "#data_clas=TextClasDataBunch.load(path,'tmp_clas',bs=50)\n",
        "data_clas.show_batch()"
      ],
      "execution_count": 37,
      "outputs": [
        {
          "output_type": "display_data",
          "data": {
            "text/html": [
              "<table border=\"1\" class=\"dataframe\">\n",
              "  <thead>\n",
              "    <tr style=\"text-align: right;\">\n",
              "      <th>text</th>\n",
              "      <th>target</th>\n",
              "    </tr>\n",
              "  </thead>\n",
              "  <tbody>\n",
              "    <tr>\n",
              "      <td>xxbos xxmaj match 1 : xxmaj tag xxmaj team xxmaj table xxmaj match xxmaj bubba xxmaj ray and xxmaj spike xxmaj dudley vs xxmaj eddie xxmaj guerrero and xxmaj chris xxmaj benoit xxmaj bubba xxmaj ray and xxmaj spike xxmaj dudley started things off with a xxmaj tag xxmaj team xxmaj table xxmaj match against xxmaj eddie xxmaj guerrero and xxmaj chris xxmaj benoit . xxmaj according to the rules</td>\n",
              "      <td>pos</td>\n",
              "    </tr>\n",
              "    <tr>\n",
              "      <td>xxbos * ! ! - xxup spoilers - ! ! * \\n \\n  xxmaj before i begin this , let me say that i have had both the advantages of seeing this movie on the big screen and of having seen the \" xxmaj authorized xxmaj version \" of this movie , remade by xxmaj stephen xxmaj king , himself , in 1997 . \\n \\n  xxmaj both</td>\n",
              "      <td>pos</td>\n",
              "    </tr>\n",
              "    <tr>\n",
              "      <td>xxbos xxmaj okay , so i 'm not a big video game buff , but was the game xxmaj house of the xxmaj dead really famous enough to make a movie from ? xxmaj sure , they went as far as to actually put in quick video game clips throughout the movie , as though justifying any particular scene of violence , but there are dozens and dozens of games</td>\n",
              "      <td>neg</td>\n",
              "    </tr>\n",
              "    <tr>\n",
              "      <td>xxbos xxmaj god ! xxmaj zorro has been the the subject of about as many movies as xxmaj tarzan , and probably had about as many actors in the title role . \\n \\n  xxmaj this xxmaj serial is one of my own personal favourites , and as previously stated , it is one of the xxmaj top 5 xxmaj sound xxmaj serials . xxmaj oddly enough , this</td>\n",
              "      <td>pos</td>\n",
              "    </tr>\n",
              "    <tr>\n",
              "      <td>xxbos xxmaj on xxmaj sunday xxmaj july 27 , 1997 , the first episode of a new science fiction series called \" xxmaj stargate xxup sg-1 \" was broadcast on xxmaj showtime . a spin - off of and sequel to the 1994 film \" xxmaj stargate \" starring xxmaj kurt xxmaj russell and xxmaj james xxmaj spader , the series begins approximately one year after the events portrayed in</td>\n",
              "      <td>pos</td>\n",
              "    </tr>\n",
              "  </tbody>\n",
              "</table>"
            ],
            "text/plain": [
              "<IPython.core.display.HTML object>"
            ]
          },
          "metadata": {
            "tags": []
          }
        }
      ]
    },
    {
      "cell_type": "code",
      "metadata": {
        "id": "bApTtDJEOxQc",
        "colab_type": "code",
        "colab": {}
      },
      "source": [
        "#increase drop_mult if we are overfitting and decrease if we are underfitting\n",
        "learn=text_classifier_learner(data_clas,AWD_LSTM,drop_mult=0.5)\n",
        "learn.load_encoder('fine_tuned_enc')\n",
        "learn.freeze()"
      ],
      "execution_count": 0,
      "outputs": []
    },
    {
      "cell_type": "code",
      "metadata": {
        "id": "jonS6mXuOxNq",
        "colab_type": "code",
        "colab": {
          "base_uri": "https://localhost:8080/",
          "height": 317
        },
        "outputId": "e4d8e5e3-50bf-4029-ba16-f0ede2759a8b"
      },
      "source": [
        "learn.lr_find()\n",
        "learn.recorder.plot()"
      ],
      "execution_count": 39,
      "outputs": [
        {
          "output_type": "display_data",
          "data": {
            "text/html": [
              ""
            ],
            "text/plain": [
              "<IPython.core.display.HTML object>"
            ]
          },
          "metadata": {
            "tags": []
          }
        },
        {
          "output_type": "stream",
          "text": [
            "LR Finder is complete, type {learner_name}.recorder.plot() to see the graph.\n"
          ],
          "name": "stdout"
        },
        {
          "output_type": "display_data",
          "data": {
            "image/png": "[encoded data removed]",
            "text/plain": [
              "<Figure size 432x288 with 1 Axes>"
            ]
          },
          "metadata": {
            "tags": []
          }
        }
      ]
    },
    {
      "cell_type": "code",
      "metadata": {
        "id": "innwf2AaOxKR",
        "colab_type": "code",
        "colab": {
          "base_uri": "https://localhost:8080/",
          "height": 79
        },
        "outputId": "2d5222e6-3e39-4e00-84f4-ee7133290313"
      },
      "source": [
        "learn.fit_one_cycle(1,slice(1e-3,1e-2),moms=(0.8,0.7))"
      ],
      "execution_count": 40,
      "outputs": [
        {
          "output_type": "display_data",
          "data": {
            "text/html": [
              "<table border=\"1\" class=\"dataframe\">\n",
              "  <thead>\n",
              "    <tr style=\"text-align: left;\">\n",
              "      <th>epoch</th>\n",
              "      <th>train_loss</th>\n",
              "      <th>valid_loss</th>\n",
              "      <th>accuracy</th>\n",
              "      <th>time</th>\n",
              "    </tr>\n",
              "  </thead>\n",
              "  <tbody>\n",
              "    <tr>\n",
              "      <td>0</td>\n",
              "      <td>0.369552</td>\n",
              "      <td>0.303825</td>\n",
              "      <td>0.874120</td>\n",
              "      <td>02:48</td>\n",
              "    </tr>\n",
              "  </tbody>\n",
              "</table>"
            ],
            "text/plain": [
              "<IPython.core.display.HTML object>"
            ]
          },
          "metadata": {
            "tags": []
          }
        }
      ]
    },
    {
      "cell_type": "code",
      "metadata": {
        "id": "yf8wgiXPOxD1",
        "colab_type": "code",
        "colab": {}
      },
      "source": [
        "learn.save('first')"
      ],
      "execution_count": 0,
      "outputs": []
    },
    {
      "cell_type": "code",
      "metadata": {
        "id": "WHs98GoeOw-7",
        "colab_type": "code",
        "colab": {
          "base_uri": "https://localhost:8080/",
          "height": 1000
        },
        "outputId": "a55fdf21-4acf-4500-fd72-b34611289415"
      },
      "source": [
        "learn.load('first')"
      ],
      "execution_count": 42,
      "outputs": [
        {
          "output_type": "execute_result",
          "data": {
            "text/plain": [
              "RNNLearner(data=TextClasDataBunch;\n",
              "\n",
              "Train: LabelList (25000 items)\n",
              "x: TextList\n",
              "xxbos xxmaj this is actually a pretty bad film . xxmaj the ideology is not as perverse as in those films xxmaj collins made later . xxmaj however , my main misgivings about the film are that it is implausible and quite frankly boring for a long time . xxmaj the whole concept of an ex - xxup sas man joining terrorists for no particular reason is n't very convincing and you ca n't help wondering why a group of highly organized terrorists ( who later become pretty clueless ) fall for it . xxmaj the film starts with a pretty powerful scene but then meanders for quite a long time building up towards the great finale . xxmaj overall , i think xxmaj who dares wins could have been an interesting 45 minutes episode of xxmaj the xxmaj professionals but the story does n't carry a feature film . xxmaj although reasonably successful at the time this film initiated the demise of xxmaj collins ' career who in the eighties mainly made cheap and dubious soldier - of - fortune or army films . xxmaj pity , because he actually is quite a versatile actor but at the end of the day xxmaj martin xxmaj shaw chose his roles more carefully and has a career that 's still successful .,xxbos xxmaj kojak meets the mafia . xxmaj telly xxmaj xxunk is one of those guys from the past that seems pretty forgettable . i never thought that his show was all that great . xxmaj this is his one dimensional characterization of a crime boss , with very predictable results . xxmaj if you take the car chases and the general rambling out , there is n't much plot development or action . i find mafia movies to be dull because i have no respect or interest in common criminals and their actions . xxmaj hollywood , and in this case , the xxmaj italian cinema , treat these guys as heroes . i saw the film and in a few days i wo n't remember much about it . xxmaj lots of shooting , innocent bystanders dying , betrayal , and that sick loyalty . xxmaj the film is photographed pretty well and the acting is decent . xxmaj but the dubbing is so bad ( due to voices that just could n't come out of those bodies ) , that i almost started looking for xxmaj godzilla approaching the bay .,xxbos i must say that i am fairly disappointed by this \" horror \" movie . i did not get scared even once while watching it . xxmaj it also is not very suspenseful either xxrep 4 . i was able to guess the ending half way through the movie ... xxmaj so .. what 's left ? \n",
              " \n",
              "  \" xxmaj the xxmaj ring \" is a trully scary movie ... i wish other movies would stop copying from it ( e.g. the trade - mark : long hair ) . xxmaj please give me some originality . \n",
              " \n",
              "  xxmaj will not recommend this movie .,xxbos xxup popeye xxup and xxup big xxup foot * * ; xxup popeye xxup 's xxup engine xxup company * * ; xxup getting xxup popeye xxup 's xxup goat * * 1 / 2 \n",
              " \n",
              "  i used to lap these up as a kid but , catching an episode of the series comprising three cartoons back - to - back now i.e. several years later ( they preceded the theatrical screening of the pirate yarn xxup raiders xxup of xxup the xxup seven xxup seas [ 1953 ] ) , i can see how they do n't hold up all that well ! xxmaj the character of xxmaj popeye is n't exactly sympathetic to begin with , xxmaj olive xxmaj oyl distinctly overbearing and xxmaj bluto 's antics failed to elicit much interest either  in short , the scripts were alarmingly thin , fairly awful and generally unfunny to boot . xxmaj they 're strictly juvenile fare , yet i doubt today 's kids would even have the patience to stick with them ! ; furthermore , the animation style is unattractive . \n",
              " \n",
              "  xxmaj taking each short per se , i guess they improved from one to the other : after the initial shock , one adapted to its mediocre quality as it were , so that the third cartoon easily results in being the most enjoyable of the lot  xxmaj popeye is entrusted with a mascot army goat whose immense appetite causes him no end of mischief ( hardly original , i know , but always an amusing ploy ) . xxmaj one interesting element here was that the shorts were bookended with xxmaj popeye delivering moralistic bits of wisdom to the kids in the audience .,xxbos xxmaj this is probably the worst movie i have ever seen , ( yes it 's even worse than xxmaj dungeons and xxmaj dragons and any film starring xxmaj kevin xxmaj costner . ) \n",
              " \n",
              "  xxmaj chris xxmaj rock looked very uncomfortable throughout this whole film , and his supporting actors did n't even look like they were trying to act . xxmaj chris xxmaj rock is a wonderful stand - up comedian , but he just ca n't transfer his talent to this film , which probably only has two strained laughs in the whole picture . \n",
              " \n",
              "  xxmaj if you have n't watched this film yet , avoid it like the plague . xxmaj go do something constructive and more interesting like watching the weather channel or watching paint dry on a brick wall . \n",
              " \n",
              "  xxmaj for xxmaj chris ' efforts i give it a 2 / 10 ! \n",
              " \n",
              " \n",
              "y: CategoryList\n",
              "neg,neg,neg,neg,neg\n",
              "Path: /root/.fastai/data/imdb;\n",
              "\n",
              "Valid: LabelList (25000 items)\n",
              "x: TextList\n",
              "xxbos i watched this because of the description and cover art and yet again was deceived . i am getting sick of all these new stupid straight to xxup dvd horror movies . xxmaj once in a blue moon 1 will be xxup ok . xxmaj it started out with a confusing scene and then jumped 30 years and showed a couple one night during a thunderstorm which was xxup ok because i like storms and it set a nice mood . xxmaj then it turned into a cool road trip where they ended up at a diner encountering bizarre people . xxmaj the rest got weird and then got confusing . i did watch it til the end but was even more confused when it ended so badly . i had higher hopes for this movie but it was more like a science fiction then horror and something that should have been made for xxup tv .,xxbos xxmaj three young movie theater employees are given the task of re - opening a long closed old - time theater at which many years before a shocking series of grisly murders took place . xxmaj it seems many more murders have occurred since then but all of this remains unknown to these three young upstart employees hoping to finally make it big on their own . xxmaj as they approach the grand re - opening night , things keep getting stranger and more unsettling with items suddenly starting to move around by themselves without any seen aid and a terrifying old man seemingly haunting the premises . \n",
              " \n",
              "  xxmaj oh , this is truly horrible . xxmaj in fact , if it was n't for xxmaj mary xxmaj woronov 's secretary character being such a fiercely independent outspoken empowered young woman who steals practically every scene in which she appears and the incredibly hot chick who played the unbelievably sleazy yet totally sexy xxmaj selina , this would be a total loss . xxmaj the only other good thing i have to say about this film is some of the movie theater murders are done in truly inventive , albeit not overly gory ( a preference for me but not necessarily for others ) , fashion . xxmaj the rest just wallows in constant sleaze ( so extreme the rare few may actually find humor in it ) and runs through the predictable slasher kills annoying characters off one after the other routine .,xxbos xxup spoilers \n",
              " \n",
              "  i love movies . i 've seen a lot of movies . i did n't think i 'd ever see a film that i actually hated . xxmaj son of the xxmaj mask ruined it . xxmaj son of the xxmaj mask is so bad i 'm not even going to do a detailed comment like i usually do . xxmaj in fact , i 'm not even going to write a lot . i think all of you should know that this movie is horribly awful . xxmaj and poor xxmaj jamie xxmaj kennedy . xxmaj he was awesome in xxmaj scream , but now this film ! xxmaj also , this film takes a xxup xxunk - xxup can film and turns it into this goofy kids film that not even kids will like . xxmaj this film also consists of very rude humor . xxmaj like the nose woman . xxmaj she has a nose for a head and when she sneezes white stuff spews out of her nose . xxmaj there is also an xxmaj exorcist parody . xxmaj yes , a kid film has an adult parody . xxmaj maybe they thought the adults would like it . xxmaj quite frankly , it made the film even more cheesier and crude . \n",
              " \n",
              "  xxmaj here 's the basic , stupid plot . xxmaj tim xxmaj avery 's dog gets the amazing xxmaj loki mask and turns into a cartoon dog thing . xxmaj when xxmaj tim is paying more attention to the baby with special powers , cartoon dog becomes a xxmaj wiley xxmaj coyote ripoff . xxmaj then xxmaj loki takes the baby with amazing powers and xxmaj tim and xxmaj loki have a really cheesy animated fight . xxmaj tim 's wearing the mask . xxmaj it all ends happy . xxmaj too bad this movie is horrible . \n",
              " \n",
              "  xxmaj overall , the original the xxmaj mask was a fantastic xxmaj jim xxmaj carrey movie . xxmaj this , basically is not . xxmaj please , please , do n't rent , buy , or download this movie . i made a terrible mistake renting this . i do n't want you guys to make that same exact mistake . i feel horrible that i could n't write a detailed comment , but really , what 's there to comment on ? \n",
              " \n",
              "  2 / 10 i 'd give it a one , but come on , it 's basically a kid film . \n",
              " \n",
              "  xxmaj recommended xxmaj films : xxmaj the xxmaj mask .,xxbos xxmaj one of the few reasons to make these xxunk films is to give some actors a chance to hopefully star in better films if they 're acting is any good . xxmaj the only good thing in this movie is the acting , the three female leads are better than most horror films like this . xxmaj there 's 2 scenes that may cause an unexpected jump . \n",
              " \n",
              "  xxmaj young small children are use to crawl through holes and lay dynamite to explode mines . xxmaj when one does collapse causing a cave in all the children die , becoming zombies . xxmaj the adults in the mine stay dead , no reasons are given as why the children become flesh eaters . xxmaj when still alive they looked terrified before the cave in , innocent , so they must become enraged at any adult which exploited them int he mines ( only reason that come to mind ) . \n",
              " \n",
              "  a mother and her 2 daughters move into a house near the mine , along with a land xxunk who wants to build a resort and another of those creepy people who seem to know exactly what 's going on yet no one believes him . \n",
              " \n",
              "  xxmaj nothing new here , you 're usual clichés , predictable , a lot of negatives for this film , very few positives .,xxbos xxmaj this cosy middle class sitcom became the subject of much hatred by the new breed of talented comedians in the 1980s , such as xxmaj ben xxmaj elton . xxmaj did it deserve such malice ? xxmaj well xxmaj terry and xxmaj june was never clever , it was never a well - written tale with different threads which intersect at the conclusion . xxmaj it was the show your mother and father and probably grandparents watched . xxmaj they chuckled rather than laughed , but they were never likely to be offended by the show , so the fact that it never challenged them was immaterial . \n",
              " \n",
              "  xxmaj one xxmaj foot xxmaj in xxmaj the xxmaj grave suffered initially because it appeared at first sight to be just another xxmaj terry and xxmaj june . \n",
              " \n",
              "  a few days after the death of xxmaj terry xxmaj scott an episode was broadcast on terrestrial xxup tv , and that has been its final outing . xxmaj there have been few repeats of the show on any xxup tv channel . \n",
              " \n",
              "  xxmaj thankfully xxup tv comedy has advanced since xxmaj terry and xxmaj june . xxmaj it 's hard to find kind words for it - xxmaj terry xxmaj scott did make the best of weak scripts .\n",
              "y: CategoryList\n",
              "neg,neg,neg,neg,neg\n",
              "Path: /root/.fastai/data/imdb;\n",
              "\n",
              "Test: None, model=SequentialRNN(\n",
              "  (0): MultiBatchEncoder(\n",
              "    (module): AWD_LSTM(\n",
              "      (encoder): Embedding(49808, 400, padding_idx=1)\n",
              "      (encoder_dp): EmbeddingDropout(\n",
              "        (emb): Embedding(49808, 400, padding_idx=1)\n",
              "      )\n",
              "      (rnns): ModuleList(\n",
              "        (0): WeightDropout(\n",
              "          (module): LSTM(400, 1152, batch_first=True)\n",
              "        )\n",
              "        (1): WeightDropout(\n",
              "          (module): LSTM(1152, 1152, batch_first=True)\n",
              "        )\n",
              "        (2): WeightDropout(\n",
              "          (module): LSTM(1152, 400, batch_first=True)\n",
              "        )\n",
              "      )\n",
              "      (input_dp): RNNDropout()\n",
              "      (hidden_dps): ModuleList(\n",
              "        (0): RNNDropout()\n",
              "        (1): RNNDropout()\n",
              "        (2): RNNDropout()\n",
              "      )\n",
              "    )\n",
              "  )\n",
              "  (1): PoolingLinearClassifier(\n",
              "    (layers): Sequential(\n",
              "      (0): BatchNorm1d(1200, eps=1e-05, momentum=0.1, affine=True, track_running_stats=True)\n",
              "      (1): Dropout(p=0.2, inplace=False)\n",
              "      (2): Linear(in_features=1200, out_features=50, bias=True)\n",
              "      (3): ReLU(inplace=True)\n",
              "      (4): BatchNorm1d(50, eps=1e-05, momentum=0.1, affine=True, track_running_stats=True)\n",
              "      (5): Dropout(p=0.1, inplace=False)\n",
              "      (6): Linear(in_features=50, out_features=2, bias=True)\n",
              "    )\n",
              "  )\n",
              "), opt_func=functools.partial(<class 'torch.optim.adam.Adam'>, betas=(0.9, 0.99)), loss_func=FlattenedLoss of CrossEntropyLoss(), metrics=[<function accuracy at 0x7f92faf3f620>], true_wd=True, bn_wd=True, wd=0.01, train_bn=True, path=PosixPath('/root/.fastai/data/imdb'), model_dir='models', callback_fns=[functools.partial(<class 'fastai.basic_train.Recorder'>, add_time=True, silent=False)], callbacks=[RNNTrainer\n",
              "learn: RNNLearner(data=TextClasDataBunch;\n",
              "\n",
              "Train: LabelList (25000 items)\n",
              "x: TextList\n",
              "xxbos xxmaj this is actually a pretty bad film . xxmaj the ideology is not as perverse as in those films xxmaj collins made later . xxmaj however , my main misgivings about the film are that it is implausible and quite frankly boring for a long time . xxmaj the whole concept of an ex - xxup sas man joining terrorists for no particular reason is n't very convincing and you ca n't help wondering why a group of highly organized terrorists ( who later become pretty clueless ) fall for it . xxmaj the film starts with a pretty powerful scene but then meanders for quite a long time building up towards the great finale . xxmaj overall , i think xxmaj who dares wins could have been an interesting 45 minutes episode of xxmaj the xxmaj professionals but the story does n't carry a feature film . xxmaj although reasonably successful at the time this film initiated the demise of xxmaj collins ' career who in the eighties mainly made cheap and dubious soldier - of - fortune or army films . xxmaj pity , because he actually is quite a versatile actor but at the end of the day xxmaj martin xxmaj shaw chose his roles more carefully and has a career that 's still successful .,xxbos xxmaj kojak meets the mafia . xxmaj telly xxmaj xxunk is one of those guys from the past that seems pretty forgettable . i never thought that his show was all that great . xxmaj this is his one dimensional characterization of a crime boss , with very predictable results . xxmaj if you take the car chases and the general rambling out , there is n't much plot development or action . i find mafia movies to be dull because i have no respect or interest in common criminals and their actions . xxmaj hollywood , and in this case , the xxmaj italian cinema , treat these guys as heroes . i saw the film and in a few days i wo n't remember much about it . xxmaj lots of shooting , innocent bystanders dying , betrayal , and that sick loyalty . xxmaj the film is photographed pretty well and the acting is decent . xxmaj but the dubbing is so bad ( due to voices that just could n't come out of those bodies ) , that i almost started looking for xxmaj godzilla approaching the bay .,xxbos i must say that i am fairly disappointed by this \" horror \" movie . i did not get scared even once while watching it . xxmaj it also is not very suspenseful either xxrep 4 . i was able to guess the ending half way through the movie ... xxmaj so .. what 's left ? \n",
              " \n",
              "  \" xxmaj the xxmaj ring \" is a trully scary movie ... i wish other movies would stop copying from it ( e.g. the trade - mark : long hair ) . xxmaj please give me some originality . \n",
              " \n",
              "  xxmaj will not recommend this movie .,xxbos xxup popeye xxup and xxup big xxup foot * * ; xxup popeye xxup 's xxup engine xxup company * * ; xxup getting xxup popeye xxup 's xxup goat * * 1 / 2 \n",
              " \n",
              "  i used to lap these up as a kid but , catching an episode of the series comprising three cartoons back - to - back now i.e. several years later ( they preceded the theatrical screening of the pirate yarn xxup raiders xxup of xxup the xxup seven xxup seas [ 1953 ] ) , i can see how they do n't hold up all that well ! xxmaj the character of xxmaj popeye is n't exactly sympathetic to begin with , xxmaj olive xxmaj oyl distinctly overbearing and xxmaj bluto 's antics failed to elicit much interest either  in short , the scripts were alarmingly thin , fairly awful and generally unfunny to boot . xxmaj they 're strictly juvenile fare , yet i doubt today 's kids would even have the patience to stick with them ! ; furthermore , the animation style is unattractive . \n",
              " \n",
              "  xxmaj taking each short per se , i guess they improved from one to the other : after the initial shock , one adapted to its mediocre quality as it were , so that the third cartoon easily results in being the most enjoyable of the lot  xxmaj popeye is entrusted with a mascot army goat whose immense appetite causes him no end of mischief ( hardly original , i know , but always an amusing ploy ) . xxmaj one interesting element here was that the shorts were bookended with xxmaj popeye delivering moralistic bits of wisdom to the kids in the audience .,xxbos xxmaj this is probably the worst movie i have ever seen , ( yes it 's even worse than xxmaj dungeons and xxmaj dragons and any film starring xxmaj kevin xxmaj costner . ) \n",
              " \n",
              "  xxmaj chris xxmaj rock looked very uncomfortable throughout this whole film , and his supporting actors did n't even look like they were trying to act . xxmaj chris xxmaj rock is a wonderful stand - up comedian , but he just ca n't transfer his talent to this film , which probably only has two strained laughs in the whole picture . \n",
              " \n",
              "  xxmaj if you have n't watched this film yet , avoid it like the plague . xxmaj go do something constructive and more interesting like watching the weather channel or watching paint dry on a brick wall . \n",
              " \n",
              "  xxmaj for xxmaj chris ' efforts i give it a 2 / 10 ! \n",
              " \n",
              " \n",
              "y: CategoryList\n",
              "neg,neg,neg,neg,neg\n",
              "Path: /root/.fastai/data/imdb;\n",
              "\n",
              "Valid: LabelList (25000 items)\n",
              "x: TextList\n",
              "xxbos i watched this because of the description and cover art and yet again was deceived . i am getting sick of all these new stupid straight to xxup dvd horror movies . xxmaj once in a blue moon 1 will be xxup ok . xxmaj it started out with a confusing scene and then jumped 30 years and showed a couple one night during a thunderstorm which was xxup ok because i like storms and it set a nice mood . xxmaj then it turned into a cool road trip where they ended up at a diner encountering bizarre people . xxmaj the rest got weird and then got confusing . i did watch it til the end but was even more confused when it ended so badly . i had higher hopes for this movie but it was more like a science fiction then horror and something that should have been made for xxup tv .,xxbos xxmaj three young movie theater employees are given the task of re - opening a long closed old - time theater at which many years before a shocking series of grisly murders took place . xxmaj it seems many more murders have occurred since then but all of this remains unknown to these three young upstart employees hoping to finally make it big on their own . xxmaj as they approach the grand re - opening night , things keep getting stranger and more unsettling with items suddenly starting to move around by themselves without any seen aid and a terrifying old man seemingly haunting the premises . \n",
              " \n",
              "  xxmaj oh , this is truly horrible . xxmaj in fact , if it was n't for xxmaj mary xxmaj woronov 's secretary character being such a fiercely independent outspoken empowered young woman who steals practically every scene in which she appears and the incredibly hot chick who played the unbelievably sleazy yet totally sexy xxmaj selina , this would be a total loss . xxmaj the only other good thing i have to say about this film is some of the movie theater murders are done in truly inventive , albeit not overly gory ( a preference for me but not necessarily for others ) , fashion . xxmaj the rest just wallows in constant sleaze ( so extreme the rare few may actually find humor in it ) and runs through the predictable slasher kills annoying characters off one after the other routine .,xxbos xxup spoilers \n",
              " \n",
              "  i love movies . i 've seen a lot of movies . i did n't think i 'd ever see a film that i actually hated . xxmaj son of the xxmaj mask ruined it . xxmaj son of the xxmaj mask is so bad i 'm not even going to do a detailed comment like i usually do . xxmaj in fact , i 'm not even going to write a lot . i think all of you should know that this movie is horribly awful . xxmaj and poor xxmaj jamie xxmaj kennedy . xxmaj he was awesome in xxmaj scream , but now this film ! xxmaj also , this film takes a xxup xxunk - xxup can film and turns it into this goofy kids film that not even kids will like . xxmaj this film also consists of very rude humor . xxmaj like the nose woman . xxmaj she has a nose for a head and when she sneezes white stuff spews out of her nose . xxmaj there is also an xxmaj exorcist parody . xxmaj yes , a kid film has an adult parody . xxmaj maybe they thought the adults would like it . xxmaj quite frankly , it made the film even more cheesier and crude . \n",
              " \n",
              "  xxmaj here 's the basic , stupid plot . xxmaj tim xxmaj avery 's dog gets the amazing xxmaj loki mask and turns into a cartoon dog thing . xxmaj when xxmaj tim is paying more attention to the baby with special powers , cartoon dog becomes a xxmaj wiley xxmaj coyote ripoff . xxmaj then xxmaj loki takes the baby with amazing powers and xxmaj tim and xxmaj loki have a really cheesy animated fight . xxmaj tim 's wearing the mask . xxmaj it all ends happy . xxmaj too bad this movie is horrible . \n",
              " \n",
              "  xxmaj overall , the original the xxmaj mask was a fantastic xxmaj jim xxmaj carrey movie . xxmaj this , basically is not . xxmaj please , please , do n't rent , buy , or download this movie . i made a terrible mistake renting this . i do n't want you guys to make that same exact mistake . i feel horrible that i could n't write a detailed comment , but really , what 's there to comment on ? \n",
              " \n",
              "  2 / 10 i 'd give it a one , but come on , it 's basically a kid film . \n",
              " \n",
              "  xxmaj recommended xxmaj films : xxmaj the xxmaj mask .,xxbos xxmaj one of the few reasons to make these xxunk films is to give some actors a chance to hopefully star in better films if they 're acting is any good . xxmaj the only good thing in this movie is the acting , the three female leads are better than most horror films like this . xxmaj there 's 2 scenes that may cause an unexpected jump . \n",
              " \n",
              "  xxmaj young small children are use to crawl through holes and lay dynamite to explode mines . xxmaj when one does collapse causing a cave in all the children die , becoming zombies . xxmaj the adults in the mine stay dead , no reasons are given as why the children become flesh eaters . xxmaj when still alive they looked terrified before the cave in , innocent , so they must become enraged at any adult which exploited them int he mines ( only reason that come to mind ) . \n",
              " \n",
              "  a mother and her 2 daughters move into a house near the mine , along with a land xxunk who wants to build a resort and another of those creepy people who seem to know exactly what 's going on yet no one believes him . \n",
              " \n",
              "  xxmaj nothing new here , you 're usual clichés , predictable , a lot of negatives for this film , very few positives .,xxbos xxmaj this cosy middle class sitcom became the subject of much hatred by the new breed of talented comedians in the 1980s , such as xxmaj ben xxmaj elton . xxmaj did it deserve such malice ? xxmaj well xxmaj terry and xxmaj june was never clever , it was never a well - written tale with different threads which intersect at the conclusion . xxmaj it was the show your mother and father and probably grandparents watched . xxmaj they chuckled rather than laughed , but they were never likely to be offended by the show , so the fact that it never challenged them was immaterial . \n",
              " \n",
              "  xxmaj one xxmaj foot xxmaj in xxmaj the xxmaj grave suffered initially because it appeared at first sight to be just another xxmaj terry and xxmaj june . \n",
              " \n",
              "  a few days after the death of xxmaj terry xxmaj scott an episode was broadcast on terrestrial xxup tv , and that has been its final outing . xxmaj there have been few repeats of the show on any xxup tv channel . \n",
              " \n",
              "  xxmaj thankfully xxup tv comedy has advanced since xxmaj terry and xxmaj june . xxmaj it 's hard to find kind words for it - xxmaj terry xxmaj scott did make the best of weak scripts .\n",
              "y: CategoryList\n",
              "neg,neg,neg,neg,neg\n",
              "Path: /root/.fastai/data/imdb;\n",
              "\n",
              "Test: None, model=SequentialRNN(\n",
              "  (0): MultiBatchEncoder(\n",
              "    (module): AWD_LSTM(\n",
              "      (encoder): Embedding(49808, 400, padding_idx=1)\n",
              "      (encoder_dp): EmbeddingDropout(\n",
              "        (emb): Embedding(49808, 400, padding_idx=1)\n",
              "      )\n",
              "      (rnns): ModuleList(\n",
              "        (0): WeightDropout(\n",
              "          (module): LSTM(400, 1152, batch_first=True)\n",
              "        )\n",
              "        (1): WeightDropout(\n",
              "          (module): LSTM(1152, 1152, batch_first=True)\n",
              "        )\n",
              "        (2): WeightDropout(\n",
              "          (module): LSTM(1152, 400, batch_first=True)\n",
              "        )\n",
              "      )\n",
              "      (input_dp): RNNDropout()\n",
              "      (hidden_dps): ModuleList(\n",
              "        (0): RNNDropout()\n",
              "        (1): RNNDropout()\n",
              "        (2): RNNDropout()\n",
              "      )\n",
              "    )\n",
              "  )\n",
              "  (1): PoolingLinearClassifier(\n",
              "    (layers): Sequential(\n",
              "      (0): BatchNorm1d(1200, eps=1e-05, momentum=0.1, affine=True, track_running_stats=True)\n",
              "      (1): Dropout(p=0.2, inplace=False)\n",
              "      (2): Linear(in_features=1200, out_features=50, bias=True)\n",
              "      (3): ReLU(inplace=True)\n",
              "      (4): BatchNorm1d(50, eps=1e-05, momentum=0.1, affine=True, track_running_stats=True)\n",
              "      (5): Dropout(p=0.1, inplace=False)\n",
              "      (6): Linear(in_features=50, out_features=2, bias=True)\n",
              "    )\n",
              "  )\n",
              "), opt_func=functools.partial(<class 'torch.optim.adam.Adam'>, betas=(0.9, 0.99)), loss_func=FlattenedLoss of CrossEntropyLoss(), metrics=[<function accuracy at 0x7f92faf3f620>], true_wd=True, bn_wd=True, wd=0.01, train_bn=True, path=PosixPath('/root/.fastai/data/imdb'), model_dir='models', callback_fns=[functools.partial(<class 'fastai.basic_train.Recorder'>, add_time=True, silent=False)], callbacks=[...], layer_groups=[Sequential(\n",
              "  (0): Embedding(49808, 400, padding_idx=1)\n",
              "  (1): EmbeddingDropout(\n",
              "    (emb): Embedding(49808, 400, padding_idx=1)\n",
              "  )\n",
              "), Sequential(\n",
              "  (0): WeightDropout(\n",
              "    (module): LSTM(400, 1152, batch_first=True)\n",
              "  )\n",
              "  (1): RNNDropout()\n",
              "), Sequential(\n",
              "  (0): WeightDropout(\n",
              "    (module): LSTM(1152, 1152, batch_first=True)\n",
              "  )\n",
              "  (1): RNNDropout()\n",
              "), Sequential(\n",
              "  (0): WeightDropout(\n",
              "    (module): LSTM(1152, 400, batch_first=True)\n",
              "  )\n",
              "  (1): RNNDropout()\n",
              "), Sequential(\n",
              "  (0): PoolingLinearClassifier(\n",
              "    (layers): Sequential(\n",
              "      (0): BatchNorm1d(1200, eps=1e-05, momentum=0.1, affine=True, track_running_stats=True)\n",
              "      (1): Dropout(p=0.2, inplace=False)\n",
              "      (2): Linear(in_features=1200, out_features=50, bias=True)\n",
              "      (3): ReLU(inplace=True)\n",
              "      (4): BatchNorm1d(50, eps=1e-05, momentum=0.1, affine=True, track_running_stats=True)\n",
              "      (5): Dropout(p=0.1, inplace=False)\n",
              "      (6): Linear(in_features=50, out_features=2, bias=True)\n",
              "    )\n",
              "  )\n",
              ")], add_time=True, silent=False)\n",
              "alpha: 2.0\n",
              "beta: 1.0], layer_groups=[Sequential(\n",
              "  (0): Embedding(49808, 400, padding_idx=1)\n",
              "  (1): EmbeddingDropout(\n",
              "    (emb): Embedding(49808, 400, padding_idx=1)\n",
              "  )\n",
              "), Sequential(\n",
              "  (0): WeightDropout(\n",
              "    (module): LSTM(400, 1152, batch_first=True)\n",
              "  )\n",
              "  (1): RNNDropout()\n",
              "), Sequential(\n",
              "  (0): WeightDropout(\n",
              "    (module): LSTM(1152, 1152, batch_first=True)\n",
              "  )\n",
              "  (1): RNNDropout()\n",
              "), Sequential(\n",
              "  (0): WeightDropout(\n",
              "    (module): LSTM(1152, 400, batch_first=True)\n",
              "  )\n",
              "  (1): RNNDropout()\n",
              "), Sequential(\n",
              "  (0): PoolingLinearClassifier(\n",
              "    (layers): Sequential(\n",
              "      (0): BatchNorm1d(1200, eps=1e-05, momentum=0.1, affine=True, track_running_stats=True)\n",
              "      (1): Dropout(p=0.2, inplace=False)\n",
              "      (2): Linear(in_features=1200, out_features=50, bias=True)\n",
              "      (3): ReLU(inplace=True)\n",
              "      (4): BatchNorm1d(50, eps=1e-05, momentum=0.1, affine=True, track_running_stats=True)\n",
              "      (5): Dropout(p=0.1, inplace=False)\n",
              "      (6): Linear(in_features=50, out_features=2, bias=True)\n",
              "    )\n",
              "  )\n",
              ")], add_time=True, silent=False)"
            ]
          },
          "metadata": {
            "tags": []
          },
          "execution_count": 42
        }
      ]
    },
    {
      "cell_type": "code",
      "metadata": {
        "id": "mcnW3tjhSL45",
        "colab_type": "code",
        "colab": {
          "base_uri": "https://localhost:8080/",
          "height": 79
        },
        "outputId": "021c5db2-084a-494f-f658-e0661a91e874"
      },
      "source": [
        "learn.freeze_to(-2)#this means unfreeze last 2 layers\n",
        "learn.fit_one_cycle(1)"
      ],
      "execution_count": 43,
      "outputs": [
        {
          "output_type": "display_data",
          "data": {
            "text/html": [
              "<table border=\"1\" class=\"dataframe\">\n",
              "  <thead>\n",
              "    <tr style=\"text-align: left;\">\n",
              "      <th>epoch</th>\n",
              "      <th>train_loss</th>\n",
              "      <th>valid_loss</th>\n",
              "      <th>accuracy</th>\n",
              "      <th>time</th>\n",
              "    </tr>\n",
              "  </thead>\n",
              "  <tbody>\n",
              "    <tr>\n",
              "      <td>0</td>\n",
              "      <td>0.345215</td>\n",
              "      <td>0.274310</td>\n",
              "      <td>0.887000</td>\n",
              "      <td>03:09</td>\n",
              "    </tr>\n",
              "  </tbody>\n",
              "</table>"
            ],
            "text/plain": [
              "<IPython.core.display.HTML object>"
            ]
          },
          "metadata": {
            "tags": []
          }
        }
      ]
    },
    {
      "cell_type": "code",
      "metadata": {
        "id": "IXINF_v6SL3K",
        "colab_type": "code",
        "colab": {
          "base_uri": "https://localhost:8080/",
          "height": 1000
        },
        "outputId": "4ba117d6-58e9-40bf-d80e-b9956a25aad6"
      },
      "source": [
        "learn.save('second')\n",
        "learn.load('second')"
      ],
      "execution_count": 44,
      "outputs": [
        {
          "output_type": "execute_result",
          "data": {
            "text/plain": [
              "RNNLearner(data=TextClasDataBunch;\n",
              "\n",
              "Train: LabelList (25000 items)\n",
              "x: TextList\n",
              "xxbos xxmaj this is actually a pretty bad film . xxmaj the ideology is not as perverse as in those films xxmaj collins made later . xxmaj however , my main misgivings about the film are that it is implausible and quite frankly boring for a long time . xxmaj the whole concept of an ex - xxup sas man joining terrorists for no particular reason is n't very convincing and you ca n't help wondering why a group of highly organized terrorists ( who later become pretty clueless ) fall for it . xxmaj the film starts with a pretty powerful scene but then meanders for quite a long time building up towards the great finale . xxmaj overall , i think xxmaj who dares wins could have been an interesting 45 minutes episode of xxmaj the xxmaj professionals but the story does n't carry a feature film . xxmaj although reasonably successful at the time this film initiated the demise of xxmaj collins ' career who in the eighties mainly made cheap and dubious soldier - of - fortune or army films . xxmaj pity , because he actually is quite a versatile actor but at the end of the day xxmaj martin xxmaj shaw chose his roles more carefully and has a career that 's still successful .,xxbos xxmaj kojak meets the mafia . xxmaj telly xxmaj xxunk is one of those guys from the past that seems pretty forgettable . i never thought that his show was all that great . xxmaj this is his one dimensional characterization of a crime boss , with very predictable results . xxmaj if you take the car chases and the general rambling out , there is n't much plot development or action . i find mafia movies to be dull because i have no respect or interest in common criminals and their actions . xxmaj hollywood , and in this case , the xxmaj italian cinema , treat these guys as heroes . i saw the film and in a few days i wo n't remember much about it . xxmaj lots of shooting , innocent bystanders dying , betrayal , and that sick loyalty . xxmaj the film is photographed pretty well and the acting is decent . xxmaj but the dubbing is so bad ( due to voices that just could n't come out of those bodies ) , that i almost started looking for xxmaj godzilla approaching the bay .,xxbos i must say that i am fairly disappointed by this \" horror \" movie . i did not get scared even once while watching it . xxmaj it also is not very suspenseful either xxrep 4 . i was able to guess the ending half way through the movie ... xxmaj so .. what 's left ? \n",
              " \n",
              "  \" xxmaj the xxmaj ring \" is a trully scary movie ... i wish other movies would stop copying from it ( e.g. the trade - mark : long hair ) . xxmaj please give me some originality . \n",
              " \n",
              "  xxmaj will not recommend this movie .,xxbos xxup popeye xxup and xxup big xxup foot * * ; xxup popeye xxup 's xxup engine xxup company * * ; xxup getting xxup popeye xxup 's xxup goat * * 1 / 2 \n",
              " \n",
              "  i used to lap these up as a kid but , catching an episode of the series comprising three cartoons back - to - back now i.e. several years later ( they preceded the theatrical screening of the pirate yarn xxup raiders xxup of xxup the xxup seven xxup seas [ 1953 ] ) , i can see how they do n't hold up all that well ! xxmaj the character of xxmaj popeye is n't exactly sympathetic to begin with , xxmaj olive xxmaj oyl distinctly overbearing and xxmaj bluto 's antics failed to elicit much interest either  in short , the scripts were alarmingly thin , fairly awful and generally unfunny to boot . xxmaj they 're strictly juvenile fare , yet i doubt today 's kids would even have the patience to stick with them ! ; furthermore , the animation style is unattractive . \n",
              " \n",
              "  xxmaj taking each short per se , i guess they improved from one to the other : after the initial shock , one adapted to its mediocre quality as it were , so that the third cartoon easily results in being the most enjoyable of the lot  xxmaj popeye is entrusted with a mascot army goat whose immense appetite causes him no end of mischief ( hardly original , i know , but always an amusing ploy ) . xxmaj one interesting element here was that the shorts were bookended with xxmaj popeye delivering moralistic bits of wisdom to the kids in the audience .,xxbos xxmaj this is probably the worst movie i have ever seen , ( yes it 's even worse than xxmaj dungeons and xxmaj dragons and any film starring xxmaj kevin xxmaj costner . ) \n",
              " \n",
              "  xxmaj chris xxmaj rock looked very uncomfortable throughout this whole film , and his supporting actors did n't even look like they were trying to act . xxmaj chris xxmaj rock is a wonderful stand - up comedian , but he just ca n't transfer his talent to this film , which probably only has two strained laughs in the whole picture . \n",
              " \n",
              "  xxmaj if you have n't watched this film yet , avoid it like the plague . xxmaj go do something constructive and more interesting like watching the weather channel or watching paint dry on a brick wall . \n",
              " \n",
              "  xxmaj for xxmaj chris ' efforts i give it a 2 / 10 ! \n",
              " \n",
              " \n",
              "y: CategoryList\n",
              "neg,neg,neg,neg,neg\n",
              "Path: /root/.fastai/data/imdb;\n",
              "\n",
              "Valid: LabelList (25000 items)\n",
              "x: TextList\n",
              "xxbos i watched this because of the description and cover art and yet again was deceived . i am getting sick of all these new stupid straight to xxup dvd horror movies . xxmaj once in a blue moon 1 will be xxup ok . xxmaj it started out with a confusing scene and then jumped 30 years and showed a couple one night during a thunderstorm which was xxup ok because i like storms and it set a nice mood . xxmaj then it turned into a cool road trip where they ended up at a diner encountering bizarre people . xxmaj the rest got weird and then got confusing . i did watch it til the end but was even more confused when it ended so badly . i had higher hopes for this movie but it was more like a science fiction then horror and something that should have been made for xxup tv .,xxbos xxmaj three young movie theater employees are given the task of re - opening a long closed old - time theater at which many years before a shocking series of grisly murders took place . xxmaj it seems many more murders have occurred since then but all of this remains unknown to these three young upstart employees hoping to finally make it big on their own . xxmaj as they approach the grand re - opening night , things keep getting stranger and more unsettling with items suddenly starting to move around by themselves without any seen aid and a terrifying old man seemingly haunting the premises . \n",
              " \n",
              "  xxmaj oh , this is truly horrible . xxmaj in fact , if it was n't for xxmaj mary xxmaj woronov 's secretary character being such a fiercely independent outspoken empowered young woman who steals practically every scene in which she appears and the incredibly hot chick who played the unbelievably sleazy yet totally sexy xxmaj selina , this would be a total loss . xxmaj the only other good thing i have to say about this film is some of the movie theater murders are done in truly inventive , albeit not overly gory ( a preference for me but not necessarily for others ) , fashion . xxmaj the rest just wallows in constant sleaze ( so extreme the rare few may actually find humor in it ) and runs through the predictable slasher kills annoying characters off one after the other routine .,xxbos xxup spoilers \n",
              " \n",
              "  i love movies . i 've seen a lot of movies . i did n't think i 'd ever see a film that i actually hated . xxmaj son of the xxmaj mask ruined it . xxmaj son of the xxmaj mask is so bad i 'm not even going to do a detailed comment like i usually do . xxmaj in fact , i 'm not even going to write a lot . i think all of you should know that this movie is horribly awful . xxmaj and poor xxmaj jamie xxmaj kennedy . xxmaj he was awesome in xxmaj scream , but now this film ! xxmaj also , this film takes a xxup xxunk - xxup can film and turns it into this goofy kids film that not even kids will like . xxmaj this film also consists of very rude humor . xxmaj like the nose woman . xxmaj she has a nose for a head and when she sneezes white stuff spews out of her nose . xxmaj there is also an xxmaj exorcist parody . xxmaj yes , a kid film has an adult parody . xxmaj maybe they thought the adults would like it . xxmaj quite frankly , it made the film even more cheesier and crude . \n",
              " \n",
              "  xxmaj here 's the basic , stupid plot . xxmaj tim xxmaj avery 's dog gets the amazing xxmaj loki mask and turns into a cartoon dog thing . xxmaj when xxmaj tim is paying more attention to the baby with special powers , cartoon dog becomes a xxmaj wiley xxmaj coyote ripoff . xxmaj then xxmaj loki takes the baby with amazing powers and xxmaj tim and xxmaj loki have a really cheesy animated fight . xxmaj tim 's wearing the mask . xxmaj it all ends happy . xxmaj too bad this movie is horrible . \n",
              " \n",
              "  xxmaj overall , the original the xxmaj mask was a fantastic xxmaj jim xxmaj carrey movie . xxmaj this , basically is not . xxmaj please , please , do n't rent , buy , or download this movie . i made a terrible mistake renting this . i do n't want you guys to make that same exact mistake . i feel horrible that i could n't write a detailed comment , but really , what 's there to comment on ? \n",
              " \n",
              "  2 / 10 i 'd give it a one , but come on , it 's basically a kid film . \n",
              " \n",
              "  xxmaj recommended xxmaj films : xxmaj the xxmaj mask .,xxbos xxmaj one of the few reasons to make these xxunk films is to give some actors a chance to hopefully star in better films if they 're acting is any good . xxmaj the only good thing in this movie is the acting , the three female leads are better than most horror films like this . xxmaj there 's 2 scenes that may cause an unexpected jump . \n",
              " \n",
              "  xxmaj young small children are use to crawl through holes and lay dynamite to explode mines . xxmaj when one does collapse causing a cave in all the children die , becoming zombies . xxmaj the adults in the mine stay dead , no reasons are given as why the children become flesh eaters . xxmaj when still alive they looked terrified before the cave in , innocent , so they must become enraged at any adult which exploited them int he mines ( only reason that come to mind ) . \n",
              " \n",
              "  a mother and her 2 daughters move into a house near the mine , along with a land xxunk who wants to build a resort and another of those creepy people who seem to know exactly what 's going on yet no one believes him . \n",
              " \n",
              "  xxmaj nothing new here , you 're usual clichés , predictable , a lot of negatives for this film , very few positives .,xxbos xxmaj this cosy middle class sitcom became the subject of much hatred by the new breed of talented comedians in the 1980s , such as xxmaj ben xxmaj elton . xxmaj did it deserve such malice ? xxmaj well xxmaj terry and xxmaj june was never clever , it was never a well - written tale with different threads which intersect at the conclusion . xxmaj it was the show your mother and father and probably grandparents watched . xxmaj they chuckled rather than laughed , but they were never likely to be offended by the show , so the fact that it never challenged them was immaterial . \n",
              " \n",
              "  xxmaj one xxmaj foot xxmaj in xxmaj the xxmaj grave suffered initially because it appeared at first sight to be just another xxmaj terry and xxmaj june . \n",
              " \n",
              "  a few days after the death of xxmaj terry xxmaj scott an episode was broadcast on terrestrial xxup tv , and that has been its final outing . xxmaj there have been few repeats of the show on any xxup tv channel . \n",
              " \n",
              "  xxmaj thankfully xxup tv comedy has advanced since xxmaj terry and xxmaj june . xxmaj it 's hard to find kind words for it - xxmaj terry xxmaj scott did make the best of weak scripts .\n",
              "y: CategoryList\n",
              "neg,neg,neg,neg,neg\n",
              "Path: /root/.fastai/data/imdb;\n",
              "\n",
              "Test: None, model=SequentialRNN(\n",
              "  (0): MultiBatchEncoder(\n",
              "    (module): AWD_LSTM(\n",
              "      (encoder): Embedding(49808, 400, padding_idx=1)\n",
              "      (encoder_dp): EmbeddingDropout(\n",
              "        (emb): Embedding(49808, 400, padding_idx=1)\n",
              "      )\n",
              "      (rnns): ModuleList(\n",
              "        (0): WeightDropout(\n",
              "          (module): LSTM(400, 1152, batch_first=True)\n",
              "        )\n",
              "        (1): WeightDropout(\n",
              "          (module): LSTM(1152, 1152, batch_first=True)\n",
              "        )\n",
              "        (2): WeightDropout(\n",
              "          (module): LSTM(1152, 400, batch_first=True)\n",
              "        )\n",
              "      )\n",
              "      (input_dp): RNNDropout()\n",
              "      (hidden_dps): ModuleList(\n",
              "        (0): RNNDropout()\n",
              "        (1): RNNDropout()\n",
              "        (2): RNNDropout()\n",
              "      )\n",
              "    )\n",
              "  )\n",
              "  (1): PoolingLinearClassifier(\n",
              "    (layers): Sequential(\n",
              "      (0): BatchNorm1d(1200, eps=1e-05, momentum=0.1, affine=True, track_running_stats=True)\n",
              "      (1): Dropout(p=0.2, inplace=False)\n",
              "      (2): Linear(in_features=1200, out_features=50, bias=True)\n",
              "      (3): ReLU(inplace=True)\n",
              "      (4): BatchNorm1d(50, eps=1e-05, momentum=0.1, affine=True, track_running_stats=True)\n",
              "      (5): Dropout(p=0.1, inplace=False)\n",
              "      (6): Linear(in_features=50, out_features=2, bias=True)\n",
              "    )\n",
              "  )\n",
              "), opt_func=functools.partial(<class 'torch.optim.adam.Adam'>, betas=(0.9, 0.99)), loss_func=FlattenedLoss of CrossEntropyLoss(), metrics=[<function accuracy at 0x7f92faf3f620>], true_wd=True, bn_wd=True, wd=0.01, train_bn=True, path=PosixPath('/root/.fastai/data/imdb'), model_dir='models', callback_fns=[functools.partial(<class 'fastai.basic_train.Recorder'>, add_time=True, silent=False)], callbacks=[RNNTrainer\n",
              "learn: RNNLearner(data=TextClasDataBunch;\n",
              "\n",
              "Train: LabelList (25000 items)\n",
              "x: TextList\n",
              "xxbos xxmaj this is actually a pretty bad film . xxmaj the ideology is not as perverse as in those films xxmaj collins made later . xxmaj however , my main misgivings about the film are that it is implausible and quite frankly boring for a long time . xxmaj the whole concept of an ex - xxup sas man joining terrorists for no particular reason is n't very convincing and you ca n't help wondering why a group of highly organized terrorists ( who later become pretty clueless ) fall for it . xxmaj the film starts with a pretty powerful scene but then meanders for quite a long time building up towards the great finale . xxmaj overall , i think xxmaj who dares wins could have been an interesting 45 minutes episode of xxmaj the xxmaj professionals but the story does n't carry a feature film . xxmaj although reasonably successful at the time this film initiated the demise of xxmaj collins ' career who in the eighties mainly made cheap and dubious soldier - of - fortune or army films . xxmaj pity , because he actually is quite a versatile actor but at the end of the day xxmaj martin xxmaj shaw chose his roles more carefully and has a career that 's still successful .,xxbos xxmaj kojak meets the mafia . xxmaj telly xxmaj xxunk is one of those guys from the past that seems pretty forgettable . i never thought that his show was all that great . xxmaj this is his one dimensional characterization of a crime boss , with very predictable results . xxmaj if you take the car chases and the general rambling out , there is n't much plot development or action . i find mafia movies to be dull because i have no respect or interest in common criminals and their actions . xxmaj hollywood , and in this case , the xxmaj italian cinema , treat these guys as heroes . i saw the film and in a few days i wo n't remember much about it . xxmaj lots of shooting , innocent bystanders dying , betrayal , and that sick loyalty . xxmaj the film is photographed pretty well and the acting is decent . xxmaj but the dubbing is so bad ( due to voices that just could n't come out of those bodies ) , that i almost started looking for xxmaj godzilla approaching the bay .,xxbos i must say that i am fairly disappointed by this \" horror \" movie . i did not get scared even once while watching it . xxmaj it also is not very suspenseful either xxrep 4 . i was able to guess the ending half way through the movie ... xxmaj so .. what 's left ? \n",
              " \n",
              "  \" xxmaj the xxmaj ring \" is a trully scary movie ... i wish other movies would stop copying from it ( e.g. the trade - mark : long hair ) . xxmaj please give me some originality . \n",
              " \n",
              "  xxmaj will not recommend this movie .,xxbos xxup popeye xxup and xxup big xxup foot * * ; xxup popeye xxup 's xxup engine xxup company * * ; xxup getting xxup popeye xxup 's xxup goat * * 1 / 2 \n",
              " \n",
              "  i used to lap these up as a kid but , catching an episode of the series comprising three cartoons back - to - back now i.e. several years later ( they preceded the theatrical screening of the pirate yarn xxup raiders xxup of xxup the xxup seven xxup seas [ 1953 ] ) , i can see how they do n't hold up all that well ! xxmaj the character of xxmaj popeye is n't exactly sympathetic to begin with , xxmaj olive xxmaj oyl distinctly overbearing and xxmaj bluto 's antics failed to elicit much interest either  in short , the scripts were alarmingly thin , fairly awful and generally unfunny to boot . xxmaj they 're strictly juvenile fare , yet i doubt today 's kids would even have the patience to stick with them ! ; furthermore , the animation style is unattractive . \n",
              " \n",
              "  xxmaj taking each short per se , i guess they improved from one to the other : after the initial shock , one adapted to its mediocre quality as it were , so that the third cartoon easily results in being the most enjoyable of the lot  xxmaj popeye is entrusted with a mascot army goat whose immense appetite causes him no end of mischief ( hardly original , i know , but always an amusing ploy ) . xxmaj one interesting element here was that the shorts were bookended with xxmaj popeye delivering moralistic bits of wisdom to the kids in the audience .,xxbos xxmaj this is probably the worst movie i have ever seen , ( yes it 's even worse than xxmaj dungeons and xxmaj dragons and any film starring xxmaj kevin xxmaj costner . ) \n",
              " \n",
              "  xxmaj chris xxmaj rock looked very uncomfortable throughout this whole film , and his supporting actors did n't even look like they were trying to act . xxmaj chris xxmaj rock is a wonderful stand - up comedian , but he just ca n't transfer his talent to this film , which probably only has two strained laughs in the whole picture . \n",
              " \n",
              "  xxmaj if you have n't watched this film yet , avoid it like the plague . xxmaj go do something constructive and more interesting like watching the weather channel or watching paint dry on a brick wall . \n",
              " \n",
              "  xxmaj for xxmaj chris ' efforts i give it a 2 / 10 ! \n",
              " \n",
              " \n",
              "y: CategoryList\n",
              "neg,neg,neg,neg,neg\n",
              "Path: /root/.fastai/data/imdb;\n",
              "\n",
              "Valid: LabelList (25000 items)\n",
              "x: TextList\n",
              "xxbos i watched this because of the description and cover art and yet again was deceived . i am getting sick of all these new stupid straight to xxup dvd horror movies . xxmaj once in a blue moon 1 will be xxup ok . xxmaj it started out with a confusing scene and then jumped 30 years and showed a couple one night during a thunderstorm which was xxup ok because i like storms and it set a nice mood . xxmaj then it turned into a cool road trip where they ended up at a diner encountering bizarre people . xxmaj the rest got weird and then got confusing . i did watch it til the end but was even more confused when it ended so badly . i had higher hopes for this movie but it was more like a science fiction then horror and something that should have been made for xxup tv .,xxbos xxmaj three young movie theater employees are given the task of re - opening a long closed old - time theater at which many years before a shocking series of grisly murders took place . xxmaj it seems many more murders have occurred since then but all of this remains unknown to these three young upstart employees hoping to finally make it big on their own . xxmaj as they approach the grand re - opening night , things keep getting stranger and more unsettling with items suddenly starting to move around by themselves without any seen aid and a terrifying old man seemingly haunting the premises . \n",
              " \n",
              "  xxmaj oh , this is truly horrible . xxmaj in fact , if it was n't for xxmaj mary xxmaj woronov 's secretary character being such a fiercely independent outspoken empowered young woman who steals practically every scene in which she appears and the incredibly hot chick who played the unbelievably sleazy yet totally sexy xxmaj selina , this would be a total loss . xxmaj the only other good thing i have to say about this film is some of the movie theater murders are done in truly inventive , albeit not overly gory ( a preference for me but not necessarily for others ) , fashion . xxmaj the rest just wallows in constant sleaze ( so extreme the rare few may actually find humor in it ) and runs through the predictable slasher kills annoying characters off one after the other routine .,xxbos xxup spoilers \n",
              " \n",
              "  i love movies . i 've seen a lot of movies . i did n't think i 'd ever see a film that i actually hated . xxmaj son of the xxmaj mask ruined it . xxmaj son of the xxmaj mask is so bad i 'm not even going to do a detailed comment like i usually do . xxmaj in fact , i 'm not even going to write a lot . i think all of you should know that this movie is horribly awful . xxmaj and poor xxmaj jamie xxmaj kennedy . xxmaj he was awesome in xxmaj scream , but now this film ! xxmaj also , this film takes a xxup xxunk - xxup can film and turns it into this goofy kids film that not even kids will like . xxmaj this film also consists of very rude humor . xxmaj like the nose woman . xxmaj she has a nose for a head and when she sneezes white stuff spews out of her nose . xxmaj there is also an xxmaj exorcist parody . xxmaj yes , a kid film has an adult parody . xxmaj maybe they thought the adults would like it . xxmaj quite frankly , it made the film even more cheesier and crude . \n",
              " \n",
              "  xxmaj here 's the basic , stupid plot . xxmaj tim xxmaj avery 's dog gets the amazing xxmaj loki mask and turns into a cartoon dog thing . xxmaj when xxmaj tim is paying more attention to the baby with special powers , cartoon dog becomes a xxmaj wiley xxmaj coyote ripoff . xxmaj then xxmaj loki takes the baby with amazing powers and xxmaj tim and xxmaj loki have a really cheesy animated fight . xxmaj tim 's wearing the mask . xxmaj it all ends happy . xxmaj too bad this movie is horrible . \n",
              " \n",
              "  xxmaj overall , the original the xxmaj mask was a fantastic xxmaj jim xxmaj carrey movie . xxmaj this , basically is not . xxmaj please , please , do n't rent , buy , or download this movie . i made a terrible mistake renting this . i do n't want you guys to make that same exact mistake . i feel horrible that i could n't write a detailed comment , but really , what 's there to comment on ? \n",
              " \n",
              "  2 / 10 i 'd give it a one , but come on , it 's basically a kid film . \n",
              " \n",
              "  xxmaj recommended xxmaj films : xxmaj the xxmaj mask .,xxbos xxmaj one of the few reasons to make these xxunk films is to give some actors a chance to hopefully star in better films if they 're acting is any good . xxmaj the only good thing in this movie is the acting , the three female leads are better than most horror films like this . xxmaj there 's 2 scenes that may cause an unexpected jump . \n",
              " \n",
              "  xxmaj young small children are use to crawl through holes and lay dynamite to explode mines . xxmaj when one does collapse causing a cave in all the children die , becoming zombies . xxmaj the adults in the mine stay dead , no reasons are given as why the children become flesh eaters . xxmaj when still alive they looked terrified before the cave in , innocent , so they must become enraged at any adult which exploited them int he mines ( only reason that come to mind ) . \n",
              " \n",
              "  a mother and her 2 daughters move into a house near the mine , along with a land xxunk who wants to build a resort and another of those creepy people who seem to know exactly what 's going on yet no one believes him . \n",
              " \n",
              "  xxmaj nothing new here , you 're usual clichés , predictable , a lot of negatives for this film , very few positives .,xxbos xxmaj this cosy middle class sitcom became the subject of much hatred by the new breed of talented comedians in the 1980s , such as xxmaj ben xxmaj elton . xxmaj did it deserve such malice ? xxmaj well xxmaj terry and xxmaj june was never clever , it was never a well - written tale with different threads which intersect at the conclusion . xxmaj it was the show your mother and father and probably grandparents watched . xxmaj they chuckled rather than laughed , but they were never likely to be offended by the show , so the fact that it never challenged them was immaterial . \n",
              " \n",
              "  xxmaj one xxmaj foot xxmaj in xxmaj the xxmaj grave suffered initially because it appeared at first sight to be just another xxmaj terry and xxmaj june . \n",
              " \n",
              "  a few days after the death of xxmaj terry xxmaj scott an episode was broadcast on terrestrial xxup tv , and that has been its final outing . xxmaj there have been few repeats of the show on any xxup tv channel . \n",
              " \n",
              "  xxmaj thankfully xxup tv comedy has advanced since xxmaj terry and xxmaj june . xxmaj it 's hard to find kind words for it - xxmaj terry xxmaj scott did make the best of weak scripts .\n",
              "y: CategoryList\n",
              "neg,neg,neg,neg,neg\n",
              "Path: /root/.fastai/data/imdb;\n",
              "\n",
              "Test: None, model=SequentialRNN(\n",
              "  (0): MultiBatchEncoder(\n",
              "    (module): AWD_LSTM(\n",
              "      (encoder): Embedding(49808, 400, padding_idx=1)\n",
              "      (encoder_dp): EmbeddingDropout(\n",
              "        (emb): Embedding(49808, 400, padding_idx=1)\n",
              "      )\n",
              "      (rnns): ModuleList(\n",
              "        (0): WeightDropout(\n",
              "          (module): LSTM(400, 1152, batch_first=True)\n",
              "        )\n",
              "        (1): WeightDropout(\n",
              "          (module): LSTM(1152, 1152, batch_first=True)\n",
              "        )\n",
              "        (2): WeightDropout(\n",
              "          (module): LSTM(1152, 400, batch_first=True)\n",
              "        )\n",
              "      )\n",
              "      (input_dp): RNNDropout()\n",
              "      (hidden_dps): ModuleList(\n",
              "        (0): RNNDropout()\n",
              "        (1): RNNDropout()\n",
              "        (2): RNNDropout()\n",
              "      )\n",
              "    )\n",
              "  )\n",
              "  (1): PoolingLinearClassifier(\n",
              "    (layers): Sequential(\n",
              "      (0): BatchNorm1d(1200, eps=1e-05, momentum=0.1, affine=True, track_running_stats=True)\n",
              "      (1): Dropout(p=0.2, inplace=False)\n",
              "      (2): Linear(in_features=1200, out_features=50, bias=True)\n",
              "      (3): ReLU(inplace=True)\n",
              "      (4): BatchNorm1d(50, eps=1e-05, momentum=0.1, affine=True, track_running_stats=True)\n",
              "      (5): Dropout(p=0.1, inplace=False)\n",
              "      (6): Linear(in_features=50, out_features=2, bias=True)\n",
              "    )\n",
              "  )\n",
              "), opt_func=functools.partial(<class 'torch.optim.adam.Adam'>, betas=(0.9, 0.99)), loss_func=FlattenedLoss of CrossEntropyLoss(), metrics=[<function accuracy at 0x7f92faf3f620>], true_wd=True, bn_wd=True, wd=0.01, train_bn=True, path=PosixPath('/root/.fastai/data/imdb'), model_dir='models', callback_fns=[functools.partial(<class 'fastai.basic_train.Recorder'>, add_time=True, silent=False)], callbacks=[...], layer_groups=[Sequential(\n",
              "  (0): Embedding(49808, 400, padding_idx=1)\n",
              "  (1): EmbeddingDropout(\n",
              "    (emb): Embedding(49808, 400, padding_idx=1)\n",
              "  )\n",
              "), Sequential(\n",
              "  (0): WeightDropout(\n",
              "    (module): LSTM(400, 1152, batch_first=True)\n",
              "  )\n",
              "  (1): RNNDropout()\n",
              "), Sequential(\n",
              "  (0): WeightDropout(\n",
              "    (module): LSTM(1152, 1152, batch_first=True)\n",
              "  )\n",
              "  (1): RNNDropout()\n",
              "), Sequential(\n",
              "  (0): WeightDropout(\n",
              "    (module): LSTM(1152, 400, batch_first=True)\n",
              "  )\n",
              "  (1): RNNDropout()\n",
              "), Sequential(\n",
              "  (0): PoolingLinearClassifier(\n",
              "    (layers): Sequential(\n",
              "      (0): BatchNorm1d(1200, eps=1e-05, momentum=0.1, affine=True, track_running_stats=True)\n",
              "      (1): Dropout(p=0.2, inplace=False)\n",
              "      (2): Linear(in_features=1200, out_features=50, bias=True)\n",
              "      (3): ReLU(inplace=True)\n",
              "      (4): BatchNorm1d(50, eps=1e-05, momentum=0.1, affine=True, track_running_stats=True)\n",
              "      (5): Dropout(p=0.1, inplace=False)\n",
              "      (6): Linear(in_features=50, out_features=2, bias=True)\n",
              "    )\n",
              "  )\n",
              ")], add_time=True, silent=False)\n",
              "alpha: 2.0\n",
              "beta: 1.0], layer_groups=[Sequential(\n",
              "  (0): Embedding(49808, 400, padding_idx=1)\n",
              "  (1): EmbeddingDropout(\n",
              "    (emb): Embedding(49808, 400, padding_idx=1)\n",
              "  )\n",
              "), Sequential(\n",
              "  (0): WeightDropout(\n",
              "    (module): LSTM(400, 1152, batch_first=True)\n",
              "  )\n",
              "  (1): RNNDropout()\n",
              "), Sequential(\n",
              "  (0): WeightDropout(\n",
              "    (module): LSTM(1152, 1152, batch_first=True)\n",
              "  )\n",
              "  (1): RNNDropout()\n",
              "), Sequential(\n",
              "  (0): WeightDropout(\n",
              "    (module): LSTM(1152, 400, batch_first=True)\n",
              "  )\n",
              "  (1): RNNDropout()\n",
              "), Sequential(\n",
              "  (0): PoolingLinearClassifier(\n",
              "    (layers): Sequential(\n",
              "      (0): BatchNorm1d(1200, eps=1e-05, momentum=0.1, affine=True, track_running_stats=True)\n",
              "      (1): Dropout(p=0.2, inplace=False)\n",
              "      (2): Linear(in_features=1200, out_features=50, bias=True)\n",
              "      (3): ReLU(inplace=True)\n",
              "      (4): BatchNorm1d(50, eps=1e-05, momentum=0.1, affine=True, track_running_stats=True)\n",
              "      (5): Dropout(p=0.1, inplace=False)\n",
              "      (6): Linear(in_features=50, out_features=2, bias=True)\n",
              "    )\n",
              "  )\n",
              ")], add_time=True, silent=False)"
            ]
          },
          "metadata": {
            "tags": []
          },
          "execution_count": 44
        }
      ]
    },
    {
      "cell_type": "code",
      "metadata": {
        "id": "ACpe-QuaSLyQ",
        "colab_type": "code",
        "colab": {
          "base_uri": "https://localhost:8080/",
          "height": 79
        },
        "outputId": "aa2ad98c-0c69-4146-c5d5-c7029cf6cff7"
      },
      "source": [
        "learn.freeze_to(-3)\n",
        "learn.fit_one_cycle(1,moms=(0.8,0.7))"
      ],
      "execution_count": 45,
      "outputs": [
        {
          "output_type": "display_data",
          "data": {
            "text/html": [
              "<table border=\"1\" class=\"dataframe\">\n",
              "  <thead>\n",
              "    <tr style=\"text-align: left;\">\n",
              "      <th>epoch</th>\n",
              "      <th>train_loss</th>\n",
              "      <th>valid_loss</th>\n",
              "      <th>accuracy</th>\n",
              "      <th>time</th>\n",
              "    </tr>\n",
              "  </thead>\n",
              "  <tbody>\n",
              "    <tr>\n",
              "      <td>0</td>\n",
              "      <td>0.260536</td>\n",
              "      <td>0.226813</td>\n",
              "      <td>0.909960</td>\n",
              "      <td>04:12</td>\n",
              "    </tr>\n",
              "  </tbody>\n",
              "</table>"
            ],
            "text/plain": [
              "<IPython.core.display.HTML object>"
            ]
          },
          "metadata": {
            "tags": []
          }
        }
      ]
    },
    {
      "cell_type": "code",
      "metadata": {
        "id": "LQx18WjGSLtz",
        "colab_type": "code",
        "colab": {
          "base_uri": "https://localhost:8080/",
          "height": 1000
        },
        "outputId": "4f94e21e-629c-4d4d-8b9c-58529c0699e9"
      },
      "source": [
        "learn.save('third')\n",
        "learn.load('third')"
      ],
      "execution_count": 46,
      "outputs": [
        {
          "output_type": "execute_result",
          "data": {
            "text/plain": [
              "RNNLearner(data=TextClasDataBunch;\n",
              "\n",
              "Train: LabelList (25000 items)\n",
              "x: TextList\n",
              "xxbos xxmaj this is actually a pretty bad film . xxmaj the ideology is not as perverse as in those films xxmaj collins made later . xxmaj however , my main misgivings about the film are that it is implausible and quite frankly boring for a long time . xxmaj the whole concept of an ex - xxup sas man joining terrorists for no particular reason is n't very convincing and you ca n't help wondering why a group of highly organized terrorists ( who later become pretty clueless ) fall for it . xxmaj the film starts with a pretty powerful scene but then meanders for quite a long time building up towards the great finale . xxmaj overall , i think xxmaj who dares wins could have been an interesting 45 minutes episode of xxmaj the xxmaj professionals but the story does n't carry a feature film . xxmaj although reasonably successful at the time this film initiated the demise of xxmaj collins ' career who in the eighties mainly made cheap and dubious soldier - of - fortune or army films . xxmaj pity , because he actually is quite a versatile actor but at the end of the day xxmaj martin xxmaj shaw chose his roles more carefully and has a career that 's still successful .,xxbos xxmaj kojak meets the mafia . xxmaj telly xxmaj xxunk is one of those guys from the past that seems pretty forgettable . i never thought that his show was all that great . xxmaj this is his one dimensional characterization of a crime boss , with very predictable results . xxmaj if you take the car chases and the general rambling out , there is n't much plot development or action . i find mafia movies to be dull because i have no respect or interest in common criminals and their actions . xxmaj hollywood , and in this case , the xxmaj italian cinema , treat these guys as heroes . i saw the film and in a few days i wo n't remember much about it . xxmaj lots of shooting , innocent bystanders dying , betrayal , and that sick loyalty . xxmaj the film is photographed pretty well and the acting is decent . xxmaj but the dubbing is so bad ( due to voices that just could n't come out of those bodies ) , that i almost started looking for xxmaj godzilla approaching the bay .,xxbos i must say that i am fairly disappointed by this \" horror \" movie . i did not get scared even once while watching it . xxmaj it also is not very suspenseful either xxrep 4 . i was able to guess the ending half way through the movie ... xxmaj so .. what 's left ? \n",
              " \n",
              "  \" xxmaj the xxmaj ring \" is a trully scary movie ... i wish other movies would stop copying from it ( e.g. the trade - mark : long hair ) . xxmaj please give me some originality . \n",
              " \n",
              "  xxmaj will not recommend this movie .,xxbos xxup popeye xxup and xxup big xxup foot * * ; xxup popeye xxup 's xxup engine xxup company * * ; xxup getting xxup popeye xxup 's xxup goat * * 1 / 2 \n",
              " \n",
              "  i used to lap these up as a kid but , catching an episode of the series comprising three cartoons back - to - back now i.e. several years later ( they preceded the theatrical screening of the pirate yarn xxup raiders xxup of xxup the xxup seven xxup seas [ 1953 ] ) , i can see how they do n't hold up all that well ! xxmaj the character of xxmaj popeye is n't exactly sympathetic to begin with , xxmaj olive xxmaj oyl distinctly overbearing and xxmaj bluto 's antics failed to elicit much interest either  in short , the scripts were alarmingly thin , fairly awful and generally unfunny to boot . xxmaj they 're strictly juvenile fare , yet i doubt today 's kids would even have the patience to stick with them ! ; furthermore , the animation style is unattractive . \n",
              " \n",
              "  xxmaj taking each short per se , i guess they improved from one to the other : after the initial shock , one adapted to its mediocre quality as it were , so that the third cartoon easily results in being the most enjoyable of the lot  xxmaj popeye is entrusted with a mascot army goat whose immense appetite causes him no end of mischief ( hardly original , i know , but always an amusing ploy ) . xxmaj one interesting element here was that the shorts were bookended with xxmaj popeye delivering moralistic bits of wisdom to the kids in the audience .,xxbos xxmaj this is probably the worst movie i have ever seen , ( yes it 's even worse than xxmaj dungeons and xxmaj dragons and any film starring xxmaj kevin xxmaj costner . ) \n",
              " \n",
              "  xxmaj chris xxmaj rock looked very uncomfortable throughout this whole film , and his supporting actors did n't even look like they were trying to act . xxmaj chris xxmaj rock is a wonderful stand - up comedian , but he just ca n't transfer his talent to this film , which probably only has two strained laughs in the whole picture . \n",
              " \n",
              "  xxmaj if you have n't watched this film yet , avoid it like the plague . xxmaj go do something constructive and more interesting like watching the weather channel or watching paint dry on a brick wall . \n",
              " \n",
              "  xxmaj for xxmaj chris ' efforts i give it a 2 / 10 ! \n",
              " \n",
              " \n",
              "y: CategoryList\n",
              "neg,neg,neg,neg,neg\n",
              "Path: /root/.fastai/data/imdb;\n",
              "\n",
              "Valid: LabelList (25000 items)\n",
              "x: TextList\n",
              "xxbos i watched this because of the description and cover art and yet again was deceived . i am getting sick of all these new stupid straight to xxup dvd horror movies . xxmaj once in a blue moon 1 will be xxup ok . xxmaj it started out with a confusing scene and then jumped 30 years and showed a couple one night during a thunderstorm which was xxup ok because i like storms and it set a nice mood . xxmaj then it turned into a cool road trip where they ended up at a diner encountering bizarre people . xxmaj the rest got weird and then got confusing . i did watch it til the end but was even more confused when it ended so badly . i had higher hopes for this movie but it was more like a science fiction then horror and something that should have been made for xxup tv .,xxbos xxmaj three young movie theater employees are given the task of re - opening a long closed old - time theater at which many years before a shocking series of grisly murders took place . xxmaj it seems many more murders have occurred since then but all of this remains unknown to these three young upstart employees hoping to finally make it big on their own . xxmaj as they approach the grand re - opening night , things keep getting stranger and more unsettling with items suddenly starting to move around by themselves without any seen aid and a terrifying old man seemingly haunting the premises . \n",
              " \n",
              "  xxmaj oh , this is truly horrible . xxmaj in fact , if it was n't for xxmaj mary xxmaj woronov 's secretary character being such a fiercely independent outspoken empowered young woman who steals practically every scene in which she appears and the incredibly hot chick who played the unbelievably sleazy yet totally sexy xxmaj selina , this would be a total loss . xxmaj the only other good thing i have to say about this film is some of the movie theater murders are done in truly inventive , albeit not overly gory ( a preference for me but not necessarily for others ) , fashion . xxmaj the rest just wallows in constant sleaze ( so extreme the rare few may actually find humor in it ) and runs through the predictable slasher kills annoying characters off one after the other routine .,xxbos xxup spoilers \n",
              " \n",
              "  i love movies . i 've seen a lot of movies . i did n't think i 'd ever see a film that i actually hated . xxmaj son of the xxmaj mask ruined it . xxmaj son of the xxmaj mask is so bad i 'm not even going to do a detailed comment like i usually do . xxmaj in fact , i 'm not even going to write a lot . i think all of you should know that this movie is horribly awful . xxmaj and poor xxmaj jamie xxmaj kennedy . xxmaj he was awesome in xxmaj scream , but now this film ! xxmaj also , this film takes a xxup xxunk - xxup can film and turns it into this goofy kids film that not even kids will like . xxmaj this film also consists of very rude humor . xxmaj like the nose woman . xxmaj she has a nose for a head and when she sneezes white stuff spews out of her nose . xxmaj there is also an xxmaj exorcist parody . xxmaj yes , a kid film has an adult parody . xxmaj maybe they thought the adults would like it . xxmaj quite frankly , it made the film even more cheesier and crude . \n",
              " \n",
              "  xxmaj here 's the basic , stupid plot . xxmaj tim xxmaj avery 's dog gets the amazing xxmaj loki mask and turns into a cartoon dog thing . xxmaj when xxmaj tim is paying more attention to the baby with special powers , cartoon dog becomes a xxmaj wiley xxmaj coyote ripoff . xxmaj then xxmaj loki takes the baby with amazing powers and xxmaj tim and xxmaj loki have a really cheesy animated fight . xxmaj tim 's wearing the mask . xxmaj it all ends happy . xxmaj too bad this movie is horrible . \n",
              " \n",
              "  xxmaj overall , the original the xxmaj mask was a fantastic xxmaj jim xxmaj carrey movie . xxmaj this , basically is not . xxmaj please , please , do n't rent , buy , or download this movie . i made a terrible mistake renting this . i do n't want you guys to make that same exact mistake . i feel horrible that i could n't write a detailed comment , but really , what 's there to comment on ? \n",
              " \n",
              "  2 / 10 i 'd give it a one , but come on , it 's basically a kid film . \n",
              " \n",
              "  xxmaj recommended xxmaj films : xxmaj the xxmaj mask .,xxbos xxmaj one of the few reasons to make these xxunk films is to give some actors a chance to hopefully star in better films if they 're acting is any good . xxmaj the only good thing in this movie is the acting , the three female leads are better than most horror films like this . xxmaj there 's 2 scenes that may cause an unexpected jump . \n",
              " \n",
              "  xxmaj young small children are use to crawl through holes and lay dynamite to explode mines . xxmaj when one does collapse causing a cave in all the children die , becoming zombies . xxmaj the adults in the mine stay dead , no reasons are given as why the children become flesh eaters . xxmaj when still alive they looked terrified before the cave in , innocent , so they must become enraged at any adult which exploited them int he mines ( only reason that come to mind ) . \n",
              " \n",
              "  a mother and her 2 daughters move into a house near the mine , along with a land xxunk who wants to build a resort and another of those creepy people who seem to know exactly what 's going on yet no one believes him . \n",
              " \n",
              "  xxmaj nothing new here , you 're usual clichés , predictable , a lot of negatives for this film , very few positives .,xxbos xxmaj this cosy middle class sitcom became the subject of much hatred by the new breed of talented comedians in the 1980s , such as xxmaj ben xxmaj elton . xxmaj did it deserve such malice ? xxmaj well xxmaj terry and xxmaj june was never clever , it was never a well - written tale with different threads which intersect at the conclusion . xxmaj it was the show your mother and father and probably grandparents watched . xxmaj they chuckled rather than laughed , but they were never likely to be offended by the show , so the fact that it never challenged them was immaterial . \n",
              " \n",
              "  xxmaj one xxmaj foot xxmaj in xxmaj the xxmaj grave suffered initially because it appeared at first sight to be just another xxmaj terry and xxmaj june . \n",
              " \n",
              "  a few days after the death of xxmaj terry xxmaj scott an episode was broadcast on terrestrial xxup tv , and that has been its final outing . xxmaj there have been few repeats of the show on any xxup tv channel . \n",
              " \n",
              "  xxmaj thankfully xxup tv comedy has advanced since xxmaj terry and xxmaj june . xxmaj it 's hard to find kind words for it - xxmaj terry xxmaj scott did make the best of weak scripts .\n",
              "y: CategoryList\n",
              "neg,neg,neg,neg,neg\n",
              "Path: /root/.fastai/data/imdb;\n",
              "\n",
              "Test: None, model=SequentialRNN(\n",
              "  (0): MultiBatchEncoder(\n",
              "    (module): AWD_LSTM(\n",
              "      (encoder): Embedding(49808, 400, padding_idx=1)\n",
              "      (encoder_dp): EmbeddingDropout(\n",
              "        (emb): Embedding(49808, 400, padding_idx=1)\n",
              "      )\n",
              "      (rnns): ModuleList(\n",
              "        (0): WeightDropout(\n",
              "          (module): LSTM(400, 1152, batch_first=True)\n",
              "        )\n",
              "        (1): WeightDropout(\n",
              "          (module): LSTM(1152, 1152, batch_first=True)\n",
              "        )\n",
              "        (2): WeightDropout(\n",
              "          (module): LSTM(1152, 400, batch_first=True)\n",
              "        )\n",
              "      )\n",
              "      (input_dp): RNNDropout()\n",
              "      (hidden_dps): ModuleList(\n",
              "        (0): RNNDropout()\n",
              "        (1): RNNDropout()\n",
              "        (2): RNNDropout()\n",
              "      )\n",
              "    )\n",
              "  )\n",
              "  (1): PoolingLinearClassifier(\n",
              "    (layers): Sequential(\n",
              "      (0): BatchNorm1d(1200, eps=1e-05, momentum=0.1, affine=True, track_running_stats=True)\n",
              "      (1): Dropout(p=0.2, inplace=False)\n",
              "      (2): Linear(in_features=1200, out_features=50, bias=True)\n",
              "      (3): ReLU(inplace=True)\n",
              "      (4): BatchNorm1d(50, eps=1e-05, momentum=0.1, affine=True, track_running_stats=True)\n",
              "      (5): Dropout(p=0.1, inplace=False)\n",
              "      (6): Linear(in_features=50, out_features=2, bias=True)\n",
              "    )\n",
              "  )\n",
              "), opt_func=functools.partial(<class 'torch.optim.adam.Adam'>, betas=(0.9, 0.99)), loss_func=FlattenedLoss of CrossEntropyLoss(), metrics=[<function accuracy at 0x7f92faf3f620>], true_wd=True, bn_wd=True, wd=0.01, train_bn=True, path=PosixPath('/root/.fastai/data/imdb'), model_dir='models', callback_fns=[functools.partial(<class 'fastai.basic_train.Recorder'>, add_time=True, silent=False)], callbacks=[RNNTrainer\n",
              "learn: RNNLearner(data=TextClasDataBunch;\n",
              "\n",
              "Train: LabelList (25000 items)\n",
              "x: TextList\n",
              "xxbos xxmaj this is actually a pretty bad film . xxmaj the ideology is not as perverse as in those films xxmaj collins made later . xxmaj however , my main misgivings about the film are that it is implausible and quite frankly boring for a long time . xxmaj the whole concept of an ex - xxup sas man joining terrorists for no particular reason is n't very convincing and you ca n't help wondering why a group of highly organized terrorists ( who later become pretty clueless ) fall for it . xxmaj the film starts with a pretty powerful scene but then meanders for quite a long time building up towards the great finale . xxmaj overall , i think xxmaj who dares wins could have been an interesting 45 minutes episode of xxmaj the xxmaj professionals but the story does n't carry a feature film . xxmaj although reasonably successful at the time this film initiated the demise of xxmaj collins ' career who in the eighties mainly made cheap and dubious soldier - of - fortune or army films . xxmaj pity , because he actually is quite a versatile actor but at the end of the day xxmaj martin xxmaj shaw chose his roles more carefully and has a career that 's still successful .,xxbos xxmaj kojak meets the mafia . xxmaj telly xxmaj xxunk is one of those guys from the past that seems pretty forgettable . i never thought that his show was all that great . xxmaj this is his one dimensional characterization of a crime boss , with very predictable results . xxmaj if you take the car chases and the general rambling out , there is n't much plot development or action . i find mafia movies to be dull because i have no respect or interest in common criminals and their actions . xxmaj hollywood , and in this case , the xxmaj italian cinema , treat these guys as heroes . i saw the film and in a few days i wo n't remember much about it . xxmaj lots of shooting , innocent bystanders dying , betrayal , and that sick loyalty . xxmaj the film is photographed pretty well and the acting is decent . xxmaj but the dubbing is so bad ( due to voices that just could n't come out of those bodies ) , that i almost started looking for xxmaj godzilla approaching the bay .,xxbos i must say that i am fairly disappointed by this \" horror \" movie . i did not get scared even once while watching it . xxmaj it also is not very suspenseful either xxrep 4 . i was able to guess the ending half way through the movie ... xxmaj so .. what 's left ? \n",
              " \n",
              "  \" xxmaj the xxmaj ring \" is a trully scary movie ... i wish other movies would stop copying from it ( e.g. the trade - mark : long hair ) . xxmaj please give me some originality . \n",
              " \n",
              "  xxmaj will not recommend this movie .,xxbos xxup popeye xxup and xxup big xxup foot * * ; xxup popeye xxup 's xxup engine xxup company * * ; xxup getting xxup popeye xxup 's xxup goat * * 1 / 2 \n",
              " \n",
              "  i used to lap these up as a kid but , catching an episode of the series comprising three cartoons back - to - back now i.e. several years later ( they preceded the theatrical screening of the pirate yarn xxup raiders xxup of xxup the xxup seven xxup seas [ 1953 ] ) , i can see how they do n't hold up all that well ! xxmaj the character of xxmaj popeye is n't exactly sympathetic to begin with , xxmaj olive xxmaj oyl distinctly overbearing and xxmaj bluto 's antics failed to elicit much interest either  in short , the scripts were alarmingly thin , fairly awful and generally unfunny to boot . xxmaj they 're strictly juvenile fare , yet i doubt today 's kids would even have the patience to stick with them ! ; furthermore , the animation style is unattractive . \n",
              " \n",
              "  xxmaj taking each short per se , i guess they improved from one to the other : after the initial shock , one adapted to its mediocre quality as it were , so that the third cartoon easily results in being the most enjoyable of the lot  xxmaj popeye is entrusted with a mascot army goat whose immense appetite causes him no end of mischief ( hardly original , i know , but always an amusing ploy ) . xxmaj one interesting element here was that the shorts were bookended with xxmaj popeye delivering moralistic bits of wisdom to the kids in the audience .,xxbos xxmaj this is probably the worst movie i have ever seen , ( yes it 's even worse than xxmaj dungeons and xxmaj dragons and any film starring xxmaj kevin xxmaj costner . ) \n",
              " \n",
              "  xxmaj chris xxmaj rock looked very uncomfortable throughout this whole film , and his supporting actors did n't even look like they were trying to act . xxmaj chris xxmaj rock is a wonderful stand - up comedian , but he just ca n't transfer his talent to this film , which probably only has two strained laughs in the whole picture . \n",
              " \n",
              "  xxmaj if you have n't watched this film yet , avoid it like the plague . xxmaj go do something constructive and more interesting like watching the weather channel or watching paint dry on a brick wall . \n",
              " \n",
              "  xxmaj for xxmaj chris ' efforts i give it a 2 / 10 ! \n",
              " \n",
              " \n",
              "y: CategoryList\n",
              "neg,neg,neg,neg,neg\n",
              "Path: /root/.fastai/data/imdb;\n",
              "\n",
              "Valid: LabelList (25000 items)\n",
              "x: TextList\n",
              "xxbos i watched this because of the description and cover art and yet again was deceived . i am getting sick of all these new stupid straight to xxup dvd horror movies . xxmaj once in a blue moon 1 will be xxup ok . xxmaj it started out with a confusing scene and then jumped 30 years and showed a couple one night during a thunderstorm which was xxup ok because i like storms and it set a nice mood . xxmaj then it turned into a cool road trip where they ended up at a diner encountering bizarre people . xxmaj the rest got weird and then got confusing . i did watch it til the end but was even more confused when it ended so badly . i had higher hopes for this movie but it was more like a science fiction then horror and something that should have been made for xxup tv .,xxbos xxmaj three young movie theater employees are given the task of re - opening a long closed old - time theater at which many years before a shocking series of grisly murders took place . xxmaj it seems many more murders have occurred since then but all of this remains unknown to these three young upstart employees hoping to finally make it big on their own . xxmaj as they approach the grand re - opening night , things keep getting stranger and more unsettling with items suddenly starting to move around by themselves without any seen aid and a terrifying old man seemingly haunting the premises . \n",
              " \n",
              "  xxmaj oh , this is truly horrible . xxmaj in fact , if it was n't for xxmaj mary xxmaj woronov 's secretary character being such a fiercely independent outspoken empowered young woman who steals practically every scene in which she appears and the incredibly hot chick who played the unbelievably sleazy yet totally sexy xxmaj selina , this would be a total loss . xxmaj the only other good thing i have to say about this film is some of the movie theater murders are done in truly inventive , albeit not overly gory ( a preference for me but not necessarily for others ) , fashion . xxmaj the rest just wallows in constant sleaze ( so extreme the rare few may actually find humor in it ) and runs through the predictable slasher kills annoying characters off one after the other routine .,xxbos xxup spoilers \n",
              " \n",
              "  i love movies . i 've seen a lot of movies . i did n't think i 'd ever see a film that i actually hated . xxmaj son of the xxmaj mask ruined it . xxmaj son of the xxmaj mask is so bad i 'm not even going to do a detailed comment like i usually do . xxmaj in fact , i 'm not even going to write a lot . i think all of you should know that this movie is horribly awful . xxmaj and poor xxmaj jamie xxmaj kennedy . xxmaj he was awesome in xxmaj scream , but now this film ! xxmaj also , this film takes a xxup xxunk - xxup can film and turns it into this goofy kids film that not even kids will like . xxmaj this film also consists of very rude humor . xxmaj like the nose woman . xxmaj she has a nose for a head and when she sneezes white stuff spews out of her nose . xxmaj there is also an xxmaj exorcist parody . xxmaj yes , a kid film has an adult parody . xxmaj maybe they thought the adults would like it . xxmaj quite frankly , it made the film even more cheesier and crude . \n",
              " \n",
              "  xxmaj here 's the basic , stupid plot . xxmaj tim xxmaj avery 's dog gets the amazing xxmaj loki mask and turns into a cartoon dog thing . xxmaj when xxmaj tim is paying more attention to the baby with special powers , cartoon dog becomes a xxmaj wiley xxmaj coyote ripoff . xxmaj then xxmaj loki takes the baby with amazing powers and xxmaj tim and xxmaj loki have a really cheesy animated fight . xxmaj tim 's wearing the mask . xxmaj it all ends happy . xxmaj too bad this movie is horrible . \n",
              " \n",
              "  xxmaj overall , the original the xxmaj mask was a fantastic xxmaj jim xxmaj carrey movie . xxmaj this , basically is not . xxmaj please , please , do n't rent , buy , or download this movie . i made a terrible mistake renting this . i do n't want you guys to make that same exact mistake . i feel horrible that i could n't write a detailed comment , but really , what 's there to comment on ? \n",
              " \n",
              "  2 / 10 i 'd give it a one , but come on , it 's basically a kid film . \n",
              " \n",
              "  xxmaj recommended xxmaj films : xxmaj the xxmaj mask .,xxbos xxmaj one of the few reasons to make these xxunk films is to give some actors a chance to hopefully star in better films if they 're acting is any good . xxmaj the only good thing in this movie is the acting , the three female leads are better than most horror films like this . xxmaj there 's 2 scenes that may cause an unexpected jump . \n",
              " \n",
              "  xxmaj young small children are use to crawl through holes and lay dynamite to explode mines . xxmaj when one does collapse causing a cave in all the children die , becoming zombies . xxmaj the adults in the mine stay dead , no reasons are given as why the children become flesh eaters . xxmaj when still alive they looked terrified before the cave in , innocent , so they must become enraged at any adult which exploited them int he mines ( only reason that come to mind ) . \n",
              " \n",
              "  a mother and her 2 daughters move into a house near the mine , along with a land xxunk who wants to build a resort and another of those creepy people who seem to know exactly what 's going on yet no one believes him . \n",
              " \n",
              "  xxmaj nothing new here , you 're usual clichés , predictable , a lot of negatives for this film , very few positives .,xxbos xxmaj this cosy middle class sitcom became the subject of much hatred by the new breed of talented comedians in the 1980s , such as xxmaj ben xxmaj elton . xxmaj did it deserve such malice ? xxmaj well xxmaj terry and xxmaj june was never clever , it was never a well - written tale with different threads which intersect at the conclusion . xxmaj it was the show your mother and father and probably grandparents watched . xxmaj they chuckled rather than laughed , but they were never likely to be offended by the show , so the fact that it never challenged them was immaterial . \n",
              " \n",
              "  xxmaj one xxmaj foot xxmaj in xxmaj the xxmaj grave suffered initially because it appeared at first sight to be just another xxmaj terry and xxmaj june . \n",
              " \n",
              "  a few days after the death of xxmaj terry xxmaj scott an episode was broadcast on terrestrial xxup tv , and that has been its final outing . xxmaj there have been few repeats of the show on any xxup tv channel . \n",
              " \n",
              "  xxmaj thankfully xxup tv comedy has advanced since xxmaj terry and xxmaj june . xxmaj it 's hard to find kind words for it - xxmaj terry xxmaj scott did make the best of weak scripts .\n",
              "y: CategoryList\n",
              "neg,neg,neg,neg,neg\n",
              "Path: /root/.fastai/data/imdb;\n",
              "\n",
              "Test: None, model=SequentialRNN(\n",
              "  (0): MultiBatchEncoder(\n",
              "    (module): AWD_LSTM(\n",
              "      (encoder): Embedding(49808, 400, padding_idx=1)\n",
              "      (encoder_dp): EmbeddingDropout(\n",
              "        (emb): Embedding(49808, 400, padding_idx=1)\n",
              "      )\n",
              "      (rnns): ModuleList(\n",
              "        (0): WeightDropout(\n",
              "          (module): LSTM(400, 1152, batch_first=True)\n",
              "        )\n",
              "        (1): WeightDropout(\n",
              "          (module): LSTM(1152, 1152, batch_first=True)\n",
              "        )\n",
              "        (2): WeightDropout(\n",
              "          (module): LSTM(1152, 400, batch_first=True)\n",
              "        )\n",
              "      )\n",
              "      (input_dp): RNNDropout()\n",
              "      (hidden_dps): ModuleList(\n",
              "        (0): RNNDropout()\n",
              "        (1): RNNDropout()\n",
              "        (2): RNNDropout()\n",
              "      )\n",
              "    )\n",
              "  )\n",
              "  (1): PoolingLinearClassifier(\n",
              "    (layers): Sequential(\n",
              "      (0): BatchNorm1d(1200, eps=1e-05, momentum=0.1, affine=True, track_running_stats=True)\n",
              "      (1): Dropout(p=0.2, inplace=False)\n",
              "      (2): Linear(in_features=1200, out_features=50, bias=True)\n",
              "      (3): ReLU(inplace=True)\n",
              "      (4): BatchNorm1d(50, eps=1e-05, momentum=0.1, affine=True, track_running_stats=True)\n",
              "      (5): Dropout(p=0.1, inplace=False)\n",
              "      (6): Linear(in_features=50, out_features=2, bias=True)\n",
              "    )\n",
              "  )\n",
              "), opt_func=functools.partial(<class 'torch.optim.adam.Adam'>, betas=(0.9, 0.99)), loss_func=FlattenedLoss of CrossEntropyLoss(), metrics=[<function accuracy at 0x7f92faf3f620>], true_wd=True, bn_wd=True, wd=0.01, train_bn=True, path=PosixPath('/root/.fastai/data/imdb'), model_dir='models', callback_fns=[functools.partial(<class 'fastai.basic_train.Recorder'>, add_time=True, silent=False)], callbacks=[...], layer_groups=[Sequential(\n",
              "  (0): Embedding(49808, 400, padding_idx=1)\n",
              "  (1): EmbeddingDropout(\n",
              "    (emb): Embedding(49808, 400, padding_idx=1)\n",
              "  )\n",
              "), Sequential(\n",
              "  (0): WeightDropout(\n",
              "    (module): LSTM(400, 1152, batch_first=True)\n",
              "  )\n",
              "  (1): RNNDropout()\n",
              "), Sequential(\n",
              "  (0): WeightDropout(\n",
              "    (module): LSTM(1152, 1152, batch_first=True)\n",
              "  )\n",
              "  (1): RNNDropout()\n",
              "), Sequential(\n",
              "  (0): WeightDropout(\n",
              "    (module): LSTM(1152, 400, batch_first=True)\n",
              "  )\n",
              "  (1): RNNDropout()\n",
              "), Sequential(\n",
              "  (0): PoolingLinearClassifier(\n",
              "    (layers): Sequential(\n",
              "      (0): BatchNorm1d(1200, eps=1e-05, momentum=0.1, affine=True, track_running_stats=True)\n",
              "      (1): Dropout(p=0.2, inplace=False)\n",
              "      (2): Linear(in_features=1200, out_features=50, bias=True)\n",
              "      (3): ReLU(inplace=True)\n",
              "      (4): BatchNorm1d(50, eps=1e-05, momentum=0.1, affine=True, track_running_stats=True)\n",
              "      (5): Dropout(p=0.1, inplace=False)\n",
              "      (6): Linear(in_features=50, out_features=2, bias=True)\n",
              "    )\n",
              "  )\n",
              ")], add_time=True, silent=False)\n",
              "alpha: 2.0\n",
              "beta: 1.0], layer_groups=[Sequential(\n",
              "  (0): Embedding(49808, 400, padding_idx=1)\n",
              "  (1): EmbeddingDropout(\n",
              "    (emb): Embedding(49808, 400, padding_idx=1)\n",
              "  )\n",
              "), Sequential(\n",
              "  (0): WeightDropout(\n",
              "    (module): LSTM(400, 1152, batch_first=True)\n",
              "  )\n",
              "  (1): RNNDropout()\n",
              "), Sequential(\n",
              "  (0): WeightDropout(\n",
              "    (module): LSTM(1152, 1152, batch_first=True)\n",
              "  )\n",
              "  (1): RNNDropout()\n",
              "), Sequential(\n",
              "  (0): WeightDropout(\n",
              "    (module): LSTM(1152, 400, batch_first=True)\n",
              "  )\n",
              "  (1): RNNDropout()\n",
              "), Sequential(\n",
              "  (0): PoolingLinearClassifier(\n",
              "    (layers): Sequential(\n",
              "      (0): BatchNorm1d(1200, eps=1e-05, momentum=0.1, affine=True, track_running_stats=True)\n",
              "      (1): Dropout(p=0.2, inplace=False)\n",
              "      (2): Linear(in_features=1200, out_features=50, bias=True)\n",
              "      (3): ReLU(inplace=True)\n",
              "      (4): BatchNorm1d(50, eps=1e-05, momentum=0.1, affine=True, track_running_stats=True)\n",
              "      (5): Dropout(p=0.1, inplace=False)\n",
              "      (6): Linear(in_features=50, out_features=2, bias=True)\n",
              "    )\n",
              "  )\n",
              ")], add_time=True, silent=False)"
            ]
          },
          "metadata": {
            "tags": []
          },
          "execution_count": 46
        }
      ]
    },
    {
      "cell_type": "code",
      "metadata": {
        "id": "fWYPfLmLSLpZ",
        "colab_type": "code",
        "colab": {
          "base_uri": "https://localhost:8080/",
          "height": 35
        },
        "outputId": "7f174560-bda0-4a9b-c34f-549919913f2b"
      },
      "source": [
        "learn.predict('I really loved that movie, it was awesome!')"
      ],
      "execution_count": 47,
      "outputs": [
        {
          "output_type": "execute_result",
          "data": {
            "text/plain": [
              "(Category pos, tensor(1), tensor([7.3085e-04, 9.9927e-01]))"
            ]
          },
          "metadata": {
            "tags": []
          },
          "execution_count": 47
        }
      ]
    },
    {
      "cell_type": "code",
      "metadata": {
        "id": "a72bHikaSLap",
        "colab_type": "code",
        "colab": {}
      },
      "source": [
        "learn.export('sentiment-export.pkl')"
      ],
      "execution_count": 0,
      "outputs": []
    },
    {
      "cell_type": "code",
      "metadata": {
        "id": "04CiLDxLWDW8",
        "colab_type": "code",
        "colab": {
          "base_uri": "https://localhost:8080/",
          "height": 471
        },
        "outputId": "1fb0e9ad-f864-4fb8-f350-3e5d23256cd3"
      },
      "source": [
        "from google.colab import files\n",
        "\n",
        "files.download(path/'sentiment-export.pkl')"
      ],
      "execution_count": 53,
      "outputs": [
        {
          "output_type": "stream",
          "text": [
            "----------------------------------------\n",
            "Exception happened during processing of request from ('::ffff:127.0.0.1', 55010, 0, 0)\n",
            "Traceback (most recent call last):\n",
            "  File \"/usr/lib/python3.6/socketserver.py\", line 320, in _handle_request_noblock\n",
            "    self.process_request(request, client_address)\n",
            "  File \"/usr/lib/python3.6/socketserver.py\", line 351, in process_request\n",
            "    self.finish_request(request, client_address)\n",
            "  File \"/usr/lib/python3.6/socketserver.py\", line 364, in finish_request\n",
            "    self.RequestHandlerClass(request, client_address, self)\n",
            "  File \"/usr/lib/python3.6/socketserver.py\", line 724, in __init__\n",
            "    self.handle()\n",
            "  File \"/usr/lib/python3.6/http/server.py\", line 418, in handle\n",
            "    self.handle_one_request()\n",
            "  File \"/usr/lib/python3.6/http/server.py\", line 406, in handle_one_request\n",
            "    method()\n",
            "  File \"/usr/lib/python3.6/http/server.py\", line 639, in do_GET\n",
            "    self.copyfile(f, self.wfile)\n",
            "  File \"/usr/lib/python3.6/http/server.py\", line 800, in copyfile\n",
            "    shutil.copyfileobj(source, outputfile)\n",
            "  File \"/usr/lib/python3.6/shutil.py\", line 82, in copyfileobj\n",
            "    fdst.write(buf)\n",
            "  File \"/usr/lib/python3.6/socketserver.py\", line 803, in write\n",
            "    self._sock.sendall(b)\n",
            "ConnectionResetError: [Errno 104] Connection reset by peer\n",
            "----------------------------------------\n"
          ],
          "name": "stderr"
        }
      ]
    },
    {
      "cell_type": "code",
      "metadata": {
        "id": "ENcj4d8MbV1L",
        "colab_type": "code",
        "colab": {}
      },
      "source": [
        ""
      ],
      "execution_count": 0,
      "outputs": []
    }
  ]
}