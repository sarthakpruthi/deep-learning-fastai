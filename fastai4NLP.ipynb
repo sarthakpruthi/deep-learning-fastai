{
  "nbformat": 4,
  "nbformat_minor": 0,
  "metadata": {
    "colab": {
      "name": "fastai4NLP.ipynb",
      "provenance": [],
      "collapsed_sections": [],
      "include_colab_link": true
    },
    "kernelspec": {
      "name": "python3",
      "display_name": "Python 3"
    },
    "accelerator": "GPU"
  },
  "cells": [
    {
      "cell_type": "markdown",
      "metadata": {
        "id": "view-in-github",
        "colab_type": "text"
      },
      "source": [
        "<a href=\"https://colab.research.google.com/github/sarthakpruthi/deep-learning-fastai/blob/master/fastai4NLP.ipynb\" target=\"_parent\"><img src=\"https://colab.research.google.com/assets/colab-badge.svg\" alt=\"Open In Colab\"/></a>"
      ]
    },
    {
      "cell_type": "markdown",
      "metadata": {
        "id": "3-7npSNtNdyx",
        "colab_type": "text"
      },
      "source": [
        "here we need 3 models\n",
        "\n",
        "1.language model ie already there as Wikitext103\n",
        "\n",
        "2.Language model\n",
        "\n",
        "3.Classifier"
      ]
    },
    {
      "cell_type": "code",
      "metadata": {
        "id": "M0iIwiPOV3Jb",
        "colab_type": "code",
        "colab": {}
      },
      "source": [
        "from fastai import *\n",
        "from fastai.text import *"
      ],
      "execution_count": 0,
      "outputs": []
    },
    {
      "cell_type": "code",
      "metadata": {
        "id": "52QJIXCC-Hsw",
        "colab_type": "code",
        "colab": {
          "base_uri": "https://localhost:8080/",
          "height": 52
        },
        "outputId": "0a335b64-1044-468a-f860-2104be9ba21a"
      },
      "source": [
        "paths=untar_data(URLs.IMDB_SAMPLE)\n",
        "paths.ls()"
      ],
      "execution_count": 3,
      "outputs": [
        {
          "output_type": "stream",
          "text": [
            "Downloading http://files.fast.ai/data/examples/imdb_sample\n"
          ],
          "name": "stdout"
        },
        {
          "output_type": "display_data",
          "data": {
            "text/html": [
              ""
            ],
            "text/plain": [
              "<IPython.core.display.HTML object>"
            ]
          },
          "metadata": {
            "tags": []
          }
        },
        {
          "output_type": "execute_result",
          "data": {
            "text/plain": [
              "[PosixPath('/root/.fastai/data/imdb_sample/texts.csv')]"
            ]
          },
          "metadata": {
            "tags": []
          },
          "execution_count": 3
        }
      ]
    },
    {
      "cell_type": "code",
      "metadata": {
        "id": "synw6aY1-S7A",
        "colab_type": "code",
        "colab": {
          "base_uri": "https://localhost:8080/",
          "height": 202
        },
        "outputId": "f9f71ad4-bf86-4436-8b6f-b231905b94a2"
      },
      "source": [
        "df=pd.read_csv(paths/'texts.csv')\n",
        "df.head()"
      ],
      "execution_count": 4,
      "outputs": [
        {
          "output_type": "execute_result",
          "data": {
            "text/html": [
              "<div>\n",
              "<style scoped>\n",
              "    .dataframe tbody tr th:only-of-type {\n",
              "        vertical-align: middle;\n",
              "    }\n",
              "\n",
              "    .dataframe tbody tr th {\n",
              "        vertical-align: top;\n",
              "    }\n",
              "\n",
              "    .dataframe thead th {\n",
              "        text-align: right;\n",
              "    }\n",
              "</style>\n",
              "<table border=\"1\" class=\"dataframe\">\n",
              "  <thead>\n",
              "    <tr style=\"text-align: right;\">\n",
              "      <th></th>\n",
              "      <th>label</th>\n",
              "      <th>text</th>\n",
              "      <th>is_valid</th>\n",
              "    </tr>\n",
              "  </thead>\n",
              "  <tbody>\n",
              "    <tr>\n",
              "      <th>0</th>\n",
              "      <td>negative</td>\n",
              "      <td>Un-bleeping-believable! Meg Ryan doesn't even ...</td>\n",
              "      <td>False</td>\n",
              "    </tr>\n",
              "    <tr>\n",
              "      <th>1</th>\n",
              "      <td>positive</td>\n",
              "      <td>This is a extremely well-made film. The acting...</td>\n",
              "      <td>False</td>\n",
              "    </tr>\n",
              "    <tr>\n",
              "      <th>2</th>\n",
              "      <td>negative</td>\n",
              "      <td>Every once in a long while a movie will come a...</td>\n",
              "      <td>False</td>\n",
              "    </tr>\n",
              "    <tr>\n",
              "      <th>3</th>\n",
              "      <td>positive</td>\n",
              "      <td>Name just says it all. I watched this movie wi...</td>\n",
              "      <td>False</td>\n",
              "    </tr>\n",
              "    <tr>\n",
              "      <th>4</th>\n",
              "      <td>negative</td>\n",
              "      <td>This movie succeeds at being one of the most u...</td>\n",
              "      <td>False</td>\n",
              "    </tr>\n",
              "  </tbody>\n",
              "</table>\n",
              "</div>"
            ],
            "text/plain": [
              "      label                                               text  is_valid\n",
              "0  negative  Un-bleeping-believable! Meg Ryan doesn't even ...     False\n",
              "1  positive  This is a extremely well-made film. The acting...     False\n",
              "2  negative  Every once in a long while a movie will come a...     False\n",
              "3  positive  Name just says it all. I watched this movie wi...     False\n",
              "4  negative  This movie succeeds at being one of the most u...     False"
            ]
          },
          "metadata": {
            "tags": []
          },
          "execution_count": 4
        }
      ]
    },
    {
      "cell_type": "code",
      "metadata": {
        "id": "0G5ho3KC-wgH",
        "colab_type": "code",
        "colab": {
          "base_uri": "https://localhost:8080/",
          "height": 55
        },
        "outputId": "ce8753c9-d0a9-4479-9815-d3c759bafb37"
      },
      "source": [
        "df['text'][1]"
      ],
      "execution_count": 5,
      "outputs": [
        {
          "output_type": "execute_result",
          "data": {
            "text/plain": [
              "'This is a extremely well-made film. The acting, script and camera-work are all first-rate. The music is good, too, though it is mostly early in the film, when things are still relatively cheery. There are no really superstars in the cast, though several faces will be familiar. The entire cast does an excellent job with the script.<br /><br />But it is hard to watch, because there is no good end to a situation like the one presented. It is now fashionable to blame the British for setting Hindus and Muslims against each other, and then cruelly separating them into two countries. There is some merit in this view, but it\\'s also true that no one forced Hindus and Muslims in the region to mistreat each other as they did around the time of partition. It seems more likely that the British simply saw the tensions between the religions and were clever enough to exploit them to their own ends.<br /><br />The result is that there is much cruelty and inhumanity in the situation and this is very unpleasant to remember and to see on the screen. But it is never painted as a black-and-white case. There is baseness and nobility on both sides, and also the hope for change in the younger generation.<br /><br />There is redemption of a sort, in the end, when Puro has to make a hard choice between a man who has ruined her life, but also truly loved her, and her family which has disowned her, then later come looking for her. But by that point, she has no option that is without great pain for her.<br /><br />This film carries the message that both Muslims and Hindus have their grave faults, and also that both can be dignified and caring people. The reality of partition makes that realisation all the more wrenching, since there can never be real reconciliation across the India/Pakistan border. In that sense, it is similar to \"Mr & Mrs Iyer\".<br /><br />In the end, we were glad to have seen the film, even though the resolution was heartbreaking. If the UK and US could deal with their own histories of racism with this kind of frankness, they would certainly be better off.'"
            ]
          },
          "metadata": {
            "tags": []
          },
          "execution_count": 5
        }
      ]
    },
    {
      "cell_type": "code",
      "metadata": {
        "id": "LTVnKj6nBIUD",
        "colab_type": "code",
        "colab": {
          "base_uri": "https://localhost:8080/",
          "height": 17
        },
        "outputId": "e09630aa-63be-4185-ee7f-73c13093437e"
      },
      "source": [
        "data_lm=TextLMDataBunch.from_csv(paths,'texts.csv')"
      ],
      "execution_count": 6,
      "outputs": [
        {
          "output_type": "display_data",
          "data": {
            "text/html": [
              ""
            ],
            "text/plain": [
              "<IPython.core.display.HTML object>"
            ]
          },
          "metadata": {
            "tags": []
          }
        },
        {
          "output_type": "display_data",
          "data": {
            "text/html": [
              ""
            ],
            "text/plain": [
              "<IPython.core.display.HTML object>"
            ]
          },
          "metadata": {
            "tags": []
          }
        }
      ]
    },
    {
      "cell_type": "code",
      "metadata": {
        "id": "765SNyGOCQad",
        "colab_type": "code",
        "colab": {
          "base_uri": "https://localhost:8080/",
          "height": 323
        },
        "outputId": "314ca342-91e4-4f38-e6e4-e96499acac6d"
      },
      "source": [
        "data_lm.show_batch()"
      ],
      "execution_count": 7,
      "outputs": [
        {
          "output_type": "display_data",
          "data": {
            "text/html": [
              "<table border=\"1\" class=\"dataframe\">\n",
              "  <thead>\n",
              "    <tr style=\"text-align: right;\">\n",
              "      <th>idx</th>\n",
              "      <th>text</th>\n",
              "    </tr>\n",
              "  </thead>\n",
              "  <tbody>\n",
              "    <tr>\n",
              "      <td>0</td>\n",
              "      <td>bet the studios are still trying figure out how they could screw up up so badly . \\n \\n  xxmaj the absolute best thing about this movie was xxmaj stacey xxmaj dash ... the xxmaj asian chick was n't too bad neither . xxmaj these too gals carried the whole movie . xxmaj if it were n't for them i would have destroyed my copy of this movie .</td>\n",
              "    </tr>\n",
              "    <tr>\n",
              "      <td>1</td>\n",
              "      <td>lake was just another show to entertain the xxunk trailer park mother with a xxmaj xxunk cigarette hanging out of her mouth while breast feeding one of her dozens of toothless , illiterate children . xxmaj the xxmaj english language and other xxunk of mankind where ruined by this shows existence . xxmaj xxunk xxunk from xxmaj girl you a xxmaj xxunk xxmaj head and so on . xxmaj how</td>\n",
              "    </tr>\n",
              "    <tr>\n",
              "      <td>2</td>\n",
              "      <td>a friend . xxmaj so what ? xxmaj get over it ! xxmaj the only good part and i do n't want to sound mean - spirited was when the fox got shot and died at the end . i laughed my head off in xxunk because this cartoon sucked so much . xxmaj the bad news is the fox xxunk and becomes a ghost . i wish he had</td>\n",
              "    </tr>\n",
              "    <tr>\n",
              "      <td>3</td>\n",
              "      <td>wrote , edited and directed ) and xxmaj joey xxmaj xxunk -- not exactly names that scream out \" quality \" . xxmaj and with such xxunk skits as \" xxmaj xxunk taking a xxunk \" ( it 's exactly what it sounds like ) , a guy who robs a xxunk bank ( the \" xxmaj rhymer \" ) , xxunk with a rotting corpse , black market xxunk</td>\n",
              "    </tr>\n",
              "    <tr>\n",
              "      <td>4</td>\n",
              "      <td>xxmaj then comes the convent , which is a pretty difficult scene to screw up . xxmaj thankfully , it was saved . xxmaj after this three minutes of accuracy , however , the movie again begins to xxunk towards xxmaj classic xxmaj novel xxmaj xxunk . \\n \\n  xxmaj as xxmaj cosette and xxmaj valjean are riding through the park , they come across xxmaj marius giving a</td>\n",
              "    </tr>\n",
              "  </tbody>\n",
              "</table>"
            ],
            "text/plain": [
              "<IPython.core.display.HTML object>"
            ]
          },
          "metadata": {
            "tags": []
          }
        }
      ]
    },
    {
      "cell_type": "code",
      "metadata": {
        "id": "8wDQ8puiCTS5",
        "colab_type": "code",
        "colab": {}
      },
      "source": [
        "data_lm.save()"
      ],
      "execution_count": 0,
      "outputs": []
    },
    {
      "cell_type": "markdown",
      "metadata": {
        "id": "1L4NyPktCr9J",
        "colab_type": "text"
      },
      "source": [
        "Tokenization"
      ]
    },
    {
      "cell_type": "code",
      "metadata": {
        "id": "5RX49_rtCfst",
        "colab_type": "code",
        "colab": {
          "base_uri": "https://localhost:8080/",
          "height": 17
        },
        "outputId": "f3d51c8b-4f3a-4831-9f9e-9a74adcaf141"
      },
      "source": [
        "data_clas=TextClasDataBunch.from_csv(paths,'texts.csv')"
      ],
      "execution_count": 9,
      "outputs": [
        {
          "output_type": "display_data",
          "data": {
            "text/html": [
              ""
            ],
            "text/plain": [
              "<IPython.core.display.HTML object>"
            ]
          },
          "metadata": {
            "tags": []
          }
        },
        {
          "output_type": "display_data",
          "data": {
            "text/html": [
              ""
            ],
            "text/plain": [
              "<IPython.core.display.HTML object>"
            ]
          },
          "metadata": {
            "tags": []
          }
        }
      ]
    },
    {
      "cell_type": "code",
      "metadata": {
        "id": "sUFDb1CxC4Fu",
        "colab_type": "code",
        "colab": {
          "base_uri": "https://localhost:8080/",
          "height": 306
        },
        "outputId": "57751867-859a-4dce-e902-bc42b13f3cdc"
      },
      "source": [
        "data_clas.show_batch()"
      ],
      "execution_count": 10,
      "outputs": [
        {
          "output_type": "display_data",
          "data": {
            "text/html": [
              "<table border=\"1\" class=\"dataframe\">\n",
              "  <thead>\n",
              "    <tr style=\"text-align: right;\">\n",
              "      <th>text</th>\n",
              "      <th>target</th>\n",
              "    </tr>\n",
              "  </thead>\n",
              "  <tbody>\n",
              "    <tr>\n",
              "      <td>xxbos xxup the xxup shop xxup around xxup the xxup corner is one of the sweetest and most feel - good romantic comedies ever made . xxmaj there 's just no getting around that , and it 's hard to actually put one 's feeling for this film into words . xxmaj it 's not one of those films that tries too hard , nor does it come up with</td>\n",
              "      <td>positive</td>\n",
              "    </tr>\n",
              "    <tr>\n",
              "      <td>xxbos xxmaj now that xxmaj che(2008 ) has finished its relatively short xxmaj australian cinema run ( extremely limited xxunk screen in xxmaj sydney , after xxunk ) , i can xxunk join both xxunk of \" xxmaj at xxmaj the xxmaj movies \" in taking xxmaj steven xxmaj soderbergh to task . \\n \\n  xxmaj it 's usually satisfying to watch a film director change his style /</td>\n",
              "      <td>negative</td>\n",
              "    </tr>\n",
              "    <tr>\n",
              "      <td>xxbos xxmaj many neglect that this is n't just a classic due to the fact that it 's the first xxup 3d game , or even the first xxunk - up . xxmaj it 's also one of the first stealth games , one of the xxunk definitely the first ) truly claustrophobic games , and just a pretty well - rounded gaming experience in general . xxmaj with graphics</td>\n",
              "      <td>positive</td>\n",
              "    </tr>\n",
              "    <tr>\n",
              "      <td>xxbos i really wanted to love this show . i truly , honestly did . \\n \\n  xxmaj for the first time , gay viewers get their own version of the \" xxmaj the xxmaj bachelor \" . xxmaj with the help of his obligatory \" hag \" xxmaj xxunk , xxmaj james , a good looking , well - to - do thirty - something has the chance</td>\n",
              "      <td>negative</td>\n",
              "    </tr>\n",
              "    <tr>\n",
              "      <td>xxbos \\n \\n  i 'm sure things did n't exactly go the same way in the real life of xxmaj homer xxmaj hickam as they did in the film adaptation of his book , xxmaj rocket xxmaj boys , but the movie \" xxmaj october xxmaj sky \" ( an xxunk of the book 's title ) is good enough to stand alone . i have not read xxmaj</td>\n",
              "      <td>positive</td>\n",
              "    </tr>\n",
              "  </tbody>\n",
              "</table>"
            ],
            "text/plain": [
              "<IPython.core.display.HTML object>"
            ]
          },
          "metadata": {
            "tags": []
          }
        }
      ]
    },
    {
      "cell_type": "code",
      "metadata": {
        "id": "RG0sM4bGPFH5",
        "colab_type": "code",
        "colab": {}
      },
      "source": [
        "# xxfld: This is a special thing where if you've got like title, summary, abstract, body, (i. e. separate parts of a document),\n",
        "# each one will get a separate field and so they will get numbered (e.g. xxfld 2).\n",
        "# xxup: If there's something in all caps, it gets lower cased and a token called xxup will get added to it."
      ],
      "execution_count": 0,
      "outputs": []
    },
    {
      "cell_type": "markdown",
      "metadata": {
        "id": "GCK8Dk58LHbA",
        "colab_type": "text"
      },
      "source": [
        "Numericalization"
      ]
    },
    {
      "cell_type": "code",
      "metadata": {
        "id": "ATw6x-c0C9vy",
        "colab_type": "code",
        "colab": {
          "base_uri": "https://localhost:8080/",
          "height": 191
        },
        "outputId": "3dcb5082-4149-42f8-8c11-7234cbb6c9a0"
      },
      "source": [
        "data_clas.vocab.itos[:10]"
      ],
      "execution_count": 11,
      "outputs": [
        {
          "output_type": "execute_result",
          "data": {
            "text/plain": [
              "['xxunk',\n",
              " 'xxpad',\n",
              " 'xxbos',\n",
              " 'xxeos',\n",
              " 'xxfld',\n",
              " 'xxmaj',\n",
              " 'xxup',\n",
              " 'xxrep',\n",
              " 'xxwrep',\n",
              " 'the']"
            ]
          },
          "metadata": {
            "tags": []
          },
          "execution_count": 11
        }
      ]
    },
    {
      "cell_type": "code",
      "metadata": {
        "id": "1cy9fyqALY5l",
        "colab_type": "code",
        "colab": {
          "base_uri": "https://localhost:8080/",
          "height": 228
        },
        "outputId": "fa7d7318-9872-4da5-f671-b611125dc00a"
      },
      "source": [
        "data_clas.train_ds[0][0]"
      ],
      "execution_count": 12,
      "outputs": [
        {
          "output_type": "execute_result",
          "data": {
            "text/plain": [
              "Text xxbos xxmaj although a film with xxmaj bruce xxmaj willis is always worth watching , you better skip this one . i watched this one on television , so i did n't have to xxunk down cash for it . xxmaj lucky me . \n",
              " \n",
              "  xxmaj the plot develops slowly , very slowly . xxmaj although the first 30 minutes or so are quite believable , it gets more and more unbelievable towards the end . xxmaj it is highly questionable , if a seasoned soldier like xxmaj lt . xxmaj waters would disobey direct orders . xxmaj and even if he would , if the rest of his platoon would . xxmaj they know he puts them in direct danger , and they know they will certainly die if they follow him , but what the heck , he is our xxmaj lt . so let 's do what he says ( despite the direct orders , remember ) . \n",
              " \n",
              "  xxmaj still , there are some nice scenes in this movie . xxmaj they somewhat save a village , where the total population is being xxunk by the rebels . xxmaj well , they save a dozen xxunk or so , the rest was already killed . xxmaj the strange part of it , that they did take the trucks which the rebels left behind . xxmaj they rather go on foot . xxmaj maybe because the roads are unsafe , but there was no explanation for it . xxmaj anyway . i think this was what earned the movie the one point i gave it . \n",
              " \n",
              "  xxmaj what made this movie an insult to the brain and hence completely unbelievable is that a group of 7 soldiers can kill of so many rebels without being hurt or killed themselves . xxmaj only near the end they loose a few comrades . xxmaj and that is only because they have to fight of an army of nearly 500 or more . xxmaj can you believe that ? \n",
              " \n",
              "  xxmaj they fight of an army of so many , kill hundreds of them , and only loose a few of themselves . xxmaj and they have rounds and round of ammo . xxmaj never run out of it . xxmaj grenades and xxunk mines , an xxup xxunk machine gun and even an xxup xxunk . xxmaj where do they get this stuff . xxmaj carrying it around or what ? xxmaj they even got a laptop which shows them the activity of enemy rebels . xxmaj and this laptop has a xxunk which goes on for days . xxmaj really ? xxmaj who think up this crap . \n",
              " \n",
              "  i guess if you turn off your brain completely and accept that the rebels are a bunch of idiots , you give this movie a high rating . xxmaj if not , skip this one . xxmaj it saves you time ."
            ]
          },
          "metadata": {
            "tags": []
          },
          "execution_count": 12
        }
      ]
    },
    {
      "cell_type": "code",
      "metadata": {
        "id": "45N6JOcOMGKt",
        "colab_type": "code",
        "colab": {
          "base_uri": "https://localhost:8080/",
          "height": 35
        },
        "outputId": "950eaeb0-7f61-48a7-8d55-927ae4125802"
      },
      "source": [
        "data_clas.train_ds[0][0].data[:10]"
      ],
      "execution_count": 13,
      "outputs": [
        {
          "output_type": "execute_result",
          "data": {
            "text/plain": [
              "array([   2,    5,  331,   13,   32,   30,    5, 2778,    5, 3221])"
            ]
          },
          "metadata": {
            "tags": []
          },
          "execution_count": 13
        }
      ]
    },
    {
      "cell_type": "code",
      "metadata": {
        "id": "eJoOLNK2NIpn",
        "colab_type": "code",
        "colab": {}
      },
      "source": [
        "#this does both tokenization and numericalization"
      ],
      "execution_count": 0,
      "outputs": []
    },
    {
      "cell_type": "code",
      "metadata": {
        "id": "uXnvWdHPNhU1",
        "colab_type": "code",
        "colab": {
          "base_uri": "https://localhost:8080/",
          "height": 17
        },
        "outputId": "108debb8-36b5-4e8f-ff82-23dd08431169"
      },
      "source": [
        "#  data=(TextList.from_csv(path,'texts.csv',col='text')\n",
        "#                          .split_from_df(col=2)\n",
        "#                          .label_from_df(cols=0)\n",
        "#                          .databunch())\n",
        "#this generates error\n",
        " data_lm = (TextList.from_csv(paths, 'texts.csv', cols='text')\n",
        "           #Where are the text? Column 'text' of texts.csv\n",
        "           .split_by_rand_pct()\n",
        "           #How to split it? Randomly with the default 20% in valid\n",
        "           .label_for_lm()\n",
        "           #Label it for a language model\n",
        "           .databunch())\n",
        "           #Finally we convert to a DataBunch"
      ],
      "execution_count": 15,
      "outputs": [
        {
          "output_type": "display_data",
          "data": {
            "text/html": [
              ""
            ],
            "text/plain": [
              "<IPython.core.display.HTML object>"
            ]
          },
          "metadata": {
            "tags": []
          }
        },
        {
          "output_type": "display_data",
          "data": {
            "text/html": [
              ""
            ],
            "text/plain": [
              "<IPython.core.display.HTML object>"
            ]
          },
          "metadata": {
            "tags": []
          }
        }
      ]
    },
    {
      "cell_type": "code",
      "metadata": {
        "id": "_w02RzGuPeIr",
        "colab_type": "code",
        "colab": {
          "base_uri": "https://localhost:8080/",
          "height": 156
        },
        "outputId": "157905d9-8531-44a7-b8d4-c95a431249f1"
      },
      "source": [
        "path=untar_data(URLs.IMDB)\n",
        "path.ls()"
      ],
      "execution_count": 2,
      "outputs": [
        {
          "output_type": "stream",
          "text": [
            "Downloading https://s3.amazonaws.com/fast-ai-nlp/imdb\n"
          ],
          "name": "stdout"
        },
        {
          "output_type": "display_data",
          "data": {
            "text/html": [
              ""
            ],
            "text/plain": [
              "<IPython.core.display.HTML object>"
            ]
          },
          "metadata": {
            "tags": []
          }
        },
        {
          "output_type": "execute_result",
          "data": {
            "text/plain": [
              "[PosixPath('/root/.fastai/data/imdb/tmp_clas'),\n",
              " PosixPath('/root/.fastai/data/imdb/tmp_lm'),\n",
              " PosixPath('/root/.fastai/data/imdb/train'),\n",
              " PosixPath('/root/.fastai/data/imdb/README'),\n",
              " PosixPath('/root/.fastai/data/imdb/imdb.vocab'),\n",
              " PosixPath('/root/.fastai/data/imdb/test'),\n",
              " PosixPath('/root/.fastai/data/imdb/unsup')]"
            ]
          },
          "metadata": {
            "tags": []
          },
          "execution_count": 2
        }
      ]
    },
    {
      "cell_type": "code",
      "metadata": {
        "id": "qexaOLVuSivd",
        "colab_type": "code",
        "colab": {
          "base_uri": "https://localhost:8080/",
          "height": 87
        },
        "outputId": "06fb5f62-d13f-4f87-891d-908ab76017b0"
      },
      "source": [
        "(path/'train').ls()"
      ],
      "execution_count": 17,
      "outputs": [
        {
          "output_type": "execute_result",
          "data": {
            "text/plain": [
              "[PosixPath('/root/.fastai/data/imdb/train/unsupBow.feat'),\n",
              " PosixPath('/root/.fastai/data/imdb/train/labeledBow.feat'),\n",
              " PosixPath('/root/.fastai/data/imdb/train/neg'),\n",
              " PosixPath('/root/.fastai/data/imdb/train/pos')]"
            ]
          },
          "metadata": {
            "tags": []
          },
          "execution_count": 17
        }
      ]
    },
    {
      "cell_type": "code",
      "metadata": {
        "id": "eV5J5_CnSulh",
        "colab_type": "code",
        "colab": {
          "base_uri": "https://localhost:8080/",
          "height": 17
        },
        "outputId": "c8c35d05-6e5c-476e-91c9-f305f885a9bf"
      },
      "source": [
        "data_lm=(TextList.from_folder(path)\n",
        "                  .filter_by_folder(include=['train','test'])\n",
        "                  .split_by_rand_pct(0.1)\n",
        "                  .label_for_lm()\n",
        "                  .databunch())"
      ],
      "execution_count": 4,
      "outputs": [
        {
          "output_type": "display_data",
          "data": {
            "text/html": [
              ""
            ],
            "text/plain": [
              "<IPython.core.display.HTML object>"
            ]
          },
          "metadata": {
            "tags": []
          }
        },
        {
          "output_type": "display_data",
          "data": {
            "text/html": [
              ""
            ],
            "text/plain": [
              "<IPython.core.display.HTML object>"
            ]
          },
          "metadata": {
            "tags": []
          }
        }
      ]
    },
    {
      "cell_type": "code",
      "metadata": {
        "id": "iRGDHzL-UtWk",
        "colab_type": "code",
        "colab": {}
      },
      "source": [
        "data_lm.save('tm_lm')"
      ],
      "execution_count": 0,
      "outputs": []
    },
    {
      "cell_type": "code",
      "metadata": {
        "id": "FtKzT4rjLcSl",
        "colab_type": "code",
        "colab": {
          "base_uri": "https://localhost:8080/",
          "height": 341
        },
        "outputId": "d92b7c2a-6067-4dcb-c61c-8df7c0d75b99"
      },
      "source": [
        "data_lm.show_batch()"
      ],
      "execution_count": 20,
      "outputs": [
        {
          "output_type": "display_data",
          "data": {
            "text/html": [
              "<table border=\"1\" class=\"dataframe\">\n",
              "  <thead>\n",
              "    <tr style=\"text-align: right;\">\n",
              "      <th>idx</th>\n",
              "      <th>text</th>\n",
              "    </tr>\n",
              "  </thead>\n",
              "  <tbody>\n",
              "    <tr>\n",
              "      <td>0</td>\n",
              "      <td>and you ca n't help wondering why a group of highly organized terrorists ( who later become pretty clueless ) fall for it . xxmaj the film starts with a pretty powerful scene but then meanders for quite a long time building up towards the great finale . xxmaj overall , i think xxmaj who dares wins could have been an interesting 45 minutes episode of xxmaj the xxmaj professionals</td>\n",
              "    </tr>\n",
              "    <tr>\n",
              "      <td>1</td>\n",
              "      <td>her friends wanted to see it over xxmaj happy xxmaj feet . \\n \\n  ... i never saw xxmaj happy xxmaj feet , but i am sure it is better than this ... movie ? xxmaj anyway , we did n't actually expect it to be good ... we actually went in just to laugh at it . xxmaj cool with me ... i have a problem with ruining</td>\n",
              "    </tr>\n",
              "    <tr>\n",
              "      <td>2</td>\n",
              "      <td>bunch that you do n't really care what happens to them . xxmaj the disjointed story should have focused more on the spirit than that of these bland characters who have one unconvincing group relationship . xxmaj it just overplayed its cards by becoming overly muddled and taking too long to get going that when it comes to the climax it 's just plain ludicrous . xxmaj the film 's</td>\n",
              "    </tr>\n",
              "    <tr>\n",
              "      <td>3</td>\n",
              "      <td>amusing though unsophisticated nature . i think that 's where the problem lies - xxmaj the gags are n't all that amusing with the unsophisticated nature starting to show its age . xxmaj did we need another movie that uses a man dressed up as a woman in order to drive the plot ? xxmaj perhaps the worst criticism i can make is that i saw xxup carry xxup on</td>\n",
              "    </tr>\n",
              "    <tr>\n",
              "      <td>4</td>\n",
              "      <td>xxup dreamscapes can only be seen as the absolute nadir of the genre that began so xxunk with xxup the xxup twilight xxup zone and xxup the xxup outer xxup limits . \\n \\n  xxmaj of course , part of the problem is that it does nothing to be of any interest to a comparatively adult audience , instead aiming at xxup ten - xxup year - xxup olds</td>\n",
              "    </tr>\n",
              "  </tbody>\n",
              "</table>"
            ],
            "text/plain": [
              "<IPython.core.display.HTML object>"
            ]
          },
          "metadata": {
            "tags": []
          }
        }
      ]
    },
    {
      "cell_type": "code",
      "metadata": {
        "id": "BfH2ZJ85LpcK",
        "colab_type": "code",
        "colab": {
          "base_uri": "https://localhost:8080/",
          "height": 35
        },
        "outputId": "a9bb21ec-d21a-4df6-aa87-7260432deedc"
      },
      "source": [
        "#not working\n",
        "#learn = language_model_learner(data_lm,arch=AWD_LSTM, drop_mult=0.3)\n",
        "#learn = language_model_learner(data_lm, pretrained_model=URLs.WT103_FWD, drop_mult=0.3)\n",
        "learn = language_model_learner(data_lm, AWD_LSTM)\n",
        "\n",
        "\n",
        "#language model is a model that learns to predict what would be next word of a sentence"
      ],
      "execution_count": 13,
      "outputs": [
        {
          "output_type": "stream",
          "text": [
            "Downloading https://s3.amazonaws.com/fast-ai-modelzoo/wt103-fwd\n"
          ],
          "name": "stdout"
        },
        {
          "output_type": "display_data",
          "data": {
            "text/html": [
              ""
            ],
            "text/plain": [
              "<IPython.core.display.HTML object>"
            ]
          },
          "metadata": {
            "tags": []
          }
        }
      ]
    },
    {
      "cell_type": "code",
      "metadata": {
        "id": "UG4EtC79MRAT",
        "colab_type": "code",
        "colab": {
          "base_uri": "https://localhost:8080/",
          "height": 35
        },
        "outputId": "599747b8-c9e5-40e9-d3e9-67a5f7cbabff"
      },
      "source": [
        "learn.lr_find()"
      ],
      "execution_count": 22,
      "outputs": [
        {
          "output_type": "display_data",
          "data": {
            "text/html": [
              ""
            ],
            "text/plain": [
              "<IPython.core.display.HTML object>"
            ]
          },
          "metadata": {
            "tags": []
          }
        },
        {
          "output_type": "stream",
          "text": [
            "LR Finder is complete, type {learner_name}.recorder.plot() to see the graph.\n"
          ],
          "name": "stdout"
        }
      ]
    },
    {
      "cell_type": "code",
      "metadata": {
        "id": "CHcQqnaKMQ80",
        "colab_type": "code",
        "colab": {
          "base_uri": "https://localhost:8080/",
          "height": 279
        },
        "outputId": "84a07d89-b3fb-4e22-8ed2-73c8e9f2ce49"
      },
      "source": [
        "learn.recorder.plot(skip_end=15)"
      ],
      "execution_count": 23,
      "outputs": [
        {
          "output_type": "display_data",
          "data": {
            "image/png": "[encoded data removed]",
            "text/plain": [
              "<Figure size 432x288 with 1 Axes>"
            ]
          },
          "metadata": {
            "tags": []
          }
        }
      ]
    },
    {
      "cell_type": "code",
      "metadata": {
        "id": "6bMay-D3MQ5f",
        "colab_type": "code",
        "colab": {
          "base_uri": "https://localhost:8080/",
          "height": 79
        },
        "outputId": "23e3298f-f064-4a4c-c529-2dabe8187837"
      },
      "source": [
        "learn.fit_one_cycle(1,slice(4e-3,1e-2),moms=(0.8,0.7))"
      ],
      "execution_count": 30,
      "outputs": [
        {
          "output_type": "display_data",
          "data": {
            "text/html": [
              "<table border=\"1\" class=\"dataframe\">\n",
              "  <thead>\n",
              "    <tr style=\"text-align: left;\">\n",
              "      <th>epoch</th>\n",
              "      <th>train_loss</th>\n",
              "      <th>valid_loss</th>\n",
              "      <th>accuracy</th>\n",
              "      <th>time</th>\n",
              "    </tr>\n",
              "  </thead>\n",
              "  <tbody>\n",
              "    <tr>\n",
              "      <td>0</td>\n",
              "      <td>4.100799</td>\n",
              "      <td>3.894364</td>\n",
              "      <td>0.310306</td>\n",
              "      <td>21:13</td>\n",
              "    </tr>\n",
              "  </tbody>\n",
              "</table>"
            ],
            "text/plain": [
              "<IPython.core.display.HTML object>"
            ]
          },
          "metadata": {
            "tags": []
          }
        }
      ]
    },
    {
      "cell_type": "code",
      "metadata": {
        "id": "i5Nj3TepM6LA",
        "colab_type": "code",
        "colab": {}
      },
      "source": [
        "learn.save('fit_head')"
      ],
      "execution_count": 0,
      "outputs": []
    },
    {
      "cell_type": "code",
      "metadata": {
        "id": "E2Uocl4jM5-9",
        "colab_type": "code",
        "colab": {
          "base_uri": "https://localhost:8080/",
          "height": 1000
        },
        "outputId": "7a06b951-07a2-4e7b-a995-7eb91695a1b7"
      },
      "source": [
        "learn.load('fit_head')"
      ],
      "execution_count": 26,
      "outputs": [
        {
          "output_type": "execute_result",
          "data": {
            "text/plain": [
              "LanguageLearner(data=TextLMDataBunch;\n",
              "\n",
              "Train: LabelList (45000 items)\n",
              "x: LMTextList\n",
              "xxbos xxmaj this is actually a pretty bad film . xxmaj the ideology is not as perverse as in those films xxmaj collins made later . xxmaj however , my main misgivings about the film are that it is implausible and quite frankly boring for a long time . xxmaj the whole concept of an ex - xxup sas man joining terrorists for no particular reason is n't very convincing and you ca n't help wondering why a group of highly organized terrorists ( who later become pretty clueless ) fall for it . xxmaj the film starts with a pretty powerful scene but then meanders for quite a long time building up towards the great finale . xxmaj overall , i think xxmaj who dares wins could have been an interesting 45 minutes episode of xxmaj the xxmaj professionals but the story does n't carry a feature film . xxmaj although reasonably successful at the time this film initiated the demise of xxmaj collins ' career who in the eighties mainly made cheap and dubious soldier - of - fortune or army films . xxmaj pity , because he actually is quite a versatile actor but at the end of the day xxmaj martin xxmaj shaw chose his roles more carefully and has a career that 's still successful .,xxbos xxmaj kojak meets the mafia . xxmaj telly xxmaj xxunk is one of those guys from the past that seems pretty forgettable . i never thought that his show was all that great . xxmaj this is his one dimensional characterization of a crime boss , with very predictable results . xxmaj if you take the car chases and the general rambling out , there is n't much plot development or action . i find mafia movies to be dull because i have no respect or interest in common criminals and their actions . xxmaj hollywood , and in this case , the xxmaj italian cinema , treat these guys as heroes . i saw the film and in a few days i wo n't remember much about it . xxmaj lots of shooting , innocent bystanders dying , betrayal , and that sick loyalty . xxmaj the film is photographed pretty well and the acting is decent . xxmaj but the dubbing is so bad ( due to voices that just could n't come out of those bodies ) , that i almost started looking for xxmaj godzilla approaching the bay .,xxbos i must say that i am fairly disappointed by this \" horror \" movie . i did not get scared even once while watching it . xxmaj it also is not very suspenseful either xxrep 4 . i was able to guess the ending half way through the movie ... xxmaj so .. what 's left ? \n",
              " \n",
              "  \" xxmaj the xxmaj ring \" is a trully scary movie ... i wish other movies would stop copying from it ( e.g. the trade - mark : long hair ) . xxmaj please give me some originality . \n",
              " \n",
              "  xxmaj will not recommend this movie .,xxbos xxup popeye xxup and xxup big xxup foot * * ; xxup popeye xxup 's xxup engine xxup company * * ; xxup getting xxup popeye xxup 's xxup goat * * 1 / 2 \n",
              " \n",
              "  i used to lap these up as a kid but , catching an episode of the series comprising three cartoons back - to - back now i.e. several years later ( they preceded the theatrical screening of the pirate yarn xxup raiders xxup of xxup the xxup seven xxup seas [ 1953 ] ) , i can see how they do n't hold up all that well ! xxmaj the character of xxmaj popeye is n't exactly sympathetic to begin with , xxmaj olive xxmaj oyl distinctly overbearing and xxmaj bluto 's antics failed to elicit much interest either  in short , the scripts were alarmingly thin , fairly awful and generally unfunny to boot . xxmaj they 're strictly juvenile fare , yet i doubt today 's kids would even have the patience to stick with them ! ; furthermore , the animation style is unattractive . \n",
              " \n",
              "  xxmaj taking each short per se , i guess they improved from one to the other : after the initial shock , one adapted to its mediocre quality as it were , so that the third cartoon easily results in being the most enjoyable of the lot  xxmaj popeye is entrusted with a mascot army goat whose immense appetite causes him no end of mischief ( hardly original , i know , but always an amusing ploy ) . xxmaj one interesting element here was that the shorts were bookended with xxmaj popeye delivering moralistic bits of wisdom to the kids in the audience .,xxbos xxmaj this is probably the worst movie i have ever seen , ( yes it 's even worse than xxmaj dungeons and xxmaj dragons and any film starring xxmaj kevin xxmaj costner . ) \n",
              " \n",
              "  xxmaj chris xxmaj rock looked very uncomfortable throughout this whole film , and his supporting actors did n't even look like they were trying to act . xxmaj chris xxmaj rock is a wonderful stand - up comedian , but he just ca n't transfer his talent to this film , which probably only has two strained laughs in the whole picture . \n",
              " \n",
              "  xxmaj if you have n't watched this film yet , avoid it like the plague . xxmaj go do something constructive and more interesting like watching the weather channel or watching paint dry on a brick wall . \n",
              " \n",
              "  xxmaj for xxmaj chris ' efforts i give it a 2 / 10 ! \n",
              " \n",
              " \n",
              "y: LMLabelList\n",
              ",,,,\n",
              "Path: /root/.fastai/data/imdb;\n",
              "\n",
              "Valid: LabelList (5000 items)\n",
              "x: LMTextList\n",
              "xxbos xxmaj well , the movie is basically about the last days of a specific xxmaj russian regiment stationed in xxmaj xxunk , before the main troop withdrawal in 1985 . xxmaj the movie accurately portrays the grim realities of xxmaj russian army that have made it infamous : \" xxunk \" ( officers and xxunk physically harassing , beating and humiliating younger recruits ) , mixed character of war ( you can trade with your enemy one day and kill him the next ) , life of women at the front lines , documentary footages of helicopter assaults , and coffins being xxunk and sent home in heave xxup xxunk xxmaj hercules class xxmaj russian cargo planes with xxunk to jam xxmaj stinger missiles , fatigue , boredom , anti - war sentiment , emotional side simply put . xxmaj the there 's some action scenes , but they are poorly done , and often are illogical , like xxmaj major xxmaj bandura 's suicidal walk and turning of his back to 10-year - old kid armed with xxup ak-47 who 's father he just killed . xxmaj also the fact that in the middle of firefight in the mountains heavy grenade launcher pops out of nowhere ( and any half - bright person knows that it 's virtually impossible to hump 40 - 50 xxunk launcher on the march anyone ) . xxmaj but at the same time films shows that war is a dirty affair , where murder is sometimes xxunk , wanton destruction of whole villages for little or no reason is normal , indiscriminate killing of civilians is overlooked as collateral damage inevitable during war ... xxmaj some food for thought as to why xxmaj afghan war as lost .. xxmaj not the best war movie made , but profound and intelligent enough to be worth watching .,xxbos ' xxmaj dead xxmaj letter xxmaj office ' is a low - budget film about a couple of employees of the xxmaj australian postal service , struggling to rebuild their damaged lives . xxmaj unfortunately , the acting is poor and the links between the characters ' past misfortunes and present mindsets are clumsily and over - xxunk represented . xxmaj what 's most disappointing of all , however , is the portrayal is life in the office of the film 's title : there 's no mechanisation whatsoever , and it 's quite impossible to ascertain what any of the staff really do for a living . xxmaj granted , part of the plot is that the office is threatened with closure , but this sort of office surely closed in the 1930s , if it ever truly existed . xxmaj it 's a shame , as the film 's overall tone is poignant and wry , and there 's some promise in the scenario : but few of the details convince . xxmaj overall , it feels the work of someone who has n't actually experienced much of real life ; a student film , with a concept and an outline , but sadly little else .,xxbos xxmaj this movie is absurd . xxmaj absolutely terrible . xxmaj michael xxmaj keaton and xxmaj andy xxmaj garcia must really have needed the work to do this movie . xxmaj the plot is totally not believable ! xxmaj michael xxmaj keaton agrees to donate bone marrow to the dying son of a detective , but then escapes . xxmaj he manages to elude the police throughout the hospital - not believable that he would have so much knowledge of the hospital . xxmaj he takes an extremely convoluted route to get out of the hospital , blowing up the power generators and a xxunk bridge ( why ? ) . xxmaj and to top that xxmaj andy xxmaj garcia ( father of the dying boy ) and a doctor help the criminal so as to get the bone marrow . xxmaj the plot is such baloney ! xxmaj maybe the worse movie i have ever see .,xxbos xxmaj if i had never seen an episode of the original xxmaj avengers , with xxmaj xxunk , xxmaj rigg , or xxmaj xxunk , i would have appreciated this series more . xxmaj while the cast did its best to sustain the action and interest of the scripts , i was just caught up in comparing the episodes to the original series . xxmaj there was an expectation of xxmaj steed participating more in fight scenes , and the continuity seemed as though the writers were struggling to keep up with the actors . xxmaj to be honest , i ca n't blame them for trying to resurrect the fans from the original series , but it just did n't work , as evidenced by the fact that it lasted one season . xxmaj watching xxmaj steed labor through this series reminded me of xxmaj gen. xxmaj macarthur when he said , ' xxmaj old soldiers never die , they just fade away ! ',xxbos xxmaj as an avid xxmaj gone xxmaj with the xxmaj wind fan , i was disappointed to watch the original movie and see that they had left out many important characters . xxmaj luckily , the film on its own was a wonderful piece . xxmaj when the book xxmaj scarlett came out , i read it in hopes of following two of my favorite literary characters farther on their journey together . xxmaj while the book lacks any true quality , it remains a good story , and , as long as i was able to separate it from the original , was and still is enjoyable . xxmaj however , i consider the six hours i spent watching the \" xxmaj scarlett \" miniseries to be some of the worst - spent hours of my life . xxmaj discrediting any of the original character traits so well - formed in xxmaj margaret xxmaj mitchell 's book , this series also turned the story of the sequel into one of rape , mistrust , murder , and misformed relationships that even the book xxmaj scarlett stayed away from . xxmaj the casting for many of the characters refused to examine the traits that had been so well - formed in both the original novel and film , and even carried through in the second book , and again leaves out at least one incredibly crucial character . xxmaj in the novel , xxmaj scarlett o'hara xxmaj butler follows her estranged husband xxmaj rhett xxmaj butler to xxmaj charleston under the guise of visiting extended family . xxmaj after coming to an \" arrangement \" with xxmaj rhett , she agrees to leave , and proceeds to reconnect with her o'hara relatives in xxmaj savannah . xxmaj eventually , she accompanies her cousin xxmaj colum , a passionate leader of the xxmaj fenian xxmaj brotherhood , to xxmaj ireland , to further explore her family 's \" roots that go deep , \" and is eventually named \" xxmaj the o'hara , \" the head of the family . xxmaj while her duties as xxmaj the o'hara keep her engaged in her town of xxmaj ballyhara , xxmaj scarlett ventures out into the world of the xxmaj english landowners , and instantly becomes a sought - after guest at many of their parties . xxmaj she , having been scorned by xxmaj rhett time and time again , eventually agrees to marry xxmaj luke , the earl of xxmaj fenton , until xxmaj rhett comes along in a clichéd \" night - on - white - horse \" - type of a rescue . xxmaj the \" xxmaj scarlett \" miniseries fails even to do this justice . xxmaj raped by her fiancé and scorned by her family , the series shows xxmaj scarlett thrown in jail after she is blamed for a murder her cousin committed . \n",
              " \n",
              "  i heartily advise anyone considering spending their day watching this to rethink this decision .\n",
              "y: LMLabelList\n",
              ",,,,\n",
              "Path: /root/.fastai/data/imdb;\n",
              "\n",
              "Test: None, model=SequentialRNN(\n",
              "  (0): AWD_LSTM(\n",
              "    (encoder): Embedding(49784, 400, padding_idx=1)\n",
              "    (encoder_dp): EmbeddingDropout(\n",
              "      (emb): Embedding(49784, 400, padding_idx=1)\n",
              "    )\n",
              "    (rnns): ModuleList(\n",
              "      (0): WeightDropout(\n",
              "        (module): LSTM(400, 1152, batch_first=True)\n",
              "      )\n",
              "      (1): WeightDropout(\n",
              "        (module): LSTM(1152, 1152, batch_first=True)\n",
              "      )\n",
              "      (2): WeightDropout(\n",
              "        (module): LSTM(1152, 400, batch_first=True)\n",
              "      )\n",
              "    )\n",
              "    (input_dp): RNNDropout()\n",
              "    (hidden_dps): ModuleList(\n",
              "      (0): RNNDropout()\n",
              "      (1): RNNDropout()\n",
              "      (2): RNNDropout()\n",
              "    )\n",
              "  )\n",
              "  (1): LinearDecoder(\n",
              "    (decoder): Linear(in_features=400, out_features=49784, bias=True)\n",
              "    (output_dp): RNNDropout()\n",
              "  )\n",
              "), opt_func=functools.partial(<class 'torch.optim.adam.Adam'>, betas=(0.9, 0.99)), loss_func=FlattenedLoss of CrossEntropyLoss(), metrics=[<function accuracy at 0x7fc7968b0d90>], true_wd=True, bn_wd=True, wd=0.01, train_bn=True, path=PosixPath('/root/.fastai/data/imdb'), model_dir='models', callback_fns=[functools.partial(<class 'fastai.basic_train.Recorder'>, add_time=True, silent=False)], callbacks=[RNNTrainer\n",
              "learn: LanguageLearner(data=TextLMDataBunch;\n",
              "\n",
              "Train: LabelList (45000 items)\n",
              "x: LMTextList\n",
              "xxbos xxmaj this is actually a pretty bad film . xxmaj the ideology is not as perverse as in those films xxmaj collins made later . xxmaj however , my main misgivings about the film are that it is implausible and quite frankly boring for a long time . xxmaj the whole concept of an ex - xxup sas man joining terrorists for no particular reason is n't very convincing and you ca n't help wondering why a group of highly organized terrorists ( who later become pretty clueless ) fall for it . xxmaj the film starts with a pretty powerful scene but then meanders for quite a long time building up towards the great finale . xxmaj overall , i think xxmaj who dares wins could have been an interesting 45 minutes episode of xxmaj the xxmaj professionals but the story does n't carry a feature film . xxmaj although reasonably successful at the time this film initiated the demise of xxmaj collins ' career who in the eighties mainly made cheap and dubious soldier - of - fortune or army films . xxmaj pity , because he actually is quite a versatile actor but at the end of the day xxmaj martin xxmaj shaw chose his roles more carefully and has a career that 's still successful .,xxbos xxmaj kojak meets the mafia . xxmaj telly xxmaj xxunk is one of those guys from the past that seems pretty forgettable . i never thought that his show was all that great . xxmaj this is his one dimensional characterization of a crime boss , with very predictable results . xxmaj if you take the car chases and the general rambling out , there is n't much plot development or action . i find mafia movies to be dull because i have no respect or interest in common criminals and their actions . xxmaj hollywood , and in this case , the xxmaj italian cinema , treat these guys as heroes . i saw the film and in a few days i wo n't remember much about it . xxmaj lots of shooting , innocent bystanders dying , betrayal , and that sick loyalty . xxmaj the film is photographed pretty well and the acting is decent . xxmaj but the dubbing is so bad ( due to voices that just could n't come out of those bodies ) , that i almost started looking for xxmaj godzilla approaching the bay .,xxbos i must say that i am fairly disappointed by this \" horror \" movie . i did not get scared even once while watching it . xxmaj it also is not very suspenseful either xxrep 4 . i was able to guess the ending half way through the movie ... xxmaj so .. what 's left ? \n",
              " \n",
              "  \" xxmaj the xxmaj ring \" is a trully scary movie ... i wish other movies would stop copying from it ( e.g. the trade - mark : long hair ) . xxmaj please give me some originality . \n",
              " \n",
              "  xxmaj will not recommend this movie .,xxbos xxup popeye xxup and xxup big xxup foot * * ; xxup popeye xxup 's xxup engine xxup company * * ; xxup getting xxup popeye xxup 's xxup goat * * 1 / 2 \n",
              " \n",
              "  i used to lap these up as a kid but , catching an episode of the series comprising three cartoons back - to - back now i.e. several years later ( they preceded the theatrical screening of the pirate yarn xxup raiders xxup of xxup the xxup seven xxup seas [ 1953 ] ) , i can see how they do n't hold up all that well ! xxmaj the character of xxmaj popeye is n't exactly sympathetic to begin with , xxmaj olive xxmaj oyl distinctly overbearing and xxmaj bluto 's antics failed to elicit much interest either  in short , the scripts were alarmingly thin , fairly awful and generally unfunny to boot . xxmaj they 're strictly juvenile fare , yet i doubt today 's kids would even have the patience to stick with them ! ; furthermore , the animation style is unattractive . \n",
              " \n",
              "  xxmaj taking each short per se , i guess they improved from one to the other : after the initial shock , one adapted to its mediocre quality as it were , so that the third cartoon easily results in being the most enjoyable of the lot  xxmaj popeye is entrusted with a mascot army goat whose immense appetite causes him no end of mischief ( hardly original , i know , but always an amusing ploy ) . xxmaj one interesting element here was that the shorts were bookended with xxmaj popeye delivering moralistic bits of wisdom to the kids in the audience .,xxbos xxmaj this is probably the worst movie i have ever seen , ( yes it 's even worse than xxmaj dungeons and xxmaj dragons and any film starring xxmaj kevin xxmaj costner . ) \n",
              " \n",
              "  xxmaj chris xxmaj rock looked very uncomfortable throughout this whole film , and his supporting actors did n't even look like they were trying to act . xxmaj chris xxmaj rock is a wonderful stand - up comedian , but he just ca n't transfer his talent to this film , which probably only has two strained laughs in the whole picture . \n",
              " \n",
              "  xxmaj if you have n't watched this film yet , avoid it like the plague . xxmaj go do something constructive and more interesting like watching the weather channel or watching paint dry on a brick wall . \n",
              " \n",
              "  xxmaj for xxmaj chris ' efforts i give it a 2 / 10 ! \n",
              " \n",
              " \n",
              "y: LMLabelList\n",
              ",,,,\n",
              "Path: /root/.fastai/data/imdb;\n",
              "\n",
              "Valid: LabelList (5000 items)\n",
              "x: LMTextList\n",
              "xxbos xxmaj well , the movie is basically about the last days of a specific xxmaj russian regiment stationed in xxmaj xxunk , before the main troop withdrawal in 1985 . xxmaj the movie accurately portrays the grim realities of xxmaj russian army that have made it infamous : \" xxunk \" ( officers and xxunk physically harassing , beating and humiliating younger recruits ) , mixed character of war ( you can trade with your enemy one day and kill him the next ) , life of women at the front lines , documentary footages of helicopter assaults , and coffins being xxunk and sent home in heave xxup xxunk xxmaj hercules class xxmaj russian cargo planes with xxunk to jam xxmaj stinger missiles , fatigue , boredom , anti - war sentiment , emotional side simply put . xxmaj the there 's some action scenes , but they are poorly done , and often are illogical , like xxmaj major xxmaj bandura 's suicidal walk and turning of his back to 10-year - old kid armed with xxup ak-47 who 's father he just killed . xxmaj also the fact that in the middle of firefight in the mountains heavy grenade launcher pops out of nowhere ( and any half - bright person knows that it 's virtually impossible to hump 40 - 50 xxunk launcher on the march anyone ) . xxmaj but at the same time films shows that war is a dirty affair , where murder is sometimes xxunk , wanton destruction of whole villages for little or no reason is normal , indiscriminate killing of civilians is overlooked as collateral damage inevitable during war ... xxmaj some food for thought as to why xxmaj afghan war as lost .. xxmaj not the best war movie made , but profound and intelligent enough to be worth watching .,xxbos ' xxmaj dead xxmaj letter xxmaj office ' is a low - budget film about a couple of employees of the xxmaj australian postal service , struggling to rebuild their damaged lives . xxmaj unfortunately , the acting is poor and the links between the characters ' past misfortunes and present mindsets are clumsily and over - xxunk represented . xxmaj what 's most disappointing of all , however , is the portrayal is life in the office of the film 's title : there 's no mechanisation whatsoever , and it 's quite impossible to ascertain what any of the staff really do for a living . xxmaj granted , part of the plot is that the office is threatened with closure , but this sort of office surely closed in the 1930s , if it ever truly existed . xxmaj it 's a shame , as the film 's overall tone is poignant and wry , and there 's some promise in the scenario : but few of the details convince . xxmaj overall , it feels the work of someone who has n't actually experienced much of real life ; a student film , with a concept and an outline , but sadly little else .,xxbos xxmaj this movie is absurd . xxmaj absolutely terrible . xxmaj michael xxmaj keaton and xxmaj andy xxmaj garcia must really have needed the work to do this movie . xxmaj the plot is totally not believable ! xxmaj michael xxmaj keaton agrees to donate bone marrow to the dying son of a detective , but then escapes . xxmaj he manages to elude the police throughout the hospital - not believable that he would have so much knowledge of the hospital . xxmaj he takes an extremely convoluted route to get out of the hospital , blowing up the power generators and a xxunk bridge ( why ? ) . xxmaj and to top that xxmaj andy xxmaj garcia ( father of the dying boy ) and a doctor help the criminal so as to get the bone marrow . xxmaj the plot is such baloney ! xxmaj maybe the worse movie i have ever see .,xxbos xxmaj if i had never seen an episode of the original xxmaj avengers , with xxmaj xxunk , xxmaj rigg , or xxmaj xxunk , i would have appreciated this series more . xxmaj while the cast did its best to sustain the action and interest of the scripts , i was just caught up in comparing the episodes to the original series . xxmaj there was an expectation of xxmaj steed participating more in fight scenes , and the continuity seemed as though the writers were struggling to keep up with the actors . xxmaj to be honest , i ca n't blame them for trying to resurrect the fans from the original series , but it just did n't work , as evidenced by the fact that it lasted one season . xxmaj watching xxmaj steed labor through this series reminded me of xxmaj gen. xxmaj macarthur when he said , ' xxmaj old soldiers never die , they just fade away ! ',xxbos xxmaj as an avid xxmaj gone xxmaj with the xxmaj wind fan , i was disappointed to watch the original movie and see that they had left out many important characters . xxmaj luckily , the film on its own was a wonderful piece . xxmaj when the book xxmaj scarlett came out , i read it in hopes of following two of my favorite literary characters farther on their journey together . xxmaj while the book lacks any true quality , it remains a good story , and , as long as i was able to separate it from the original , was and still is enjoyable . xxmaj however , i consider the six hours i spent watching the \" xxmaj scarlett \" miniseries to be some of the worst - spent hours of my life . xxmaj discrediting any of the original character traits so well - formed in xxmaj margaret xxmaj mitchell 's book , this series also turned the story of the sequel into one of rape , mistrust , murder , and misformed relationships that even the book xxmaj scarlett stayed away from . xxmaj the casting for many of the characters refused to examine the traits that had been so well - formed in both the original novel and film , and even carried through in the second book , and again leaves out at least one incredibly crucial character . xxmaj in the novel , xxmaj scarlett o'hara xxmaj butler follows her estranged husband xxmaj rhett xxmaj butler to xxmaj charleston under the guise of visiting extended family . xxmaj after coming to an \" arrangement \" with xxmaj rhett , she agrees to leave , and proceeds to reconnect with her o'hara relatives in xxmaj savannah . xxmaj eventually , she accompanies her cousin xxmaj colum , a passionate leader of the xxmaj fenian xxmaj brotherhood , to xxmaj ireland , to further explore her family 's \" roots that go deep , \" and is eventually named \" xxmaj the o'hara , \" the head of the family . xxmaj while her duties as xxmaj the o'hara keep her engaged in her town of xxmaj ballyhara , xxmaj scarlett ventures out into the world of the xxmaj english landowners , and instantly becomes a sought - after guest at many of their parties . xxmaj she , having been scorned by xxmaj rhett time and time again , eventually agrees to marry xxmaj luke , the earl of xxmaj fenton , until xxmaj rhett comes along in a clichéd \" night - on - white - horse \" - type of a rescue . xxmaj the \" xxmaj scarlett \" miniseries fails even to do this justice . xxmaj raped by her fiancé and scorned by her family , the series shows xxmaj scarlett thrown in jail after she is blamed for a murder her cousin committed . \n",
              " \n",
              "  i heartily advise anyone considering spending their day watching this to rethink this decision .\n",
              "y: LMLabelList\n",
              ",,,,\n",
              "Path: /root/.fastai/data/imdb;\n",
              "\n",
              "Test: None, model=SequentialRNN(\n",
              "  (0): AWD_LSTM(\n",
              "    (encoder): Embedding(49784, 400, padding_idx=1)\n",
              "    (encoder_dp): EmbeddingDropout(\n",
              "      (emb): Embedding(49784, 400, padding_idx=1)\n",
              "    )\n",
              "    (rnns): ModuleList(\n",
              "      (0): WeightDropout(\n",
              "        (module): LSTM(400, 1152, batch_first=True)\n",
              "      )\n",
              "      (1): WeightDropout(\n",
              "        (module): LSTM(1152, 1152, batch_first=True)\n",
              "      )\n",
              "      (2): WeightDropout(\n",
              "        (module): LSTM(1152, 400, batch_first=True)\n",
              "      )\n",
              "    )\n",
              "    (input_dp): RNNDropout()\n",
              "    (hidden_dps): ModuleList(\n",
              "      (0): RNNDropout()\n",
              "      (1): RNNDropout()\n",
              "      (2): RNNDropout()\n",
              "    )\n",
              "  )\n",
              "  (1): LinearDecoder(\n",
              "    (decoder): Linear(in_features=400, out_features=49784, bias=True)\n",
              "    (output_dp): RNNDropout()\n",
              "  )\n",
              "), opt_func=functools.partial(<class 'torch.optim.adam.Adam'>, betas=(0.9, 0.99)), loss_func=FlattenedLoss of CrossEntropyLoss(), metrics=[<function accuracy at 0x7fc7968b0d90>], true_wd=True, bn_wd=True, wd=0.01, train_bn=True, path=PosixPath('/root/.fastai/data/imdb'), model_dir='models', callback_fns=[functools.partial(<class 'fastai.basic_train.Recorder'>, add_time=True, silent=False)], callbacks=[...], layer_groups=[Sequential(\n",
              "  (0): WeightDropout(\n",
              "    (module): LSTM(400, 1152, batch_first=True)\n",
              "  )\n",
              "  (1): RNNDropout()\n",
              "), Sequential(\n",
              "  (0): WeightDropout(\n",
              "    (module): LSTM(1152, 1152, batch_first=True)\n",
              "  )\n",
              "  (1): RNNDropout()\n",
              "), Sequential(\n",
              "  (0): WeightDropout(\n",
              "    (module): LSTM(1152, 400, batch_first=True)\n",
              "  )\n",
              "  (1): RNNDropout()\n",
              "), Sequential(\n",
              "  (0): Embedding(49784, 400, padding_idx=1)\n",
              "  (1): EmbeddingDropout(\n",
              "    (emb): Embedding(49784, 400, padding_idx=1)\n",
              "  )\n",
              "  (2): LinearDecoder(\n",
              "    (decoder): Linear(in_features=400, out_features=49784, bias=True)\n",
              "    (output_dp): RNNDropout()\n",
              "  )\n",
              ")], add_time=True, silent=False)\n",
              "alpha: 2.0\n",
              "beta: 1.0], layer_groups=[Sequential(\n",
              "  (0): WeightDropout(\n",
              "    (module): LSTM(400, 1152, batch_first=True)\n",
              "  )\n",
              "  (1): RNNDropout()\n",
              "), Sequential(\n",
              "  (0): WeightDropout(\n",
              "    (module): LSTM(1152, 1152, batch_first=True)\n",
              "  )\n",
              "  (1): RNNDropout()\n",
              "), Sequential(\n",
              "  (0): WeightDropout(\n",
              "    (module): LSTM(1152, 400, batch_first=True)\n",
              "  )\n",
              "  (1): RNNDropout()\n",
              "), Sequential(\n",
              "  (0): Embedding(49784, 400, padding_idx=1)\n",
              "  (1): EmbeddingDropout(\n",
              "    (emb): Embedding(49784, 400, padding_idx=1)\n",
              "  )\n",
              "  (2): LinearDecoder(\n",
              "    (decoder): Linear(in_features=400, out_features=49784, bias=True)\n",
              "    (output_dp): RNNDropout()\n",
              "  )\n",
              ")], add_time=True, silent=False)"
            ]
          },
          "metadata": {
            "tags": []
          },
          "execution_count": 26
        }
      ]
    },
    {
      "cell_type": "code",
      "metadata": {
        "id": "w1_ZRCDjMQ1u",
        "colab_type": "code",
        "colab": {}
      },
      "source": [
        "learn.unfreeze()"
      ],
      "execution_count": 0,
      "outputs": []
    },
    {
      "cell_type": "code",
      "metadata": {
        "id": "qV3CqgOgwi3w",
        "colab_type": "code",
        "colab": {
          "base_uri": "https://localhost:8080/",
          "height": 35
        },
        "outputId": "8e65d941-7da5-4c44-e9cb-61ba1a49acbb"
      },
      "source": [
        "learn.lr_find()"
      ],
      "execution_count": 28,
      "outputs": [
        {
          "output_type": "display_data",
          "data": {
            "text/html": [
              ""
            ],
            "text/plain": [
              "<IPython.core.display.HTML object>"
            ]
          },
          "metadata": {
            "tags": []
          }
        },
        {
          "output_type": "stream",
          "text": [
            "LR Finder is complete, type {learner_name}.recorder.plot() to see the graph.\n"
          ],
          "name": "stdout"
        }
      ]
    },
    {
      "cell_type": "code",
      "metadata": {
        "id": "qBoJbd44wmqx",
        "colab_type": "code",
        "colab": {
          "base_uri": "https://localhost:8080/",
          "height": 279
        },
        "outputId": "077a39d8-ca12-4fdf-b0c1-68f620e2ad6b"
      },
      "source": [
        "learn.recorder.plot()"
      ],
      "execution_count": 29,
      "outputs": [
        {
          "output_type": "display_data",
          "data": {
            "image/png": "[encoded data removed]",
            "text/plain": [
              "<Figure size 432x288 with 1 Axes>"
            ]
          },
          "metadata": {
            "tags": []
          }
        }
      ]
    },
    {
      "cell_type": "code",
      "metadata": {
        "id": "4XaluhuzMQh0",
        "colab_type": "code",
        "colab": {
          "base_uri": "https://localhost:8080/",
          "height": 79
        },
        "outputId": "13e64fe4-5a62-43b1-80cf-763e5fdf0d2d"
      },
      "source": [
        "learn.fit_one_cycle(1,slice(1e-5,1e-4))"
      ],
      "execution_count": 31,
      "outputs": [
        {
          "output_type": "display_data",
          "data": {
            "text/html": [
              "<table border=\"1\" class=\"dataframe\">\n",
              "  <thead>\n",
              "    <tr style=\"text-align: left;\">\n",
              "      <th>epoch</th>\n",
              "      <th>train_loss</th>\n",
              "      <th>valid_loss</th>\n",
              "      <th>accuracy</th>\n",
              "      <th>time</th>\n",
              "    </tr>\n",
              "  </thead>\n",
              "  <tbody>\n",
              "    <tr>\n",
              "      <td>0</td>\n",
              "      <td>3.978091</td>\n",
              "      <td>3.883215</td>\n",
              "      <td>0.311309</td>\n",
              "      <td>21:14</td>\n",
              "    </tr>\n",
              "  </tbody>\n",
              "</table>"
            ],
            "text/plain": [
              "<IPython.core.display.HTML object>"
            ]
          },
          "metadata": {
            "tags": []
          }
        }
      ]
    },
    {
      "cell_type": "code",
      "metadata": {
        "id": "gBVcmKT5M3du",
        "colab_type": "code",
        "colab": {}
      },
      "source": [
        "learn.save('fine_tuned')"
      ],
      "execution_count": 0,
      "outputs": []
    },
    {
      "cell_type": "code",
      "metadata": {
        "id": "JtxwRecqM3ZW",
        "colab_type": "code",
        "colab": {
          "base_uri": "https://localhost:8080/",
          "height": 1000
        },
        "outputId": "f2ea05ee-bf13-4f4b-9201-56c0309ffd8a"
      },
      "source": [
        "learn.load('fine_tuned')"
      ],
      "execution_count": 33,
      "outputs": [
        {
          "output_type": "execute_result",
          "data": {
            "text/plain": [
              "LanguageLearner(data=TextLMDataBunch;\n",
              "\n",
              "Train: LabelList (45000 items)\n",
              "x: LMTextList\n",
              "xxbos xxmaj this is actually a pretty bad film . xxmaj the ideology is not as perverse as in those films xxmaj collins made later . xxmaj however , my main misgivings about the film are that it is implausible and quite frankly boring for a long time . xxmaj the whole concept of an ex - xxup sas man joining terrorists for no particular reason is n't very convincing and you ca n't help wondering why a group of highly organized terrorists ( who later become pretty clueless ) fall for it . xxmaj the film starts with a pretty powerful scene but then meanders for quite a long time building up towards the great finale . xxmaj overall , i think xxmaj who dares wins could have been an interesting 45 minutes episode of xxmaj the xxmaj professionals but the story does n't carry a feature film . xxmaj although reasonably successful at the time this film initiated the demise of xxmaj collins ' career who in the eighties mainly made cheap and dubious soldier - of - fortune or army films . xxmaj pity , because he actually is quite a versatile actor but at the end of the day xxmaj martin xxmaj shaw chose his roles more carefully and has a career that 's still successful .,xxbos xxmaj kojak meets the mafia . xxmaj telly xxmaj xxunk is one of those guys from the past that seems pretty forgettable . i never thought that his show was all that great . xxmaj this is his one dimensional characterization of a crime boss , with very predictable results . xxmaj if you take the car chases and the general rambling out , there is n't much plot development or action . i find mafia movies to be dull because i have no respect or interest in common criminals and their actions . xxmaj hollywood , and in this case , the xxmaj italian cinema , treat these guys as heroes . i saw the film and in a few days i wo n't remember much about it . xxmaj lots of shooting , innocent bystanders dying , betrayal , and that sick loyalty . xxmaj the film is photographed pretty well and the acting is decent . xxmaj but the dubbing is so bad ( due to voices that just could n't come out of those bodies ) , that i almost started looking for xxmaj godzilla approaching the bay .,xxbos i must say that i am fairly disappointed by this \" horror \" movie . i did not get scared even once while watching it . xxmaj it also is not very suspenseful either xxrep 4 . i was able to guess the ending half way through the movie ... xxmaj so .. what 's left ? \n",
              " \n",
              "  \" xxmaj the xxmaj ring \" is a trully scary movie ... i wish other movies would stop copying from it ( e.g. the trade - mark : long hair ) . xxmaj please give me some originality . \n",
              " \n",
              "  xxmaj will not recommend this movie .,xxbos xxup popeye xxup and xxup big xxup foot * * ; xxup popeye xxup 's xxup engine xxup company * * ; xxup getting xxup popeye xxup 's xxup goat * * 1 / 2 \n",
              " \n",
              "  i used to lap these up as a kid but , catching an episode of the series comprising three cartoons back - to - back now i.e. several years later ( they preceded the theatrical screening of the pirate yarn xxup raiders xxup of xxup the xxup seven xxup seas [ 1953 ] ) , i can see how they do n't hold up all that well ! xxmaj the character of xxmaj popeye is n't exactly sympathetic to begin with , xxmaj olive xxmaj oyl distinctly overbearing and xxmaj bluto 's antics failed to elicit much interest either  in short , the scripts were alarmingly thin , fairly awful and generally unfunny to boot . xxmaj they 're strictly juvenile fare , yet i doubt today 's kids would even have the patience to stick with them ! ; furthermore , the animation style is unattractive . \n",
              " \n",
              "  xxmaj taking each short per se , i guess they improved from one to the other : after the initial shock , one adapted to its mediocre quality as it were , so that the third cartoon easily results in being the most enjoyable of the lot  xxmaj popeye is entrusted with a mascot army goat whose immense appetite causes him no end of mischief ( hardly original , i know , but always an amusing ploy ) . xxmaj one interesting element here was that the shorts were bookended with xxmaj popeye delivering moralistic bits of wisdom to the kids in the audience .,xxbos xxmaj this is probably the worst movie i have ever seen , ( yes it 's even worse than xxmaj dungeons and xxmaj dragons and any film starring xxmaj kevin xxmaj costner . ) \n",
              " \n",
              "  xxmaj chris xxmaj rock looked very uncomfortable throughout this whole film , and his supporting actors did n't even look like they were trying to act . xxmaj chris xxmaj rock is a wonderful stand - up comedian , but he just ca n't transfer his talent to this film , which probably only has two strained laughs in the whole picture . \n",
              " \n",
              "  xxmaj if you have n't watched this film yet , avoid it like the plague . xxmaj go do something constructive and more interesting like watching the weather channel or watching paint dry on a brick wall . \n",
              " \n",
              "  xxmaj for xxmaj chris ' efforts i give it a 2 / 10 ! \n",
              " \n",
              " \n",
              "y: LMLabelList\n",
              ",,,,\n",
              "Path: /root/.fastai/data/imdb;\n",
              "\n",
              "Valid: LabelList (5000 items)\n",
              "x: LMTextList\n",
              "xxbos xxmaj well , the movie is basically about the last days of a specific xxmaj russian regiment stationed in xxmaj xxunk , before the main troop withdrawal in 1985 . xxmaj the movie accurately portrays the grim realities of xxmaj russian army that have made it infamous : \" xxunk \" ( officers and xxunk physically harassing , beating and humiliating younger recruits ) , mixed character of war ( you can trade with your enemy one day and kill him the next ) , life of women at the front lines , documentary footages of helicopter assaults , and coffins being xxunk and sent home in heave xxup xxunk xxmaj hercules class xxmaj russian cargo planes with xxunk to jam xxmaj stinger missiles , fatigue , boredom , anti - war sentiment , emotional side simply put . xxmaj the there 's some action scenes , but they are poorly done , and often are illogical , like xxmaj major xxmaj bandura 's suicidal walk and turning of his back to 10-year - old kid armed with xxup ak-47 who 's father he just killed . xxmaj also the fact that in the middle of firefight in the mountains heavy grenade launcher pops out of nowhere ( and any half - bright person knows that it 's virtually impossible to hump 40 - 50 xxunk launcher on the march anyone ) . xxmaj but at the same time films shows that war is a dirty affair , where murder is sometimes xxunk , wanton destruction of whole villages for little or no reason is normal , indiscriminate killing of civilians is overlooked as collateral damage inevitable during war ... xxmaj some food for thought as to why xxmaj afghan war as lost .. xxmaj not the best war movie made , but profound and intelligent enough to be worth watching .,xxbos ' xxmaj dead xxmaj letter xxmaj office ' is a low - budget film about a couple of employees of the xxmaj australian postal service , struggling to rebuild their damaged lives . xxmaj unfortunately , the acting is poor and the links between the characters ' past misfortunes and present mindsets are clumsily and over - xxunk represented . xxmaj what 's most disappointing of all , however , is the portrayal is life in the office of the film 's title : there 's no mechanisation whatsoever , and it 's quite impossible to ascertain what any of the staff really do for a living . xxmaj granted , part of the plot is that the office is threatened with closure , but this sort of office surely closed in the 1930s , if it ever truly existed . xxmaj it 's a shame , as the film 's overall tone is poignant and wry , and there 's some promise in the scenario : but few of the details convince . xxmaj overall , it feels the work of someone who has n't actually experienced much of real life ; a student film , with a concept and an outline , but sadly little else .,xxbos xxmaj this movie is absurd . xxmaj absolutely terrible . xxmaj michael xxmaj keaton and xxmaj andy xxmaj garcia must really have needed the work to do this movie . xxmaj the plot is totally not believable ! xxmaj michael xxmaj keaton agrees to donate bone marrow to the dying son of a detective , but then escapes . xxmaj he manages to elude the police throughout the hospital - not believable that he would have so much knowledge of the hospital . xxmaj he takes an extremely convoluted route to get out of the hospital , blowing up the power generators and a xxunk bridge ( why ? ) . xxmaj and to top that xxmaj andy xxmaj garcia ( father of the dying boy ) and a doctor help the criminal so as to get the bone marrow . xxmaj the plot is such baloney ! xxmaj maybe the worse movie i have ever see .,xxbos xxmaj if i had never seen an episode of the original xxmaj avengers , with xxmaj xxunk , xxmaj rigg , or xxmaj xxunk , i would have appreciated this series more . xxmaj while the cast did its best to sustain the action and interest of the scripts , i was just caught up in comparing the episodes to the original series . xxmaj there was an expectation of xxmaj steed participating more in fight scenes , and the continuity seemed as though the writers were struggling to keep up with the actors . xxmaj to be honest , i ca n't blame them for trying to resurrect the fans from the original series , but it just did n't work , as evidenced by the fact that it lasted one season . xxmaj watching xxmaj steed labor through this series reminded me of xxmaj gen. xxmaj macarthur when he said , ' xxmaj old soldiers never die , they just fade away ! ',xxbos xxmaj as an avid xxmaj gone xxmaj with the xxmaj wind fan , i was disappointed to watch the original movie and see that they had left out many important characters . xxmaj luckily , the film on its own was a wonderful piece . xxmaj when the book xxmaj scarlett came out , i read it in hopes of following two of my favorite literary characters farther on their journey together . xxmaj while the book lacks any true quality , it remains a good story , and , as long as i was able to separate it from the original , was and still is enjoyable . xxmaj however , i consider the six hours i spent watching the \" xxmaj scarlett \" miniseries to be some of the worst - spent hours of my life . xxmaj discrediting any of the original character traits so well - formed in xxmaj margaret xxmaj mitchell 's book , this series also turned the story of the sequel into one of rape , mistrust , murder , and misformed relationships that even the book xxmaj scarlett stayed away from . xxmaj the casting for many of the characters refused to examine the traits that had been so well - formed in both the original novel and film , and even carried through in the second book , and again leaves out at least one incredibly crucial character . xxmaj in the novel , xxmaj scarlett o'hara xxmaj butler follows her estranged husband xxmaj rhett xxmaj butler to xxmaj charleston under the guise of visiting extended family . xxmaj after coming to an \" arrangement \" with xxmaj rhett , she agrees to leave , and proceeds to reconnect with her o'hara relatives in xxmaj savannah . xxmaj eventually , she accompanies her cousin xxmaj colum , a passionate leader of the xxmaj fenian xxmaj brotherhood , to xxmaj ireland , to further explore her family 's \" roots that go deep , \" and is eventually named \" xxmaj the o'hara , \" the head of the family . xxmaj while her duties as xxmaj the o'hara keep her engaged in her town of xxmaj ballyhara , xxmaj scarlett ventures out into the world of the xxmaj english landowners , and instantly becomes a sought - after guest at many of their parties . xxmaj she , having been scorned by xxmaj rhett time and time again , eventually agrees to marry xxmaj luke , the earl of xxmaj fenton , until xxmaj rhett comes along in a clichéd \" night - on - white - horse \" - type of a rescue . xxmaj the \" xxmaj scarlett \" miniseries fails even to do this justice . xxmaj raped by her fiancé and scorned by her family , the series shows xxmaj scarlett thrown in jail after she is blamed for a murder her cousin committed . \n",
              " \n",
              "  i heartily advise anyone considering spending their day watching this to rethink this decision .\n",
              "y: LMLabelList\n",
              ",,,,\n",
              "Path: /root/.fastai/data/imdb;\n",
              "\n",
              "Test: None, model=SequentialRNN(\n",
              "  (0): AWD_LSTM(\n",
              "    (encoder): Embedding(49784, 400, padding_idx=1)\n",
              "    (encoder_dp): EmbeddingDropout(\n",
              "      (emb): Embedding(49784, 400, padding_idx=1)\n",
              "    )\n",
              "    (rnns): ModuleList(\n",
              "      (0): WeightDropout(\n",
              "        (module): LSTM(400, 1152, batch_first=True)\n",
              "      )\n",
              "      (1): WeightDropout(\n",
              "        (module): LSTM(1152, 1152, batch_first=True)\n",
              "      )\n",
              "      (2): WeightDropout(\n",
              "        (module): LSTM(1152, 400, batch_first=True)\n",
              "      )\n",
              "    )\n",
              "    (input_dp): RNNDropout()\n",
              "    (hidden_dps): ModuleList(\n",
              "      (0): RNNDropout()\n",
              "      (1): RNNDropout()\n",
              "      (2): RNNDropout()\n",
              "    )\n",
              "  )\n",
              "  (1): LinearDecoder(\n",
              "    (decoder): Linear(in_features=400, out_features=49784, bias=True)\n",
              "    (output_dp): RNNDropout()\n",
              "  )\n",
              "), opt_func=functools.partial(<class 'torch.optim.adam.Adam'>, betas=(0.9, 0.99)), loss_func=FlattenedLoss of CrossEntropyLoss(), metrics=[<function accuracy at 0x7fc7968b0d90>], true_wd=True, bn_wd=True, wd=0.01, train_bn=True, path=PosixPath('/root/.fastai/data/imdb'), model_dir='models', callback_fns=[functools.partial(<class 'fastai.basic_train.Recorder'>, add_time=True, silent=False)], callbacks=[RNNTrainer\n",
              "learn: LanguageLearner(data=TextLMDataBunch;\n",
              "\n",
              "Train: LabelList (45000 items)\n",
              "x: LMTextList\n",
              "xxbos xxmaj this is actually a pretty bad film . xxmaj the ideology is not as perverse as in those films xxmaj collins made later . xxmaj however , my main misgivings about the film are that it is implausible and quite frankly boring for a long time . xxmaj the whole concept of an ex - xxup sas man joining terrorists for no particular reason is n't very convincing and you ca n't help wondering why a group of highly organized terrorists ( who later become pretty clueless ) fall for it . xxmaj the film starts with a pretty powerful scene but then meanders for quite a long time building up towards the great finale . xxmaj overall , i think xxmaj who dares wins could have been an interesting 45 minutes episode of xxmaj the xxmaj professionals but the story does n't carry a feature film . xxmaj although reasonably successful at the time this film initiated the demise of xxmaj collins ' career who in the eighties mainly made cheap and dubious soldier - of - fortune or army films . xxmaj pity , because he actually is quite a versatile actor but at the end of the day xxmaj martin xxmaj shaw chose his roles more carefully and has a career that 's still successful .,xxbos xxmaj kojak meets the mafia . xxmaj telly xxmaj xxunk is one of those guys from the past that seems pretty forgettable . i never thought that his show was all that great . xxmaj this is his one dimensional characterization of a crime boss , with very predictable results . xxmaj if you take the car chases and the general rambling out , there is n't much plot development or action . i find mafia movies to be dull because i have no respect or interest in common criminals and their actions . xxmaj hollywood , and in this case , the xxmaj italian cinema , treat these guys as heroes . i saw the film and in a few days i wo n't remember much about it . xxmaj lots of shooting , innocent bystanders dying , betrayal , and that sick loyalty . xxmaj the film is photographed pretty well and the acting is decent . xxmaj but the dubbing is so bad ( due to voices that just could n't come out of those bodies ) , that i almost started looking for xxmaj godzilla approaching the bay .,xxbos i must say that i am fairly disappointed by this \" horror \" movie . i did not get scared even once while watching it . xxmaj it also is not very suspenseful either xxrep 4 . i was able to guess the ending half way through the movie ... xxmaj so .. what 's left ? \n",
              " \n",
              "  \" xxmaj the xxmaj ring \" is a trully scary movie ... i wish other movies would stop copying from it ( e.g. the trade - mark : long hair ) . xxmaj please give me some originality . \n",
              " \n",
              "  xxmaj will not recommend this movie .,xxbos xxup popeye xxup and xxup big xxup foot * * ; xxup popeye xxup 's xxup engine xxup company * * ; xxup getting xxup popeye xxup 's xxup goat * * 1 / 2 \n",
              " \n",
              "  i used to lap these up as a kid but , catching an episode of the series comprising three cartoons back - to - back now i.e. several years later ( they preceded the theatrical screening of the pirate yarn xxup raiders xxup of xxup the xxup seven xxup seas [ 1953 ] ) , i can see how they do n't hold up all that well ! xxmaj the character of xxmaj popeye is n't exactly sympathetic to begin with , xxmaj olive xxmaj oyl distinctly overbearing and xxmaj bluto 's antics failed to elicit much interest either  in short , the scripts were alarmingly thin , fairly awful and generally unfunny to boot . xxmaj they 're strictly juvenile fare , yet i doubt today 's kids would even have the patience to stick with them ! ; furthermore , the animation style is unattractive . \n",
              " \n",
              "  xxmaj taking each short per se , i guess they improved from one to the other : after the initial shock , one adapted to its mediocre quality as it were , so that the third cartoon easily results in being the most enjoyable of the lot  xxmaj popeye is entrusted with a mascot army goat whose immense appetite causes him no end of mischief ( hardly original , i know , but always an amusing ploy ) . xxmaj one interesting element here was that the shorts were bookended with xxmaj popeye delivering moralistic bits of wisdom to the kids in the audience .,xxbos xxmaj this is probably the worst movie i have ever seen , ( yes it 's even worse than xxmaj dungeons and xxmaj dragons and any film starring xxmaj kevin xxmaj costner . ) \n",
              " \n",
              "  xxmaj chris xxmaj rock looked very uncomfortable throughout this whole film , and his supporting actors did n't even look like they were trying to act . xxmaj chris xxmaj rock is a wonderful stand - up comedian , but he just ca n't transfer his talent to this film , which probably only has two strained laughs in the whole picture . \n",
              " \n",
              "  xxmaj if you have n't watched this film yet , avoid it like the plague . xxmaj go do something constructive and more interesting like watching the weather channel or watching paint dry on a brick wall . \n",
              " \n",
              "  xxmaj for xxmaj chris ' efforts i give it a 2 / 10 ! \n",
              " \n",
              " \n",
              "y: LMLabelList\n",
              ",,,,\n",
              "Path: /root/.fastai/data/imdb;\n",
              "\n",
              "Valid: LabelList (5000 items)\n",
              "x: LMTextList\n",
              "xxbos xxmaj well , the movie is basically about the last days of a specific xxmaj russian regiment stationed in xxmaj xxunk , before the main troop withdrawal in 1985 . xxmaj the movie accurately portrays the grim realities of xxmaj russian army that have made it infamous : \" xxunk \" ( officers and xxunk physically harassing , beating and humiliating younger recruits ) , mixed character of war ( you can trade with your enemy one day and kill him the next ) , life of women at the front lines , documentary footages of helicopter assaults , and coffins being xxunk and sent home in heave xxup xxunk xxmaj hercules class xxmaj russian cargo planes with xxunk to jam xxmaj stinger missiles , fatigue , boredom , anti - war sentiment , emotional side simply put . xxmaj the there 's some action scenes , but they are poorly done , and often are illogical , like xxmaj major xxmaj bandura 's suicidal walk and turning of his back to 10-year - old kid armed with xxup ak-47 who 's father he just killed . xxmaj also the fact that in the middle of firefight in the mountains heavy grenade launcher pops out of nowhere ( and any half - bright person knows that it 's virtually impossible to hump 40 - 50 xxunk launcher on the march anyone ) . xxmaj but at the same time films shows that war is a dirty affair , where murder is sometimes xxunk , wanton destruction of whole villages for little or no reason is normal , indiscriminate killing of civilians is overlooked as collateral damage inevitable during war ... xxmaj some food for thought as to why xxmaj afghan war as lost .. xxmaj not the best war movie made , but profound and intelligent enough to be worth watching .,xxbos ' xxmaj dead xxmaj letter xxmaj office ' is a low - budget film about a couple of employees of the xxmaj australian postal service , struggling to rebuild their damaged lives . xxmaj unfortunately , the acting is poor and the links between the characters ' past misfortunes and present mindsets are clumsily and over - xxunk represented . xxmaj what 's most disappointing of all , however , is the portrayal is life in the office of the film 's title : there 's no mechanisation whatsoever , and it 's quite impossible to ascertain what any of the staff really do for a living . xxmaj granted , part of the plot is that the office is threatened with closure , but this sort of office surely closed in the 1930s , if it ever truly existed . xxmaj it 's a shame , as the film 's overall tone is poignant and wry , and there 's some promise in the scenario : but few of the details convince . xxmaj overall , it feels the work of someone who has n't actually experienced much of real life ; a student film , with a concept and an outline , but sadly little else .,xxbos xxmaj this movie is absurd . xxmaj absolutely terrible . xxmaj michael xxmaj keaton and xxmaj andy xxmaj garcia must really have needed the work to do this movie . xxmaj the plot is totally not believable ! xxmaj michael xxmaj keaton agrees to donate bone marrow to the dying son of a detective , but then escapes . xxmaj he manages to elude the police throughout the hospital - not believable that he would have so much knowledge of the hospital . xxmaj he takes an extremely convoluted route to get out of the hospital , blowing up the power generators and a xxunk bridge ( why ? ) . xxmaj and to top that xxmaj andy xxmaj garcia ( father of the dying boy ) and a doctor help the criminal so as to get the bone marrow . xxmaj the plot is such baloney ! xxmaj maybe the worse movie i have ever see .,xxbos xxmaj if i had never seen an episode of the original xxmaj avengers , with xxmaj xxunk , xxmaj rigg , or xxmaj xxunk , i would have appreciated this series more . xxmaj while the cast did its best to sustain the action and interest of the scripts , i was just caught up in comparing the episodes to the original series . xxmaj there was an expectation of xxmaj steed participating more in fight scenes , and the continuity seemed as though the writers were struggling to keep up with the actors . xxmaj to be honest , i ca n't blame them for trying to resurrect the fans from the original series , but it just did n't work , as evidenced by the fact that it lasted one season . xxmaj watching xxmaj steed labor through this series reminded me of xxmaj gen. xxmaj macarthur when he said , ' xxmaj old soldiers never die , they just fade away ! ',xxbos xxmaj as an avid xxmaj gone xxmaj with the xxmaj wind fan , i was disappointed to watch the original movie and see that they had left out many important characters . xxmaj luckily , the film on its own was a wonderful piece . xxmaj when the book xxmaj scarlett came out , i read it in hopes of following two of my favorite literary characters farther on their journey together . xxmaj while the book lacks any true quality , it remains a good story , and , as long as i was able to separate it from the original , was and still is enjoyable . xxmaj however , i consider the six hours i spent watching the \" xxmaj scarlett \" miniseries to be some of the worst - spent hours of my life . xxmaj discrediting any of the original character traits so well - formed in xxmaj margaret xxmaj mitchell 's book , this series also turned the story of the sequel into one of rape , mistrust , murder , and misformed relationships that even the book xxmaj scarlett stayed away from . xxmaj the casting for many of the characters refused to examine the traits that had been so well - formed in both the original novel and film , and even carried through in the second book , and again leaves out at least one incredibly crucial character . xxmaj in the novel , xxmaj scarlett o'hara xxmaj butler follows her estranged husband xxmaj rhett xxmaj butler to xxmaj charleston under the guise of visiting extended family . xxmaj after coming to an \" arrangement \" with xxmaj rhett , she agrees to leave , and proceeds to reconnect with her o'hara relatives in xxmaj savannah . xxmaj eventually , she accompanies her cousin xxmaj colum , a passionate leader of the xxmaj fenian xxmaj brotherhood , to xxmaj ireland , to further explore her family 's \" roots that go deep , \" and is eventually named \" xxmaj the o'hara , \" the head of the family . xxmaj while her duties as xxmaj the o'hara keep her engaged in her town of xxmaj ballyhara , xxmaj scarlett ventures out into the world of the xxmaj english landowners , and instantly becomes a sought - after guest at many of their parties . xxmaj she , having been scorned by xxmaj rhett time and time again , eventually agrees to marry xxmaj luke , the earl of xxmaj fenton , until xxmaj rhett comes along in a clichéd \" night - on - white - horse \" - type of a rescue . xxmaj the \" xxmaj scarlett \" miniseries fails even to do this justice . xxmaj raped by her fiancé and scorned by her family , the series shows xxmaj scarlett thrown in jail after she is blamed for a murder her cousin committed . \n",
              " \n",
              "  i heartily advise anyone considering spending their day watching this to rethink this decision .\n",
              "y: LMLabelList\n",
              ",,,,\n",
              "Path: /root/.fastai/data/imdb;\n",
              "\n",
              "Test: None, model=SequentialRNN(\n",
              "  (0): AWD_LSTM(\n",
              "    (encoder): Embedding(49784, 400, padding_idx=1)\n",
              "    (encoder_dp): EmbeddingDropout(\n",
              "      (emb): Embedding(49784, 400, padding_idx=1)\n",
              "    )\n",
              "    (rnns): ModuleList(\n",
              "      (0): WeightDropout(\n",
              "        (module): LSTM(400, 1152, batch_first=True)\n",
              "      )\n",
              "      (1): WeightDropout(\n",
              "        (module): LSTM(1152, 1152, batch_first=True)\n",
              "      )\n",
              "      (2): WeightDropout(\n",
              "        (module): LSTM(1152, 400, batch_first=True)\n",
              "      )\n",
              "    )\n",
              "    (input_dp): RNNDropout()\n",
              "    (hidden_dps): ModuleList(\n",
              "      (0): RNNDropout()\n",
              "      (1): RNNDropout()\n",
              "      (2): RNNDropout()\n",
              "    )\n",
              "  )\n",
              "  (1): LinearDecoder(\n",
              "    (decoder): Linear(in_features=400, out_features=49784, bias=True)\n",
              "    (output_dp): RNNDropout()\n",
              "  )\n",
              "), opt_func=functools.partial(<class 'torch.optim.adam.Adam'>, betas=(0.9, 0.99)), loss_func=FlattenedLoss of CrossEntropyLoss(), metrics=[<function accuracy at 0x7fc7968b0d90>], true_wd=True, bn_wd=True, wd=0.01, train_bn=True, path=PosixPath('/root/.fastai/data/imdb'), model_dir='models', callback_fns=[functools.partial(<class 'fastai.basic_train.Recorder'>, add_time=True, silent=False)], callbacks=[...], layer_groups=[Sequential(\n",
              "  (0): WeightDropout(\n",
              "    (module): LSTM(400, 1152, batch_first=True)\n",
              "  )\n",
              "  (1): RNNDropout()\n",
              "), Sequential(\n",
              "  (0): WeightDropout(\n",
              "    (module): LSTM(1152, 1152, batch_first=True)\n",
              "  )\n",
              "  (1): RNNDropout()\n",
              "), Sequential(\n",
              "  (0): WeightDropout(\n",
              "    (module): LSTM(1152, 400, batch_first=True)\n",
              "  )\n",
              "  (1): RNNDropout()\n",
              "), Sequential(\n",
              "  (0): Embedding(49784, 400, padding_idx=1)\n",
              "  (1): EmbeddingDropout(\n",
              "    (emb): Embedding(49784, 400, padding_idx=1)\n",
              "  )\n",
              "  (2): LinearDecoder(\n",
              "    (decoder): Linear(in_features=400, out_features=49784, bias=True)\n",
              "    (output_dp): RNNDropout()\n",
              "  )\n",
              ")], add_time=True, silent=False)\n",
              "alpha: 2.0\n",
              "beta: 1.0], layer_groups=[Sequential(\n",
              "  (0): WeightDropout(\n",
              "    (module): LSTM(400, 1152, batch_first=True)\n",
              "  )\n",
              "  (1): RNNDropout()\n",
              "), Sequential(\n",
              "  (0): WeightDropout(\n",
              "    (module): LSTM(1152, 1152, batch_first=True)\n",
              "  )\n",
              "  (1): RNNDropout()\n",
              "), Sequential(\n",
              "  (0): WeightDropout(\n",
              "    (module): LSTM(1152, 400, batch_first=True)\n",
              "  )\n",
              "  (1): RNNDropout()\n",
              "), Sequential(\n",
              "  (0): Embedding(49784, 400, padding_idx=1)\n",
              "  (1): EmbeddingDropout(\n",
              "    (emb): Embedding(49784, 400, padding_idx=1)\n",
              "  )\n",
              "  (2): LinearDecoder(\n",
              "    (decoder): Linear(in_features=400, out_features=49784, bias=True)\n",
              "    (output_dp): RNNDropout()\n",
              "  )\n",
              ")], add_time=True, silent=False)"
            ]
          },
          "metadata": {
            "tags": []
          },
          "execution_count": 33
        }
      ]
    },
    {
      "cell_type": "code",
      "metadata": {
        "id": "N7kLADliM3U-",
        "colab_type": "code",
        "colab": {
          "base_uri": "https://localhost:8080/",
          "height": 55
        },
        "outputId": "be57db8d-69c8-4fe5-cdf2-facba8b237c3"
      },
      "source": [
        "learn.predict('I liked this movie because ', 100, temperature=1.1,min_p=0.001)"
      ],
      "execution_count": 17,
      "outputs": [
        {
          "output_type": "execute_result",
          "data": {
            "text/plain": [
              "'I liked this movie because  of the \" good record \" . However , he said that it was not entirely a \" plot \" , for he enjoyed playing cards and could come as a man , who is \" the guy who first broke into the community . \" His involvement in the film was a significant factor at the time the film \\'s directors also wanted to record in a similar manner , which proved problematic for Sony . Even with his son Larry , the film \\'s biggest feature was its success on television .'"
            ]
          },
          "metadata": {
            "tags": []
          },
          "execution_count": 17
        }
      ]
    },
    {
      "cell_type": "code",
      "metadata": {
        "id": "w4hUFMsyM3Fi",
        "colab_type": "code",
        "colab": {}
      },
      "source": [
        "learn.save_encoder('fine_tuned_enc')#the second part is about predicting next part,but we want it to understand which is encoder"
      ],
      "execution_count": 0,
      "outputs": []
    },
    {
      "cell_type": "code",
      "metadata": {
        "id": "fOSw1IoLM2yx",
        "colab_type": "code",
        "colab": {}
      },
      "source": [
        "#now here our language model is ready"
      ],
      "execution_count": 0,
      "outputs": []
    },
    {
      "cell_type": "markdown",
      "metadata": {
        "id": "9pbPPw-HOEkl",
        "colab_type": "text"
      },
      "source": [
        "Classifier"
      ]
    },
    {
      "cell_type": "code",
      "metadata": {
        "id": "25cKaMDNOBhE",
        "colab_type": "code",
        "colab": {
          "base_uri": "https://localhost:8080/",
          "height": 17
        },
        "outputId": "6faa1f55-fc6a-42aa-9c8f-d9d2f116016f"
      },
      "source": [
        "data_clas=(TextList.from_folder(path,vocab=data_lm.vocab)\n",
        "                       .split_by_folder(valid='test')\n",
        "                       .label_from_folder(classes=['neg','pos'])\n",
        "                       .databunch(bs=50))\n",
        "data_clas.save('tm_clas')"
      ],
      "execution_count": 5,
      "outputs": [
        {
          "output_type": "display_data",
          "data": {
            "text/html": [
              ""
            ],
            "text/plain": [
              "<IPython.core.display.HTML object>"
            ]
          },
          "metadata": {
            "tags": []
          }
        },
        {
          "output_type": "display_data",
          "data": {
            "text/html": [
              ""
            ],
            "text/plain": [
              "<IPython.core.display.HTML object>"
            ]
          },
          "metadata": {
            "tags": []
          }
        }
      ]
    },
    {
      "cell_type": "code",
      "metadata": {
        "id": "Bgacj9UxOxSH",
        "colab_type": "code",
        "colab": {
          "base_uri": "https://localhost:8080/",
          "height": 329
        },
        "outputId": "fcc9372a-92d3-4d7f-c998-74853ccb526b"
      },
      "source": [
        "data_clas=TextClasDataBunch.load(path,'tmp_clas',bs=50)\n",
        "data_clas.show_batch"
      ],
      "execution_count": 18,
      "outputs": [
        {
          "output_type": "error",
          "ename": "ValueError",
          "evalue": "ignored",
          "traceback": [
            "\u001b[0;31m---------------------------------------------------------------------------\u001b[0m",
            "\u001b[0;31mValueError\u001b[0m                                Traceback (most recent call last)",
            "\u001b[0;32m<ipython-input-18-5b8e211231ca>\u001b[0m in \u001b[0;36m<module>\u001b[0;34m()\u001b[0m\n\u001b[0;32m----> 1\u001b[0;31m \u001b[0mdata_clas\u001b[0m\u001b[0;34m=\u001b[0m\u001b[0mTextClasDataBunch\u001b[0m\u001b[0;34m.\u001b[0m\u001b[0mload\u001b[0m\u001b[0;34m(\u001b[0m\u001b[0mpath\u001b[0m\u001b[0;34m,\u001b[0m\u001b[0;34m'tmp_clas'\u001b[0m\u001b[0;34m,\u001b[0m\u001b[0mbs\u001b[0m\u001b[0;34m=\u001b[0m\u001b[0;36m50\u001b[0m\u001b[0;34m)\u001b[0m\u001b[0;34m\u001b[0m\u001b[0;34m\u001b[0m\u001b[0m\n\u001b[0m\u001b[1;32m      2\u001b[0m \u001b[0mdata_clas\u001b[0m\u001b[0;34m.\u001b[0m\u001b[0mshow_batch\u001b[0m\u001b[0;34m\u001b[0m\u001b[0;34m\u001b[0m\u001b[0m\n",
            "\u001b[0;32m/usr/local/lib/python3.6/dist-packages/fastai/text/data.py\u001b[0m in \u001b[0;36mload\u001b[0;34m(cls, path, cache_name, processor, **kwargs)\u001b[0m\n\u001b[1;32m    169\u001b[0m         \u001b[0mcache_path\u001b[0m \u001b[0;34m=\u001b[0m \u001b[0mPath\u001b[0m\u001b[0;34m(\u001b[0m\u001b[0mpath\u001b[0m\u001b[0;34m)\u001b[0m\u001b[0;34m/\u001b[0m\u001b[0mcache_name\u001b[0m\u001b[0;34m\u001b[0m\u001b[0;34m\u001b[0m\u001b[0m\n\u001b[1;32m    170\u001b[0m         \u001b[0mvocab\u001b[0m \u001b[0;34m=\u001b[0m \u001b[0mVocab\u001b[0m\u001b[0;34m(\u001b[0m\u001b[0mpickle\u001b[0m\u001b[0;34m.\u001b[0m\u001b[0mload\u001b[0m\u001b[0;34m(\u001b[0m\u001b[0mopen\u001b[0m\u001b[0;34m(\u001b[0m\u001b[0mcache_path\u001b[0m\u001b[0;34m/\u001b[0m\u001b[0;34m'itos.pkl'\u001b[0m\u001b[0;34m,\u001b[0m\u001b[0;34m'rb'\u001b[0m\u001b[0;34m)\u001b[0m\u001b[0;34m)\u001b[0m\u001b[0;34m)\u001b[0m\u001b[0;34m\u001b[0m\u001b[0;34m\u001b[0m\u001b[0m\n\u001b[0;32m--> 171\u001b[0;31m         \u001b[0mtrain_ids\u001b[0m\u001b[0;34m,\u001b[0m\u001b[0mtrain_lbls\u001b[0m \u001b[0;34m=\u001b[0m \u001b[0mnp\u001b[0m\u001b[0;34m.\u001b[0m\u001b[0mload\u001b[0m\u001b[0;34m(\u001b[0m\u001b[0mcache_path\u001b[0m\u001b[0;34m/\u001b[0m\u001b[0;34mf'train_ids.npy'\u001b[0m\u001b[0;34m)\u001b[0m\u001b[0;34m,\u001b[0m \u001b[0mnp\u001b[0m\u001b[0;34m.\u001b[0m\u001b[0mload\u001b[0m\u001b[0;34m(\u001b[0m\u001b[0mcache_path\u001b[0m\u001b[0;34m/\u001b[0m\u001b[0;34mf'train_lbl.npy'\u001b[0m\u001b[0;34m)\u001b[0m\u001b[0;34m\u001b[0m\u001b[0;34m\u001b[0m\u001b[0m\n\u001b[0m\u001b[1;32m    172\u001b[0m         \u001b[0mvalid_ids\u001b[0m\u001b[0;34m,\u001b[0m\u001b[0mvalid_lbls\u001b[0m \u001b[0;34m=\u001b[0m \u001b[0mnp\u001b[0m\u001b[0;34m.\u001b[0m\u001b[0mload\u001b[0m\u001b[0;34m(\u001b[0m\u001b[0mcache_path\u001b[0m\u001b[0;34m/\u001b[0m\u001b[0;34mf'valid_ids.npy'\u001b[0m\u001b[0;34m)\u001b[0m\u001b[0;34m,\u001b[0m \u001b[0mnp\u001b[0m\u001b[0;34m.\u001b[0m\u001b[0mload\u001b[0m\u001b[0;34m(\u001b[0m\u001b[0mcache_path\u001b[0m\u001b[0;34m/\u001b[0m\u001b[0;34mf'valid_lbl.npy'\u001b[0m\u001b[0;34m)\u001b[0m\u001b[0;34m\u001b[0m\u001b[0;34m\u001b[0m\u001b[0m\n\u001b[1;32m    173\u001b[0m         \u001b[0mtest_ids\u001b[0m \u001b[0;34m=\u001b[0m \u001b[0mnp\u001b[0m\u001b[0;34m.\u001b[0m\u001b[0mload\u001b[0m\u001b[0;34m(\u001b[0m\u001b[0mcache_path\u001b[0m\u001b[0;34m/\u001b[0m\u001b[0;34mf'test_ids.npy'\u001b[0m\u001b[0;34m)\u001b[0m \u001b[0;32mif\u001b[0m \u001b[0mos\u001b[0m\u001b[0;34m.\u001b[0m\u001b[0mpath\u001b[0m\u001b[0;34m.\u001b[0m\u001b[0misfile\u001b[0m\u001b[0;34m(\u001b[0m\u001b[0mcache_path\u001b[0m\u001b[0;34m/\u001b[0m\u001b[0;34mf'test_ids.npy'\u001b[0m\u001b[0;34m)\u001b[0m \u001b[0;32melse\u001b[0m \u001b[0;32mNone\u001b[0m\u001b[0;34m\u001b[0m\u001b[0;34m\u001b[0m\u001b[0m\n",
            "\u001b[0;32m/usr/local/lib/python3.6/dist-packages/numpy/lib/npyio.py\u001b[0m in \u001b[0;36mload\u001b[0;34m(file, mmap_mode, allow_pickle, fix_imports, encoding)\u001b[0m\n\u001b[1;32m    451\u001b[0m             \u001b[0;32melse\u001b[0m\u001b[0;34m:\u001b[0m\u001b[0;34m\u001b[0m\u001b[0;34m\u001b[0m\u001b[0m\n\u001b[1;32m    452\u001b[0m                 return format.read_array(fid, allow_pickle=allow_pickle,\n\u001b[0;32m--> 453\u001b[0;31m                                          pickle_kwargs=pickle_kwargs)\n\u001b[0m\u001b[1;32m    454\u001b[0m         \u001b[0;32melse\u001b[0m\u001b[0;34m:\u001b[0m\u001b[0;34m\u001b[0m\u001b[0;34m\u001b[0m\u001b[0m\n\u001b[1;32m    455\u001b[0m             \u001b[0;31m# Try a pickle\u001b[0m\u001b[0;34m\u001b[0m\u001b[0;34m\u001b[0m\u001b[0;34m\u001b[0m\u001b[0m\n",
            "\u001b[0;32m/usr/local/lib/python3.6/dist-packages/numpy/lib/format.py\u001b[0m in \u001b[0;36mread_array\u001b[0;34m(fp, allow_pickle, pickle_kwargs)\u001b[0m\n\u001b[1;32m    720\u001b[0m         \u001b[0;31m# The array contained Python objects. We need to unpickle the data.\u001b[0m\u001b[0;34m\u001b[0m\u001b[0;34m\u001b[0m\u001b[0;34m\u001b[0m\u001b[0m\n\u001b[1;32m    721\u001b[0m         \u001b[0;32mif\u001b[0m \u001b[0;32mnot\u001b[0m \u001b[0mallow_pickle\u001b[0m\u001b[0;34m:\u001b[0m\u001b[0;34m\u001b[0m\u001b[0;34m\u001b[0m\u001b[0m\n\u001b[0;32m--> 722\u001b[0;31m             raise ValueError(\"Object arrays cannot be loaded when \"\n\u001b[0m\u001b[1;32m    723\u001b[0m                              \"allow_pickle=False\")\n\u001b[1;32m    724\u001b[0m         \u001b[0;32mif\u001b[0m \u001b[0mpickle_kwargs\u001b[0m \u001b[0;32mis\u001b[0m \u001b[0;32mNone\u001b[0m\u001b[0;34m:\u001b[0m\u001b[0;34m\u001b[0m\u001b[0;34m\u001b[0m\u001b[0m\n",
            "\u001b[0;31mValueError\u001b[0m: Object arrays cannot be loaded when allow_pickle=False"
          ]
        }
      ]
    },
    {
      "cell_type": "code",
      "metadata": {
        "id": "bApTtDJEOxQc",
        "colab_type": "code",
        "colab": {
          "base_uri": "https://localhost:8080/",
          "height": 201
        },
        "outputId": "6f67fa3a-e031-4663-b9d6-217cc0a47103"
      },
      "source": [
        "learn=text_classifier_learner(data_clas,dropout_mult=0.5)\n",
        "learn.load_encoder('fine_tuned_enc')\n",
        "learn.freeze()"
      ],
      "execution_count": 19,
      "outputs": [
        {
          "output_type": "error",
          "ename": "TypeError",
          "evalue": "ignored",
          "traceback": [
            "\u001b[0;31m---------------------------------------------------------------------------\u001b[0m",
            "\u001b[0;31mTypeError\u001b[0m                                 Traceback (most recent call last)",
            "\u001b[0;32m<ipython-input-19-2ad5523e153e>\u001b[0m in \u001b[0;36m<module>\u001b[0;34m()\u001b[0m\n\u001b[0;32m----> 1\u001b[0;31m \u001b[0mlearn\u001b[0m\u001b[0;34m=\u001b[0m\u001b[0mtext_classifier_learner\u001b[0m\u001b[0;34m(\u001b[0m\u001b[0mdata_clas\u001b[0m\u001b[0;34m,\u001b[0m\u001b[0mdropout_mult\u001b[0m\u001b[0;34m=\u001b[0m\u001b[0;36m0.5\u001b[0m\u001b[0;34m)\u001b[0m\u001b[0;34m\u001b[0m\u001b[0;34m\u001b[0m\u001b[0m\n\u001b[0m\u001b[1;32m      2\u001b[0m \u001b[0mlearn\u001b[0m\u001b[0;34m.\u001b[0m\u001b[0mload_encoder\u001b[0m\u001b[0;34m(\u001b[0m\u001b[0;34m'fine_tuned_enc'\u001b[0m\u001b[0;34m)\u001b[0m\u001b[0;34m\u001b[0m\u001b[0;34m\u001b[0m\u001b[0m\n\u001b[1;32m      3\u001b[0m \u001b[0mlearn\u001b[0m\u001b[0;34m.\u001b[0m\u001b[0mfreeze\u001b[0m\u001b[0;34m(\u001b[0m\u001b[0;34m)\u001b[0m\u001b[0;34m\u001b[0m\u001b[0;34m\u001b[0m\u001b[0m\n",
            "\u001b[0;31mTypeError\u001b[0m: text_classifier_learner() missing 1 required positional argument: 'arch'"
          ]
        }
      ]
    },
    {
      "cell_type": "code",
      "metadata": {
        "id": "jonS6mXuOxNq",
        "colab_type": "code",
        "colab": {}
      },
      "source": [
        "learn.lr_find()\n",
        "learn.recorder.plot()"
      ],
      "execution_count": 0,
      "outputs": []
    },
    {
      "cell_type": "code",
      "metadata": {
        "id": "innwf2AaOxKR",
        "colab_type": "code",
        "colab": {}
      },
      "source": [
        "learn.fit_one_cycle(1,moms=(0.8,0.7))"
      ],
      "execution_count": 0,
      "outputs": []
    },
    {
      "cell_type": "code",
      "metadata": {
        "id": "yf8wgiXPOxD1",
        "colab_type": "code",
        "colab": {}
      },
      "source": [
        "learn.save(first)"
      ],
      "execution_count": 0,
      "outputs": []
    },
    {
      "cell_type": "code",
      "metadata": {
        "id": "WHs98GoeOw-7",
        "colab_type": "code",
        "colab": {}
      },
      "source": [
        "learn.load('first')"
      ],
      "execution_count": 0,
      "outputs": []
    },
    {
      "cell_type": "code",
      "metadata": {
        "id": "mcnW3tjhSL45",
        "colab_type": "code",
        "colab": {}
      },
      "source": [
        "learn.freeze_to(-2)#this means unfreeze last 2 layers\n",
        "learn.fit_one_cycle(1)"
      ],
      "execution_count": 0,
      "outputs": []
    },
    {
      "cell_type": "code",
      "metadata": {
        "id": "IXINF_v6SL3K",
        "colab_type": "code",
        "colab": {}
      },
      "source": [
        "learn.save('second')\n",
        "learn.load('second')"
      ],
      "execution_count": 0,
      "outputs": []
    },
    {
      "cell_type": "code",
      "metadata": {
        "id": "ACpe-QuaSLyQ",
        "colab_type": "code",
        "colab": {}
      },
      "source": [
        "learn.freeze_to(-3)\n",
        "learn.fit_one_cycle(1,moms=(0.8,0.7))"
      ],
      "execution_count": 0,
      "outputs": []
    },
    {
      "cell_type": "code",
      "metadata": {
        "id": "LQx18WjGSLtz",
        "colab_type": "code",
        "colab": {}
      },
      "source": [
        "learn.save('third')\n",
        "learn.load('third')"
      ],
      "execution_count": 0,
      "outputs": []
    },
    {
      "cell_type": "code",
      "metadata": {
        "id": "fWYPfLmLSLpZ",
        "colab_type": "code",
        "colab": {}
      },
      "source": [
        "learn.predict('I really loved that movie, it was awesome!')"
      ],
      "execution_count": 0,
      "outputs": []
    },
    {
      "cell_type": "markdown",
      "metadata": {
        "id": "Rd46ygJqXVcC",
        "colab_type": "text"
      },
      "source": [
        "tabular"
      ]
    },
    {
      "cell_type": "code",
      "metadata": {
        "id": "ZQCSSeZiSLlx",
        "colab_type": "code",
        "colab": {}
      },
      "source": [
        ""
      ],
      "execution_count": 0,
      "outputs": []
    },
    {
      "cell_type": "code",
      "metadata": {
        "id": "ER2EWFlYSLju",
        "colab_type": "code",
        "colab": {}
      },
      "source": [
        ""
      ],
      "execution_count": 0,
      "outputs": []
    },
    {
      "cell_type": "code",
      "metadata": {
        "id": "a72bHikaSLap",
        "colab_type": "code",
        "colab": {}
      },
      "source": [
        ""
      ],
      "execution_count": 0,
      "outputs": []
    }
  ]
}