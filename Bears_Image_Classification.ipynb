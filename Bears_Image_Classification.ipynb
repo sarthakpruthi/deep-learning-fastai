{
  "nbformat": 4,
  "nbformat_minor": 0,
  "metadata": {
    "colab": {
      "name": "Bears Image Classification",
      "provenance": [],
      "include_colab_link": true
    },
    "kernelspec": {
      "name": "python3",
      "display_name": "Python 3"
    },
    "accelerator": "GPU",
    "widgets": {
      "application/vnd.jupyter.widget-state+json": {
        "1728e0b43f28448e855381896b62fa18": {
          "model_module": "@jupyter-widgets/controls",
          "model_name": "HBoxModel",
          "state": {
            "_view_name": "HBoxView",
            "_dom_classes": [],
            "_model_name": "HBoxModel",
            "_view_module": "@jupyter-widgets/controls",
            "_model_module_version": "1.5.0",
            "_view_count": null,
            "_view_module_version": "1.5.0",
            "box_style": "",
            "layout": "IPY_MODEL_cc730747e1804b13bdc5047e1e10dacb",
            "_model_module": "@jupyter-widgets/controls",
            "children": [
              "IPY_MODEL_6d83465772a24019ae6f2624a31feeca",
              "IPY_MODEL_52f5e0a4591c4c3ebce5e628a6b391e9"
            ]
          }
        },
        "cc730747e1804b13bdc5047e1e10dacb": {
          "model_module": "@jupyter-widgets/base",
          "model_name": "LayoutModel",
          "state": {
            "_view_name": "LayoutView",
            "grid_template_rows": null,
            "right": null,
            "justify_content": null,
            "_view_module": "@jupyter-widgets/base",
            "overflow": null,
            "_model_module_version": "1.2.0",
            "_view_count": null,
            "flex_flow": null,
            "width": null,
            "min_width": null,
            "border": null,
            "align_items": null,
            "bottom": null,
            "_model_module": "@jupyter-widgets/base",
            "top": null,
            "grid_column": null,
            "overflow_y": null,
            "overflow_x": null,
            "grid_auto_flow": null,
            "grid_area": null,
            "grid_template_columns": null,
            "flex": null,
            "_model_name": "LayoutModel",
            "justify_items": null,
            "grid_row": null,
            "max_height": null,
            "align_content": null,
            "visibility": null,
            "align_self": null,
            "height": null,
            "min_height": null,
            "padding": null,
            "grid_auto_rows": null,
            "grid_gap": null,
            "max_width": null,
            "order": null,
            "_view_module_version": "1.2.0",
            "grid_template_areas": null,
            "object_position": null,
            "object_fit": null,
            "grid_auto_columns": null,
            "margin": null,
            "display": null,
            "left": null
          }
        },
        "6d83465772a24019ae6f2624a31feeca": {
          "model_module": "@jupyter-widgets/controls",
          "model_name": "FloatProgressModel",
          "state": {
            "_view_name": "ProgressView",
            "style": "IPY_MODEL_b4276d6f54c3476b96799ccb318d603a",
            "_dom_classes": [],
            "description": "100%",
            "_model_name": "FloatProgressModel",
            "bar_style": "success",
            "max": 102502400,
            "_view_module": "@jupyter-widgets/controls",
            "_model_module_version": "1.5.0",
            "value": 102502400,
            "_view_count": null,
            "_view_module_version": "1.5.0",
            "orientation": "horizontal",
            "min": 0,
            "description_tooltip": null,
            "_model_module": "@jupyter-widgets/controls",
            "layout": "IPY_MODEL_4dec44988a4c422ebcd7d2ff0ebf65f1"
          }
        },
        "52f5e0a4591c4c3ebce5e628a6b391e9": {
          "model_module": "@jupyter-widgets/controls",
          "model_name": "HTMLModel",
          "state": {
            "_view_name": "HTMLView",
            "style": "IPY_MODEL_9e35d8bfccf44bcca139395c405377ed",
            "_dom_classes": [],
            "description": "",
            "_model_name": "HTMLModel",
            "placeholder": "​",
            "_view_module": "@jupyter-widgets/controls",
            "_model_module_version": "1.5.0",
            "value": " 97.8M/97.8M [00:35&lt;00:00, 2.89MB/s]",
            "_view_count": null,
            "_view_module_version": "1.5.0",
            "description_tooltip": null,
            "_model_module": "@jupyter-widgets/controls",
            "layout": "IPY_MODEL_38939954594f4b849e858775ac8bfb44"
          }
        },
        "b4276d6f54c3476b96799ccb318d603a": {
          "model_module": "@jupyter-widgets/controls",
          "model_name": "ProgressStyleModel",
          "state": {
            "_view_name": "StyleView",
            "_model_name": "ProgressStyleModel",
            "description_width": "initial",
            "_view_module": "@jupyter-widgets/base",
            "_model_module_version": "1.5.0",
            "_view_count": null,
            "_view_module_version": "1.2.0",
            "bar_color": null,
            "_model_module": "@jupyter-widgets/controls"
          }
        },
        "4dec44988a4c422ebcd7d2ff0ebf65f1": {
          "model_module": "@jupyter-widgets/base",
          "model_name": "LayoutModel",
          "state": {
            "_view_name": "LayoutView",
            "grid_template_rows": null,
            "right": null,
            "justify_content": null,
            "_view_module": "@jupyter-widgets/base",
            "overflow": null,
            "_model_module_version": "1.2.0",
            "_view_count": null,
            "flex_flow": null,
            "width": null,
            "min_width": null,
            "border": null,
            "align_items": null,
            "bottom": null,
            "_model_module": "@jupyter-widgets/base",
            "top": null,
            "grid_column": null,
            "overflow_y": null,
            "overflow_x": null,
            "grid_auto_flow": null,
            "grid_area": null,
            "grid_template_columns": null,
            "flex": null,
            "_model_name": "LayoutModel",
            "justify_items": null,
            "grid_row": null,
            "max_height": null,
            "align_content": null,
            "visibility": null,
            "align_self": null,
            "height": null,
            "min_height": null,
            "padding": null,
            "grid_auto_rows": null,
            "grid_gap": null,
            "max_width": null,
            "order": null,
            "_view_module_version": "1.2.0",
            "grid_template_areas": null,
            "object_position": null,
            "object_fit": null,
            "grid_auto_columns": null,
            "margin": null,
            "display": null,
            "left": null
          }
        },
        "9e35d8bfccf44bcca139395c405377ed": {
          "model_module": "@jupyter-widgets/controls",
          "model_name": "DescriptionStyleModel",
          "state": {
            "_view_name": "StyleView",
            "_model_name": "DescriptionStyleModel",
            "description_width": "",
            "_view_module": "@jupyter-widgets/base",
            "_model_module_version": "1.5.0",
            "_view_count": null,
            "_view_module_version": "1.2.0",
            "_model_module": "@jupyter-widgets/controls"
          }
        },
        "38939954594f4b849e858775ac8bfb44": {
          "model_module": "@jupyter-widgets/base",
          "model_name": "LayoutModel",
          "state": {
            "_view_name": "LayoutView",
            "grid_template_rows": null,
            "right": null,
            "justify_content": null,
            "_view_module": "@jupyter-widgets/base",
            "overflow": null,
            "_model_module_version": "1.2.0",
            "_view_count": null,
            "flex_flow": null,
            "width": null,
            "min_width": null,
            "border": null,
            "align_items": null,
            "bottom": null,
            "_model_module": "@jupyter-widgets/base",
            "top": null,
            "grid_column": null,
            "overflow_y": null,
            "overflow_x": null,
            "grid_auto_flow": null,
            "grid_area": null,
            "grid_template_columns": null,
            "flex": null,
            "_model_name": "LayoutModel",
            "justify_items": null,
            "grid_row": null,
            "max_height": null,
            "align_content": null,
            "visibility": null,
            "align_self": null,
            "height": null,
            "min_height": null,
            "padding": null,
            "grid_auto_rows": null,
            "grid_gap": null,
            "max_width": null,
            "order": null,
            "_view_module_version": "1.2.0",
            "grid_template_areas": null,
            "object_position": null,
            "object_fit": null,
            "grid_auto_columns": null,
            "margin": null,
            "display": null,
            "left": null
          }
        },
        "a87ca3ea39c841619a3fce402ed6b01d": {
          "model_module": "@jupyter-widgets/controls",
          "model_name": "HBoxModel",
          "state": {
            "_view_name": "HBoxView",
            "_dom_classes": [],
            "_model_name": "HBoxModel",
            "_view_module": "@jupyter-widgets/controls",
            "_model_module_version": "1.5.0",
            "_view_count": null,
            "_view_module_version": "1.5.0",
            "box_style": "",
            "layout": "IPY_MODEL_31c0fadcdc5a43cfaf2d87c00b00d4fe",
            "_model_module": "@jupyter-widgets/controls",
            "children": [
              "IPY_MODEL_9046e6825f9f493796c7bd16e4955122",
              "IPY_MODEL_f01a1f1e57504d2e9edde21be1ed5351"
            ]
          }
        },
        "31c0fadcdc5a43cfaf2d87c00b00d4fe": {
          "model_module": "@jupyter-widgets/base",
          "model_name": "LayoutModel",
          "state": {
            "_view_name": "LayoutView",
            "grid_template_rows": null,
            "right": null,
            "justify_content": null,
            "_view_module": "@jupyter-widgets/base",
            "overflow": null,
            "_model_module_version": "1.2.0",
            "_view_count": null,
            "flex_flow": null,
            "width": null,
            "min_width": null,
            "border": null,
            "align_items": null,
            "bottom": null,
            "_model_module": "@jupyter-widgets/base",
            "top": null,
            "grid_column": null,
            "overflow_y": null,
            "overflow_x": null,
            "grid_auto_flow": null,
            "grid_area": null,
            "grid_template_columns": null,
            "flex": null,
            "_model_name": "LayoutModel",
            "justify_items": null,
            "grid_row": null,
            "max_height": null,
            "align_content": null,
            "visibility": null,
            "align_self": null,
            "height": null,
            "min_height": null,
            "padding": null,
            "grid_auto_rows": null,
            "grid_gap": null,
            "max_width": null,
            "order": null,
            "_view_module_version": "1.2.0",
            "grid_template_areas": null,
            "object_position": null,
            "object_fit": null,
            "grid_auto_columns": null,
            "margin": null,
            "display": null,
            "left": null
          }
        },
        "9046e6825f9f493796c7bd16e4955122": {
          "model_module": "@jupyter-widgets/controls",
          "model_name": "VBoxModel",
          "state": {
            "_view_name": "VBoxView",
            "_dom_classes": [],
            "_model_name": "VBoxModel",
            "_view_module": "@jupyter-widgets/controls",
            "_model_module_version": "1.5.0",
            "_view_count": null,
            "_view_module_version": "1.5.0",
            "box_style": "",
            "layout": "IPY_MODEL_5784f064fb0744d7bb4f416add5ba067",
            "_model_module": "@jupyter-widgets/controls",
            "children": [
              "IPY_MODEL_175033f4fec443c39df9cea260c87aff",
              "IPY_MODEL_579f52b82a644b9ea366f506d8373d32"
            ]
          }
        },
        "f01a1f1e57504d2e9edde21be1ed5351": {
          "model_module": "@jupyter-widgets/controls",
          "model_name": "VBoxModel",
          "state": {
            "_view_name": "VBoxView",
            "_dom_classes": [],
            "_model_name": "VBoxModel",
            "_view_module": "@jupyter-widgets/controls",
            "_model_module_version": "1.5.0",
            "_view_count": null,
            "_view_module_version": "1.5.0",
            "box_style": "",
            "layout": "IPY_MODEL_5784f064fb0744d7bb4f416add5ba067",
            "_model_module": "@jupyter-widgets/controls",
            "children": [
              "IPY_MODEL_2a70bbded7df40edb2fac1f494530982",
              "IPY_MODEL_9d52b89b60ac4cfba5855eed7d47cbe4"
            ]
          }
        },
        "5784f064fb0744d7bb4f416add5ba067": {
          "model_module": "@jupyter-widgets/base",
          "model_name": "LayoutModel",
          "state": {
            "_view_name": "LayoutView",
            "grid_template_rows": null,
            "right": null,
            "justify_content": null,
            "_view_module": "@jupyter-widgets/base",
            "overflow": null,
            "_model_module_version": "1.2.0",
            "_view_count": null,
            "flex_flow": null,
            "width": "auto",
            "min_width": null,
            "border": null,
            "align_items": null,
            "bottom": null,
            "_model_module": "@jupyter-widgets/base",
            "top": null,
            "grid_column": null,
            "overflow_y": null,
            "overflow_x": "hidden",
            "grid_auto_flow": null,
            "grid_area": null,
            "grid_template_columns": null,
            "flex": null,
            "_model_name": "LayoutModel",
            "justify_items": null,
            "grid_row": null,
            "max_height": null,
            "align_content": null,
            "visibility": null,
            "align_self": null,
            "height": "300px",
            "min_height": null,
            "padding": null,
            "grid_auto_rows": null,
            "grid_gap": null,
            "max_width": null,
            "order": null,
            "_view_module_version": "1.2.0",
            "grid_template_areas": null,
            "object_position": null,
            "object_fit": null,
            "grid_auto_columns": null,
            "margin": null,
            "display": null,
            "left": null
          }
        },
        "175033f4fec443c39df9cea260c87aff": {
          "model_module": "@jupyter-widgets/controls",
          "model_name": "ImageModel",
          "state": {
            "_view_name": "ImageView",
            "_dom_classes": [],
            "_model_name": "ImageModel",
            "format": "jpg",
            "_view_module": "@jupyter-widgets/controls",
            "_model_module_version": "1.5.0",
            "_view_count": null,
            "width": "",
            "_view_module_version": "1.5.0",
            "layout": "IPY_MODEL_f8a95b9928a047eaac340a25c25d6b72",
            "height": "",
            "_model_module": "@jupyter-widgets/controls"
          }
        },
        "579f52b82a644b9ea366f506d8373d32": {
          "model_module": "@jupyter-widgets/controls",
          "model_name": "ButtonModel",
          "state": {
            "_view_name": "ButtonView",
            "style": "IPY_MODEL_6917fbd32e964265a511fa799db3edaa",
            "_dom_classes": [],
            "description": "Delete",
            "_model_name": "ButtonModel",
            "button_style": "",
            "_view_module": "@jupyter-widgets/controls",
            "_model_module_version": "1.5.0",
            "tooltip": "",
            "_view_count": null,
            "disabled": false,
            "_view_module_version": "1.5.0",
            "layout": "IPY_MODEL_bcfc7057e0db460ca181995c4bbeb0c6",
            "_model_module": "@jupyter-widgets/controls",
            "icon": ""
          }
        },
        "2a70bbded7df40edb2fac1f494530982": {
          "model_module": "@jupyter-widgets/controls",
          "model_name": "ImageModel",
          "state": {
            "_view_name": "ImageView",
            "_dom_classes": [],
            "_model_name": "ImageModel",
            "format": "jpg",
            "_view_module": "@jupyter-widgets/controls",
            "_model_module_version": "1.5.0",
            "_view_count": null,
            "width": "",
            "_view_module_version": "1.5.0",
            "layout": "IPY_MODEL_f8a95b9928a047eaac340a25c25d6b72",
            "height": "",
            "_model_module": "@jupyter-widgets/controls"
          }
        },
        "9d52b89b60ac4cfba5855eed7d47cbe4": {
          "model_module": "@jupyter-widgets/controls",
          "model_name": "ButtonModel",
          "state": {
            "_view_name": "ButtonView",
            "style": "IPY_MODEL_db21dc740422496991cc10ad46e6e887",
            "_dom_classes": [],
            "description": "Delete",
            "_model_name": "ButtonModel",
            "button_style": "danger",
            "_view_module": "@jupyter-widgets/controls",
            "_model_module_version": "1.5.0",
            "tooltip": "",
            "_view_count": null,
            "disabled": false,
            "_view_module_version": "1.5.0",
            "layout": "IPY_MODEL_bcfc7057e0db460ca181995c4bbeb0c6",
            "_model_module": "@jupyter-widgets/controls",
            "icon": ""
          }
        },
        "f8a95b9928a047eaac340a25c25d6b72": {
          "model_module": "@jupyter-widgets/base",
          "model_name": "LayoutModel",
          "state": {
            "_view_name": "LayoutView",
            "grid_template_rows": null,
            "right": null,
            "justify_content": null,
            "_view_module": "@jupyter-widgets/base",
            "overflow": null,
            "_model_module_version": "1.2.0",
            "_view_count": null,
            "flex_flow": null,
            "width": "300px",
            "min_width": null,
            "border": null,
            "align_items": null,
            "bottom": null,
            "_model_module": "@jupyter-widgets/base",
            "top": null,
            "grid_column": null,
            "overflow_y": null,
            "overflow_x": null,
            "grid_auto_flow": null,
            "grid_area": null,
            "grid_template_columns": null,
            "flex": null,
            "_model_name": "LayoutModel",
            "justify_items": null,
            "grid_row": null,
            "max_height": null,
            "align_content": null,
            "visibility": null,
            "align_self": null,
            "height": "250px",
            "min_height": null,
            "padding": null,
            "grid_auto_rows": null,
            "grid_gap": null,
            "max_width": null,
            "order": null,
            "_view_module_version": "1.2.0",
            "grid_template_areas": null,
            "object_position": null,
            "object_fit": null,
            "grid_auto_columns": null,
            "margin": null,
            "display": null,
            "left": null
          }
        },
        "6917fbd32e964265a511fa799db3edaa": {
          "model_module": "@jupyter-widgets/controls",
          "model_name": "ButtonStyleModel",
          "state": {
            "_view_name": "StyleView",
            "_model_name": "ButtonStyleModel",
            "_view_module": "@jupyter-widgets/base",
            "_model_module_version": "1.5.0",
            "_view_count": null,
            "button_color": null,
            "font_weight": "",
            "_view_module_version": "1.2.0",
            "_model_module": "@jupyter-widgets/controls"
          }
        },
        "bcfc7057e0db460ca181995c4bbeb0c6": {
          "model_module": "@jupyter-widgets/base",
          "model_name": "LayoutModel",
          "state": {
            "_view_name": "LayoutView",
            "grid_template_rows": null,
            "right": null,
            "justify_content": null,
            "_view_module": "@jupyter-widgets/base",
            "overflow": null,
            "_model_module_version": "1.2.0",
            "_view_count": null,
            "flex_flow": null,
            "width": "auto",
            "min_width": null,
            "border": null,
            "align_items": null,
            "bottom": null,
            "_model_module": "@jupyter-widgets/base",
            "top": null,
            "grid_column": null,
            "overflow_y": null,
            "overflow_x": null,
            "grid_auto_flow": null,
            "grid_area": null,
            "grid_template_columns": null,
            "flex": null,
            "_model_name": "LayoutModel",
            "justify_items": null,
            "grid_row": null,
            "max_height": null,
            "align_content": null,
            "visibility": null,
            "align_self": null,
            "height": null,
            "min_height": null,
            "padding": null,
            "grid_auto_rows": null,
            "grid_gap": null,
            "max_width": null,
            "order": null,
            "_view_module_version": "1.2.0",
            "grid_template_areas": null,
            "object_position": null,
            "object_fit": null,
            "grid_auto_columns": null,
            "margin": null,
            "display": null,
            "left": null
          }
        },
        "db21dc740422496991cc10ad46e6e887": {
          "model_module": "@jupyter-widgets/controls",
          "model_name": "ButtonStyleModel",
          "state": {
            "_view_name": "StyleView",
            "_model_name": "ButtonStyleModel",
            "_view_module": "@jupyter-widgets/base",
            "_model_module_version": "1.5.0",
            "_view_count": null,
            "button_color": null,
            "font_weight": "",
            "_view_module_version": "1.2.0",
            "_model_module": "@jupyter-widgets/controls"
          }
        },
        "4b31a6ab9dc44caa9f80352da7806ac6": {
          "model_module": "@jupyter-widgets/controls",
          "model_name": "ButtonModel",
          "state": {
            "_view_name": "ButtonView",
            "style": "IPY_MODEL_7356f028333343b8953089a23b7b5f77",
            "_dom_classes": [],
            "description": "Next Batch",
            "_model_name": "ButtonModel",
            "button_style": "primary",
            "_view_module": "@jupyter-widgets/controls",
            "_model_module_version": "1.5.0",
            "tooltip": "",
            "_view_count": null,
            "disabled": false,
            "_view_module_version": "1.5.0",
            "layout": "IPY_MODEL_bcfc7057e0db460ca181995c4bbeb0c6",
            "_model_module": "@jupyter-widgets/controls",
            "icon": ""
          }
        },
        "7356f028333343b8953089a23b7b5f77": {
          "model_module": "@jupyter-widgets/controls",
          "model_name": "ButtonStyleModel",
          "state": {
            "_view_name": "StyleView",
            "_model_name": "ButtonStyleModel",
            "_view_module": "@jupyter-widgets/base",
            "_model_module_version": "1.5.0",
            "_view_count": null,
            "button_color": null,
            "font_weight": "",
            "_view_module_version": "1.2.0",
            "_model_module": "@jupyter-widgets/controls"
          }
        },
        "70346e96f0144a4ba8096483c6b75527": {
          "model_module": "@jupyter-widgets/controls",
          "model_name": "HBoxModel",
          "state": {
            "_view_name": "HBoxView",
            "_dom_classes": [],
            "_model_name": "HBoxModel",
            "_view_module": "@jupyter-widgets/controls",
            "_model_module_version": "1.5.0",
            "_view_count": null,
            "_view_module_version": "1.5.0",
            "box_style": "",
            "layout": "IPY_MODEL_31c0fadcdc5a43cfaf2d87c00b00d4fe",
            "_model_module": "@jupyter-widgets/controls",
            "children": [
              "IPY_MODEL_3c8da9c0d6e54af193d22c93a16b62c9",
              "IPY_MODEL_e8e4727d55714a03b69bf758b3a835f1"
            ]
          }
        },
        "3c8da9c0d6e54af193d22c93a16b62c9": {
          "model_module": "@jupyter-widgets/controls",
          "model_name": "VBoxModel",
          "state": {
            "_view_name": "VBoxView",
            "_dom_classes": [],
            "_model_name": "VBoxModel",
            "_view_module": "@jupyter-widgets/controls",
            "_model_module_version": "1.5.0",
            "_view_count": null,
            "_view_module_version": "1.5.0",
            "box_style": "",
            "layout": "IPY_MODEL_5784f064fb0744d7bb4f416add5ba067",
            "_model_module": "@jupyter-widgets/controls",
            "children": [
              "IPY_MODEL_a390e9d1f5ec4c4daa9fc3afa3e89361",
              "IPY_MODEL_8d438eef494b4d15835eab5330088ba6"
            ]
          }
        },
        "e8e4727d55714a03b69bf758b3a835f1": {
          "model_module": "@jupyter-widgets/controls",
          "model_name": "VBoxModel",
          "state": {
            "_view_name": "VBoxView",
            "_dom_classes": [],
            "_model_name": "VBoxModel",
            "_view_module": "@jupyter-widgets/controls",
            "_model_module_version": "1.5.0",
            "_view_count": null,
            "_view_module_version": "1.5.0",
            "box_style": "",
            "layout": "IPY_MODEL_5784f064fb0744d7bb4f416add5ba067",
            "_model_module": "@jupyter-widgets/controls",
            "children": [
              "IPY_MODEL_4f3f197d08984a49b73301da39cd0496",
              "IPY_MODEL_16eec165b2a44c0e8f31250525c44018"
            ]
          }
        },
        "a390e9d1f5ec4c4daa9fc3afa3e89361": {
          "model_module": "@jupyter-widgets/controls",
          "model_name": "ImageModel",
          "state": {
            "_view_name": "ImageView",
            "_dom_classes": [],
            "_model_name": "ImageModel",
            "format": "jpg",
            "_view_module": "@jupyter-widgets/controls",
            "_model_module_version": "1.5.0",
            "_view_count": null,
            "width": "",
            "_view_module_version": "1.5.0",
            "layout": "IPY_MODEL_f8a95b9928a047eaac340a25c25d6b72",
            "height": "",
            "_model_module": "@jupyter-widgets/controls"
          }
        },
        "8d438eef494b4d15835eab5330088ba6": {
          "model_module": "@jupyter-widgets/controls",
          "model_name": "ButtonModel",
          "state": {
            "_view_name": "ButtonView",
            "style": "IPY_MODEL_23bf344dc43a4257b00bd8910ae6c207",
            "_dom_classes": [],
            "description": "Delete",
            "_model_name": "ButtonModel",
            "button_style": "",
            "_view_module": "@jupyter-widgets/controls",
            "_model_module_version": "1.5.0",
            "tooltip": "",
            "_view_count": null,
            "disabled": false,
            "_view_module_version": "1.5.0",
            "layout": "IPY_MODEL_bcfc7057e0db460ca181995c4bbeb0c6",
            "_model_module": "@jupyter-widgets/controls",
            "icon": ""
          }
        },
        "4f3f197d08984a49b73301da39cd0496": {
          "model_module": "@jupyter-widgets/controls",
          "model_name": "ImageModel",
          "state": {
            "_view_name": "ImageView",
            "_dom_classes": [],
            "_model_name": "ImageModel",
            "format": "jpg",
            "_view_module": "@jupyter-widgets/controls",
            "_model_module_version": "1.5.0",
            "_view_count": null,
            "width": "",
            "_view_module_version": "1.5.0",
            "layout": "IPY_MODEL_f8a95b9928a047eaac340a25c25d6b72",
            "height": "",
            "_model_module": "@jupyter-widgets/controls"
          }
        },
        "16eec165b2a44c0e8f31250525c44018": {
          "model_module": "@jupyter-widgets/controls",
          "model_name": "ButtonModel",
          "state": {
            "_view_name": "ButtonView",
            "style": "IPY_MODEL_95ba234d27b244e190135bfbea1d29c6",
            "_dom_classes": [],
            "description": "Delete",
            "_model_name": "ButtonModel",
            "button_style": "danger",
            "_view_module": "@jupyter-widgets/controls",
            "_model_module_version": "1.5.0",
            "tooltip": "",
            "_view_count": null,
            "disabled": false,
            "_view_module_version": "1.5.0",
            "layout": "IPY_MODEL_bcfc7057e0db460ca181995c4bbeb0c6",
            "_model_module": "@jupyter-widgets/controls",
            "icon": ""
          }
        },
        "23bf344dc43a4257b00bd8910ae6c207": {
          "model_module": "@jupyter-widgets/controls",
          "model_name": "ButtonStyleModel",
          "state": {
            "_view_name": "StyleView",
            "_model_name": "ButtonStyleModel",
            "_view_module": "@jupyter-widgets/base",
            "_model_module_version": "1.5.0",
            "_view_count": null,
            "button_color": null,
            "font_weight": "",
            "_view_module_version": "1.2.0",
            "_model_module": "@jupyter-widgets/controls"
          }
        },
        "95ba234d27b244e190135bfbea1d29c6": {
          "model_module": "@jupyter-widgets/controls",
          "model_name": "ButtonStyleModel",
          "state": {
            "_view_name": "StyleView",
            "_model_name": "ButtonStyleModel",
            "_view_module": "@jupyter-widgets/base",
            "_model_module_version": "1.5.0",
            "_view_count": null,
            "button_color": null,
            "font_weight": "",
            "_view_module_version": "1.2.0",
            "_model_module": "@jupyter-widgets/controls"
          }
        },
        "58f8226923dd43dd8089dae243b31d04": {
          "model_module": "@jupyter-widgets/controls",
          "model_name": "ButtonModel",
          "state": {
            "_view_name": "ButtonView",
            "style": "IPY_MODEL_c0dba9ba1198436b9e889ea9545b1340",
            "_dom_classes": [],
            "description": "Next Batch",
            "_model_name": "ButtonModel",
            "button_style": "primary",
            "_view_module": "@jupyter-widgets/controls",
            "_model_module_version": "1.5.0",
            "tooltip": "",
            "_view_count": null,
            "disabled": false,
            "_view_module_version": "1.5.0",
            "layout": "IPY_MODEL_bcfc7057e0db460ca181995c4bbeb0c6",
            "_model_module": "@jupyter-widgets/controls",
            "icon": ""
          }
        },
        "c0dba9ba1198436b9e889ea9545b1340": {
          "model_module": "@jupyter-widgets/controls",
          "model_name": "ButtonStyleModel",
          "state": {
            "_view_name": "StyleView",
            "_model_name": "ButtonStyleModel",
            "_view_module": "@jupyter-widgets/base",
            "_model_module_version": "1.5.0",
            "_view_count": null,
            "button_color": null,
            "font_weight": "",
            "_view_module_version": "1.2.0",
            "_model_module": "@jupyter-widgets/controls"
          }
        },
        "a486840348bf4053a5b8e8dfebc2971f": {
          "model_module": "@jupyter-widgets/controls",
          "model_name": "HBoxModel",
          "state": {
            "_view_name": "HBoxView",
            "_dom_classes": [],
            "_model_name": "HBoxModel",
            "_view_module": "@jupyter-widgets/controls",
            "_model_module_version": "1.5.0",
            "_view_count": null,
            "_view_module_version": "1.5.0",
            "box_style": "",
            "layout": "IPY_MODEL_31c0fadcdc5a43cfaf2d87c00b00d4fe",
            "_model_module": "@jupyter-widgets/controls",
            "children": [
              "IPY_MODEL_54648117c6b8469d8ac7ad359392ee30",
              "IPY_MODEL_7e7f7f67faae4d249c862ef957804d46"
            ]
          }
        },
        "54648117c6b8469d8ac7ad359392ee30": {
          "model_module": "@jupyter-widgets/controls",
          "model_name": "VBoxModel",
          "state": {
            "_view_name": "VBoxView",
            "_dom_classes": [],
            "_model_name": "VBoxModel",
            "_view_module": "@jupyter-widgets/controls",
            "_model_module_version": "1.5.0",
            "_view_count": null,
            "_view_module_version": "1.5.0",
            "box_style": "",
            "layout": "IPY_MODEL_5784f064fb0744d7bb4f416add5ba067",
            "_model_module": "@jupyter-widgets/controls",
            "children": [
              "IPY_MODEL_8b1140057afb4284a6f8997d64214f8e",
              "IPY_MODEL_8749faebe22f43009816b2f3856d27cf"
            ]
          }
        },
        "7e7f7f67faae4d249c862ef957804d46": {
          "model_module": "@jupyter-widgets/controls",
          "model_name": "VBoxModel",
          "state": {
            "_view_name": "VBoxView",
            "_dom_classes": [],
            "_model_name": "VBoxModel",
            "_view_module": "@jupyter-widgets/controls",
            "_model_module_version": "1.5.0",
            "_view_count": null,
            "_view_module_version": "1.5.0",
            "box_style": "",
            "layout": "IPY_MODEL_5784f064fb0744d7bb4f416add5ba067",
            "_model_module": "@jupyter-widgets/controls",
            "children": [
              "IPY_MODEL_fd94cb96ab26428c972c3c9bbece30e0",
              "IPY_MODEL_816db8c3e6dd46b6973fa903ffb0b56b"
            ]
          }
        },
        "8b1140057afb4284a6f8997d64214f8e": {
          "model_module": "@jupyter-widgets/controls",
          "model_name": "ImageModel",
          "state": {
            "_view_name": "ImageView",
            "_dom_classes": [],
            "_model_name": "ImageModel",
            "format": "jpg",
            "_view_module": "@jupyter-widgets/controls",
            "_model_module_version": "1.5.0",
            "_view_count": null,
            "width": "",
            "_view_module_version": "1.5.0",
            "layout": "IPY_MODEL_f8a95b9928a047eaac340a25c25d6b72",
            "height": "",
            "_model_module": "@jupyter-widgets/controls"
          }
        },
        "8749faebe22f43009816b2f3856d27cf": {
          "model_module": "@jupyter-widgets/controls",
          "model_name": "ButtonModel",
          "state": {
            "_view_name": "ButtonView",
            "style": "IPY_MODEL_3ccd67ed5c7147aba65c3aa4fbbd7405",
            "_dom_classes": [],
            "description": "Delete",
            "_model_name": "ButtonModel",
            "button_style": "",
            "_view_module": "@jupyter-widgets/controls",
            "_model_module_version": "1.5.0",
            "tooltip": "",
            "_view_count": null,
            "disabled": false,
            "_view_module_version": "1.5.0",
            "layout": "IPY_MODEL_bcfc7057e0db460ca181995c4bbeb0c6",
            "_model_module": "@jupyter-widgets/controls",
            "icon": ""
          }
        },
        "fd94cb96ab26428c972c3c9bbece30e0": {
          "model_module": "@jupyter-widgets/controls",
          "model_name": "ImageModel",
          "state": {
            "_view_name": "ImageView",
            "_dom_classes": [],
            "_model_name": "ImageModel",
            "format": "jpg",
            "_view_module": "@jupyter-widgets/controls",
            "_model_module_version": "1.5.0",
            "_view_count": null,
            "width": "",
            "_view_module_version": "1.5.0",
            "layout": "IPY_MODEL_f8a95b9928a047eaac340a25c25d6b72",
            "height": "",
            "_model_module": "@jupyter-widgets/controls"
          }
        },
        "816db8c3e6dd46b6973fa903ffb0b56b": {
          "model_module": "@jupyter-widgets/controls",
          "model_name": "ButtonModel",
          "state": {
            "_view_name": "ButtonView",
            "style": "IPY_MODEL_91bb8ad4227449229b0cf4e072bbbafe",
            "_dom_classes": [],
            "description": "Delete",
            "_model_name": "ButtonModel",
            "button_style": "",
            "_view_module": "@jupyter-widgets/controls",
            "_model_module_version": "1.5.0",
            "tooltip": "",
            "_view_count": null,
            "disabled": false,
            "_view_module_version": "1.5.0",
            "layout": "IPY_MODEL_bcfc7057e0db460ca181995c4bbeb0c6",
            "_model_module": "@jupyter-widgets/controls",
            "icon": ""
          }
        },
        "3ccd67ed5c7147aba65c3aa4fbbd7405": {
          "model_module": "@jupyter-widgets/controls",
          "model_name": "ButtonStyleModel",
          "state": {
            "_view_name": "StyleView",
            "_model_name": "ButtonStyleModel",
            "_view_module": "@jupyter-widgets/base",
            "_model_module_version": "1.5.0",
            "_view_count": null,
            "button_color": null,
            "font_weight": "",
            "_view_module_version": "1.2.0",
            "_model_module": "@jupyter-widgets/controls"
          }
        },
        "91bb8ad4227449229b0cf4e072bbbafe": {
          "model_module": "@jupyter-widgets/controls",
          "model_name": "ButtonStyleModel",
          "state": {
            "_view_name": "StyleView",
            "_model_name": "ButtonStyleModel",
            "_view_module": "@jupyter-widgets/base",
            "_model_module_version": "1.5.0",
            "_view_count": null,
            "button_color": null,
            "font_weight": "",
            "_view_module_version": "1.2.0",
            "_model_module": "@jupyter-widgets/controls"
          }
        },
        "8c1591055138483d93a41858f0580002": {
          "model_module": "@jupyter-widgets/controls",
          "model_name": "ButtonModel",
          "state": {
            "_view_name": "ButtonView",
            "style": "IPY_MODEL_930adf480d174432a5a9b6fb41450b3f",
            "_dom_classes": [],
            "description": "Next Batch",
            "_model_name": "ButtonModel",
            "button_style": "primary",
            "_view_module": "@jupyter-widgets/controls",
            "_model_module_version": "1.5.0",
            "tooltip": "",
            "_view_count": null,
            "disabled": false,
            "_view_module_version": "1.5.0",
            "layout": "IPY_MODEL_bcfc7057e0db460ca181995c4bbeb0c6",
            "_model_module": "@jupyter-widgets/controls",
            "icon": ""
          }
        },
        "930adf480d174432a5a9b6fb41450b3f": {
          "model_module": "@jupyter-widgets/controls",
          "model_name": "ButtonStyleModel",
          "state": {
            "_view_name": "StyleView",
            "_model_name": "ButtonStyleModel",
            "_view_module": "@jupyter-widgets/base",
            "_model_module_version": "1.5.0",
            "_view_count": null,
            "button_color": null,
            "font_weight": "",
            "_view_module_version": "1.2.0",
            "_model_module": "@jupyter-widgets/controls"
          }
        },
        "41b340de53f3483d9b33079850f72878": {
          "model_module": "@jupyter-widgets/controls",
          "model_name": "HBoxModel",
          "state": {
            "_view_name": "HBoxView",
            "_dom_classes": [],
            "_model_name": "HBoxModel",
            "_view_module": "@jupyter-widgets/controls",
            "_model_module_version": "1.5.0",
            "_view_count": null,
            "_view_module_version": "1.5.0",
            "box_style": "",
            "layout": "IPY_MODEL_31c0fadcdc5a43cfaf2d87c00b00d4fe",
            "_model_module": "@jupyter-widgets/controls",
            "children": [
              "IPY_MODEL_afaf7a4fd68447c59e9dd87ef018d1de",
              "IPY_MODEL_51e3f657636f410f9dee097702fa3a6c"
            ]
          }
        },
        "afaf7a4fd68447c59e9dd87ef018d1de": {
          "model_module": "@jupyter-widgets/controls",
          "model_name": "VBoxModel",
          "state": {
            "_view_name": "VBoxView",
            "_dom_classes": [],
            "_model_name": "VBoxModel",
            "_view_module": "@jupyter-widgets/controls",
            "_model_module_version": "1.5.0",
            "_view_count": null,
            "_view_module_version": "1.5.0",
            "box_style": "",
            "layout": "IPY_MODEL_5784f064fb0744d7bb4f416add5ba067",
            "_model_module": "@jupyter-widgets/controls",
            "children": [
              "IPY_MODEL_aad94b6d28e04bf9a24f1f71021020a4",
              "IPY_MODEL_56fc893badde40009a4fa0c994eddb52"
            ]
          }
        },
        "51e3f657636f410f9dee097702fa3a6c": {
          "model_module": "@jupyter-widgets/controls",
          "model_name": "VBoxModel",
          "state": {
            "_view_name": "VBoxView",
            "_dom_classes": [],
            "_model_name": "VBoxModel",
            "_view_module": "@jupyter-widgets/controls",
            "_model_module_version": "1.5.0",
            "_view_count": null,
            "_view_module_version": "1.5.0",
            "box_style": "",
            "layout": "IPY_MODEL_5784f064fb0744d7bb4f416add5ba067",
            "_model_module": "@jupyter-widgets/controls",
            "children": [
              "IPY_MODEL_5877c88145cd455183945d790e2302a4",
              "IPY_MODEL_158dbb89e39e4e40b9ead98a8614aafa"
            ]
          }
        },
        "aad94b6d28e04bf9a24f1f71021020a4": {
          "model_module": "@jupyter-widgets/controls",
          "model_name": "ImageModel",
          "state": {
            "_view_name": "ImageView",
            "_dom_classes": [],
            "_model_name": "ImageModel",
            "format": "jpg",
            "_view_module": "@jupyter-widgets/controls",
            "_model_module_version": "1.5.0",
            "_view_count": null,
            "width": "",
            "_view_module_version": "1.5.0",
            "layout": "IPY_MODEL_f8a95b9928a047eaac340a25c25d6b72",
            "height": "",
            "_model_module": "@jupyter-widgets/controls"
          }
        },
        "56fc893badde40009a4fa0c994eddb52": {
          "model_module": "@jupyter-widgets/controls",
          "model_name": "ButtonModel",
          "state": {
            "_view_name": "ButtonView",
            "style": "IPY_MODEL_2fba053be2a2417494947dd4f61e681d",
            "_dom_classes": [],
            "description": "Delete",
            "_model_name": "ButtonModel",
            "button_style": "",
            "_view_module": "@jupyter-widgets/controls",
            "_model_module_version": "1.5.0",
            "tooltip": "",
            "_view_count": null,
            "disabled": false,
            "_view_module_version": "1.5.0",
            "layout": "IPY_MODEL_bcfc7057e0db460ca181995c4bbeb0c6",
            "_model_module": "@jupyter-widgets/controls",
            "icon": ""
          }
        },
        "5877c88145cd455183945d790e2302a4": {
          "model_module": "@jupyter-widgets/controls",
          "model_name": "ImageModel",
          "state": {
            "_view_name": "ImageView",
            "_dom_classes": [],
            "_model_name": "ImageModel",
            "format": "jpg",
            "_view_module": "@jupyter-widgets/controls",
            "_model_module_version": "1.5.0",
            "_view_count": null,
            "width": "",
            "_view_module_version": "1.5.0",
            "layout": "IPY_MODEL_f8a95b9928a047eaac340a25c25d6b72",
            "height": "",
            "_model_module": "@jupyter-widgets/controls"
          }
        },
        "158dbb89e39e4e40b9ead98a8614aafa": {
          "model_module": "@jupyter-widgets/controls",
          "model_name": "ButtonModel",
          "state": {
            "_view_name": "ButtonView",
            "style": "IPY_MODEL_a6e6f684626c439985ff5227037c4a51",
            "_dom_classes": [],
            "description": "Delete",
            "_model_name": "ButtonModel",
            "button_style": "danger",
            "_view_module": "@jupyter-widgets/controls",
            "_model_module_version": "1.5.0",
            "tooltip": "",
            "_view_count": null,
            "disabled": false,
            "_view_module_version": "1.5.0",
            "layout": "IPY_MODEL_bcfc7057e0db460ca181995c4bbeb0c6",
            "_model_module": "@jupyter-widgets/controls",
            "icon": ""
          }
        },
        "2fba053be2a2417494947dd4f61e681d": {
          "model_module": "@jupyter-widgets/controls",
          "model_name": "ButtonStyleModel",
          "state": {
            "_view_name": "StyleView",
            "_model_name": "ButtonStyleModel",
            "_view_module": "@jupyter-widgets/base",
            "_model_module_version": "1.5.0",
            "_view_count": null,
            "button_color": null,
            "font_weight": "",
            "_view_module_version": "1.2.0",
            "_model_module": "@jupyter-widgets/controls"
          }
        },
        "a6e6f684626c439985ff5227037c4a51": {
          "model_module": "@jupyter-widgets/controls",
          "model_name": "ButtonStyleModel",
          "state": {
            "_view_name": "StyleView",
            "_model_name": "ButtonStyleModel",
            "_view_module": "@jupyter-widgets/base",
            "_model_module_version": "1.5.0",
            "_view_count": null,
            "button_color": null,
            "font_weight": "",
            "_view_module_version": "1.2.0",
            "_model_module": "@jupyter-widgets/controls"
          }
        },
        "c32da5dd4481406eadf87e206beca81b": {
          "model_module": "@jupyter-widgets/controls",
          "model_name": "ButtonModel",
          "state": {
            "_view_name": "ButtonView",
            "style": "IPY_MODEL_6eee88a0def549e391d3ff1ce955db11",
            "_dom_classes": [],
            "description": "Next Batch",
            "_model_name": "ButtonModel",
            "button_style": "primary",
            "_view_module": "@jupyter-widgets/controls",
            "_model_module_version": "1.5.0",
            "tooltip": "",
            "_view_count": null,
            "disabled": false,
            "_view_module_version": "1.5.0",
            "layout": "IPY_MODEL_bcfc7057e0db460ca181995c4bbeb0c6",
            "_model_module": "@jupyter-widgets/controls",
            "icon": ""
          }
        },
        "6eee88a0def549e391d3ff1ce955db11": {
          "model_module": "@jupyter-widgets/controls",
          "model_name": "ButtonStyleModel",
          "state": {
            "_view_name": "StyleView",
            "_model_name": "ButtonStyleModel",
            "_view_module": "@jupyter-widgets/base",
            "_model_module_version": "1.5.0",
            "_view_count": null,
            "button_color": null,
            "font_weight": "",
            "_view_module_version": "1.2.0",
            "_model_module": "@jupyter-widgets/controls"
          }
        },
        "6a2ecaf8c77e4656bdfe5f1d07494c74": {
          "model_module": "@jupyter-widgets/controls",
          "model_name": "HBoxModel",
          "state": {
            "_view_name": "HBoxView",
            "_dom_classes": [],
            "_model_name": "HBoxModel",
            "_view_module": "@jupyter-widgets/controls",
            "_model_module_version": "1.5.0",
            "_view_count": null,
            "_view_module_version": "1.5.0",
            "box_style": "",
            "layout": "IPY_MODEL_31c0fadcdc5a43cfaf2d87c00b00d4fe",
            "_model_module": "@jupyter-widgets/controls",
            "children": [
              "IPY_MODEL_6fe6e705d49847e7b83b3f88cae42e4a",
              "IPY_MODEL_e9b78a5bb2a4402baa7ff863ca8fa5e5"
            ]
          }
        },
        "6fe6e705d49847e7b83b3f88cae42e4a": {
          "model_module": "@jupyter-widgets/controls",
          "model_name": "VBoxModel",
          "state": {
            "_view_name": "VBoxView",
            "_dom_classes": [],
            "_model_name": "VBoxModel",
            "_view_module": "@jupyter-widgets/controls",
            "_model_module_version": "1.5.0",
            "_view_count": null,
            "_view_module_version": "1.5.0",
            "box_style": "",
            "layout": "IPY_MODEL_5784f064fb0744d7bb4f416add5ba067",
            "_model_module": "@jupyter-widgets/controls",
            "children": [
              "IPY_MODEL_aa2b9c106d1345349982c23d09965acb",
              "IPY_MODEL_4ae2a355faca455c8af6cf8d16c2c3d9"
            ]
          }
        },
        "e9b78a5bb2a4402baa7ff863ca8fa5e5": {
          "model_module": "@jupyter-widgets/controls",
          "model_name": "VBoxModel",
          "state": {
            "_view_name": "VBoxView",
            "_dom_classes": [],
            "_model_name": "VBoxModel",
            "_view_module": "@jupyter-widgets/controls",
            "_model_module_version": "1.5.0",
            "_view_count": null,
            "_view_module_version": "1.5.0",
            "box_style": "",
            "layout": "IPY_MODEL_5784f064fb0744d7bb4f416add5ba067",
            "_model_module": "@jupyter-widgets/controls",
            "children": [
              "IPY_MODEL_07d2b77bb7764e119360d5dcf0fa5678",
              "IPY_MODEL_9f344538f144418fa2a51256e6d1245b"
            ]
          }
        },
        "aa2b9c106d1345349982c23d09965acb": {
          "model_module": "@jupyter-widgets/controls",
          "model_name": "ImageModel",
          "state": {
            "_view_name": "ImageView",
            "_dom_classes": [],
            "_model_name": "ImageModel",
            "format": "jpg",
            "_view_module": "@jupyter-widgets/controls",
            "_model_module_version": "1.5.0",
            "_view_count": null,
            "width": "",
            "_view_module_version": "1.5.0",
            "layout": "IPY_MODEL_f8a95b9928a047eaac340a25c25d6b72",
            "height": "",
            "_model_module": "@jupyter-widgets/controls"
          }
        },
        "4ae2a355faca455c8af6cf8d16c2c3d9": {
          "model_module": "@jupyter-widgets/controls",
          "model_name": "ButtonModel",
          "state": {
            "_view_name": "ButtonView",
            "style": "IPY_MODEL_78d9a380fb014d0b97f902645d341ddf",
            "_dom_classes": [],
            "description": "Delete",
            "_model_name": "ButtonModel",
            "button_style": "",
            "_view_module": "@jupyter-widgets/controls",
            "_model_module_version": "1.5.0",
            "tooltip": "",
            "_view_count": null,
            "disabled": false,
            "_view_module_version": "1.5.0",
            "layout": "IPY_MODEL_bcfc7057e0db460ca181995c4bbeb0c6",
            "_model_module": "@jupyter-widgets/controls",
            "icon": ""
          }
        },
        "07d2b77bb7764e119360d5dcf0fa5678": {
          "model_module": "@jupyter-widgets/controls",
          "model_name": "ImageModel",
          "state": {
            "_view_name": "ImageView",
            "_dom_classes": [],
            "_model_name": "ImageModel",
            "format": "jpg",
            "_view_module": "@jupyter-widgets/controls",
            "_model_module_version": "1.5.0",
            "_view_count": null,
            "width": "",
            "_view_module_version": "1.5.0",
            "layout": "IPY_MODEL_f8a95b9928a047eaac340a25c25d6b72",
            "height": "",
            "_model_module": "@jupyter-widgets/controls"
          }
        },
        "9f344538f144418fa2a51256e6d1245b": {
          "model_module": "@jupyter-widgets/controls",
          "model_name": "ButtonModel",
          "state": {
            "_view_name": "ButtonView",
            "style": "IPY_MODEL_57cd9b9c29ee41a1987170946b4249b2",
            "_dom_classes": [],
            "description": "Delete",
            "_model_name": "ButtonModel",
            "button_style": "",
            "_view_module": "@jupyter-widgets/controls",
            "_model_module_version": "1.5.0",
            "tooltip": "",
            "_view_count": null,
            "disabled": false,
            "_view_module_version": "1.5.0",
            "layout": "IPY_MODEL_bcfc7057e0db460ca181995c4bbeb0c6",
            "_model_module": "@jupyter-widgets/controls",
            "icon": ""
          }
        },
        "78d9a380fb014d0b97f902645d341ddf": {
          "model_module": "@jupyter-widgets/controls",
          "model_name": "ButtonStyleModel",
          "state": {
            "_view_name": "StyleView",
            "_model_name": "ButtonStyleModel",
            "_view_module": "@jupyter-widgets/base",
            "_model_module_version": "1.5.0",
            "_view_count": null,
            "button_color": null,
            "font_weight": "",
            "_view_module_version": "1.2.0",
            "_model_module": "@jupyter-widgets/controls"
          }
        },
        "57cd9b9c29ee41a1987170946b4249b2": {
          "model_module": "@jupyter-widgets/controls",
          "model_name": "ButtonStyleModel",
          "state": {
            "_view_name": "StyleView",
            "_model_name": "ButtonStyleModel",
            "_view_module": "@jupyter-widgets/base",
            "_model_module_version": "1.5.0",
            "_view_count": null,
            "button_color": null,
            "font_weight": "",
            "_view_module_version": "1.2.0",
            "_model_module": "@jupyter-widgets/controls"
          }
        },
        "195bb689d6c849a281c25d7a721085fe": {
          "model_module": "@jupyter-widgets/controls",
          "model_name": "ButtonModel",
          "state": {
            "_view_name": "ButtonView",
            "style": "IPY_MODEL_7326e1820fe243b3976682a9a5804fe2",
            "_dom_classes": [],
            "description": "Next Batch",
            "_model_name": "ButtonModel",
            "button_style": "primary",
            "_view_module": "@jupyter-widgets/controls",
            "_model_module_version": "1.5.0",
            "tooltip": "",
            "_view_count": null,
            "disabled": false,
            "_view_module_version": "1.5.0",
            "layout": "IPY_MODEL_bcfc7057e0db460ca181995c4bbeb0c6",
            "_model_module": "@jupyter-widgets/controls",
            "icon": ""
          }
        },
        "7326e1820fe243b3976682a9a5804fe2": {
          "model_module": "@jupyter-widgets/controls",
          "model_name": "ButtonStyleModel",
          "state": {
            "_view_name": "StyleView",
            "_model_name": "ButtonStyleModel",
            "_view_module": "@jupyter-widgets/base",
            "_model_module_version": "1.5.0",
            "_view_count": null,
            "button_color": null,
            "font_weight": "",
            "_view_module_version": "1.2.0",
            "_model_module": "@jupyter-widgets/controls"
          }
        },
        "22237189495e4b9fb1d2c5bbbbb48a92": {
          "model_module": "@jupyter-widgets/controls",
          "model_name": "HBoxModel",
          "state": {
            "_view_name": "HBoxView",
            "_dom_classes": [],
            "_model_name": "HBoxModel",
            "_view_module": "@jupyter-widgets/controls",
            "_model_module_version": "1.5.0",
            "_view_count": null,
            "_view_module_version": "1.5.0",
            "box_style": "",
            "layout": "IPY_MODEL_31c0fadcdc5a43cfaf2d87c00b00d4fe",
            "_model_module": "@jupyter-widgets/controls",
            "children": [
              "IPY_MODEL_17b3961c21f7408387772579ce260428",
              "IPY_MODEL_b201b891138748fcbfab5a4ac69d2fa2"
            ]
          }
        },
        "17b3961c21f7408387772579ce260428": {
          "model_module": "@jupyter-widgets/controls",
          "model_name": "VBoxModel",
          "state": {
            "_view_name": "VBoxView",
            "_dom_classes": [],
            "_model_name": "VBoxModel",
            "_view_module": "@jupyter-widgets/controls",
            "_model_module_version": "1.5.0",
            "_view_count": null,
            "_view_module_version": "1.5.0",
            "box_style": "",
            "layout": "IPY_MODEL_5784f064fb0744d7bb4f416add5ba067",
            "_model_module": "@jupyter-widgets/controls",
            "children": [
              "IPY_MODEL_66ec62d7f6c84d1a81067df359c6b013",
              "IPY_MODEL_2384e7cbabc74630a6aa9db3c0c7382f"
            ]
          }
        },
        "b201b891138748fcbfab5a4ac69d2fa2": {
          "model_module": "@jupyter-widgets/controls",
          "model_name": "VBoxModel",
          "state": {
            "_view_name": "VBoxView",
            "_dom_classes": [],
            "_model_name": "VBoxModel",
            "_view_module": "@jupyter-widgets/controls",
            "_model_module_version": "1.5.0",
            "_view_count": null,
            "_view_module_version": "1.5.0",
            "box_style": "",
            "layout": "IPY_MODEL_5784f064fb0744d7bb4f416add5ba067",
            "_model_module": "@jupyter-widgets/controls",
            "children": [
              "IPY_MODEL_cbe534a281e6468d83dda1e239959bb6",
              "IPY_MODEL_fc58bf5e26e64f38bffaf2dbfa7c5185"
            ]
          }
        },
        "66ec62d7f6c84d1a81067df359c6b013": {
          "model_module": "@jupyter-widgets/controls",
          "model_name": "ImageModel",
          "state": {
            "_view_name": "ImageView",
            "_dom_classes": [],
            "_model_name": "ImageModel",
            "format": "jpg",
            "_view_module": "@jupyter-widgets/controls",
            "_model_module_version": "1.5.0",
            "_view_count": null,
            "width": "",
            "_view_module_version": "1.5.0",
            "layout": "IPY_MODEL_f8a95b9928a047eaac340a25c25d6b72",
            "height": "",
            "_model_module": "@jupyter-widgets/controls"
          }
        },
        "2384e7cbabc74630a6aa9db3c0c7382f": {
          "model_module": "@jupyter-widgets/controls",
          "model_name": "ButtonModel",
          "state": {
            "_view_name": "ButtonView",
            "style": "IPY_MODEL_9f72bb8c53dc4442ba09387abe56eb3a",
            "_dom_classes": [],
            "description": "Delete",
            "_model_name": "ButtonModel",
            "button_style": "",
            "_view_module": "@jupyter-widgets/controls",
            "_model_module_version": "1.5.0",
            "tooltip": "",
            "_view_count": null,
            "disabled": false,
            "_view_module_version": "1.5.0",
            "layout": "IPY_MODEL_bcfc7057e0db460ca181995c4bbeb0c6",
            "_model_module": "@jupyter-widgets/controls",
            "icon": ""
          }
        },
        "cbe534a281e6468d83dda1e239959bb6": {
          "model_module": "@jupyter-widgets/controls",
          "model_name": "ImageModel",
          "state": {
            "_view_name": "ImageView",
            "_dom_classes": [],
            "_model_name": "ImageModel",
            "format": "jpg",
            "_view_module": "@jupyter-widgets/controls",
            "_model_module_version": "1.5.0",
            "_view_count": null,
            "width": "",
            "_view_module_version": "1.5.0",
            "layout": "IPY_MODEL_f8a95b9928a047eaac340a25c25d6b72",
            "height": "",
            "_model_module": "@jupyter-widgets/controls"
          }
        },
        "fc58bf5e26e64f38bffaf2dbfa7c5185": {
          "model_module": "@jupyter-widgets/controls",
          "model_name": "ButtonModel",
          "state": {
            "_view_name": "ButtonView",
            "style": "IPY_MODEL_46d90f21fe01469c88e3df5684032ab2",
            "_dom_classes": [],
            "description": "Delete",
            "_model_name": "ButtonModel",
            "button_style": "",
            "_view_module": "@jupyter-widgets/controls",
            "_model_module_version": "1.5.0",
            "tooltip": "",
            "_view_count": null,
            "disabled": false,
            "_view_module_version": "1.5.0",
            "layout": "IPY_MODEL_bcfc7057e0db460ca181995c4bbeb0c6",
            "_model_module": "@jupyter-widgets/controls",
            "icon": ""
          }
        },
        "9f72bb8c53dc4442ba09387abe56eb3a": {
          "model_module": "@jupyter-widgets/controls",
          "model_name": "ButtonStyleModel",
          "state": {
            "_view_name": "StyleView",
            "_model_name": "ButtonStyleModel",
            "_view_module": "@jupyter-widgets/base",
            "_model_module_version": "1.5.0",
            "_view_count": null,
            "button_color": null,
            "font_weight": "",
            "_view_module_version": "1.2.0",
            "_model_module": "@jupyter-widgets/controls"
          }
        },
        "46d90f21fe01469c88e3df5684032ab2": {
          "model_module": "@jupyter-widgets/controls",
          "model_name": "ButtonStyleModel",
          "state": {
            "_view_name": "StyleView",
            "_model_name": "ButtonStyleModel",
            "_view_module": "@jupyter-widgets/base",
            "_model_module_version": "1.5.0",
            "_view_count": null,
            "button_color": null,
            "font_weight": "",
            "_view_module_version": "1.2.0",
            "_model_module": "@jupyter-widgets/controls"
          }
        },
        "fedc6d64a37c4021bad9b95e35a818da": {
          "model_module": "@jupyter-widgets/controls",
          "model_name": "ButtonModel",
          "state": {
            "_view_name": "ButtonView",
            "style": "IPY_MODEL_3c4b4fb3a2a740d088552205d8f84c95",
            "_dom_classes": [],
            "description": "Next Batch",
            "_model_name": "ButtonModel",
            "button_style": "primary",
            "_view_module": "@jupyter-widgets/controls",
            "_model_module_version": "1.5.0",
            "tooltip": "",
            "_view_count": null,
            "disabled": false,
            "_view_module_version": "1.5.0",
            "layout": "IPY_MODEL_bcfc7057e0db460ca181995c4bbeb0c6",
            "_model_module": "@jupyter-widgets/controls",
            "icon": ""
          }
        },
        "3c4b4fb3a2a740d088552205d8f84c95": {
          "model_module": "@jupyter-widgets/controls",
          "model_name": "ButtonStyleModel",
          "state": {
            "_view_name": "StyleView",
            "_model_name": "ButtonStyleModel",
            "_view_module": "@jupyter-widgets/base",
            "_model_module_version": "1.5.0",
            "_view_count": null,
            "button_color": null,
            "font_weight": "",
            "_view_module_version": "1.2.0",
            "_model_module": "@jupyter-widgets/controls"
          }
        },
        "a95cdf6454524cd2a6cb9ef203b07528": {
          "model_module": "@jupyter-widgets/controls",
          "model_name": "HBoxModel",
          "state": {
            "_view_name": "HBoxView",
            "_dom_classes": [],
            "_model_name": "HBoxModel",
            "_view_module": "@jupyter-widgets/controls",
            "_model_module_version": "1.5.0",
            "_view_count": null,
            "_view_module_version": "1.5.0",
            "box_style": "",
            "layout": "IPY_MODEL_31c0fadcdc5a43cfaf2d87c00b00d4fe",
            "_model_module": "@jupyter-widgets/controls",
            "children": [
              "IPY_MODEL_288ce4599d3e4f06a33a20d6bab90c6c",
              "IPY_MODEL_618127aea840451585913a061891b224"
            ]
          }
        },
        "288ce4599d3e4f06a33a20d6bab90c6c": {
          "model_module": "@jupyter-widgets/controls",
          "model_name": "VBoxModel",
          "state": {
            "_view_name": "VBoxView",
            "_dom_classes": [],
            "_model_name": "VBoxModel",
            "_view_module": "@jupyter-widgets/controls",
            "_model_module_version": "1.5.0",
            "_view_count": null,
            "_view_module_version": "1.5.0",
            "box_style": "",
            "layout": "IPY_MODEL_5784f064fb0744d7bb4f416add5ba067",
            "_model_module": "@jupyter-widgets/controls",
            "children": [
              "IPY_MODEL_9e562af59bb7489eb463d5480e789510",
              "IPY_MODEL_3d395618b845415ca9e0612f0552bb54"
            ]
          }
        },
        "618127aea840451585913a061891b224": {
          "model_module": "@jupyter-widgets/controls",
          "model_name": "VBoxModel",
          "state": {
            "_view_name": "VBoxView",
            "_dom_classes": [],
            "_model_name": "VBoxModel",
            "_view_module": "@jupyter-widgets/controls",
            "_model_module_version": "1.5.0",
            "_view_count": null,
            "_view_module_version": "1.5.0",
            "box_style": "",
            "layout": "IPY_MODEL_5784f064fb0744d7bb4f416add5ba067",
            "_model_module": "@jupyter-widgets/controls",
            "children": [
              "IPY_MODEL_77d9877799404cd9b2874a4f83c7d68b",
              "IPY_MODEL_87ea9576dc5f4c919c2ead4e13cf3ae8"
            ]
          }
        },
        "9e562af59bb7489eb463d5480e789510": {
          "model_module": "@jupyter-widgets/controls",
          "model_name": "ImageModel",
          "state": {
            "_view_name": "ImageView",
            "_dom_classes": [],
            "_model_name": "ImageModel",
            "format": "jpg",
            "_view_module": "@jupyter-widgets/controls",
            "_model_module_version": "1.5.0",
            "_view_count": null,
            "width": "",
            "_view_module_version": "1.5.0",
            "layout": "IPY_MODEL_f8a95b9928a047eaac340a25c25d6b72",
            "height": "",
            "_model_module": "@jupyter-widgets/controls"
          }
        },
        "3d395618b845415ca9e0612f0552bb54": {
          "model_module": "@jupyter-widgets/controls",
          "model_name": "ButtonModel",
          "state": {
            "_view_name": "ButtonView",
            "style": "IPY_MODEL_af1a0bf63c1d4444acddc173949ab3ce",
            "_dom_classes": [],
            "description": "Delete",
            "_model_name": "ButtonModel",
            "button_style": "",
            "_view_module": "@jupyter-widgets/controls",
            "_model_module_version": "1.5.0",
            "tooltip": "",
            "_view_count": null,
            "disabled": false,
            "_view_module_version": "1.5.0",
            "layout": "IPY_MODEL_bcfc7057e0db460ca181995c4bbeb0c6",
            "_model_module": "@jupyter-widgets/controls",
            "icon": ""
          }
        },
        "77d9877799404cd9b2874a4f83c7d68b": {
          "model_module": "@jupyter-widgets/controls",
          "model_name": "ImageModel",
          "state": {
            "_view_name": "ImageView",
            "_dom_classes": [],
            "_model_name": "ImageModel",
            "format": "jpg",
            "_view_module": "@jupyter-widgets/controls",
            "_model_module_version": "1.5.0",
            "_view_count": null,
            "width": "",
            "_view_module_version": "1.5.0",
            "layout": "IPY_MODEL_f8a95b9928a047eaac340a25c25d6b72",
            "height": "",
            "_model_module": "@jupyter-widgets/controls"
          }
        },
        "87ea9576dc5f4c919c2ead4e13cf3ae8": {
          "model_module": "@jupyter-widgets/controls",
          "model_name": "ButtonModel",
          "state": {
            "_view_name": "ButtonView",
            "style": "IPY_MODEL_267fd052c51147b7927e1a8f7e0c0a21",
            "_dom_classes": [],
            "description": "Delete",
            "_model_name": "ButtonModel",
            "button_style": "",
            "_view_module": "@jupyter-widgets/controls",
            "_model_module_version": "1.5.0",
            "tooltip": "",
            "_view_count": null,
            "disabled": false,
            "_view_module_version": "1.5.0",
            "layout": "IPY_MODEL_bcfc7057e0db460ca181995c4bbeb0c6",
            "_model_module": "@jupyter-widgets/controls",
            "icon": ""
          }
        },
        "af1a0bf63c1d4444acddc173949ab3ce": {
          "model_module": "@jupyter-widgets/controls",
          "model_name": "ButtonStyleModel",
          "state": {
            "_view_name": "StyleView",
            "_model_name": "ButtonStyleModel",
            "_view_module": "@jupyter-widgets/base",
            "_model_module_version": "1.5.0",
            "_view_count": null,
            "button_color": null,
            "font_weight": "",
            "_view_module_version": "1.2.0",
            "_model_module": "@jupyter-widgets/controls"
          }
        },
        "267fd052c51147b7927e1a8f7e0c0a21": {
          "model_module": "@jupyter-widgets/controls",
          "model_name": "ButtonStyleModel",
          "state": {
            "_view_name": "StyleView",
            "_model_name": "ButtonStyleModel",
            "_view_module": "@jupyter-widgets/base",
            "_model_module_version": "1.5.0",
            "_view_count": null,
            "button_color": null,
            "font_weight": "",
            "_view_module_version": "1.2.0",
            "_model_module": "@jupyter-widgets/controls"
          }
        },
        "1d96cd77c1234758af8f4508b272967c": {
          "model_module": "@jupyter-widgets/controls",
          "model_name": "ButtonModel",
          "state": {
            "_view_name": "ButtonView",
            "style": "IPY_MODEL_bcca15054b8244568a8ccd783af7ae18",
            "_dom_classes": [],
            "description": "Next Batch",
            "_model_name": "ButtonModel",
            "button_style": "primary",
            "_view_module": "@jupyter-widgets/controls",
            "_model_module_version": "1.5.0",
            "tooltip": "",
            "_view_count": null,
            "disabled": false,
            "_view_module_version": "1.5.0",
            "layout": "IPY_MODEL_bcfc7057e0db460ca181995c4bbeb0c6",
            "_model_module": "@jupyter-widgets/controls",
            "icon": ""
          }
        },
        "bcca15054b8244568a8ccd783af7ae18": {
          "model_module": "@jupyter-widgets/controls",
          "model_name": "ButtonStyleModel",
          "state": {
            "_view_name": "StyleView",
            "_model_name": "ButtonStyleModel",
            "_view_module": "@jupyter-widgets/base",
            "_model_module_version": "1.5.0",
            "_view_count": null,
            "button_color": null,
            "font_weight": "",
            "_view_module_version": "1.2.0",
            "_model_module": "@jupyter-widgets/controls"
          }
        },
        "25b2dbe805a8484bbdbf01208f01cc68": {
          "model_module": "@jupyter-widgets/controls",
          "model_name": "HBoxModel",
          "state": {
            "_view_name": "HBoxView",
            "_dom_classes": [],
            "_model_name": "HBoxModel",
            "_view_module": "@jupyter-widgets/controls",
            "_model_module_version": "1.5.0",
            "_view_count": null,
            "_view_module_version": "1.5.0",
            "box_style": "",
            "layout": "IPY_MODEL_31c0fadcdc5a43cfaf2d87c00b00d4fe",
            "_model_module": "@jupyter-widgets/controls",
            "children": [
              "IPY_MODEL_f05c5c674c9548dab4e8e26d6651c560",
              "IPY_MODEL_cea5c344110e4b17a98281a1067c24c7"
            ]
          }
        },
        "f05c5c674c9548dab4e8e26d6651c560": {
          "model_module": "@jupyter-widgets/controls",
          "model_name": "VBoxModel",
          "state": {
            "_view_name": "VBoxView",
            "_dom_classes": [],
            "_model_name": "VBoxModel",
            "_view_module": "@jupyter-widgets/controls",
            "_model_module_version": "1.5.0",
            "_view_count": null,
            "_view_module_version": "1.5.0",
            "box_style": "",
            "layout": "IPY_MODEL_5784f064fb0744d7bb4f416add5ba067",
            "_model_module": "@jupyter-widgets/controls",
            "children": [
              "IPY_MODEL_47c47f4eeba140308357c65a073ad1ec",
              "IPY_MODEL_f0d22cd0ff684862910afb2d76d93a35"
            ]
          }
        },
        "cea5c344110e4b17a98281a1067c24c7": {
          "model_module": "@jupyter-widgets/controls",
          "model_name": "VBoxModel",
          "state": {
            "_view_name": "VBoxView",
            "_dom_classes": [],
            "_model_name": "VBoxModel",
            "_view_module": "@jupyter-widgets/controls",
            "_model_module_version": "1.5.0",
            "_view_count": null,
            "_view_module_version": "1.5.0",
            "box_style": "",
            "layout": "IPY_MODEL_5784f064fb0744d7bb4f416add5ba067",
            "_model_module": "@jupyter-widgets/controls",
            "children": [
              "IPY_MODEL_678b05ad55c64c3d8d1d87c546f26fc4",
              "IPY_MODEL_55d147305d16403c8bf44c68ad6811cd"
            ]
          }
        },
        "47c47f4eeba140308357c65a073ad1ec": {
          "model_module": "@jupyter-widgets/controls",
          "model_name": "ImageModel",
          "state": {
            "_view_name": "ImageView",
            "_dom_classes": [],
            "_model_name": "ImageModel",
            "format": "jpg",
            "_view_module": "@jupyter-widgets/controls",
            "_model_module_version": "1.5.0",
            "_view_count": null,
            "width": "",
            "_view_module_version": "1.5.0",
            "layout": "IPY_MODEL_f8a95b9928a047eaac340a25c25d6b72",
            "height": "",
            "_model_module": "@jupyter-widgets/controls"
          }
        },
        "f0d22cd0ff684862910afb2d76d93a35": {
          "model_module": "@jupyter-widgets/controls",
          "model_name": "ButtonModel",
          "state": {
            "_view_name": "ButtonView",
            "style": "IPY_MODEL_af5041f8f8134b3fbe08da8f799614ab",
            "_dom_classes": [],
            "description": "Delete",
            "_model_name": "ButtonModel",
            "button_style": "",
            "_view_module": "@jupyter-widgets/controls",
            "_model_module_version": "1.5.0",
            "tooltip": "",
            "_view_count": null,
            "disabled": false,
            "_view_module_version": "1.5.0",
            "layout": "IPY_MODEL_bcfc7057e0db460ca181995c4bbeb0c6",
            "_model_module": "@jupyter-widgets/controls",
            "icon": ""
          }
        },
        "678b05ad55c64c3d8d1d87c546f26fc4": {
          "model_module": "@jupyter-widgets/controls",
          "model_name": "ImageModel",
          "state": {
            "_view_name": "ImageView",
            "_dom_classes": [],
            "_model_name": "ImageModel",
            "format": "jpg",
            "_view_module": "@jupyter-widgets/controls",
            "_model_module_version": "1.5.0",
            "_view_count": null,
            "width": "",
            "_view_module_version": "1.5.0",
            "layout": "IPY_MODEL_f8a95b9928a047eaac340a25c25d6b72",
            "height": "",
            "_model_module": "@jupyter-widgets/controls"
          }
        },
        "55d147305d16403c8bf44c68ad6811cd": {
          "model_module": "@jupyter-widgets/controls",
          "model_name": "ButtonModel",
          "state": {
            "_view_name": "ButtonView",
            "style": "IPY_MODEL_c6625da8510642c28756e6fc2df83acd",
            "_dom_classes": [],
            "description": "Delete",
            "_model_name": "ButtonModel",
            "button_style": "danger",
            "_view_module": "@jupyter-widgets/controls",
            "_model_module_version": "1.5.0",
            "tooltip": "",
            "_view_count": null,
            "disabled": false,
            "_view_module_version": "1.5.0",
            "layout": "IPY_MODEL_bcfc7057e0db460ca181995c4bbeb0c6",
            "_model_module": "@jupyter-widgets/controls",
            "icon": ""
          }
        },
        "af5041f8f8134b3fbe08da8f799614ab": {
          "model_module": "@jupyter-widgets/controls",
          "model_name": "ButtonStyleModel",
          "state": {
            "_view_name": "StyleView",
            "_model_name": "ButtonStyleModel",
            "_view_module": "@jupyter-widgets/base",
            "_model_module_version": "1.5.0",
            "_view_count": null,
            "button_color": null,
            "font_weight": "",
            "_view_module_version": "1.2.0",
            "_model_module": "@jupyter-widgets/controls"
          }
        },
        "c6625da8510642c28756e6fc2df83acd": {
          "model_module": "@jupyter-widgets/controls",
          "model_name": "ButtonStyleModel",
          "state": {
            "_view_name": "StyleView",
            "_model_name": "ButtonStyleModel",
            "_view_module": "@jupyter-widgets/base",
            "_model_module_version": "1.5.0",
            "_view_count": null,
            "button_color": null,
            "font_weight": "",
            "_view_module_version": "1.2.0",
            "_model_module": "@jupyter-widgets/controls"
          }
        },
        "476c40cda88b463c8ac813b06516604b": {
          "model_module": "@jupyter-widgets/controls",
          "model_name": "ButtonModel",
          "state": {
            "_view_name": "ButtonView",
            "style": "IPY_MODEL_1adbbc2466644e0d9c7609726d59309f",
            "_dom_classes": [],
            "description": "Next Batch",
            "_model_name": "ButtonModel",
            "button_style": "primary",
            "_view_module": "@jupyter-widgets/controls",
            "_model_module_version": "1.5.0",
            "tooltip": "",
            "_view_count": null,
            "disabled": false,
            "_view_module_version": "1.5.0",
            "layout": "IPY_MODEL_bcfc7057e0db460ca181995c4bbeb0c6",
            "_model_module": "@jupyter-widgets/controls",
            "icon": ""
          }
        },
        "1adbbc2466644e0d9c7609726d59309f": {
          "model_module": "@jupyter-widgets/controls",
          "model_name": "ButtonStyleModel",
          "state": {
            "_view_name": "StyleView",
            "_model_name": "ButtonStyleModel",
            "_view_module": "@jupyter-widgets/base",
            "_model_module_version": "1.5.0",
            "_view_count": null,
            "button_color": null,
            "font_weight": "",
            "_view_module_version": "1.2.0",
            "_model_module": "@jupyter-widgets/controls"
          }
        },
        "d5d8e84f58bc4261a023f495d0a9f12d": {
          "model_module": "@jupyter-widgets/controls",
          "model_name": "HBoxModel",
          "state": {
            "_view_name": "HBoxView",
            "_dom_classes": [],
            "_model_name": "HBoxModel",
            "_view_module": "@jupyter-widgets/controls",
            "_model_module_version": "1.5.0",
            "_view_count": null,
            "_view_module_version": "1.5.0",
            "box_style": "",
            "layout": "IPY_MODEL_31c0fadcdc5a43cfaf2d87c00b00d4fe",
            "_model_module": "@jupyter-widgets/controls",
            "children": [
              "IPY_MODEL_2ff3e167c2c84023a1a685b6c6c0c318",
              "IPY_MODEL_a3f39d0d68ed40eeb2ed98d466a3554e"
            ]
          }
        },
        "2ff3e167c2c84023a1a685b6c6c0c318": {
          "model_module": "@jupyter-widgets/controls",
          "model_name": "VBoxModel",
          "state": {
            "_view_name": "VBoxView",
            "_dom_classes": [],
            "_model_name": "VBoxModel",
            "_view_module": "@jupyter-widgets/controls",
            "_model_module_version": "1.5.0",
            "_view_count": null,
            "_view_module_version": "1.5.0",
            "box_style": "",
            "layout": "IPY_MODEL_5784f064fb0744d7bb4f416add5ba067",
            "_model_module": "@jupyter-widgets/controls",
            "children": [
              "IPY_MODEL_92f3ff940f6c43b9999a5549546f509a",
              "IPY_MODEL_0876e4a387fe4ad3a1ec571b4d0b4375"
            ]
          }
        },
        "a3f39d0d68ed40eeb2ed98d466a3554e": {
          "model_module": "@jupyter-widgets/controls",
          "model_name": "VBoxModel",
          "state": {
            "_view_name": "VBoxView",
            "_dom_classes": [],
            "_model_name": "VBoxModel",
            "_view_module": "@jupyter-widgets/controls",
            "_model_module_version": "1.5.0",
            "_view_count": null,
            "_view_module_version": "1.5.0",
            "box_style": "",
            "layout": "IPY_MODEL_5784f064fb0744d7bb4f416add5ba067",
            "_model_module": "@jupyter-widgets/controls",
            "children": [
              "IPY_MODEL_3bf4cc45815b4cc3b09016ce6577bd8e",
              "IPY_MODEL_d8e4b9cb4ae34d539c4937baa0d3cae3"
            ]
          }
        },
        "92f3ff940f6c43b9999a5549546f509a": {
          "model_module": "@jupyter-widgets/controls",
          "model_name": "ImageModel",
          "state": {
            "_view_name": "ImageView",
            "_dom_classes": [],
            "_model_name": "ImageModel",
            "format": "jpg",
            "_view_module": "@jupyter-widgets/controls",
            "_model_module_version": "1.5.0",
            "_view_count": null,
            "width": "",
            "_view_module_version": "1.5.0",
            "layout": "IPY_MODEL_f8a95b9928a047eaac340a25c25d6b72",
            "height": "",
            "_model_module": "@jupyter-widgets/controls"
          }
        },
        "0876e4a387fe4ad3a1ec571b4d0b4375": {
          "model_module": "@jupyter-widgets/controls",
          "model_name": "ButtonModel",
          "state": {
            "_view_name": "ButtonView",
            "style": "IPY_MODEL_2331e548883f4de1a04e8ddd6da3dbbc",
            "_dom_classes": [],
            "description": "Delete",
            "_model_name": "ButtonModel",
            "button_style": "",
            "_view_module": "@jupyter-widgets/controls",
            "_model_module_version": "1.5.0",
            "tooltip": "",
            "_view_count": null,
            "disabled": false,
            "_view_module_version": "1.5.0",
            "layout": "IPY_MODEL_bcfc7057e0db460ca181995c4bbeb0c6",
            "_model_module": "@jupyter-widgets/controls",
            "icon": ""
          }
        },
        "3bf4cc45815b4cc3b09016ce6577bd8e": {
          "model_module": "@jupyter-widgets/controls",
          "model_name": "ImageModel",
          "state": {
            "_view_name": "ImageView",
            "_dom_classes": [],
            "_model_name": "ImageModel",
            "format": "jpg",
            "_view_module": "@jupyter-widgets/controls",
            "_model_module_version": "1.5.0",
            "_view_count": null,
            "width": "",
            "_view_module_version": "1.5.0",
            "layout": "IPY_MODEL_f8a95b9928a047eaac340a25c25d6b72",
            "height": "",
            "_model_module": "@jupyter-widgets/controls"
          }
        },
        "d8e4b9cb4ae34d539c4937baa0d3cae3": {
          "model_module": "@jupyter-widgets/controls",
          "model_name": "ButtonModel",
          "state": {
            "_view_name": "ButtonView",
            "style": "IPY_MODEL_33befe357c2b41aea6e88dc7f4d3ec40",
            "_dom_classes": [],
            "description": "Delete",
            "_model_name": "ButtonModel",
            "button_style": "",
            "_view_module": "@jupyter-widgets/controls",
            "_model_module_version": "1.5.0",
            "tooltip": "",
            "_view_count": null,
            "disabled": false,
            "_view_module_version": "1.5.0",
            "layout": "IPY_MODEL_bcfc7057e0db460ca181995c4bbeb0c6",
            "_model_module": "@jupyter-widgets/controls",
            "icon": ""
          }
        },
        "2331e548883f4de1a04e8ddd6da3dbbc": {
          "model_module": "@jupyter-widgets/controls",
          "model_name": "ButtonStyleModel",
          "state": {
            "_view_name": "StyleView",
            "_model_name": "ButtonStyleModel",
            "_view_module": "@jupyter-widgets/base",
            "_model_module_version": "1.5.0",
            "_view_count": null,
            "button_color": null,
            "font_weight": "",
            "_view_module_version": "1.2.0",
            "_model_module": "@jupyter-widgets/controls"
          }
        },
        "33befe357c2b41aea6e88dc7f4d3ec40": {
          "model_module": "@jupyter-widgets/controls",
          "model_name": "ButtonStyleModel",
          "state": {
            "_view_name": "StyleView",
            "_model_name": "ButtonStyleModel",
            "_view_module": "@jupyter-widgets/base",
            "_model_module_version": "1.5.0",
            "_view_count": null,
            "button_color": null,
            "font_weight": "",
            "_view_module_version": "1.2.0",
            "_model_module": "@jupyter-widgets/controls"
          }
        },
        "1ea777cd0fc54ea196d16828e9655e43": {
          "model_module": "@jupyter-widgets/controls",
          "model_name": "ButtonModel",
          "state": {
            "_view_name": "ButtonView",
            "style": "IPY_MODEL_05741a863b224a8092687a6ea45997ed",
            "_dom_classes": [],
            "description": "Next Batch",
            "_model_name": "ButtonModel",
            "button_style": "primary",
            "_view_module": "@jupyter-widgets/controls",
            "_model_module_version": "1.5.0",
            "tooltip": "",
            "_view_count": null,
            "disabled": false,
            "_view_module_version": "1.5.0",
            "layout": "IPY_MODEL_bcfc7057e0db460ca181995c4bbeb0c6",
            "_model_module": "@jupyter-widgets/controls",
            "icon": ""
          }
        },
        "05741a863b224a8092687a6ea45997ed": {
          "model_module": "@jupyter-widgets/controls",
          "model_name": "ButtonStyleModel",
          "state": {
            "_view_name": "StyleView",
            "_model_name": "ButtonStyleModel",
            "_view_module": "@jupyter-widgets/base",
            "_model_module_version": "1.5.0",
            "_view_count": null,
            "button_color": null,
            "font_weight": "",
            "_view_module_version": "1.2.0",
            "_model_module": "@jupyter-widgets/controls"
          }
        },
        "893987582e464fa2b8cbeaba5bd5fc57": {
          "model_module": "@jupyter-widgets/controls",
          "model_name": "HBoxModel",
          "state": {
            "_view_name": "HBoxView",
            "_dom_classes": [],
            "_model_name": "HBoxModel",
            "_view_module": "@jupyter-widgets/controls",
            "_model_module_version": "1.5.0",
            "_view_count": null,
            "_view_module_version": "1.5.0",
            "box_style": "",
            "layout": "IPY_MODEL_31c0fadcdc5a43cfaf2d87c00b00d4fe",
            "_model_module": "@jupyter-widgets/controls",
            "children": [
              "IPY_MODEL_cb5f0ae740e744dfb6506f83854e4917",
              "IPY_MODEL_1f27bc27d4c74264b240993d45cdde3a"
            ]
          }
        },
        "cb5f0ae740e744dfb6506f83854e4917": {
          "model_module": "@jupyter-widgets/controls",
          "model_name": "VBoxModel",
          "state": {
            "_view_name": "VBoxView",
            "_dom_classes": [],
            "_model_name": "VBoxModel",
            "_view_module": "@jupyter-widgets/controls",
            "_model_module_version": "1.5.0",
            "_view_count": null,
            "_view_module_version": "1.5.0",
            "box_style": "",
            "layout": "IPY_MODEL_5784f064fb0744d7bb4f416add5ba067",
            "_model_module": "@jupyter-widgets/controls",
            "children": [
              "IPY_MODEL_9442a1e903104fdda6ed168ee9065014",
              "IPY_MODEL_16de01be4afb407785dd7e689866e6f3"
            ]
          }
        },
        "1f27bc27d4c74264b240993d45cdde3a": {
          "model_module": "@jupyter-widgets/controls",
          "model_name": "VBoxModel",
          "state": {
            "_view_name": "VBoxView",
            "_dom_classes": [],
            "_model_name": "VBoxModel",
            "_view_module": "@jupyter-widgets/controls",
            "_model_module_version": "1.5.0",
            "_view_count": null,
            "_view_module_version": "1.5.0",
            "box_style": "",
            "layout": "IPY_MODEL_5784f064fb0744d7bb4f416add5ba067",
            "_model_module": "@jupyter-widgets/controls",
            "children": [
              "IPY_MODEL_98b75d52363144f89173ef14f6656ebe",
              "IPY_MODEL_ea5c206f7cac410091781cd666089600"
            ]
          }
        },
        "9442a1e903104fdda6ed168ee9065014": {
          "model_module": "@jupyter-widgets/controls",
          "model_name": "ImageModel",
          "state": {
            "_view_name": "ImageView",
            "_dom_classes": [],
            "_model_name": "ImageModel",
            "format": "jpg",
            "_view_module": "@jupyter-widgets/controls",
            "_model_module_version": "1.5.0",
            "_view_count": null,
            "width": "",
            "_view_module_version": "1.5.0",
            "layout": "IPY_MODEL_f8a95b9928a047eaac340a25c25d6b72",
            "height": "",
            "_model_module": "@jupyter-widgets/controls"
          }
        },
        "16de01be4afb407785dd7e689866e6f3": {
          "model_module": "@jupyter-widgets/controls",
          "model_name": "ButtonModel",
          "state": {
            "_view_name": "ButtonView",
            "style": "IPY_MODEL_0a7e6324e85b4a758be777a3c9e5c488",
            "_dom_classes": [],
            "description": "Delete",
            "_model_name": "ButtonModel",
            "button_style": "",
            "_view_module": "@jupyter-widgets/controls",
            "_model_module_version": "1.5.0",
            "tooltip": "",
            "_view_count": null,
            "disabled": false,
            "_view_module_version": "1.5.0",
            "layout": "IPY_MODEL_bcfc7057e0db460ca181995c4bbeb0c6",
            "_model_module": "@jupyter-widgets/controls",
            "icon": ""
          }
        },
        "98b75d52363144f89173ef14f6656ebe": {
          "model_module": "@jupyter-widgets/controls",
          "model_name": "ImageModel",
          "state": {
            "_view_name": "ImageView",
            "_dom_classes": [],
            "_model_name": "ImageModel",
            "format": "jpg",
            "_view_module": "@jupyter-widgets/controls",
            "_model_module_version": "1.5.0",
            "_view_count": null,
            "width": "",
            "_view_module_version": "1.5.0",
            "layout": "IPY_MODEL_f8a95b9928a047eaac340a25c25d6b72",
            "height": "",
            "_model_module": "@jupyter-widgets/controls"
          }
        },
        "ea5c206f7cac410091781cd666089600": {
          "model_module": "@jupyter-widgets/controls",
          "model_name": "ButtonModel",
          "state": {
            "_view_name": "ButtonView",
            "style": "IPY_MODEL_e366ef1b280243599173f95e9a39a665",
            "_dom_classes": [],
            "description": "Delete",
            "_model_name": "ButtonModel",
            "button_style": "",
            "_view_module": "@jupyter-widgets/controls",
            "_model_module_version": "1.5.0",
            "tooltip": "",
            "_view_count": null,
            "disabled": false,
            "_view_module_version": "1.5.0",
            "layout": "IPY_MODEL_bcfc7057e0db460ca181995c4bbeb0c6",
            "_model_module": "@jupyter-widgets/controls",
            "icon": ""
          }
        },
        "0a7e6324e85b4a758be777a3c9e5c488": {
          "model_module": "@jupyter-widgets/controls",
          "model_name": "ButtonStyleModel",
          "state": {
            "_view_name": "StyleView",
            "_model_name": "ButtonStyleModel",
            "_view_module": "@jupyter-widgets/base",
            "_model_module_version": "1.5.0",
            "_view_count": null,
            "button_color": null,
            "font_weight": "",
            "_view_module_version": "1.2.0",
            "_model_module": "@jupyter-widgets/controls"
          }
        },
        "e366ef1b280243599173f95e9a39a665": {
          "model_module": "@jupyter-widgets/controls",
          "model_name": "ButtonStyleModel",
          "state": {
            "_view_name": "StyleView",
            "_model_name": "ButtonStyleModel",
            "_view_module": "@jupyter-widgets/base",
            "_model_module_version": "1.5.0",
            "_view_count": null,
            "button_color": null,
            "font_weight": "",
            "_view_module_version": "1.2.0",
            "_model_module": "@jupyter-widgets/controls"
          }
        },
        "905a4778781348ebb27719cfba2b6e42": {
          "model_module": "@jupyter-widgets/controls",
          "model_name": "ButtonModel",
          "state": {
            "_view_name": "ButtonView",
            "style": "IPY_MODEL_cd70ca39de364ba1b7ab50061e2ca89f",
            "_dom_classes": [],
            "description": "Next Batch",
            "_model_name": "ButtonModel",
            "button_style": "primary",
            "_view_module": "@jupyter-widgets/controls",
            "_model_module_version": "1.5.0",
            "tooltip": "",
            "_view_count": null,
            "disabled": false,
            "_view_module_version": "1.5.0",
            "layout": "IPY_MODEL_bcfc7057e0db460ca181995c4bbeb0c6",
            "_model_module": "@jupyter-widgets/controls",
            "icon": ""
          }
        },
        "cd70ca39de364ba1b7ab50061e2ca89f": {
          "model_module": "@jupyter-widgets/controls",
          "model_name": "ButtonStyleModel",
          "state": {
            "_view_name": "StyleView",
            "_model_name": "ButtonStyleModel",
            "_view_module": "@jupyter-widgets/base",
            "_model_module_version": "1.5.0",
            "_view_count": null,
            "button_color": null,
            "font_weight": "",
            "_view_module_version": "1.2.0",
            "_model_module": "@jupyter-widgets/controls"
          }
        },
        "48bf8d1408cb44f89094401a03bbda33": {
          "model_module": "@jupyter-widgets/controls",
          "model_name": "HBoxModel",
          "state": {
            "_view_name": "HBoxView",
            "_dom_classes": [],
            "_model_name": "HBoxModel",
            "_view_module": "@jupyter-widgets/controls",
            "_model_module_version": "1.5.0",
            "_view_count": null,
            "_view_module_version": "1.5.0",
            "box_style": "",
            "layout": "IPY_MODEL_31c0fadcdc5a43cfaf2d87c00b00d4fe",
            "_model_module": "@jupyter-widgets/controls",
            "children": [
              "IPY_MODEL_a89d4c9c90c242ca8deeb5efaf75bafc",
              "IPY_MODEL_4fa8e86ab563406aaa7db21756cdae96"
            ]
          }
        },
        "a89d4c9c90c242ca8deeb5efaf75bafc": {
          "model_module": "@jupyter-widgets/controls",
          "model_name": "VBoxModel",
          "state": {
            "_view_name": "VBoxView",
            "_dom_classes": [],
            "_model_name": "VBoxModel",
            "_view_module": "@jupyter-widgets/controls",
            "_model_module_version": "1.5.0",
            "_view_count": null,
            "_view_module_version": "1.5.0",
            "box_style": "",
            "layout": "IPY_MODEL_5784f064fb0744d7bb4f416add5ba067",
            "_model_module": "@jupyter-widgets/controls",
            "children": [
              "IPY_MODEL_5b409e92dd69427aa85b70b70adfa44a",
              "IPY_MODEL_b215040d102443a2822aba354c7ffc8c"
            ]
          }
        },
        "4fa8e86ab563406aaa7db21756cdae96": {
          "model_module": "@jupyter-widgets/controls",
          "model_name": "VBoxModel",
          "state": {
            "_view_name": "VBoxView",
            "_dom_classes": [],
            "_model_name": "VBoxModel",
            "_view_module": "@jupyter-widgets/controls",
            "_model_module_version": "1.5.0",
            "_view_count": null,
            "_view_module_version": "1.5.0",
            "box_style": "",
            "layout": "IPY_MODEL_5784f064fb0744d7bb4f416add5ba067",
            "_model_module": "@jupyter-widgets/controls",
            "children": [
              "IPY_MODEL_dbd5075b96d841c2902a244b55b2a562",
              "IPY_MODEL_cd6660da8bc1409d9f17895af83030cb"
            ]
          }
        },
        "5b409e92dd69427aa85b70b70adfa44a": {
          "model_module": "@jupyter-widgets/controls",
          "model_name": "ImageModel",
          "state": {
            "_view_name": "ImageView",
            "_dom_classes": [],
            "_model_name": "ImageModel",
            "format": "jpg",
            "_view_module": "@jupyter-widgets/controls",
            "_model_module_version": "1.5.0",
            "_view_count": null,
            "width": "",
            "_view_module_version": "1.5.0",
            "layout": "IPY_MODEL_f8a95b9928a047eaac340a25c25d6b72",
            "height": "",
            "_model_module": "@jupyter-widgets/controls"
          }
        },
        "b215040d102443a2822aba354c7ffc8c": {
          "model_module": "@jupyter-widgets/controls",
          "model_name": "ButtonModel",
          "state": {
            "_view_name": "ButtonView",
            "style": "IPY_MODEL_f09bcbde554c4ecbbc475d73df23c81d",
            "_dom_classes": [],
            "description": "Delete",
            "_model_name": "ButtonModel",
            "button_style": "",
            "_view_module": "@jupyter-widgets/controls",
            "_model_module_version": "1.5.0",
            "tooltip": "",
            "_view_count": null,
            "disabled": false,
            "_view_module_version": "1.5.0",
            "layout": "IPY_MODEL_bcfc7057e0db460ca181995c4bbeb0c6",
            "_model_module": "@jupyter-widgets/controls",
            "icon": ""
          }
        },
        "dbd5075b96d841c2902a244b55b2a562": {
          "model_module": "@jupyter-widgets/controls",
          "model_name": "ImageModel",
          "state": {
            "_view_name": "ImageView",
            "_dom_classes": [],
            "_model_name": "ImageModel",
            "format": "jpg",
            "_view_module": "@jupyter-widgets/controls",
            "_model_module_version": "1.5.0",
            "_view_count": null,
            "width": "",
            "_view_module_version": "1.5.0",
            "layout": "IPY_MODEL_f8a95b9928a047eaac340a25c25d6b72",
            "height": "",
            "_model_module": "@jupyter-widgets/controls"
          }
        },
        "cd6660da8bc1409d9f17895af83030cb": {
          "model_module": "@jupyter-widgets/controls",
          "model_name": "ButtonModel",
          "state": {
            "_view_name": "ButtonView",
            "style": "IPY_MODEL_f548cabb8e664e1f93d40b9dcfb0a0c3",
            "_dom_classes": [],
            "description": "Delete",
            "_model_name": "ButtonModel",
            "button_style": "",
            "_view_module": "@jupyter-widgets/controls",
            "_model_module_version": "1.5.0",
            "tooltip": "",
            "_view_count": null,
            "disabled": false,
            "_view_module_version": "1.5.0",
            "layout": "IPY_MODEL_bcfc7057e0db460ca181995c4bbeb0c6",
            "_model_module": "@jupyter-widgets/controls",
            "icon": ""
          }
        },
        "f09bcbde554c4ecbbc475d73df23c81d": {
          "model_module": "@jupyter-widgets/controls",
          "model_name": "ButtonStyleModel",
          "state": {
            "_view_name": "StyleView",
            "_model_name": "ButtonStyleModel",
            "_view_module": "@jupyter-widgets/base",
            "_model_module_version": "1.5.0",
            "_view_count": null,
            "button_color": null,
            "font_weight": "",
            "_view_module_version": "1.2.0",
            "_model_module": "@jupyter-widgets/controls"
          }
        },
        "f548cabb8e664e1f93d40b9dcfb0a0c3": {
          "model_module": "@jupyter-widgets/controls",
          "model_name": "ButtonStyleModel",
          "state": {
            "_view_name": "StyleView",
            "_model_name": "ButtonStyleModel",
            "_view_module": "@jupyter-widgets/base",
            "_model_module_version": "1.5.0",
            "_view_count": null,
            "button_color": null,
            "font_weight": "",
            "_view_module_version": "1.2.0",
            "_model_module": "@jupyter-widgets/controls"
          }
        },
        "843a81203eb04d00bed19ff2d371d901": {
          "model_module": "@jupyter-widgets/controls",
          "model_name": "ButtonModel",
          "state": {
            "_view_name": "ButtonView",
            "style": "IPY_MODEL_b28e80e68aa14f818c747930ca667506",
            "_dom_classes": [],
            "description": "Next Batch",
            "_model_name": "ButtonModel",
            "button_style": "primary",
            "_view_module": "@jupyter-widgets/controls",
            "_model_module_version": "1.5.0",
            "tooltip": "",
            "_view_count": null,
            "disabled": false,
            "_view_module_version": "1.5.0",
            "layout": "IPY_MODEL_bcfc7057e0db460ca181995c4bbeb0c6",
            "_model_module": "@jupyter-widgets/controls",
            "icon": ""
          }
        },
        "b28e80e68aa14f818c747930ca667506": {
          "model_module": "@jupyter-widgets/controls",
          "model_name": "ButtonStyleModel",
          "state": {
            "_view_name": "StyleView",
            "_model_name": "ButtonStyleModel",
            "_view_module": "@jupyter-widgets/base",
            "_model_module_version": "1.5.0",
            "_view_count": null,
            "button_color": null,
            "font_weight": "",
            "_view_module_version": "1.2.0",
            "_model_module": "@jupyter-widgets/controls"
          }
        },
        "cb803c5a4cb849cda80107fe074a5d6e": {
          "model_module": "@jupyter-widgets/controls",
          "model_name": "HBoxModel",
          "state": {
            "_view_name": "HBoxView",
            "_dom_classes": [],
            "_model_name": "HBoxModel",
            "_view_module": "@jupyter-widgets/controls",
            "_model_module_version": "1.5.0",
            "_view_count": null,
            "_view_module_version": "1.5.0",
            "box_style": "",
            "layout": "IPY_MODEL_31c0fadcdc5a43cfaf2d87c00b00d4fe",
            "_model_module": "@jupyter-widgets/controls",
            "children": [
              "IPY_MODEL_943dbc22cc154fd8ae1e2ae912c76553",
              "IPY_MODEL_b22d09a0b000467c9aa070eddfaad181"
            ]
          }
        },
        "943dbc22cc154fd8ae1e2ae912c76553": {
          "model_module": "@jupyter-widgets/controls",
          "model_name": "VBoxModel",
          "state": {
            "_view_name": "VBoxView",
            "_dom_classes": [],
            "_model_name": "VBoxModel",
            "_view_module": "@jupyter-widgets/controls",
            "_model_module_version": "1.5.0",
            "_view_count": null,
            "_view_module_version": "1.5.0",
            "box_style": "",
            "layout": "IPY_MODEL_5784f064fb0744d7bb4f416add5ba067",
            "_model_module": "@jupyter-widgets/controls",
            "children": [
              "IPY_MODEL_c494064a07f34e39973078d26dee9b05",
              "IPY_MODEL_317ae7f5a9c44103b9abeeb5d4aeee51"
            ]
          }
        },
        "b22d09a0b000467c9aa070eddfaad181": {
          "model_module": "@jupyter-widgets/controls",
          "model_name": "VBoxModel",
          "state": {
            "_view_name": "VBoxView",
            "_dom_classes": [],
            "_model_name": "VBoxModel",
            "_view_module": "@jupyter-widgets/controls",
            "_model_module_version": "1.5.0",
            "_view_count": null,
            "_view_module_version": "1.5.0",
            "box_style": "",
            "layout": "IPY_MODEL_5784f064fb0744d7bb4f416add5ba067",
            "_model_module": "@jupyter-widgets/controls",
            "children": [
              "IPY_MODEL_7514fdf1ac0041b8950ef7a63820d51a",
              "IPY_MODEL_0fd661f88d2f4f7fb10e6df9a2091e9c"
            ]
          }
        },
        "c494064a07f34e39973078d26dee9b05": {
          "model_module": "@jupyter-widgets/controls",
          "model_name": "ImageModel",
          "state": {
            "_view_name": "ImageView",
            "_dom_classes": [],
            "_model_name": "ImageModel",
            "format": "jpg",
            "_view_module": "@jupyter-widgets/controls",
            "_model_module_version": "1.5.0",
            "_view_count": null,
            "width": "",
            "_view_module_version": "1.5.0",
            "layout": "IPY_MODEL_f8a95b9928a047eaac340a25c25d6b72",
            "height": "",
            "_model_module": "@jupyter-widgets/controls"
          }
        },
        "317ae7f5a9c44103b9abeeb5d4aeee51": {
          "model_module": "@jupyter-widgets/controls",
          "model_name": "ButtonModel",
          "state": {
            "_view_name": "ButtonView",
            "style": "IPY_MODEL_27c4adb830314c63ab58a1b1b7052e91",
            "_dom_classes": [],
            "description": "Delete",
            "_model_name": "ButtonModel",
            "button_style": "",
            "_view_module": "@jupyter-widgets/controls",
            "_model_module_version": "1.5.0",
            "tooltip": "",
            "_view_count": null,
            "disabled": false,
            "_view_module_version": "1.5.0",
            "layout": "IPY_MODEL_bcfc7057e0db460ca181995c4bbeb0c6",
            "_model_module": "@jupyter-widgets/controls",
            "icon": ""
          }
        },
        "7514fdf1ac0041b8950ef7a63820d51a": {
          "model_module": "@jupyter-widgets/controls",
          "model_name": "ImageModel",
          "state": {
            "_view_name": "ImageView",
            "_dom_classes": [],
            "_model_name": "ImageModel",
            "format": "jpg",
            "_view_module": "@jupyter-widgets/controls",
            "_model_module_version": "1.5.0",
            "_view_count": null,
            "width": "",
            "_view_module_version": "1.5.0",
            "layout": "IPY_MODEL_f8a95b9928a047eaac340a25c25d6b72",
            "height": "",
            "_model_module": "@jupyter-widgets/controls"
          }
        },
        "0fd661f88d2f4f7fb10e6df9a2091e9c": {
          "model_module": "@jupyter-widgets/controls",
          "model_name": "ButtonModel",
          "state": {
            "_view_name": "ButtonView",
            "style": "IPY_MODEL_5b48b371a44e4c46aeb466b7771c615f",
            "_dom_classes": [],
            "description": "Delete",
            "_model_name": "ButtonModel",
            "button_style": "",
            "_view_module": "@jupyter-widgets/controls",
            "_model_module_version": "1.5.0",
            "tooltip": "",
            "_view_count": null,
            "disabled": false,
            "_view_module_version": "1.5.0",
            "layout": "IPY_MODEL_bcfc7057e0db460ca181995c4bbeb0c6",
            "_model_module": "@jupyter-widgets/controls",
            "icon": ""
          }
        },
        "27c4adb830314c63ab58a1b1b7052e91": {
          "model_module": "@jupyter-widgets/controls",
          "model_name": "ButtonStyleModel",
          "state": {
            "_view_name": "StyleView",
            "_model_name": "ButtonStyleModel",
            "_view_module": "@jupyter-widgets/base",
            "_model_module_version": "1.5.0",
            "_view_count": null,
            "button_color": null,
            "font_weight": "",
            "_view_module_version": "1.2.0",
            "_model_module": "@jupyter-widgets/controls"
          }
        },
        "5b48b371a44e4c46aeb466b7771c615f": {
          "model_module": "@jupyter-widgets/controls",
          "model_name": "ButtonStyleModel",
          "state": {
            "_view_name": "StyleView",
            "_model_name": "ButtonStyleModel",
            "_view_module": "@jupyter-widgets/base",
            "_model_module_version": "1.5.0",
            "_view_count": null,
            "button_color": null,
            "font_weight": "",
            "_view_module_version": "1.2.0",
            "_model_module": "@jupyter-widgets/controls"
          }
        },
        "a53cd46c81244924a83ee76056990b6c": {
          "model_module": "@jupyter-widgets/controls",
          "model_name": "ButtonModel",
          "state": {
            "_view_name": "ButtonView",
            "style": "IPY_MODEL_7bd2e7344c2844c288abb79396705c7b",
            "_dom_classes": [],
            "description": "Next Batch",
            "_model_name": "ButtonModel",
            "button_style": "primary",
            "_view_module": "@jupyter-widgets/controls",
            "_model_module_version": "1.5.0",
            "tooltip": "",
            "_view_count": null,
            "disabled": false,
            "_view_module_version": "1.5.0",
            "layout": "IPY_MODEL_bcfc7057e0db460ca181995c4bbeb0c6",
            "_model_module": "@jupyter-widgets/controls",
            "icon": ""
          }
        },
        "7bd2e7344c2844c288abb79396705c7b": {
          "model_module": "@jupyter-widgets/controls",
          "model_name": "ButtonStyleModel",
          "state": {
            "_view_name": "StyleView",
            "_model_name": "ButtonStyleModel",
            "_view_module": "@jupyter-widgets/base",
            "_model_module_version": "1.5.0",
            "_view_count": null,
            "button_color": null,
            "font_weight": "",
            "_view_module_version": "1.2.0",
            "_model_module": "@jupyter-widgets/controls"
          }
        },
        "1cb7b93bee77403987d5ab7e1489e516": {
          "model_module": "@jupyter-widgets/controls",
          "model_name": "HBoxModel",
          "state": {
            "_view_name": "HBoxView",
            "_dom_classes": [],
            "_model_name": "HBoxModel",
            "_view_module": "@jupyter-widgets/controls",
            "_model_module_version": "1.5.0",
            "_view_count": null,
            "_view_module_version": "1.5.0",
            "box_style": "",
            "layout": "IPY_MODEL_31c0fadcdc5a43cfaf2d87c00b00d4fe",
            "_model_module": "@jupyter-widgets/controls",
            "children": [
              "IPY_MODEL_97f2fe6fdc2c4e2c9afcbc6442e8a8aa",
              "IPY_MODEL_a095b966fe314172acaebb18ff0e3c6d"
            ]
          }
        },
        "97f2fe6fdc2c4e2c9afcbc6442e8a8aa": {
          "model_module": "@jupyter-widgets/controls",
          "model_name": "VBoxModel",
          "state": {
            "_view_name": "VBoxView",
            "_dom_classes": [],
            "_model_name": "VBoxModel",
            "_view_module": "@jupyter-widgets/controls",
            "_model_module_version": "1.5.0",
            "_view_count": null,
            "_view_module_version": "1.5.0",
            "box_style": "",
            "layout": "IPY_MODEL_5784f064fb0744d7bb4f416add5ba067",
            "_model_module": "@jupyter-widgets/controls",
            "children": [
              "IPY_MODEL_8bc313349bab4fadb2f675fd9146edba",
              "IPY_MODEL_23ba2a2e45034f09a9ef70943b0e9d62"
            ]
          }
        },
        "a095b966fe314172acaebb18ff0e3c6d": {
          "model_module": "@jupyter-widgets/controls",
          "model_name": "VBoxModel",
          "state": {
            "_view_name": "VBoxView",
            "_dom_classes": [],
            "_model_name": "VBoxModel",
            "_view_module": "@jupyter-widgets/controls",
            "_model_module_version": "1.5.0",
            "_view_count": null,
            "_view_module_version": "1.5.0",
            "box_style": "",
            "layout": "IPY_MODEL_5784f064fb0744d7bb4f416add5ba067",
            "_model_module": "@jupyter-widgets/controls",
            "children": [
              "IPY_MODEL_124107ebcc004ba5bc69fd52ba5c4773",
              "IPY_MODEL_4c58b64f52a343b9b4116b4c4466c26c"
            ]
          }
        },
        "8bc313349bab4fadb2f675fd9146edba": {
          "model_module": "@jupyter-widgets/controls",
          "model_name": "ImageModel",
          "state": {
            "_view_name": "ImageView",
            "_dom_classes": [],
            "_model_name": "ImageModel",
            "format": "jpg",
            "_view_module": "@jupyter-widgets/controls",
            "_model_module_version": "1.5.0",
            "_view_count": null,
            "width": "",
            "_view_module_version": "1.5.0",
            "layout": "IPY_MODEL_f8a95b9928a047eaac340a25c25d6b72",
            "height": "",
            "_model_module": "@jupyter-widgets/controls"
          }
        },
        "23ba2a2e45034f09a9ef70943b0e9d62": {
          "model_module": "@jupyter-widgets/controls",
          "model_name": "ButtonModel",
          "state": {
            "_view_name": "ButtonView",
            "style": "IPY_MODEL_44bb662289824d5096c95a61f917fe42",
            "_dom_classes": [],
            "description": "Delete",
            "_model_name": "ButtonModel",
            "button_style": "",
            "_view_module": "@jupyter-widgets/controls",
            "_model_module_version": "1.5.0",
            "tooltip": "",
            "_view_count": null,
            "disabled": false,
            "_view_module_version": "1.5.0",
            "layout": "IPY_MODEL_bcfc7057e0db460ca181995c4bbeb0c6",
            "_model_module": "@jupyter-widgets/controls",
            "icon": ""
          }
        },
        "124107ebcc004ba5bc69fd52ba5c4773": {
          "model_module": "@jupyter-widgets/controls",
          "model_name": "ImageModel",
          "state": {
            "_view_name": "ImageView",
            "_dom_classes": [],
            "_model_name": "ImageModel",
            "format": "jpg",
            "_view_module": "@jupyter-widgets/controls",
            "_model_module_version": "1.5.0",
            "_view_count": null,
            "width": "",
            "_view_module_version": "1.5.0",
            "layout": "IPY_MODEL_f8a95b9928a047eaac340a25c25d6b72",
            "height": "",
            "_model_module": "@jupyter-widgets/controls"
          }
        },
        "4c58b64f52a343b9b4116b4c4466c26c": {
          "model_module": "@jupyter-widgets/controls",
          "model_name": "ButtonModel",
          "state": {
            "_view_name": "ButtonView",
            "style": "IPY_MODEL_49698bb33ead4a2f80f1f661969e47a6",
            "_dom_classes": [],
            "description": "Delete",
            "_model_name": "ButtonModel",
            "button_style": "",
            "_view_module": "@jupyter-widgets/controls",
            "_model_module_version": "1.5.0",
            "tooltip": "",
            "_view_count": null,
            "disabled": false,
            "_view_module_version": "1.5.0",
            "layout": "IPY_MODEL_bcfc7057e0db460ca181995c4bbeb0c6",
            "_model_module": "@jupyter-widgets/controls",
            "icon": ""
          }
        },
        "44bb662289824d5096c95a61f917fe42": {
          "model_module": "@jupyter-widgets/controls",
          "model_name": "ButtonStyleModel",
          "state": {
            "_view_name": "StyleView",
            "_model_name": "ButtonStyleModel",
            "_view_module": "@jupyter-widgets/base",
            "_model_module_version": "1.5.0",
            "_view_count": null,
            "button_color": null,
            "font_weight": "",
            "_view_module_version": "1.2.0",
            "_model_module": "@jupyter-widgets/controls"
          }
        },
        "49698bb33ead4a2f80f1f661969e47a6": {
          "model_module": "@jupyter-widgets/controls",
          "model_name": "ButtonStyleModel",
          "state": {
            "_view_name": "StyleView",
            "_model_name": "ButtonStyleModel",
            "_view_module": "@jupyter-widgets/base",
            "_model_module_version": "1.5.0",
            "_view_count": null,
            "button_color": null,
            "font_weight": "",
            "_view_module_version": "1.2.0",
            "_model_module": "@jupyter-widgets/controls"
          }
        },
        "cda81e1171a346cd943c76f91cb402ed": {
          "model_module": "@jupyter-widgets/controls",
          "model_name": "ButtonModel",
          "state": {
            "_view_name": "ButtonView",
            "style": "IPY_MODEL_20907a6b52004186bbe955a06fb5e0a7",
            "_dom_classes": [],
            "description": "Next Batch",
            "_model_name": "ButtonModel",
            "button_style": "primary",
            "_view_module": "@jupyter-widgets/controls",
            "_model_module_version": "1.5.0",
            "tooltip": "",
            "_view_count": null,
            "disabled": false,
            "_view_module_version": "1.5.0",
            "layout": "IPY_MODEL_bcfc7057e0db460ca181995c4bbeb0c6",
            "_model_module": "@jupyter-widgets/controls",
            "icon": ""
          }
        },
        "20907a6b52004186bbe955a06fb5e0a7": {
          "model_module": "@jupyter-widgets/controls",
          "model_name": "ButtonStyleModel",
          "state": {
            "_view_name": "StyleView",
            "_model_name": "ButtonStyleModel",
            "_view_module": "@jupyter-widgets/base",
            "_model_module_version": "1.5.0",
            "_view_count": null,
            "button_color": null,
            "font_weight": "",
            "_view_module_version": "1.2.0",
            "_model_module": "@jupyter-widgets/controls"
          }
        },
        "a2d19f806f6845a7a0f4fb897f6dbddb": {
          "model_module": "@jupyter-widgets/controls",
          "model_name": "HBoxModel",
          "state": {
            "_view_name": "HBoxView",
            "_dom_classes": [],
            "_model_name": "HBoxModel",
            "_view_module": "@jupyter-widgets/controls",
            "_model_module_version": "1.5.0",
            "_view_count": null,
            "_view_module_version": "1.5.0",
            "box_style": "",
            "layout": "IPY_MODEL_31c0fadcdc5a43cfaf2d87c00b00d4fe",
            "_model_module": "@jupyter-widgets/controls",
            "children": [
              "IPY_MODEL_930c1f5dc64745389f132932d7bc07a3",
              "IPY_MODEL_8fc1cad9ece84a9e99439c3572c4b6dd"
            ]
          }
        },
        "930c1f5dc64745389f132932d7bc07a3": {
          "model_module": "@jupyter-widgets/controls",
          "model_name": "VBoxModel",
          "state": {
            "_view_name": "VBoxView",
            "_dom_classes": [],
            "_model_name": "VBoxModel",
            "_view_module": "@jupyter-widgets/controls",
            "_model_module_version": "1.5.0",
            "_view_count": null,
            "_view_module_version": "1.5.0",
            "box_style": "",
            "layout": "IPY_MODEL_5784f064fb0744d7bb4f416add5ba067",
            "_model_module": "@jupyter-widgets/controls",
            "children": [
              "IPY_MODEL_85436922eb314befaee33887f568e549",
              "IPY_MODEL_ac6403b0e9e14d9f9bddb171569adf9a"
            ]
          }
        },
        "8fc1cad9ece84a9e99439c3572c4b6dd": {
          "model_module": "@jupyter-widgets/controls",
          "model_name": "VBoxModel",
          "state": {
            "_view_name": "VBoxView",
            "_dom_classes": [],
            "_model_name": "VBoxModel",
            "_view_module": "@jupyter-widgets/controls",
            "_model_module_version": "1.5.0",
            "_view_count": null,
            "_view_module_version": "1.5.0",
            "box_style": "",
            "layout": "IPY_MODEL_5784f064fb0744d7bb4f416add5ba067",
            "_model_module": "@jupyter-widgets/controls",
            "children": [
              "IPY_MODEL_99048d5566ef485481db144ce28a0ada",
              "IPY_MODEL_e1399b3cb055470f8b8074a424ff871d"
            ]
          }
        },
        "85436922eb314befaee33887f568e549": {
          "model_module": "@jupyter-widgets/controls",
          "model_name": "ImageModel",
          "state": {
            "_view_name": "ImageView",
            "_dom_classes": [],
            "_model_name": "ImageModel",
            "format": "jpg",
            "_view_module": "@jupyter-widgets/controls",
            "_model_module_version": "1.5.0",
            "_view_count": null,
            "width": "",
            "_view_module_version": "1.5.0",
            "layout": "IPY_MODEL_f8a95b9928a047eaac340a25c25d6b72",
            "height": "",
            "_model_module": "@jupyter-widgets/controls"
          }
        },
        "ac6403b0e9e14d9f9bddb171569adf9a": {
          "model_module": "@jupyter-widgets/controls",
          "model_name": "ButtonModel",
          "state": {
            "_view_name": "ButtonView",
            "style": "IPY_MODEL_220e2e6c4a81422eb67e1bc50a91a9c9",
            "_dom_classes": [],
            "description": "Delete",
            "_model_name": "ButtonModel",
            "button_style": "",
            "_view_module": "@jupyter-widgets/controls",
            "_model_module_version": "1.5.0",
            "tooltip": "",
            "_view_count": null,
            "disabled": false,
            "_view_module_version": "1.5.0",
            "layout": "IPY_MODEL_bcfc7057e0db460ca181995c4bbeb0c6",
            "_model_module": "@jupyter-widgets/controls",
            "icon": ""
          }
        },
        "99048d5566ef485481db144ce28a0ada": {
          "model_module": "@jupyter-widgets/controls",
          "model_name": "ImageModel",
          "state": {
            "_view_name": "ImageView",
            "_dom_classes": [],
            "_model_name": "ImageModel",
            "format": "jpg",
            "_view_module": "@jupyter-widgets/controls",
            "_model_module_version": "1.5.0",
            "_view_count": null,
            "width": "",
            "_view_module_version": "1.5.0",
            "layout": "IPY_MODEL_f8a95b9928a047eaac340a25c25d6b72",
            "height": "",
            "_model_module": "@jupyter-widgets/controls"
          }
        },
        "e1399b3cb055470f8b8074a424ff871d": {
          "model_module": "@jupyter-widgets/controls",
          "model_name": "ButtonModel",
          "state": {
            "_view_name": "ButtonView",
            "style": "IPY_MODEL_37b75a8ce0844eeb99a1f3b1642a09b1",
            "_dom_classes": [],
            "description": "Delete",
            "_model_name": "ButtonModel",
            "button_style": "",
            "_view_module": "@jupyter-widgets/controls",
            "_model_module_version": "1.5.0",
            "tooltip": "",
            "_view_count": null,
            "disabled": false,
            "_view_module_version": "1.5.0",
            "layout": "IPY_MODEL_bcfc7057e0db460ca181995c4bbeb0c6",
            "_model_module": "@jupyter-widgets/controls",
            "icon": ""
          }
        },
        "220e2e6c4a81422eb67e1bc50a91a9c9": {
          "model_module": "@jupyter-widgets/controls",
          "model_name": "ButtonStyleModel",
          "state": {
            "_view_name": "StyleView",
            "_model_name": "ButtonStyleModel",
            "_view_module": "@jupyter-widgets/base",
            "_model_module_version": "1.5.0",
            "_view_count": null,
            "button_color": null,
            "font_weight": "",
            "_view_module_version": "1.2.0",
            "_model_module": "@jupyter-widgets/controls"
          }
        },
        "37b75a8ce0844eeb99a1f3b1642a09b1": {
          "model_module": "@jupyter-widgets/controls",
          "model_name": "ButtonStyleModel",
          "state": {
            "_view_name": "StyleView",
            "_model_name": "ButtonStyleModel",
            "_view_module": "@jupyter-widgets/base",
            "_model_module_version": "1.5.0",
            "_view_count": null,
            "button_color": null,
            "font_weight": "",
            "_view_module_version": "1.2.0",
            "_model_module": "@jupyter-widgets/controls"
          }
        },
        "b946031e2ca24c30ab9ec5f50a83ed5f": {
          "model_module": "@jupyter-widgets/controls",
          "model_name": "ButtonModel",
          "state": {
            "_view_name": "ButtonView",
            "style": "IPY_MODEL_049827063c544a88b24264f9deb3deeb",
            "_dom_classes": [],
            "description": "Next Batch",
            "_model_name": "ButtonModel",
            "button_style": "primary",
            "_view_module": "@jupyter-widgets/controls",
            "_model_module_version": "1.5.0",
            "tooltip": "",
            "_view_count": null,
            "disabled": false,
            "_view_module_version": "1.5.0",
            "layout": "IPY_MODEL_bcfc7057e0db460ca181995c4bbeb0c6",
            "_model_module": "@jupyter-widgets/controls",
            "icon": ""
          }
        },
        "049827063c544a88b24264f9deb3deeb": {
          "model_module": "@jupyter-widgets/controls",
          "model_name": "ButtonStyleModel",
          "state": {
            "_view_name": "StyleView",
            "_model_name": "ButtonStyleModel",
            "_view_module": "@jupyter-widgets/base",
            "_model_module_version": "1.5.0",
            "_view_count": null,
            "button_color": null,
            "font_weight": "",
            "_view_module_version": "1.2.0",
            "_model_module": "@jupyter-widgets/controls"
          }
        },
        "ef26726f467343ddad3ea18bab1c075f": {
          "model_module": "@jupyter-widgets/controls",
          "model_name": "HBoxModel",
          "state": {
            "_view_name": "HBoxView",
            "_dom_classes": [],
            "_model_name": "HBoxModel",
            "_view_module": "@jupyter-widgets/controls",
            "_model_module_version": "1.5.0",
            "_view_count": null,
            "_view_module_version": "1.5.0",
            "box_style": "",
            "layout": "IPY_MODEL_31c0fadcdc5a43cfaf2d87c00b00d4fe",
            "_model_module": "@jupyter-widgets/controls",
            "children": [
              "IPY_MODEL_47a0e5018b884f34afd14af60b464138",
              "IPY_MODEL_3e5520faae51459db5acdff8cd19f2b3"
            ]
          }
        },
        "47a0e5018b884f34afd14af60b464138": {
          "model_module": "@jupyter-widgets/controls",
          "model_name": "VBoxModel",
          "state": {
            "_view_name": "VBoxView",
            "_dom_classes": [],
            "_model_name": "VBoxModel",
            "_view_module": "@jupyter-widgets/controls",
            "_model_module_version": "1.5.0",
            "_view_count": null,
            "_view_module_version": "1.5.0",
            "box_style": "",
            "layout": "IPY_MODEL_5784f064fb0744d7bb4f416add5ba067",
            "_model_module": "@jupyter-widgets/controls",
            "children": [
              "IPY_MODEL_c6859a99bd484a17a87c9504da3ebc9d",
              "IPY_MODEL_fd8e05f731a9411385812799ea377f6d"
            ]
          }
        },
        "3e5520faae51459db5acdff8cd19f2b3": {
          "model_module": "@jupyter-widgets/controls",
          "model_name": "VBoxModel",
          "state": {
            "_view_name": "VBoxView",
            "_dom_classes": [],
            "_model_name": "VBoxModel",
            "_view_module": "@jupyter-widgets/controls",
            "_model_module_version": "1.5.0",
            "_view_count": null,
            "_view_module_version": "1.5.0",
            "box_style": "",
            "layout": "IPY_MODEL_5784f064fb0744d7bb4f416add5ba067",
            "_model_module": "@jupyter-widgets/controls",
            "children": [
              "IPY_MODEL_b9ab66918b7545a585b4009590ce0d88",
              "IPY_MODEL_cf6fcf372aa44c29bf0a3abb1852aaef"
            ]
          }
        },
        "c6859a99bd484a17a87c9504da3ebc9d": {
          "model_module": "@jupyter-widgets/controls",
          "model_name": "ImageModel",
          "state": {
            "_view_name": "ImageView",
            "_dom_classes": [],
            "_model_name": "ImageModel",
            "format": "jpg",
            "_view_module": "@jupyter-widgets/controls",
            "_model_module_version": "1.5.0",
            "_view_count": null,
            "width": "",
            "_view_module_version": "1.5.0",
            "layout": "IPY_MODEL_f8a95b9928a047eaac340a25c25d6b72",
            "height": "",
            "_model_module": "@jupyter-widgets/controls"
          }
        },
        "fd8e05f731a9411385812799ea377f6d": {
          "model_module": "@jupyter-widgets/controls",
          "model_name": "ButtonModel",
          "state": {
            "_view_name": "ButtonView",
            "style": "IPY_MODEL_d3cfa869adb4462d9e14434c1084415c",
            "_dom_classes": [],
            "description": "Delete",
            "_model_name": "ButtonModel",
            "button_style": "",
            "_view_module": "@jupyter-widgets/controls",
            "_model_module_version": "1.5.0",
            "tooltip": "",
            "_view_count": null,
            "disabled": false,
            "_view_module_version": "1.5.0",
            "layout": "IPY_MODEL_bcfc7057e0db460ca181995c4bbeb0c6",
            "_model_module": "@jupyter-widgets/controls",
            "icon": ""
          }
        },
        "b9ab66918b7545a585b4009590ce0d88": {
          "model_module": "@jupyter-widgets/controls",
          "model_name": "ImageModel",
          "state": {
            "_view_name": "ImageView",
            "_dom_classes": [],
            "_model_name": "ImageModel",
            "format": "jpg",
            "_view_module": "@jupyter-widgets/controls",
            "_model_module_version": "1.5.0",
            "_view_count": null,
            "width": "",
            "_view_module_version": "1.5.0",
            "layout": "IPY_MODEL_f8a95b9928a047eaac340a25c25d6b72",
            "height": "",
            "_model_module": "@jupyter-widgets/controls"
          }
        },
        "cf6fcf372aa44c29bf0a3abb1852aaef": {
          "model_module": "@jupyter-widgets/controls",
          "model_name": "ButtonModel",
          "state": {
            "_view_name": "ButtonView",
            "style": "IPY_MODEL_11501d6d81da44208ff8a2e257d03e9e",
            "_dom_classes": [],
            "description": "Delete",
            "_model_name": "ButtonModel",
            "button_style": "",
            "_view_module": "@jupyter-widgets/controls",
            "_model_module_version": "1.5.0",
            "tooltip": "",
            "_view_count": null,
            "disabled": false,
            "_view_module_version": "1.5.0",
            "layout": "IPY_MODEL_bcfc7057e0db460ca181995c4bbeb0c6",
            "_model_module": "@jupyter-widgets/controls",
            "icon": ""
          }
        },
        "d3cfa869adb4462d9e14434c1084415c": {
          "model_module": "@jupyter-widgets/controls",
          "model_name": "ButtonStyleModel",
          "state": {
            "_view_name": "StyleView",
            "_model_name": "ButtonStyleModel",
            "_view_module": "@jupyter-widgets/base",
            "_model_module_version": "1.5.0",
            "_view_count": null,
            "button_color": null,
            "font_weight": "",
            "_view_module_version": "1.2.0",
            "_model_module": "@jupyter-widgets/controls"
          }
        },
        "11501d6d81da44208ff8a2e257d03e9e": {
          "model_module": "@jupyter-widgets/controls",
          "model_name": "ButtonStyleModel",
          "state": {
            "_view_name": "StyleView",
            "_model_name": "ButtonStyleModel",
            "_view_module": "@jupyter-widgets/base",
            "_model_module_version": "1.5.0",
            "_view_count": null,
            "button_color": null,
            "font_weight": "",
            "_view_module_version": "1.2.0",
            "_model_module": "@jupyter-widgets/controls"
          }
        },
        "ccf5884e82d240c68b11ec0c32fabaf9": {
          "model_module": "@jupyter-widgets/controls",
          "model_name": "ButtonModel",
          "state": {
            "_view_name": "ButtonView",
            "style": "IPY_MODEL_96b91dfd6fbe446b98c6c1b557c374f4",
            "_dom_classes": [],
            "description": "Next Batch",
            "_model_name": "ButtonModel",
            "button_style": "primary",
            "_view_module": "@jupyter-widgets/controls",
            "_model_module_version": "1.5.0",
            "tooltip": "",
            "_view_count": null,
            "disabled": false,
            "_view_module_version": "1.5.0",
            "layout": "IPY_MODEL_bcfc7057e0db460ca181995c4bbeb0c6",
            "_model_module": "@jupyter-widgets/controls",
            "icon": ""
          }
        },
        "96b91dfd6fbe446b98c6c1b557c374f4": {
          "model_module": "@jupyter-widgets/controls",
          "model_name": "ButtonStyleModel",
          "state": {
            "_view_name": "StyleView",
            "_model_name": "ButtonStyleModel",
            "_view_module": "@jupyter-widgets/base",
            "_model_module_version": "1.5.0",
            "_view_count": null,
            "button_color": null,
            "font_weight": "",
            "_view_module_version": "1.2.0",
            "_model_module": "@jupyter-widgets/controls"
          }
        },
        "dae8b0dbd5cf4ea3a8384906b6421f1f": {
          "model_module": "@jupyter-widgets/controls",
          "model_name": "HBoxModel",
          "state": {
            "_view_name": "HBoxView",
            "_dom_classes": [],
            "_model_name": "HBoxModel",
            "_view_module": "@jupyter-widgets/controls",
            "_model_module_version": "1.5.0",
            "_view_count": null,
            "_view_module_version": "1.5.0",
            "box_style": "",
            "layout": "IPY_MODEL_31c0fadcdc5a43cfaf2d87c00b00d4fe",
            "_model_module": "@jupyter-widgets/controls",
            "children": [
              "IPY_MODEL_35c51dfe96c349509b4076808e5da0ac",
              "IPY_MODEL_8c75c5f0e9524fb8bc84273fedd417aa"
            ]
          }
        },
        "35c51dfe96c349509b4076808e5da0ac": {
          "model_module": "@jupyter-widgets/controls",
          "model_name": "VBoxModel",
          "state": {
            "_view_name": "VBoxView",
            "_dom_classes": [],
            "_model_name": "VBoxModel",
            "_view_module": "@jupyter-widgets/controls",
            "_model_module_version": "1.5.0",
            "_view_count": null,
            "_view_module_version": "1.5.0",
            "box_style": "",
            "layout": "IPY_MODEL_5784f064fb0744d7bb4f416add5ba067",
            "_model_module": "@jupyter-widgets/controls",
            "children": [
              "IPY_MODEL_004d1e272ac641dd8bd0ddf31e3a1f79",
              "IPY_MODEL_bbb44d7f708d447189a57436de0b77fe"
            ]
          }
        },
        "8c75c5f0e9524fb8bc84273fedd417aa": {
          "model_module": "@jupyter-widgets/controls",
          "model_name": "VBoxModel",
          "state": {
            "_view_name": "VBoxView",
            "_dom_classes": [],
            "_model_name": "VBoxModel",
            "_view_module": "@jupyter-widgets/controls",
            "_model_module_version": "1.5.0",
            "_view_count": null,
            "_view_module_version": "1.5.0",
            "box_style": "",
            "layout": "IPY_MODEL_5784f064fb0744d7bb4f416add5ba067",
            "_model_module": "@jupyter-widgets/controls",
            "children": [
              "IPY_MODEL_9847353d34784ed9bd7070cb4b86ab10",
              "IPY_MODEL_d5ef5ef5de5a45588bc36b3b86ea45dc"
            ]
          }
        },
        "004d1e272ac641dd8bd0ddf31e3a1f79": {
          "model_module": "@jupyter-widgets/controls",
          "model_name": "ImageModel",
          "state": {
            "_view_name": "ImageView",
            "_dom_classes": [],
            "_model_name": "ImageModel",
            "format": "jpg",
            "_view_module": "@jupyter-widgets/controls",
            "_model_module_version": "1.5.0",
            "_view_count": null,
            "width": "",
            "_view_module_version": "1.5.0",
            "layout": "IPY_MODEL_f8a95b9928a047eaac340a25c25d6b72",
            "height": "",
            "_model_module": "@jupyter-widgets/controls"
          }
        },
        "bbb44d7f708d447189a57436de0b77fe": {
          "model_module": "@jupyter-widgets/controls",
          "model_name": "ButtonModel",
          "state": {
            "_view_name": "ButtonView",
            "style": "IPY_MODEL_af7b9401aef14a43842733a143d28a96",
            "_dom_classes": [],
            "description": "Delete",
            "_model_name": "ButtonModel",
            "button_style": "",
            "_view_module": "@jupyter-widgets/controls",
            "_model_module_version": "1.5.0",
            "tooltip": "",
            "_view_count": null,
            "disabled": false,
            "_view_module_version": "1.5.0",
            "layout": "IPY_MODEL_bcfc7057e0db460ca181995c4bbeb0c6",
            "_model_module": "@jupyter-widgets/controls",
            "icon": ""
          }
        },
        "9847353d34784ed9bd7070cb4b86ab10": {
          "model_module": "@jupyter-widgets/controls",
          "model_name": "ImageModel",
          "state": {
            "_view_name": "ImageView",
            "_dom_classes": [],
            "_model_name": "ImageModel",
            "format": "jpg",
            "_view_module": "@jupyter-widgets/controls",
            "_model_module_version": "1.5.0",
            "_view_count": null,
            "width": "",
            "_view_module_version": "1.5.0",
            "layout": "IPY_MODEL_f8a95b9928a047eaac340a25c25d6b72",
            "height": "",
            "_model_module": "@jupyter-widgets/controls"
          }
        },
        "d5ef5ef5de5a45588bc36b3b86ea45dc": {
          "model_module": "@jupyter-widgets/controls",
          "model_name": "ButtonModel",
          "state": {
            "_view_name": "ButtonView",
            "style": "IPY_MODEL_60806f0354b444d4a2cfebe760a32f0b",
            "_dom_classes": [],
            "description": "Delete",
            "_model_name": "ButtonModel",
            "button_style": "",
            "_view_module": "@jupyter-widgets/controls",
            "_model_module_version": "1.5.0",
            "tooltip": "",
            "_view_count": null,
            "disabled": false,
            "_view_module_version": "1.5.0",
            "layout": "IPY_MODEL_bcfc7057e0db460ca181995c4bbeb0c6",
            "_model_module": "@jupyter-widgets/controls",
            "icon": ""
          }
        },
        "af7b9401aef14a43842733a143d28a96": {
          "model_module": "@jupyter-widgets/controls",
          "model_name": "ButtonStyleModel",
          "state": {
            "_view_name": "StyleView",
            "_model_name": "ButtonStyleModel",
            "_view_module": "@jupyter-widgets/base",
            "_model_module_version": "1.5.0",
            "_view_count": null,
            "button_color": null,
            "font_weight": "",
            "_view_module_version": "1.2.0",
            "_model_module": "@jupyter-widgets/controls"
          }
        },
        "60806f0354b444d4a2cfebe760a32f0b": {
          "model_module": "@jupyter-widgets/controls",
          "model_name": "ButtonStyleModel",
          "state": {
            "_view_name": "StyleView",
            "_model_name": "ButtonStyleModel",
            "_view_module": "@jupyter-widgets/base",
            "_model_module_version": "1.5.0",
            "_view_count": null,
            "button_color": null,
            "font_weight": "",
            "_view_module_version": "1.2.0",
            "_model_module": "@jupyter-widgets/controls"
          }
        },
        "f1ee52a97b794db5830e6b5ebbd26ba3": {
          "model_module": "@jupyter-widgets/controls",
          "model_name": "ButtonModel",
          "state": {
            "_view_name": "ButtonView",
            "style": "IPY_MODEL_477a3e516de245bfa5afa9357c478261",
            "_dom_classes": [],
            "description": "Next Batch",
            "_model_name": "ButtonModel",
            "button_style": "primary",
            "_view_module": "@jupyter-widgets/controls",
            "_model_module_version": "1.5.0",
            "tooltip": "",
            "_view_count": null,
            "disabled": false,
            "_view_module_version": "1.5.0",
            "layout": "IPY_MODEL_bcfc7057e0db460ca181995c4bbeb0c6",
            "_model_module": "@jupyter-widgets/controls",
            "icon": ""
          }
        },
        "477a3e516de245bfa5afa9357c478261": {
          "model_module": "@jupyter-widgets/controls",
          "model_name": "ButtonStyleModel",
          "state": {
            "_view_name": "StyleView",
            "_model_name": "ButtonStyleModel",
            "_view_module": "@jupyter-widgets/base",
            "_model_module_version": "1.5.0",
            "_view_count": null,
            "button_color": null,
            "font_weight": "",
            "_view_module_version": "1.2.0",
            "_model_module": "@jupyter-widgets/controls"
          }
        },
        "aa7ff00a62384630a59d0f1b25e4a8a1": {
          "model_module": "@jupyter-widgets/controls",
          "model_name": "HBoxModel",
          "state": {
            "_view_name": "HBoxView",
            "_dom_classes": [],
            "_model_name": "HBoxModel",
            "_view_module": "@jupyter-widgets/controls",
            "_model_module_version": "1.5.0",
            "_view_count": null,
            "_view_module_version": "1.5.0",
            "box_style": "",
            "layout": "IPY_MODEL_31c0fadcdc5a43cfaf2d87c00b00d4fe",
            "_model_module": "@jupyter-widgets/controls",
            "children": [
              "IPY_MODEL_e8c06fd26a5348608fbbef24e413ed8f",
              "IPY_MODEL_c5ed452fb80b4977b421088d67e75033"
            ]
          }
        },
        "e8c06fd26a5348608fbbef24e413ed8f": {
          "model_module": "@jupyter-widgets/controls",
          "model_name": "VBoxModel",
          "state": {
            "_view_name": "VBoxView",
            "_dom_classes": [],
            "_model_name": "VBoxModel",
            "_view_module": "@jupyter-widgets/controls",
            "_model_module_version": "1.5.0",
            "_view_count": null,
            "_view_module_version": "1.5.0",
            "box_style": "",
            "layout": "IPY_MODEL_5784f064fb0744d7bb4f416add5ba067",
            "_model_module": "@jupyter-widgets/controls",
            "children": [
              "IPY_MODEL_aaa2df501df34e91b9f47b16a2ec745e",
              "IPY_MODEL_46ce97b24fa04886b3ced22d8f8a6e81"
            ]
          }
        },
        "c5ed452fb80b4977b421088d67e75033": {
          "model_module": "@jupyter-widgets/controls",
          "model_name": "VBoxModel",
          "state": {
            "_view_name": "VBoxView",
            "_dom_classes": [],
            "_model_name": "VBoxModel",
            "_view_module": "@jupyter-widgets/controls",
            "_model_module_version": "1.5.0",
            "_view_count": null,
            "_view_module_version": "1.5.0",
            "box_style": "",
            "layout": "IPY_MODEL_5784f064fb0744d7bb4f416add5ba067",
            "_model_module": "@jupyter-widgets/controls",
            "children": [
              "IPY_MODEL_903590b8c7974598b91cac2583913d5d",
              "IPY_MODEL_174209905efb4711bad13938ad6e06f1"
            ]
          }
        },
        "aaa2df501df34e91b9f47b16a2ec745e": {
          "model_module": "@jupyter-widgets/controls",
          "model_name": "ImageModel",
          "state": {
            "_view_name": "ImageView",
            "_dom_classes": [],
            "_model_name": "ImageModel",
            "format": "jpg",
            "_view_module": "@jupyter-widgets/controls",
            "_model_module_version": "1.5.0",
            "_view_count": null,
            "width": "",
            "_view_module_version": "1.5.0",
            "layout": "IPY_MODEL_f8a95b9928a047eaac340a25c25d6b72",
            "height": "",
            "_model_module": "@jupyter-widgets/controls"
          }
        },
        "46ce97b24fa04886b3ced22d8f8a6e81": {
          "model_module": "@jupyter-widgets/controls",
          "model_name": "ButtonModel",
          "state": {
            "_view_name": "ButtonView",
            "style": "IPY_MODEL_814b9c3d21c3420899f27dcc933595fc",
            "_dom_classes": [],
            "description": "Delete",
            "_model_name": "ButtonModel",
            "button_style": "",
            "_view_module": "@jupyter-widgets/controls",
            "_model_module_version": "1.5.0",
            "tooltip": "",
            "_view_count": null,
            "disabled": false,
            "_view_module_version": "1.5.0",
            "layout": "IPY_MODEL_bcfc7057e0db460ca181995c4bbeb0c6",
            "_model_module": "@jupyter-widgets/controls",
            "icon": ""
          }
        },
        "903590b8c7974598b91cac2583913d5d": {
          "model_module": "@jupyter-widgets/controls",
          "model_name": "ImageModel",
          "state": {
            "_view_name": "ImageView",
            "_dom_classes": [],
            "_model_name": "ImageModel",
            "format": "jpg",
            "_view_module": "@jupyter-widgets/controls",
            "_model_module_version": "1.5.0",
            "_view_count": null,
            "width": "",
            "_view_module_version": "1.5.0",
            "layout": "IPY_MODEL_f8a95b9928a047eaac340a25c25d6b72",
            "height": "",
            "_model_module": "@jupyter-widgets/controls"
          }
        },
        "174209905efb4711bad13938ad6e06f1": {
          "model_module": "@jupyter-widgets/controls",
          "model_name": "ButtonModel",
          "state": {
            "_view_name": "ButtonView",
            "style": "IPY_MODEL_2a703bc0d97a43b0a070a59a34b28966",
            "_dom_classes": [],
            "description": "Delete",
            "_model_name": "ButtonModel",
            "button_style": "",
            "_view_module": "@jupyter-widgets/controls",
            "_model_module_version": "1.5.0",
            "tooltip": "",
            "_view_count": null,
            "disabled": false,
            "_view_module_version": "1.5.0",
            "layout": "IPY_MODEL_bcfc7057e0db460ca181995c4bbeb0c6",
            "_model_module": "@jupyter-widgets/controls",
            "icon": ""
          }
        },
        "814b9c3d21c3420899f27dcc933595fc": {
          "model_module": "@jupyter-widgets/controls",
          "model_name": "ButtonStyleModel",
          "state": {
            "_view_name": "StyleView",
            "_model_name": "ButtonStyleModel",
            "_view_module": "@jupyter-widgets/base",
            "_model_module_version": "1.5.0",
            "_view_count": null,
            "button_color": null,
            "font_weight": "",
            "_view_module_version": "1.2.0",
            "_model_module": "@jupyter-widgets/controls"
          }
        },
        "2a703bc0d97a43b0a070a59a34b28966": {
          "model_module": "@jupyter-widgets/controls",
          "model_name": "ButtonStyleModel",
          "state": {
            "_view_name": "StyleView",
            "_model_name": "ButtonStyleModel",
            "_view_module": "@jupyter-widgets/base",
            "_model_module_version": "1.5.0",
            "_view_count": null,
            "button_color": null,
            "font_weight": "",
            "_view_module_version": "1.2.0",
            "_model_module": "@jupyter-widgets/controls"
          }
        },
        "37f449135e1c45d9ae4a00f581458d0a": {
          "model_module": "@jupyter-widgets/controls",
          "model_name": "ButtonModel",
          "state": {
            "_view_name": "ButtonView",
            "style": "IPY_MODEL_cde5827f22ea405ab61d2b01393e21d1",
            "_dom_classes": [],
            "description": "Next Batch",
            "_model_name": "ButtonModel",
            "button_style": "primary",
            "_view_module": "@jupyter-widgets/controls",
            "_model_module_version": "1.5.0",
            "tooltip": "",
            "_view_count": null,
            "disabled": false,
            "_view_module_version": "1.5.0",
            "layout": "IPY_MODEL_bcfc7057e0db460ca181995c4bbeb0c6",
            "_model_module": "@jupyter-widgets/controls",
            "icon": ""
          }
        },
        "cde5827f22ea405ab61d2b01393e21d1": {
          "model_module": "@jupyter-widgets/controls",
          "model_name": "ButtonStyleModel",
          "state": {
            "_view_name": "StyleView",
            "_model_name": "ButtonStyleModel",
            "_view_module": "@jupyter-widgets/base",
            "_model_module_version": "1.5.0",
            "_view_count": null,
            "button_color": null,
            "font_weight": "",
            "_view_module_version": "1.2.0",
            "_model_module": "@jupyter-widgets/controls"
          }
        },
        "ac0d90e5a94b41708a4658172c01d16b": {
          "model_module": "@jupyter-widgets/controls",
          "model_name": "HBoxModel",
          "state": {
            "_view_name": "HBoxView",
            "_dom_classes": [],
            "_model_name": "HBoxModel",
            "_view_module": "@jupyter-widgets/controls",
            "_model_module_version": "1.5.0",
            "_view_count": null,
            "_view_module_version": "1.5.0",
            "box_style": "",
            "layout": "IPY_MODEL_31c0fadcdc5a43cfaf2d87c00b00d4fe",
            "_model_module": "@jupyter-widgets/controls",
            "children": [
              "IPY_MODEL_ea41f9398e0b4916ae2b88c905077db8",
              "IPY_MODEL_15dd5aa9dec74a62adbe2778130fe4d7"
            ]
          }
        },
        "ea41f9398e0b4916ae2b88c905077db8": {
          "model_module": "@jupyter-widgets/controls",
          "model_name": "VBoxModel",
          "state": {
            "_view_name": "VBoxView",
            "_dom_classes": [],
            "_model_name": "VBoxModel",
            "_view_module": "@jupyter-widgets/controls",
            "_model_module_version": "1.5.0",
            "_view_count": null,
            "_view_module_version": "1.5.0",
            "box_style": "",
            "layout": "IPY_MODEL_5784f064fb0744d7bb4f416add5ba067",
            "_model_module": "@jupyter-widgets/controls",
            "children": [
              "IPY_MODEL_8312b9e7f656461cbacb46bc843af07d",
              "IPY_MODEL_de018a7bab8e46b9834573a0784eba52"
            ]
          }
        },
        "15dd5aa9dec74a62adbe2778130fe4d7": {
          "model_module": "@jupyter-widgets/controls",
          "model_name": "VBoxModel",
          "state": {
            "_view_name": "VBoxView",
            "_dom_classes": [],
            "_model_name": "VBoxModel",
            "_view_module": "@jupyter-widgets/controls",
            "_model_module_version": "1.5.0",
            "_view_count": null,
            "_view_module_version": "1.5.0",
            "box_style": "",
            "layout": "IPY_MODEL_5784f064fb0744d7bb4f416add5ba067",
            "_model_module": "@jupyter-widgets/controls",
            "children": [
              "IPY_MODEL_a997bbe6d3824cd9abc1bffff75631a0",
              "IPY_MODEL_a2fa9b49c22f459981d20a6e7b4b6ca6"
            ]
          }
        },
        "8312b9e7f656461cbacb46bc843af07d": {
          "model_module": "@jupyter-widgets/controls",
          "model_name": "ImageModel",
          "state": {
            "_view_name": "ImageView",
            "_dom_classes": [],
            "_model_name": "ImageModel",
            "format": "jpg",
            "_view_module": "@jupyter-widgets/controls",
            "_model_module_version": "1.5.0",
            "_view_count": null,
            "width": "",
            "_view_module_version": "1.5.0",
            "layout": "IPY_MODEL_f8a95b9928a047eaac340a25c25d6b72",
            "height": "",
            "_model_module": "@jupyter-widgets/controls"
          }
        },
        "de018a7bab8e46b9834573a0784eba52": {
          "model_module": "@jupyter-widgets/controls",
          "model_name": "ButtonModel",
          "state": {
            "_view_name": "ButtonView",
            "style": "IPY_MODEL_9df3165bba674e97baf2ccbbdfb1ec8f",
            "_dom_classes": [],
            "description": "Delete",
            "_model_name": "ButtonModel",
            "button_style": "",
            "_view_module": "@jupyter-widgets/controls",
            "_model_module_version": "1.5.0",
            "tooltip": "",
            "_view_count": null,
            "disabled": false,
            "_view_module_version": "1.5.0",
            "layout": "IPY_MODEL_bcfc7057e0db460ca181995c4bbeb0c6",
            "_model_module": "@jupyter-widgets/controls",
            "icon": ""
          }
        },
        "a997bbe6d3824cd9abc1bffff75631a0": {
          "model_module": "@jupyter-widgets/controls",
          "model_name": "ImageModel",
          "state": {
            "_view_name": "ImageView",
            "_dom_classes": [],
            "_model_name": "ImageModel",
            "format": "jpg",
            "_view_module": "@jupyter-widgets/controls",
            "_model_module_version": "1.5.0",
            "_view_count": null,
            "width": "",
            "_view_module_version": "1.5.0",
            "layout": "IPY_MODEL_f8a95b9928a047eaac340a25c25d6b72",
            "height": "",
            "_model_module": "@jupyter-widgets/controls"
          }
        },
        "a2fa9b49c22f459981d20a6e7b4b6ca6": {
          "model_module": "@jupyter-widgets/controls",
          "model_name": "ButtonModel",
          "state": {
            "_view_name": "ButtonView",
            "style": "IPY_MODEL_83813a2afe874118af04f2043a95f92e",
            "_dom_classes": [],
            "description": "Delete",
            "_model_name": "ButtonModel",
            "button_style": "",
            "_view_module": "@jupyter-widgets/controls",
            "_model_module_version": "1.5.0",
            "tooltip": "",
            "_view_count": null,
            "disabled": false,
            "_view_module_version": "1.5.0",
            "layout": "IPY_MODEL_bcfc7057e0db460ca181995c4bbeb0c6",
            "_model_module": "@jupyter-widgets/controls",
            "icon": ""
          }
        },
        "9df3165bba674e97baf2ccbbdfb1ec8f": {
          "model_module": "@jupyter-widgets/controls",
          "model_name": "ButtonStyleModel",
          "state": {
            "_view_name": "StyleView",
            "_model_name": "ButtonStyleModel",
            "_view_module": "@jupyter-widgets/base",
            "_model_module_version": "1.5.0",
            "_view_count": null,
            "button_color": null,
            "font_weight": "",
            "_view_module_version": "1.2.0",
            "_model_module": "@jupyter-widgets/controls"
          }
        },
        "83813a2afe874118af04f2043a95f92e": {
          "model_module": "@jupyter-widgets/controls",
          "model_name": "ButtonStyleModel",
          "state": {
            "_view_name": "StyleView",
            "_model_name": "ButtonStyleModel",
            "_view_module": "@jupyter-widgets/base",
            "_model_module_version": "1.5.0",
            "_view_count": null,
            "button_color": null,
            "font_weight": "",
            "_view_module_version": "1.2.0",
            "_model_module": "@jupyter-widgets/controls"
          }
        },
        "b40bf38a5b5e4cc3973de8285472b8f2": {
          "model_module": "@jupyter-widgets/controls",
          "model_name": "ButtonModel",
          "state": {
            "_view_name": "ButtonView",
            "style": "IPY_MODEL_b3f583e6ca0846c7b74fe4b2b1ccf50e",
            "_dom_classes": [],
            "description": "Next Batch",
            "_model_name": "ButtonModel",
            "button_style": "primary",
            "_view_module": "@jupyter-widgets/controls",
            "_model_module_version": "1.5.0",
            "tooltip": "",
            "_view_count": null,
            "disabled": false,
            "_view_module_version": "1.5.0",
            "layout": "IPY_MODEL_bcfc7057e0db460ca181995c4bbeb0c6",
            "_model_module": "@jupyter-widgets/controls",
            "icon": ""
          }
        },
        "b3f583e6ca0846c7b74fe4b2b1ccf50e": {
          "model_module": "@jupyter-widgets/controls",
          "model_name": "ButtonStyleModel",
          "state": {
            "_view_name": "StyleView",
            "_model_name": "ButtonStyleModel",
            "_view_module": "@jupyter-widgets/base",
            "_model_module_version": "1.5.0",
            "_view_count": null,
            "button_color": null,
            "font_weight": "",
            "_view_module_version": "1.2.0",
            "_model_module": "@jupyter-widgets/controls"
          }
        },
        "a9e18619e8f2466abd6de3827fed2055": {
          "model_module": "@jupyter-widgets/controls",
          "model_name": "HBoxModel",
          "state": {
            "_view_name": "HBoxView",
            "_dom_classes": [],
            "_model_name": "HBoxModel",
            "_view_module": "@jupyter-widgets/controls",
            "_model_module_version": "1.5.0",
            "_view_count": null,
            "_view_module_version": "1.5.0",
            "box_style": "",
            "layout": "IPY_MODEL_31c0fadcdc5a43cfaf2d87c00b00d4fe",
            "_model_module": "@jupyter-widgets/controls",
            "children": [
              "IPY_MODEL_6db7fdd64b68489e83f97b608ec96e3b",
              "IPY_MODEL_1bb8d49bbab34c4e94f2f26114f0ac93"
            ]
          }
        },
        "6db7fdd64b68489e83f97b608ec96e3b": {
          "model_module": "@jupyter-widgets/controls",
          "model_name": "VBoxModel",
          "state": {
            "_view_name": "VBoxView",
            "_dom_classes": [],
            "_model_name": "VBoxModel",
            "_view_module": "@jupyter-widgets/controls",
            "_model_module_version": "1.5.0",
            "_view_count": null,
            "_view_module_version": "1.5.0",
            "box_style": "",
            "layout": "IPY_MODEL_5784f064fb0744d7bb4f416add5ba067",
            "_model_module": "@jupyter-widgets/controls",
            "children": [
              "IPY_MODEL_afed688455944191991721488c03e9df",
              "IPY_MODEL_a2d47baef6eb4635a0defd8c764012f6"
            ]
          }
        },
        "1bb8d49bbab34c4e94f2f26114f0ac93": {
          "model_module": "@jupyter-widgets/controls",
          "model_name": "VBoxModel",
          "state": {
            "_view_name": "VBoxView",
            "_dom_classes": [],
            "_model_name": "VBoxModel",
            "_view_module": "@jupyter-widgets/controls",
            "_model_module_version": "1.5.0",
            "_view_count": null,
            "_view_module_version": "1.5.0",
            "box_style": "",
            "layout": "IPY_MODEL_5784f064fb0744d7bb4f416add5ba067",
            "_model_module": "@jupyter-widgets/controls",
            "children": [
              "IPY_MODEL_0fe6253193f44ec7bfea9e96fc7d1fa5",
              "IPY_MODEL_2c2e8f5d3650460ca2751fb05778e697"
            ]
          }
        },
        "afed688455944191991721488c03e9df": {
          "model_module": "@jupyter-widgets/controls",
          "model_name": "ImageModel",
          "state": {
            "_view_name": "ImageView",
            "_dom_classes": [],
            "_model_name": "ImageModel",
            "format": "jpg",
            "_view_module": "@jupyter-widgets/controls",
            "_model_module_version": "1.5.0",
            "_view_count": null,
            "width": "",
            "_view_module_version": "1.5.0",
            "layout": "IPY_MODEL_f8a95b9928a047eaac340a25c25d6b72",
            "height": "",
            "_model_module": "@jupyter-widgets/controls"
          }
        },
        "a2d47baef6eb4635a0defd8c764012f6": {
          "model_module": "@jupyter-widgets/controls",
          "model_name": "ButtonModel",
          "state": {
            "_view_name": "ButtonView",
            "style": "IPY_MODEL_3b29e33ade674d8eb18049002e7a5041",
            "_dom_classes": [],
            "description": "Delete",
            "_model_name": "ButtonModel",
            "button_style": "",
            "_view_module": "@jupyter-widgets/controls",
            "_model_module_version": "1.5.0",
            "tooltip": "",
            "_view_count": null,
            "disabled": false,
            "_view_module_version": "1.5.0",
            "layout": "IPY_MODEL_bcfc7057e0db460ca181995c4bbeb0c6",
            "_model_module": "@jupyter-widgets/controls",
            "icon": ""
          }
        },
        "0fe6253193f44ec7bfea9e96fc7d1fa5": {
          "model_module": "@jupyter-widgets/controls",
          "model_name": "ImageModel",
          "state": {
            "_view_name": "ImageView",
            "_dom_classes": [],
            "_model_name": "ImageModel",
            "format": "jpg",
            "_view_module": "@jupyter-widgets/controls",
            "_model_module_version": "1.5.0",
            "_view_count": null,
            "width": "",
            "_view_module_version": "1.5.0",
            "layout": "IPY_MODEL_f8a95b9928a047eaac340a25c25d6b72",
            "height": "",
            "_model_module": "@jupyter-widgets/controls"
          }
        },
        "2c2e8f5d3650460ca2751fb05778e697": {
          "model_module": "@jupyter-widgets/controls",
          "model_name": "ButtonModel",
          "state": {
            "_view_name": "ButtonView",
            "style": "IPY_MODEL_b30ab6ff42454117a37840832876263a",
            "_dom_classes": [],
            "description": "Delete",
            "_model_name": "ButtonModel",
            "button_style": "",
            "_view_module": "@jupyter-widgets/controls",
            "_model_module_version": "1.5.0",
            "tooltip": "",
            "_view_count": null,
            "disabled": false,
            "_view_module_version": "1.5.0",
            "layout": "IPY_MODEL_bcfc7057e0db460ca181995c4bbeb0c6",
            "_model_module": "@jupyter-widgets/controls",
            "icon": ""
          }
        },
        "3b29e33ade674d8eb18049002e7a5041": {
          "model_module": "@jupyter-widgets/controls",
          "model_name": "ButtonStyleModel",
          "state": {
            "_view_name": "StyleView",
            "_model_name": "ButtonStyleModel",
            "_view_module": "@jupyter-widgets/base",
            "_model_module_version": "1.5.0",
            "_view_count": null,
            "button_color": null,
            "font_weight": "",
            "_view_module_version": "1.2.0",
            "_model_module": "@jupyter-widgets/controls"
          }
        },
        "b30ab6ff42454117a37840832876263a": {
          "model_module": "@jupyter-widgets/controls",
          "model_name": "ButtonStyleModel",
          "state": {
            "_view_name": "StyleView",
            "_model_name": "ButtonStyleModel",
            "_view_module": "@jupyter-widgets/base",
            "_model_module_version": "1.5.0",
            "_view_count": null,
            "button_color": null,
            "font_weight": "",
            "_view_module_version": "1.2.0",
            "_model_module": "@jupyter-widgets/controls"
          }
        },
        "072d9a2409594d9c9ac8b61ec9524481": {
          "model_module": "@jupyter-widgets/controls",
          "model_name": "ButtonModel",
          "state": {
            "_view_name": "ButtonView",
            "style": "IPY_MODEL_43c5729f00764960a04463efeba14731",
            "_dom_classes": [],
            "description": "Next Batch",
            "_model_name": "ButtonModel",
            "button_style": "primary",
            "_view_module": "@jupyter-widgets/controls",
            "_model_module_version": "1.5.0",
            "tooltip": "",
            "_view_count": null,
            "disabled": false,
            "_view_module_version": "1.5.0",
            "layout": "IPY_MODEL_bcfc7057e0db460ca181995c4bbeb0c6",
            "_model_module": "@jupyter-widgets/controls",
            "icon": ""
          }
        },
        "43c5729f00764960a04463efeba14731": {
          "model_module": "@jupyter-widgets/controls",
          "model_name": "ButtonStyleModel",
          "state": {
            "_view_name": "StyleView",
            "_model_name": "ButtonStyleModel",
            "_view_module": "@jupyter-widgets/base",
            "_model_module_version": "1.5.0",
            "_view_count": null,
            "button_color": null,
            "font_weight": "",
            "_view_module_version": "1.2.0",
            "_model_module": "@jupyter-widgets/controls"
          }
        },
        "b2ebbf275d484e7391f21117fdd521aa": {
          "model_module": "@jupyter-widgets/controls",
          "model_name": "HBoxModel",
          "state": {
            "_view_name": "HBoxView",
            "_dom_classes": [],
            "_model_name": "HBoxModel",
            "_view_module": "@jupyter-widgets/controls",
            "_model_module_version": "1.5.0",
            "_view_count": null,
            "_view_module_version": "1.5.0",
            "box_style": "",
            "layout": "IPY_MODEL_31c0fadcdc5a43cfaf2d87c00b00d4fe",
            "_model_module": "@jupyter-widgets/controls",
            "children": [
              "IPY_MODEL_87007db081364d459c1be2b88de51f11",
              "IPY_MODEL_c94dbb61deac4aa2b2ad31acb122646b"
            ]
          }
        },
        "87007db081364d459c1be2b88de51f11": {
          "model_module": "@jupyter-widgets/controls",
          "model_name": "VBoxModel",
          "state": {
            "_view_name": "VBoxView",
            "_dom_classes": [],
            "_model_name": "VBoxModel",
            "_view_module": "@jupyter-widgets/controls",
            "_model_module_version": "1.5.0",
            "_view_count": null,
            "_view_module_version": "1.5.0",
            "box_style": "",
            "layout": "IPY_MODEL_5784f064fb0744d7bb4f416add5ba067",
            "_model_module": "@jupyter-widgets/controls",
            "children": [
              "IPY_MODEL_a64199819c2b445182ddc42ffb8d6ec1",
              "IPY_MODEL_ade12cf1a4034faca3b13fd17e93a2f6"
            ]
          }
        },
        "c94dbb61deac4aa2b2ad31acb122646b": {
          "model_module": "@jupyter-widgets/controls",
          "model_name": "VBoxModel",
          "state": {
            "_view_name": "VBoxView",
            "_dom_classes": [],
            "_model_name": "VBoxModel",
            "_view_module": "@jupyter-widgets/controls",
            "_model_module_version": "1.5.0",
            "_view_count": null,
            "_view_module_version": "1.5.0",
            "box_style": "",
            "layout": "IPY_MODEL_5784f064fb0744d7bb4f416add5ba067",
            "_model_module": "@jupyter-widgets/controls",
            "children": [
              "IPY_MODEL_7c91c2c252f74adf86764c536435525e",
              "IPY_MODEL_977e9e9046e34eabb1964b31aee9c67b"
            ]
          }
        },
        "a64199819c2b445182ddc42ffb8d6ec1": {
          "model_module": "@jupyter-widgets/controls",
          "model_name": "ImageModel",
          "state": {
            "_view_name": "ImageView",
            "_dom_classes": [],
            "_model_name": "ImageModel",
            "format": "jpg",
            "_view_module": "@jupyter-widgets/controls",
            "_model_module_version": "1.5.0",
            "_view_count": null,
            "width": "",
            "_view_module_version": "1.5.0",
            "layout": "IPY_MODEL_f8a95b9928a047eaac340a25c25d6b72",
            "height": "",
            "_model_module": "@jupyter-widgets/controls"
          }
        },
        "ade12cf1a4034faca3b13fd17e93a2f6": {
          "model_module": "@jupyter-widgets/controls",
          "model_name": "ButtonModel",
          "state": {
            "_view_name": "ButtonView",
            "style": "IPY_MODEL_06920419d1b94df69e971a064144a972",
            "_dom_classes": [],
            "description": "Delete",
            "_model_name": "ButtonModel",
            "button_style": "danger",
            "_view_module": "@jupyter-widgets/controls",
            "_model_module_version": "1.5.0",
            "tooltip": "",
            "_view_count": null,
            "disabled": false,
            "_view_module_version": "1.5.0",
            "layout": "IPY_MODEL_bcfc7057e0db460ca181995c4bbeb0c6",
            "_model_module": "@jupyter-widgets/controls",
            "icon": ""
          }
        },
        "7c91c2c252f74adf86764c536435525e": {
          "model_module": "@jupyter-widgets/controls",
          "model_name": "ImageModel",
          "state": {
            "_view_name": "ImageView",
            "_dom_classes": [],
            "_model_name": "ImageModel",
            "format": "jpg",
            "_view_module": "@jupyter-widgets/controls",
            "_model_module_version": "1.5.0",
            "_view_count": null,
            "width": "",
            "_view_module_version": "1.5.0",
            "layout": "IPY_MODEL_f8a95b9928a047eaac340a25c25d6b72",
            "height": "",
            "_model_module": "@jupyter-widgets/controls"
          }
        },
        "977e9e9046e34eabb1964b31aee9c67b": {
          "model_module": "@jupyter-widgets/controls",
          "model_name": "ButtonModel",
          "state": {
            "_view_name": "ButtonView",
            "style": "IPY_MODEL_d5554a32572f4716b2ec4aff2bd100af",
            "_dom_classes": [],
            "description": "Delete",
            "_model_name": "ButtonModel",
            "button_style": "",
            "_view_module": "@jupyter-widgets/controls",
            "_model_module_version": "1.5.0",
            "tooltip": "",
            "_view_count": null,
            "disabled": false,
            "_view_module_version": "1.5.0",
            "layout": "IPY_MODEL_bcfc7057e0db460ca181995c4bbeb0c6",
            "_model_module": "@jupyter-widgets/controls",
            "icon": ""
          }
        },
        "06920419d1b94df69e971a064144a972": {
          "model_module": "@jupyter-widgets/controls",
          "model_name": "ButtonStyleModel",
          "state": {
            "_view_name": "StyleView",
            "_model_name": "ButtonStyleModel",
            "_view_module": "@jupyter-widgets/base",
            "_model_module_version": "1.5.0",
            "_view_count": null,
            "button_color": null,
            "font_weight": "",
            "_view_module_version": "1.2.0",
            "_model_module": "@jupyter-widgets/controls"
          }
        },
        "d5554a32572f4716b2ec4aff2bd100af": {
          "model_module": "@jupyter-widgets/controls",
          "model_name": "ButtonStyleModel",
          "state": {
            "_view_name": "StyleView",
            "_model_name": "ButtonStyleModel",
            "_view_module": "@jupyter-widgets/base",
            "_model_module_version": "1.5.0",
            "_view_count": null,
            "button_color": null,
            "font_weight": "",
            "_view_module_version": "1.2.0",
            "_model_module": "@jupyter-widgets/controls"
          }
        },
        "a3e86e3574184f92b9349201f594bb69": {
          "model_module": "@jupyter-widgets/controls",
          "model_name": "ButtonModel",
          "state": {
            "_view_name": "ButtonView",
            "style": "IPY_MODEL_79dbdb8b232d4f95b833996f752c5140",
            "_dom_classes": [],
            "description": "Next Batch",
            "_model_name": "ButtonModel",
            "button_style": "primary",
            "_view_module": "@jupyter-widgets/controls",
            "_model_module_version": "1.5.0",
            "tooltip": "",
            "_view_count": null,
            "disabled": false,
            "_view_module_version": "1.5.0",
            "layout": "IPY_MODEL_bcfc7057e0db460ca181995c4bbeb0c6",
            "_model_module": "@jupyter-widgets/controls",
            "icon": ""
          }
        },
        "79dbdb8b232d4f95b833996f752c5140": {
          "model_module": "@jupyter-widgets/controls",
          "model_name": "ButtonStyleModel",
          "state": {
            "_view_name": "StyleView",
            "_model_name": "ButtonStyleModel",
            "_view_module": "@jupyter-widgets/base",
            "_model_module_version": "1.5.0",
            "_view_count": null,
            "button_color": null,
            "font_weight": "",
            "_view_module_version": "1.2.0",
            "_model_module": "@jupyter-widgets/controls"
          }
        },
        "a1f1456513e349c18af93fe54136e180": {
          "model_module": "@jupyter-widgets/controls",
          "model_name": "HBoxModel",
          "state": {
            "_view_name": "HBoxView",
            "_dom_classes": [],
            "_model_name": "HBoxModel",
            "_view_module": "@jupyter-widgets/controls",
            "_model_module_version": "1.5.0",
            "_view_count": null,
            "_view_module_version": "1.5.0",
            "box_style": "",
            "layout": "IPY_MODEL_31c0fadcdc5a43cfaf2d87c00b00d4fe",
            "_model_module": "@jupyter-widgets/controls",
            "children": [
              "IPY_MODEL_6ca647e115cd4e758ab7078ade8c7df3",
              "IPY_MODEL_18f93c8782b0450981d43165bb5a493d"
            ]
          }
        },
        "6ca647e115cd4e758ab7078ade8c7df3": {
          "model_module": "@jupyter-widgets/controls",
          "model_name": "VBoxModel",
          "state": {
            "_view_name": "VBoxView",
            "_dom_classes": [],
            "_model_name": "VBoxModel",
            "_view_module": "@jupyter-widgets/controls",
            "_model_module_version": "1.5.0",
            "_view_count": null,
            "_view_module_version": "1.5.0",
            "box_style": "",
            "layout": "IPY_MODEL_5784f064fb0744d7bb4f416add5ba067",
            "_model_module": "@jupyter-widgets/controls",
            "children": [
              "IPY_MODEL_e8065e7ef94e403cadc30963226b6134",
              "IPY_MODEL_6a5e3a483a604d6c9b155deb4ab5c438"
            ]
          }
        },
        "18f93c8782b0450981d43165bb5a493d": {
          "model_module": "@jupyter-widgets/controls",
          "model_name": "VBoxModel",
          "state": {
            "_view_name": "VBoxView",
            "_dom_classes": [],
            "_model_name": "VBoxModel",
            "_view_module": "@jupyter-widgets/controls",
            "_model_module_version": "1.5.0",
            "_view_count": null,
            "_view_module_version": "1.5.0",
            "box_style": "",
            "layout": "IPY_MODEL_5784f064fb0744d7bb4f416add5ba067",
            "_model_module": "@jupyter-widgets/controls",
            "children": [
              "IPY_MODEL_cd3cb0c8d9f440509863c3009a69cdd4",
              "IPY_MODEL_50f2f815be1848938a5db39ff57108b0"
            ]
          }
        },
        "e8065e7ef94e403cadc30963226b6134": {
          "model_module": "@jupyter-widgets/controls",
          "model_name": "ImageModel",
          "state": {
            "_view_name": "ImageView",
            "_dom_classes": [],
            "_model_name": "ImageModel",
            "format": "jpg",
            "_view_module": "@jupyter-widgets/controls",
            "_model_module_version": "1.5.0",
            "_view_count": null,
            "width": "",
            "_view_module_version": "1.5.0",
            "layout": "IPY_MODEL_f8a95b9928a047eaac340a25c25d6b72",
            "height": "",
            "_model_module": "@jupyter-widgets/controls"
          }
        },
        "6a5e3a483a604d6c9b155deb4ab5c438": {
          "model_module": "@jupyter-widgets/controls",
          "model_name": "ButtonModel",
          "state": {
            "_view_name": "ButtonView",
            "style": "IPY_MODEL_b492bca4ffad4c1cbda34353f9cf01b9",
            "_dom_classes": [],
            "description": "Delete",
            "_model_name": "ButtonModel",
            "button_style": "danger",
            "_view_module": "@jupyter-widgets/controls",
            "_model_module_version": "1.5.0",
            "tooltip": "",
            "_view_count": null,
            "disabled": false,
            "_view_module_version": "1.5.0",
            "layout": "IPY_MODEL_bcfc7057e0db460ca181995c4bbeb0c6",
            "_model_module": "@jupyter-widgets/controls",
            "icon": ""
          }
        },
        "cd3cb0c8d9f440509863c3009a69cdd4": {
          "model_module": "@jupyter-widgets/controls",
          "model_name": "ImageModel",
          "state": {
            "_view_name": "ImageView",
            "_dom_classes": [],
            "_model_name": "ImageModel",
            "format": "jpg",
            "_view_module": "@jupyter-widgets/controls",
            "_model_module_version": "1.5.0",
            "_view_count": null,
            "width": "",
            "_view_module_version": "1.5.0",
            "layout": "IPY_MODEL_f8a95b9928a047eaac340a25c25d6b72",
            "height": "",
            "_model_module": "@jupyter-widgets/controls"
          }
        },
        "50f2f815be1848938a5db39ff57108b0": {
          "model_module": "@jupyter-widgets/controls",
          "model_name": "ButtonModel",
          "state": {
            "_view_name": "ButtonView",
            "style": "IPY_MODEL_21bc3efd8e3546dd9c4dd523700e76c6",
            "_dom_classes": [],
            "description": "Delete",
            "_model_name": "ButtonModel",
            "button_style": "",
            "_view_module": "@jupyter-widgets/controls",
            "_model_module_version": "1.5.0",
            "tooltip": "",
            "_view_count": null,
            "disabled": false,
            "_view_module_version": "1.5.0",
            "layout": "IPY_MODEL_bcfc7057e0db460ca181995c4bbeb0c6",
            "_model_module": "@jupyter-widgets/controls",
            "icon": ""
          }
        },
        "b492bca4ffad4c1cbda34353f9cf01b9": {
          "model_module": "@jupyter-widgets/controls",
          "model_name": "ButtonStyleModel",
          "state": {
            "_view_name": "StyleView",
            "_model_name": "ButtonStyleModel",
            "_view_module": "@jupyter-widgets/base",
            "_model_module_version": "1.5.0",
            "_view_count": null,
            "button_color": null,
            "font_weight": "",
            "_view_module_version": "1.2.0",
            "_model_module": "@jupyter-widgets/controls"
          }
        },
        "21bc3efd8e3546dd9c4dd523700e76c6": {
          "model_module": "@jupyter-widgets/controls",
          "model_name": "ButtonStyleModel",
          "state": {
            "_view_name": "StyleView",
            "_model_name": "ButtonStyleModel",
            "_view_module": "@jupyter-widgets/base",
            "_model_module_version": "1.5.0",
            "_view_count": null,
            "button_color": null,
            "font_weight": "",
            "_view_module_version": "1.2.0",
            "_model_module": "@jupyter-widgets/controls"
          }
        },
        "bd78c54d34124a4d813ccdd06f72d020": {
          "model_module": "@jupyter-widgets/controls",
          "model_name": "ButtonModel",
          "state": {
            "_view_name": "ButtonView",
            "style": "IPY_MODEL_cb42294244264f6a94f42f47d8acb68c",
            "_dom_classes": [],
            "description": "Next Batch",
            "_model_name": "ButtonModel",
            "button_style": "primary",
            "_view_module": "@jupyter-widgets/controls",
            "_model_module_version": "1.5.0",
            "tooltip": "",
            "_view_count": null,
            "disabled": false,
            "_view_module_version": "1.5.0",
            "layout": "IPY_MODEL_bcfc7057e0db460ca181995c4bbeb0c6",
            "_model_module": "@jupyter-widgets/controls",
            "icon": ""
          }
        },
        "cb42294244264f6a94f42f47d8acb68c": {
          "model_module": "@jupyter-widgets/controls",
          "model_name": "ButtonStyleModel",
          "state": {
            "_view_name": "StyleView",
            "_model_name": "ButtonStyleModel",
            "_view_module": "@jupyter-widgets/base",
            "_model_module_version": "1.5.0",
            "_view_count": null,
            "button_color": null,
            "font_weight": "",
            "_view_module_version": "1.2.0",
            "_model_module": "@jupyter-widgets/controls"
          }
        },
        "e3839060ca204e7f931531f5d54947ab": {
          "model_module": "@jupyter-widgets/controls",
          "model_name": "HBoxModel",
          "state": {
            "_view_name": "HBoxView",
            "_dom_classes": [],
            "_model_name": "HBoxModel",
            "_view_module": "@jupyter-widgets/controls",
            "_model_module_version": "1.5.0",
            "_view_count": null,
            "_view_module_version": "1.5.0",
            "box_style": "",
            "layout": "IPY_MODEL_31c0fadcdc5a43cfaf2d87c00b00d4fe",
            "_model_module": "@jupyter-widgets/controls",
            "children": [
              "IPY_MODEL_a669d9ab16c64c9cbb0e3b8ba491267c",
              "IPY_MODEL_7137722725614fa6b18d939b860d781f"
            ]
          }
        },
        "a669d9ab16c64c9cbb0e3b8ba491267c": {
          "model_module": "@jupyter-widgets/controls",
          "model_name": "VBoxModel",
          "state": {
            "_view_name": "VBoxView",
            "_dom_classes": [],
            "_model_name": "VBoxModel",
            "_view_module": "@jupyter-widgets/controls",
            "_model_module_version": "1.5.0",
            "_view_count": null,
            "_view_module_version": "1.5.0",
            "box_style": "",
            "layout": "IPY_MODEL_5784f064fb0744d7bb4f416add5ba067",
            "_model_module": "@jupyter-widgets/controls",
            "children": [
              "IPY_MODEL_4df487b75fc14d929e2cfe8e38dc19c1",
              "IPY_MODEL_475f30b319244869854f2de4488bea58"
            ]
          }
        },
        "7137722725614fa6b18d939b860d781f": {
          "model_module": "@jupyter-widgets/controls",
          "model_name": "VBoxModel",
          "state": {
            "_view_name": "VBoxView",
            "_dom_classes": [],
            "_model_name": "VBoxModel",
            "_view_module": "@jupyter-widgets/controls",
            "_model_module_version": "1.5.0",
            "_view_count": null,
            "_view_module_version": "1.5.0",
            "box_style": "",
            "layout": "IPY_MODEL_5784f064fb0744d7bb4f416add5ba067",
            "_model_module": "@jupyter-widgets/controls",
            "children": [
              "IPY_MODEL_6da99939f24d4183a67ab43b31da6060",
              "IPY_MODEL_71cb11a5a80e49a587a48d1693825dd8"
            ]
          }
        },
        "4df487b75fc14d929e2cfe8e38dc19c1": {
          "model_module": "@jupyter-widgets/controls",
          "model_name": "ImageModel",
          "state": {
            "_view_name": "ImageView",
            "_dom_classes": [],
            "_model_name": "ImageModel",
            "format": "jpg",
            "_view_module": "@jupyter-widgets/controls",
            "_model_module_version": "1.5.0",
            "_view_count": null,
            "width": "",
            "_view_module_version": "1.5.0",
            "layout": "IPY_MODEL_f8a95b9928a047eaac340a25c25d6b72",
            "height": "",
            "_model_module": "@jupyter-widgets/controls"
          }
        },
        "475f30b319244869854f2de4488bea58": {
          "model_module": "@jupyter-widgets/controls",
          "model_name": "ButtonModel",
          "state": {
            "_view_name": "ButtonView",
            "style": "IPY_MODEL_a951029dcc7543059077aae895a71cd4",
            "_dom_classes": [],
            "description": "Delete",
            "_model_name": "ButtonModel",
            "button_style": "",
            "_view_module": "@jupyter-widgets/controls",
            "_model_module_version": "1.5.0",
            "tooltip": "",
            "_view_count": null,
            "disabled": false,
            "_view_module_version": "1.5.0",
            "layout": "IPY_MODEL_bcfc7057e0db460ca181995c4bbeb0c6",
            "_model_module": "@jupyter-widgets/controls",
            "icon": ""
          }
        },
        "6da99939f24d4183a67ab43b31da6060": {
          "model_module": "@jupyter-widgets/controls",
          "model_name": "ImageModel",
          "state": {
            "_view_name": "ImageView",
            "_dom_classes": [],
            "_model_name": "ImageModel",
            "format": "jpg",
            "_view_module": "@jupyter-widgets/controls",
            "_model_module_version": "1.5.0",
            "_view_count": null,
            "width": "",
            "_view_module_version": "1.5.0",
            "layout": "IPY_MODEL_f8a95b9928a047eaac340a25c25d6b72",
            "height": "",
            "_model_module": "@jupyter-widgets/controls"
          }
        },
        "71cb11a5a80e49a587a48d1693825dd8": {
          "model_module": "@jupyter-widgets/controls",
          "model_name": "ButtonModel",
          "state": {
            "_view_name": "ButtonView",
            "style": "IPY_MODEL_4b1ea3ee886347fa945bdb7b964173f1",
            "_dom_classes": [],
            "description": "Delete",
            "_model_name": "ButtonModel",
            "button_style": "",
            "_view_module": "@jupyter-widgets/controls",
            "_model_module_version": "1.5.0",
            "tooltip": "",
            "_view_count": null,
            "disabled": false,
            "_view_module_version": "1.5.0",
            "layout": "IPY_MODEL_bcfc7057e0db460ca181995c4bbeb0c6",
            "_model_module": "@jupyter-widgets/controls",
            "icon": ""
          }
        },
        "a951029dcc7543059077aae895a71cd4": {
          "model_module": "@jupyter-widgets/controls",
          "model_name": "ButtonStyleModel",
          "state": {
            "_view_name": "StyleView",
            "_model_name": "ButtonStyleModel",
            "_view_module": "@jupyter-widgets/base",
            "_model_module_version": "1.5.0",
            "_view_count": null,
            "button_color": null,
            "font_weight": "",
            "_view_module_version": "1.2.0",
            "_model_module": "@jupyter-widgets/controls"
          }
        },
        "4b1ea3ee886347fa945bdb7b964173f1": {
          "model_module": "@jupyter-widgets/controls",
          "model_name": "ButtonStyleModel",
          "state": {
            "_view_name": "StyleView",
            "_model_name": "ButtonStyleModel",
            "_view_module": "@jupyter-widgets/base",
            "_model_module_version": "1.5.0",
            "_view_count": null,
            "button_color": null,
            "font_weight": "",
            "_view_module_version": "1.2.0",
            "_model_module": "@jupyter-widgets/controls"
          }
        },
        "b2fcecc1b945463cad194cae1cd29306": {
          "model_module": "@jupyter-widgets/controls",
          "model_name": "ButtonModel",
          "state": {
            "_view_name": "ButtonView",
            "style": "IPY_MODEL_c707d52b4c7c48f8813a487c56ada322",
            "_dom_classes": [],
            "description": "Next Batch",
            "_model_name": "ButtonModel",
            "button_style": "primary",
            "_view_module": "@jupyter-widgets/controls",
            "_model_module_version": "1.5.0",
            "tooltip": "",
            "_view_count": null,
            "disabled": false,
            "_view_module_version": "1.5.0",
            "layout": "IPY_MODEL_bcfc7057e0db460ca181995c4bbeb0c6",
            "_model_module": "@jupyter-widgets/controls",
            "icon": ""
          }
        },
        "c707d52b4c7c48f8813a487c56ada322": {
          "model_module": "@jupyter-widgets/controls",
          "model_name": "ButtonStyleModel",
          "state": {
            "_view_name": "StyleView",
            "_model_name": "ButtonStyleModel",
            "_view_module": "@jupyter-widgets/base",
            "_model_module_version": "1.5.0",
            "_view_count": null,
            "button_color": null,
            "font_weight": "",
            "_view_module_version": "1.2.0",
            "_model_module": "@jupyter-widgets/controls"
          }
        },
        "10105cc71ea7471aa18f51389466088d": {
          "model_module": "@jupyter-widgets/controls",
          "model_name": "HBoxModel",
          "state": {
            "_view_name": "HBoxView",
            "_dom_classes": [],
            "_model_name": "HBoxModel",
            "_view_module": "@jupyter-widgets/controls",
            "_model_module_version": "1.5.0",
            "_view_count": null,
            "_view_module_version": "1.5.0",
            "box_style": "",
            "layout": "IPY_MODEL_31c0fadcdc5a43cfaf2d87c00b00d4fe",
            "_model_module": "@jupyter-widgets/controls",
            "children": [
              "IPY_MODEL_ed5a06dad6ea4021b3aeb8c1ce8cc5c2",
              "IPY_MODEL_aef7d909d50349bb8f9eae0f338ede48"
            ]
          }
        },
        "ed5a06dad6ea4021b3aeb8c1ce8cc5c2": {
          "model_module": "@jupyter-widgets/controls",
          "model_name": "VBoxModel",
          "state": {
            "_view_name": "VBoxView",
            "_dom_classes": [],
            "_model_name": "VBoxModel",
            "_view_module": "@jupyter-widgets/controls",
            "_model_module_version": "1.5.0",
            "_view_count": null,
            "_view_module_version": "1.5.0",
            "box_style": "",
            "layout": "IPY_MODEL_5784f064fb0744d7bb4f416add5ba067",
            "_model_module": "@jupyter-widgets/controls",
            "children": [
              "IPY_MODEL_979a87bfdce24c5eaa454926780e2068",
              "IPY_MODEL_4fc727554d8d486582b0894f37744c83"
            ]
          }
        },
        "aef7d909d50349bb8f9eae0f338ede48": {
          "model_module": "@jupyter-widgets/controls",
          "model_name": "VBoxModel",
          "state": {
            "_view_name": "VBoxView",
            "_dom_classes": [],
            "_model_name": "VBoxModel",
            "_view_module": "@jupyter-widgets/controls",
            "_model_module_version": "1.5.0",
            "_view_count": null,
            "_view_module_version": "1.5.0",
            "box_style": "",
            "layout": "IPY_MODEL_5784f064fb0744d7bb4f416add5ba067",
            "_model_module": "@jupyter-widgets/controls",
            "children": [
              "IPY_MODEL_6905eaec66fb4ee39bd445468343c76f",
              "IPY_MODEL_b889602c941a4d97b47cb19e753eb961"
            ]
          }
        },
        "979a87bfdce24c5eaa454926780e2068": {
          "model_module": "@jupyter-widgets/controls",
          "model_name": "ImageModel",
          "state": {
            "_view_name": "ImageView",
            "_dom_classes": [],
            "_model_name": "ImageModel",
            "format": "jpg",
            "_view_module": "@jupyter-widgets/controls",
            "_model_module_version": "1.5.0",
            "_view_count": null,
            "width": "",
            "_view_module_version": "1.5.0",
            "layout": "IPY_MODEL_f8a95b9928a047eaac340a25c25d6b72",
            "height": "",
            "_model_module": "@jupyter-widgets/controls"
          }
        },
        "4fc727554d8d486582b0894f37744c83": {
          "model_module": "@jupyter-widgets/controls",
          "model_name": "ButtonModel",
          "state": {
            "_view_name": "ButtonView",
            "style": "IPY_MODEL_4b360ded65944209865703613a7016e0",
            "_dom_classes": [],
            "description": "Delete",
            "_model_name": "ButtonModel",
            "button_style": "",
            "_view_module": "@jupyter-widgets/controls",
            "_model_module_version": "1.5.0",
            "tooltip": "",
            "_view_count": null,
            "disabled": false,
            "_view_module_version": "1.5.0",
            "layout": "IPY_MODEL_bcfc7057e0db460ca181995c4bbeb0c6",
            "_model_module": "@jupyter-widgets/controls",
            "icon": ""
          }
        },
        "6905eaec66fb4ee39bd445468343c76f": {
          "model_module": "@jupyter-widgets/controls",
          "model_name": "ImageModel",
          "state": {
            "_view_name": "ImageView",
            "_dom_classes": [],
            "_model_name": "ImageModel",
            "format": "jpg",
            "_view_module": "@jupyter-widgets/controls",
            "_model_module_version": "1.5.0",
            "_view_count": null,
            "width": "",
            "_view_module_version": "1.5.0",
            "layout": "IPY_MODEL_f8a95b9928a047eaac340a25c25d6b72",
            "height": "",
            "_model_module": "@jupyter-widgets/controls"
          }
        },
        "b889602c941a4d97b47cb19e753eb961": {
          "model_module": "@jupyter-widgets/controls",
          "model_name": "ButtonModel",
          "state": {
            "_view_name": "ButtonView",
            "style": "IPY_MODEL_b6de745dbbad40bd89bd5aa1e56e690f",
            "_dom_classes": [],
            "description": "Delete",
            "_model_name": "ButtonModel",
            "button_style": "",
            "_view_module": "@jupyter-widgets/controls",
            "_model_module_version": "1.5.0",
            "tooltip": "",
            "_view_count": null,
            "disabled": false,
            "_view_module_version": "1.5.0",
            "layout": "IPY_MODEL_bcfc7057e0db460ca181995c4bbeb0c6",
            "_model_module": "@jupyter-widgets/controls",
            "icon": ""
          }
        },
        "4b360ded65944209865703613a7016e0": {
          "model_module": "@jupyter-widgets/controls",
          "model_name": "ButtonStyleModel",
          "state": {
            "_view_name": "StyleView",
            "_model_name": "ButtonStyleModel",
            "_view_module": "@jupyter-widgets/base",
            "_model_module_version": "1.5.0",
            "_view_count": null,
            "button_color": null,
            "font_weight": "",
            "_view_module_version": "1.2.0",
            "_model_module": "@jupyter-widgets/controls"
          }
        },
        "b6de745dbbad40bd89bd5aa1e56e690f": {
          "model_module": "@jupyter-widgets/controls",
          "model_name": "ButtonStyleModel",
          "state": {
            "_view_name": "StyleView",
            "_model_name": "ButtonStyleModel",
            "_view_module": "@jupyter-widgets/base",
            "_model_module_version": "1.5.0",
            "_view_count": null,
            "button_color": null,
            "font_weight": "",
            "_view_module_version": "1.2.0",
            "_model_module": "@jupyter-widgets/controls"
          }
        },
        "aa7b7a50e92e407799d799d0fc0236e2": {
          "model_module": "@jupyter-widgets/controls",
          "model_name": "ButtonModel",
          "state": {
            "_view_name": "ButtonView",
            "style": "IPY_MODEL_cd560193292f4d0e8bd8643b10e9a77a",
            "_dom_classes": [],
            "description": "Next Batch",
            "_model_name": "ButtonModel",
            "button_style": "primary",
            "_view_module": "@jupyter-widgets/controls",
            "_model_module_version": "1.5.0",
            "tooltip": "",
            "_view_count": null,
            "disabled": false,
            "_view_module_version": "1.5.0",
            "layout": "IPY_MODEL_bcfc7057e0db460ca181995c4bbeb0c6",
            "_model_module": "@jupyter-widgets/controls",
            "icon": ""
          }
        },
        "cd560193292f4d0e8bd8643b10e9a77a": {
          "model_module": "@jupyter-widgets/controls",
          "model_name": "ButtonStyleModel",
          "state": {
            "_view_name": "StyleView",
            "_model_name": "ButtonStyleModel",
            "_view_module": "@jupyter-widgets/base",
            "_model_module_version": "1.5.0",
            "_view_count": null,
            "button_color": null,
            "font_weight": "",
            "_view_module_version": "1.2.0",
            "_model_module": "@jupyter-widgets/controls"
          }
        },
        "040663c573c04ec188990229e675880a": {
          "model_module": "@jupyter-widgets/controls",
          "model_name": "HBoxModel",
          "state": {
            "_view_name": "HBoxView",
            "_dom_classes": [],
            "_model_name": "HBoxModel",
            "_view_module": "@jupyter-widgets/controls",
            "_model_module_version": "1.5.0",
            "_view_count": null,
            "_view_module_version": "1.5.0",
            "box_style": "",
            "layout": "IPY_MODEL_31c0fadcdc5a43cfaf2d87c00b00d4fe",
            "_model_module": "@jupyter-widgets/controls",
            "children": [
              "IPY_MODEL_484f151815ee4dfab9265b86c2c092dc",
              "IPY_MODEL_301c5c5df9a94b9c94aa10db1c701fdb"
            ]
          }
        },
        "484f151815ee4dfab9265b86c2c092dc": {
          "model_module": "@jupyter-widgets/controls",
          "model_name": "VBoxModel",
          "state": {
            "_view_name": "VBoxView",
            "_dom_classes": [],
            "_model_name": "VBoxModel",
            "_view_module": "@jupyter-widgets/controls",
            "_model_module_version": "1.5.0",
            "_view_count": null,
            "_view_module_version": "1.5.0",
            "box_style": "",
            "layout": "IPY_MODEL_5784f064fb0744d7bb4f416add5ba067",
            "_model_module": "@jupyter-widgets/controls",
            "children": [
              "IPY_MODEL_6b884352390347cfb3c4858d795ba085",
              "IPY_MODEL_7cc61ab5694a4ceab949aa9ad0681859"
            ]
          }
        },
        "301c5c5df9a94b9c94aa10db1c701fdb": {
          "model_module": "@jupyter-widgets/controls",
          "model_name": "VBoxModel",
          "state": {
            "_view_name": "VBoxView",
            "_dom_classes": [],
            "_model_name": "VBoxModel",
            "_view_module": "@jupyter-widgets/controls",
            "_model_module_version": "1.5.0",
            "_view_count": null,
            "_view_module_version": "1.5.0",
            "box_style": "",
            "layout": "IPY_MODEL_5784f064fb0744d7bb4f416add5ba067",
            "_model_module": "@jupyter-widgets/controls",
            "children": [
              "IPY_MODEL_6b579a823a8849bb8b35316b761065f4",
              "IPY_MODEL_1ecec14f22cf44739d91e74b150f897c"
            ]
          }
        },
        "6b884352390347cfb3c4858d795ba085": {
          "model_module": "@jupyter-widgets/controls",
          "model_name": "ImageModel",
          "state": {
            "_view_name": "ImageView",
            "_dom_classes": [],
            "_model_name": "ImageModel",
            "format": "jpg",
            "_view_module": "@jupyter-widgets/controls",
            "_model_module_version": "1.5.0",
            "_view_count": null,
            "width": "",
            "_view_module_version": "1.5.0",
            "layout": "IPY_MODEL_f8a95b9928a047eaac340a25c25d6b72",
            "height": "",
            "_model_module": "@jupyter-widgets/controls"
          }
        },
        "7cc61ab5694a4ceab949aa9ad0681859": {
          "model_module": "@jupyter-widgets/controls",
          "model_name": "ButtonModel",
          "state": {
            "_view_name": "ButtonView",
            "style": "IPY_MODEL_b09b886ae7914c678e2f93d56ad83e68",
            "_dom_classes": [],
            "description": "Delete",
            "_model_name": "ButtonModel",
            "button_style": "",
            "_view_module": "@jupyter-widgets/controls",
            "_model_module_version": "1.5.0",
            "tooltip": "",
            "_view_count": null,
            "disabled": false,
            "_view_module_version": "1.5.0",
            "layout": "IPY_MODEL_bcfc7057e0db460ca181995c4bbeb0c6",
            "_model_module": "@jupyter-widgets/controls",
            "icon": ""
          }
        },
        "6b579a823a8849bb8b35316b761065f4": {
          "model_module": "@jupyter-widgets/controls",
          "model_name": "ImageModel",
          "state": {
            "_view_name": "ImageView",
            "_dom_classes": [],
            "_model_name": "ImageModel",
            "format": "jpg",
            "_view_module": "@jupyter-widgets/controls",
            "_model_module_version": "1.5.0",
            "_view_count": null,
            "width": "",
            "_view_module_version": "1.5.0",
            "layout": "IPY_MODEL_f8a95b9928a047eaac340a25c25d6b72",
            "height": "",
            "_model_module": "@jupyter-widgets/controls"
          }
        },
        "1ecec14f22cf44739d91e74b150f897c": {
          "model_module": "@jupyter-widgets/controls",
          "model_name": "ButtonModel",
          "state": {
            "_view_name": "ButtonView",
            "style": "IPY_MODEL_3e6805f641bc4ec1b3e98ce928fe432e",
            "_dom_classes": [],
            "description": "Delete",
            "_model_name": "ButtonModel",
            "button_style": "",
            "_view_module": "@jupyter-widgets/controls",
            "_model_module_version": "1.5.0",
            "tooltip": "",
            "_view_count": null,
            "disabled": false,
            "_view_module_version": "1.5.0",
            "layout": "IPY_MODEL_bcfc7057e0db460ca181995c4bbeb0c6",
            "_model_module": "@jupyter-widgets/controls",
            "icon": ""
          }
        },
        "b09b886ae7914c678e2f93d56ad83e68": {
          "model_module": "@jupyter-widgets/controls",
          "model_name": "ButtonStyleModel",
          "state": {
            "_view_name": "StyleView",
            "_model_name": "ButtonStyleModel",
            "_view_module": "@jupyter-widgets/base",
            "_model_module_version": "1.5.0",
            "_view_count": null,
            "button_color": null,
            "font_weight": "",
            "_view_module_version": "1.2.0",
            "_model_module": "@jupyter-widgets/controls"
          }
        },
        "3e6805f641bc4ec1b3e98ce928fe432e": {
          "model_module": "@jupyter-widgets/controls",
          "model_name": "ButtonStyleModel",
          "state": {
            "_view_name": "StyleView",
            "_model_name": "ButtonStyleModel",
            "_view_module": "@jupyter-widgets/base",
            "_model_module_version": "1.5.0",
            "_view_count": null,
            "button_color": null,
            "font_weight": "",
            "_view_module_version": "1.2.0",
            "_model_module": "@jupyter-widgets/controls"
          }
        },
        "e74ca75037cd4b178692bc923860e98f": {
          "model_module": "@jupyter-widgets/controls",
          "model_name": "ButtonModel",
          "state": {
            "_view_name": "ButtonView",
            "style": "IPY_MODEL_35a75f047c7d47ac9d7402d543ba70be",
            "_dom_classes": [],
            "description": "Next Batch",
            "_model_name": "ButtonModel",
            "button_style": "primary",
            "_view_module": "@jupyter-widgets/controls",
            "_model_module_version": "1.5.0",
            "tooltip": "",
            "_view_count": null,
            "disabled": false,
            "_view_module_version": "1.5.0",
            "layout": "IPY_MODEL_bcfc7057e0db460ca181995c4bbeb0c6",
            "_model_module": "@jupyter-widgets/controls",
            "icon": ""
          }
        },
        "35a75f047c7d47ac9d7402d543ba70be": {
          "model_module": "@jupyter-widgets/controls",
          "model_name": "ButtonStyleModel",
          "state": {
            "_view_name": "StyleView",
            "_model_name": "ButtonStyleModel",
            "_view_module": "@jupyter-widgets/base",
            "_model_module_version": "1.5.0",
            "_view_count": null,
            "button_color": null,
            "font_weight": "",
            "_view_module_version": "1.2.0",
            "_model_module": "@jupyter-widgets/controls"
          }
        },
        "d28a40ba8da8410ba63fb13d23b36d6f": {
          "model_module": "@jupyter-widgets/controls",
          "model_name": "HBoxModel",
          "state": {
            "_view_name": "HBoxView",
            "_dom_classes": [],
            "_model_name": "HBoxModel",
            "_view_module": "@jupyter-widgets/controls",
            "_model_module_version": "1.5.0",
            "_view_count": null,
            "_view_module_version": "1.5.0",
            "box_style": "",
            "layout": "IPY_MODEL_31c0fadcdc5a43cfaf2d87c00b00d4fe",
            "_model_module": "@jupyter-widgets/controls",
            "children": [
              "IPY_MODEL_07aaba37b87d4e1f8484afa7cbd87d7b",
              "IPY_MODEL_233037e236314145b1bb889ffe3fcc7f"
            ]
          }
        },
        "07aaba37b87d4e1f8484afa7cbd87d7b": {
          "model_module": "@jupyter-widgets/controls",
          "model_name": "VBoxModel",
          "state": {
            "_view_name": "VBoxView",
            "_dom_classes": [],
            "_model_name": "VBoxModel",
            "_view_module": "@jupyter-widgets/controls",
            "_model_module_version": "1.5.0",
            "_view_count": null,
            "_view_module_version": "1.5.0",
            "box_style": "",
            "layout": "IPY_MODEL_5784f064fb0744d7bb4f416add5ba067",
            "_model_module": "@jupyter-widgets/controls",
            "children": [
              "IPY_MODEL_9606ad35a0264856b8fff6bd5745793b",
              "IPY_MODEL_32d665715fd542818bb0deb73fc0771b"
            ]
          }
        },
        "233037e236314145b1bb889ffe3fcc7f": {
          "model_module": "@jupyter-widgets/controls",
          "model_name": "VBoxModel",
          "state": {
            "_view_name": "VBoxView",
            "_dom_classes": [],
            "_model_name": "VBoxModel",
            "_view_module": "@jupyter-widgets/controls",
            "_model_module_version": "1.5.0",
            "_view_count": null,
            "_view_module_version": "1.5.0",
            "box_style": "",
            "layout": "IPY_MODEL_5784f064fb0744d7bb4f416add5ba067",
            "_model_module": "@jupyter-widgets/controls",
            "children": [
              "IPY_MODEL_1f088c46c8204ca4b450b72a122708b1",
              "IPY_MODEL_e7479528ddfa495a95b5fd1738b931f4"
            ]
          }
        },
        "9606ad35a0264856b8fff6bd5745793b": {
          "model_module": "@jupyter-widgets/controls",
          "model_name": "ImageModel",
          "state": {
            "_view_name": "ImageView",
            "_dom_classes": [],
            "_model_name": "ImageModel",
            "format": "jpg",
            "_view_module": "@jupyter-widgets/controls",
            "_model_module_version": "1.5.0",
            "_view_count": null,
            "width": "",
            "_view_module_version": "1.5.0",
            "layout": "IPY_MODEL_f8a95b9928a047eaac340a25c25d6b72",
            "height": "",
            "_model_module": "@jupyter-widgets/controls"
          }
        },
        "32d665715fd542818bb0deb73fc0771b": {
          "model_module": "@jupyter-widgets/controls",
          "model_name": "ButtonModel",
          "state": {
            "_view_name": "ButtonView",
            "style": "IPY_MODEL_2acf16e4a05e4ee6b92e7e48fa69c70d",
            "_dom_classes": [],
            "description": "Delete",
            "_model_name": "ButtonModel",
            "button_style": "",
            "_view_module": "@jupyter-widgets/controls",
            "_model_module_version": "1.5.0",
            "tooltip": "",
            "_view_count": null,
            "disabled": false,
            "_view_module_version": "1.5.0",
            "layout": "IPY_MODEL_bcfc7057e0db460ca181995c4bbeb0c6",
            "_model_module": "@jupyter-widgets/controls",
            "icon": ""
          }
        },
        "1f088c46c8204ca4b450b72a122708b1": {
          "model_module": "@jupyter-widgets/controls",
          "model_name": "ImageModel",
          "state": {
            "_view_name": "ImageView",
            "_dom_classes": [],
            "_model_name": "ImageModel",
            "format": "jpg",
            "_view_module": "@jupyter-widgets/controls",
            "_model_module_version": "1.5.0",
            "_view_count": null,
            "width": "",
            "_view_module_version": "1.5.0",
            "layout": "IPY_MODEL_f8a95b9928a047eaac340a25c25d6b72",
            "height": "",
            "_model_module": "@jupyter-widgets/controls"
          }
        },
        "e7479528ddfa495a95b5fd1738b931f4": {
          "model_module": "@jupyter-widgets/controls",
          "model_name": "ButtonModel",
          "state": {
            "_view_name": "ButtonView",
            "style": "IPY_MODEL_9dae1c0c80464b97a5c10c1c3f49b91a",
            "_dom_classes": [],
            "description": "Delete",
            "_model_name": "ButtonModel",
            "button_style": "",
            "_view_module": "@jupyter-widgets/controls",
            "_model_module_version": "1.5.0",
            "tooltip": "",
            "_view_count": null,
            "disabled": false,
            "_view_module_version": "1.5.0",
            "layout": "IPY_MODEL_bcfc7057e0db460ca181995c4bbeb0c6",
            "_model_module": "@jupyter-widgets/controls",
            "icon": ""
          }
        },
        "2acf16e4a05e4ee6b92e7e48fa69c70d": {
          "model_module": "@jupyter-widgets/controls",
          "model_name": "ButtonStyleModel",
          "state": {
            "_view_name": "StyleView",
            "_model_name": "ButtonStyleModel",
            "_view_module": "@jupyter-widgets/base",
            "_model_module_version": "1.5.0",
            "_view_count": null,
            "button_color": null,
            "font_weight": "",
            "_view_module_version": "1.2.0",
            "_model_module": "@jupyter-widgets/controls"
          }
        },
        "9dae1c0c80464b97a5c10c1c3f49b91a": {
          "model_module": "@jupyter-widgets/controls",
          "model_name": "ButtonStyleModel",
          "state": {
            "_view_name": "StyleView",
            "_model_name": "ButtonStyleModel",
            "_view_module": "@jupyter-widgets/base",
            "_model_module_version": "1.5.0",
            "_view_count": null,
            "button_color": null,
            "font_weight": "",
            "_view_module_version": "1.2.0",
            "_model_module": "@jupyter-widgets/controls"
          }
        },
        "e0915ad8657247c1a203c60e3c3f1aae": {
          "model_module": "@jupyter-widgets/controls",
          "model_name": "ButtonModel",
          "state": {
            "_view_name": "ButtonView",
            "style": "IPY_MODEL_2338736e12784ef786e1b8b67f7a56b5",
            "_dom_classes": [],
            "description": "Next Batch",
            "_model_name": "ButtonModel",
            "button_style": "primary",
            "_view_module": "@jupyter-widgets/controls",
            "_model_module_version": "1.5.0",
            "tooltip": "",
            "_view_count": null,
            "disabled": false,
            "_view_module_version": "1.5.0",
            "layout": "IPY_MODEL_bcfc7057e0db460ca181995c4bbeb0c6",
            "_model_module": "@jupyter-widgets/controls",
            "icon": ""
          }
        },
        "2338736e12784ef786e1b8b67f7a56b5": {
          "model_module": "@jupyter-widgets/controls",
          "model_name": "ButtonStyleModel",
          "state": {
            "_view_name": "StyleView",
            "_model_name": "ButtonStyleModel",
            "_view_module": "@jupyter-widgets/base",
            "_model_module_version": "1.5.0",
            "_view_count": null,
            "button_color": null,
            "font_weight": "",
            "_view_module_version": "1.2.0",
            "_model_module": "@jupyter-widgets/controls"
          }
        },
        "6a996c9a98884becb98f72b17fd2c8a3": {
          "model_module": "@jupyter-widgets/controls",
          "model_name": "HBoxModel",
          "state": {
            "_view_name": "HBoxView",
            "_dom_classes": [],
            "_model_name": "HBoxModel",
            "_view_module": "@jupyter-widgets/controls",
            "_model_module_version": "1.5.0",
            "_view_count": null,
            "_view_module_version": "1.5.0",
            "box_style": "",
            "layout": "IPY_MODEL_31c0fadcdc5a43cfaf2d87c00b00d4fe",
            "_model_module": "@jupyter-widgets/controls",
            "children": [
              "IPY_MODEL_7c89b0c3837c436d89d45024a0eb8f29",
              "IPY_MODEL_0d8931da700f4461a225db46ffa7601c"
            ]
          }
        },
        "7c89b0c3837c436d89d45024a0eb8f29": {
          "model_module": "@jupyter-widgets/controls",
          "model_name": "VBoxModel",
          "state": {
            "_view_name": "VBoxView",
            "_dom_classes": [],
            "_model_name": "VBoxModel",
            "_view_module": "@jupyter-widgets/controls",
            "_model_module_version": "1.5.0",
            "_view_count": null,
            "_view_module_version": "1.5.0",
            "box_style": "",
            "layout": "IPY_MODEL_5784f064fb0744d7bb4f416add5ba067",
            "_model_module": "@jupyter-widgets/controls",
            "children": [
              "IPY_MODEL_ad5a97a0bcf4446cb9be52c4241872ce",
              "IPY_MODEL_bcf8d52b42fa481ab7efbba78e1e43b7"
            ]
          }
        },
        "0d8931da700f4461a225db46ffa7601c": {
          "model_module": "@jupyter-widgets/controls",
          "model_name": "VBoxModel",
          "state": {
            "_view_name": "VBoxView",
            "_dom_classes": [],
            "_model_name": "VBoxModel",
            "_view_module": "@jupyter-widgets/controls",
            "_model_module_version": "1.5.0",
            "_view_count": null,
            "_view_module_version": "1.5.0",
            "box_style": "",
            "layout": "IPY_MODEL_5784f064fb0744d7bb4f416add5ba067",
            "_model_module": "@jupyter-widgets/controls",
            "children": [
              "IPY_MODEL_30c2005578d04ca3b38e1a56ed6c0d63",
              "IPY_MODEL_323caf5267fb4312872adb4cc8393345"
            ]
          }
        },
        "ad5a97a0bcf4446cb9be52c4241872ce": {
          "model_module": "@jupyter-widgets/controls",
          "model_name": "ImageModel",
          "state": {
            "_view_name": "ImageView",
            "_dom_classes": [],
            "_model_name": "ImageModel",
            "format": "jpg",
            "_view_module": "@jupyter-widgets/controls",
            "_model_module_version": "1.5.0",
            "_view_count": null,
            "width": "",
            "_view_module_version": "1.5.0",
            "layout": "IPY_MODEL_f8a95b9928a047eaac340a25c25d6b72",
            "height": "",
            "_model_module": "@jupyter-widgets/controls"
          }
        },
        "bcf8d52b42fa481ab7efbba78e1e43b7": {
          "model_module": "@jupyter-widgets/controls",
          "model_name": "ButtonModel",
          "state": {
            "_view_name": "ButtonView",
            "style": "IPY_MODEL_a37522059b1d4adf8c54bd81e4aea16b",
            "_dom_classes": [],
            "description": "Delete",
            "_model_name": "ButtonModel",
            "button_style": "",
            "_view_module": "@jupyter-widgets/controls",
            "_model_module_version": "1.5.0",
            "tooltip": "",
            "_view_count": null,
            "disabled": false,
            "_view_module_version": "1.5.0",
            "layout": "IPY_MODEL_bcfc7057e0db460ca181995c4bbeb0c6",
            "_model_module": "@jupyter-widgets/controls",
            "icon": ""
          }
        },
        "30c2005578d04ca3b38e1a56ed6c0d63": {
          "model_module": "@jupyter-widgets/controls",
          "model_name": "ImageModel",
          "state": {
            "_view_name": "ImageView",
            "_dom_classes": [],
            "_model_name": "ImageModel",
            "format": "jpg",
            "_view_module": "@jupyter-widgets/controls",
            "_model_module_version": "1.5.0",
            "_view_count": null,
            "width": "",
            "_view_module_version": "1.5.0",
            "layout": "IPY_MODEL_f8a95b9928a047eaac340a25c25d6b72",
            "height": "",
            "_model_module": "@jupyter-widgets/controls"
          }
        },
        "323caf5267fb4312872adb4cc8393345": {
          "model_module": "@jupyter-widgets/controls",
          "model_name": "ButtonModel",
          "state": {
            "_view_name": "ButtonView",
            "style": "IPY_MODEL_d8f6c3929baf42858cf9dae3a3dfc0ba",
            "_dom_classes": [],
            "description": "Delete",
            "_model_name": "ButtonModel",
            "button_style": "",
            "_view_module": "@jupyter-widgets/controls",
            "_model_module_version": "1.5.0",
            "tooltip": "",
            "_view_count": null,
            "disabled": false,
            "_view_module_version": "1.5.0",
            "layout": "IPY_MODEL_bcfc7057e0db460ca181995c4bbeb0c6",
            "_model_module": "@jupyter-widgets/controls",
            "icon": ""
          }
        },
        "a37522059b1d4adf8c54bd81e4aea16b": {
          "model_module": "@jupyter-widgets/controls",
          "model_name": "ButtonStyleModel",
          "state": {
            "_view_name": "StyleView",
            "_model_name": "ButtonStyleModel",
            "_view_module": "@jupyter-widgets/base",
            "_model_module_version": "1.5.0",
            "_view_count": null,
            "button_color": null,
            "font_weight": "",
            "_view_module_version": "1.2.0",
            "_model_module": "@jupyter-widgets/controls"
          }
        },
        "d8f6c3929baf42858cf9dae3a3dfc0ba": {
          "model_module": "@jupyter-widgets/controls",
          "model_name": "ButtonStyleModel",
          "state": {
            "_view_name": "StyleView",
            "_model_name": "ButtonStyleModel",
            "_view_module": "@jupyter-widgets/base",
            "_model_module_version": "1.5.0",
            "_view_count": null,
            "button_color": null,
            "font_weight": "",
            "_view_module_version": "1.2.0",
            "_model_module": "@jupyter-widgets/controls"
          }
        },
        "c524c26e83b64141999bd0a5fa99705d": {
          "model_module": "@jupyter-widgets/controls",
          "model_name": "ButtonModel",
          "state": {
            "_view_name": "ButtonView",
            "style": "IPY_MODEL_2aa5d1a8bf424ddfa52283cab0fd4a67",
            "_dom_classes": [],
            "description": "Next Batch",
            "_model_name": "ButtonModel",
            "button_style": "primary",
            "_view_module": "@jupyter-widgets/controls",
            "_model_module_version": "1.5.0",
            "tooltip": "",
            "_view_count": null,
            "disabled": false,
            "_view_module_version": "1.5.0",
            "layout": "IPY_MODEL_bcfc7057e0db460ca181995c4bbeb0c6",
            "_model_module": "@jupyter-widgets/controls",
            "icon": ""
          }
        },
        "2aa5d1a8bf424ddfa52283cab0fd4a67": {
          "model_module": "@jupyter-widgets/controls",
          "model_name": "ButtonStyleModel",
          "state": {
            "_view_name": "StyleView",
            "_model_name": "ButtonStyleModel",
            "_view_module": "@jupyter-widgets/base",
            "_model_module_version": "1.5.0",
            "_view_count": null,
            "button_color": null,
            "font_weight": "",
            "_view_module_version": "1.2.0",
            "_model_module": "@jupyter-widgets/controls"
          }
        },
        "b3b394ff64ba40398a4bd5e7c29c7ef7": {
          "model_module": "@jupyter-widgets/controls",
          "model_name": "HBoxModel",
          "state": {
            "_view_name": "HBoxView",
            "_dom_classes": [],
            "_model_name": "HBoxModel",
            "_view_module": "@jupyter-widgets/controls",
            "_model_module_version": "1.5.0",
            "_view_count": null,
            "_view_module_version": "1.5.0",
            "box_style": "",
            "layout": "IPY_MODEL_31c0fadcdc5a43cfaf2d87c00b00d4fe",
            "_model_module": "@jupyter-widgets/controls",
            "children": [
              "IPY_MODEL_0ceaeca3fa97455889e8a1063d03af6a",
              "IPY_MODEL_35d957cb1efc43fd849b0cbb4dfdfb50"
            ]
          }
        },
        "0ceaeca3fa97455889e8a1063d03af6a": {
          "model_module": "@jupyter-widgets/controls",
          "model_name": "VBoxModel",
          "state": {
            "_view_name": "VBoxView",
            "_dom_classes": [],
            "_model_name": "VBoxModel",
            "_view_module": "@jupyter-widgets/controls",
            "_model_module_version": "1.5.0",
            "_view_count": null,
            "_view_module_version": "1.5.0",
            "box_style": "",
            "layout": "IPY_MODEL_5784f064fb0744d7bb4f416add5ba067",
            "_model_module": "@jupyter-widgets/controls",
            "children": [
              "IPY_MODEL_813b785adcdf4dd4a6bfcf246f867b52",
              "IPY_MODEL_97a8bfe7fdf74c1fb0e989d4f7601bfd"
            ]
          }
        },
        "35d957cb1efc43fd849b0cbb4dfdfb50": {
          "model_module": "@jupyter-widgets/controls",
          "model_name": "VBoxModel",
          "state": {
            "_view_name": "VBoxView",
            "_dom_classes": [],
            "_model_name": "VBoxModel",
            "_view_module": "@jupyter-widgets/controls",
            "_model_module_version": "1.5.0",
            "_view_count": null,
            "_view_module_version": "1.5.0",
            "box_style": "",
            "layout": "IPY_MODEL_5784f064fb0744d7bb4f416add5ba067",
            "_model_module": "@jupyter-widgets/controls",
            "children": [
              "IPY_MODEL_bc2533fcddaf469c8c59956353fffd99",
              "IPY_MODEL_7ea37aac63784c8194e39bd56eb941a4"
            ]
          }
        },
        "813b785adcdf4dd4a6bfcf246f867b52": {
          "model_module": "@jupyter-widgets/controls",
          "model_name": "ImageModel",
          "state": {
            "_view_name": "ImageView",
            "_dom_classes": [],
            "_model_name": "ImageModel",
            "format": "jpg",
            "_view_module": "@jupyter-widgets/controls",
            "_model_module_version": "1.5.0",
            "_view_count": null,
            "width": "",
            "_view_module_version": "1.5.0",
            "layout": "IPY_MODEL_f8a95b9928a047eaac340a25c25d6b72",
            "height": "",
            "_model_module": "@jupyter-widgets/controls"
          }
        },
        "97a8bfe7fdf74c1fb0e989d4f7601bfd": {
          "model_module": "@jupyter-widgets/controls",
          "model_name": "ButtonModel",
          "state": {
            "_view_name": "ButtonView",
            "style": "IPY_MODEL_7ecf1ac4e8a24e878f35eabf92fa1658",
            "_dom_classes": [],
            "description": "Delete",
            "_model_name": "ButtonModel",
            "button_style": "",
            "_view_module": "@jupyter-widgets/controls",
            "_model_module_version": "1.5.0",
            "tooltip": "",
            "_view_count": null,
            "disabled": false,
            "_view_module_version": "1.5.0",
            "layout": "IPY_MODEL_bcfc7057e0db460ca181995c4bbeb0c6",
            "_model_module": "@jupyter-widgets/controls",
            "icon": ""
          }
        },
        "bc2533fcddaf469c8c59956353fffd99": {
          "model_module": "@jupyter-widgets/controls",
          "model_name": "ImageModel",
          "state": {
            "_view_name": "ImageView",
            "_dom_classes": [],
            "_model_name": "ImageModel",
            "format": "jpg",
            "_view_module": "@jupyter-widgets/controls",
            "_model_module_version": "1.5.0",
            "_view_count": null,
            "width": "",
            "_view_module_version": "1.5.0",
            "layout": "IPY_MODEL_f8a95b9928a047eaac340a25c25d6b72",
            "height": "",
            "_model_module": "@jupyter-widgets/controls"
          }
        },
        "7ea37aac63784c8194e39bd56eb941a4": {
          "model_module": "@jupyter-widgets/controls",
          "model_name": "ButtonModel",
          "state": {
            "_view_name": "ButtonView",
            "style": "IPY_MODEL_2f06627300104308ab1a5bb59732bf1e",
            "_dom_classes": [],
            "description": "Delete",
            "_model_name": "ButtonModel",
            "button_style": "",
            "_view_module": "@jupyter-widgets/controls",
            "_model_module_version": "1.5.0",
            "tooltip": "",
            "_view_count": null,
            "disabled": false,
            "_view_module_version": "1.5.0",
            "layout": "IPY_MODEL_bcfc7057e0db460ca181995c4bbeb0c6",
            "_model_module": "@jupyter-widgets/controls",
            "icon": ""
          }
        },
        "7ecf1ac4e8a24e878f35eabf92fa1658": {
          "model_module": "@jupyter-widgets/controls",
          "model_name": "ButtonStyleModel",
          "state": {
            "_view_name": "StyleView",
            "_model_name": "ButtonStyleModel",
            "_view_module": "@jupyter-widgets/base",
            "_model_module_version": "1.5.0",
            "_view_count": null,
            "button_color": null,
            "font_weight": "",
            "_view_module_version": "1.2.0",
            "_model_module": "@jupyter-widgets/controls"
          }
        },
        "2f06627300104308ab1a5bb59732bf1e": {
          "model_module": "@jupyter-widgets/controls",
          "model_name": "ButtonStyleModel",
          "state": {
            "_view_name": "StyleView",
            "_model_name": "ButtonStyleModel",
            "_view_module": "@jupyter-widgets/base",
            "_model_module_version": "1.5.0",
            "_view_count": null,
            "button_color": null,
            "font_weight": "",
            "_view_module_version": "1.2.0",
            "_model_module": "@jupyter-widgets/controls"
          }
        },
        "aa33167d9cad48c9842c87f02de36e3a": {
          "model_module": "@jupyter-widgets/controls",
          "model_name": "ButtonModel",
          "state": {
            "_view_name": "ButtonView",
            "style": "IPY_MODEL_4799cb0d1ab6470db65c5bc7584acf52",
            "_dom_classes": [],
            "description": "Next Batch",
            "_model_name": "ButtonModel",
            "button_style": "primary",
            "_view_module": "@jupyter-widgets/controls",
            "_model_module_version": "1.5.0",
            "tooltip": "",
            "_view_count": null,
            "disabled": false,
            "_view_module_version": "1.5.0",
            "layout": "IPY_MODEL_bcfc7057e0db460ca181995c4bbeb0c6",
            "_model_module": "@jupyter-widgets/controls",
            "icon": ""
          }
        },
        "4799cb0d1ab6470db65c5bc7584acf52": {
          "model_module": "@jupyter-widgets/controls",
          "model_name": "ButtonStyleModel",
          "state": {
            "_view_name": "StyleView",
            "_model_name": "ButtonStyleModel",
            "_view_module": "@jupyter-widgets/base",
            "_model_module_version": "1.5.0",
            "_view_count": null,
            "button_color": null,
            "font_weight": "",
            "_view_module_version": "1.2.0",
            "_model_module": "@jupyter-widgets/controls"
          }
        },
        "93ace3af595c4eb7a92e02686ca9f99b": {
          "model_module": "@jupyter-widgets/controls",
          "model_name": "HBoxModel",
          "state": {
            "_view_name": "HBoxView",
            "_dom_classes": [],
            "_model_name": "HBoxModel",
            "_view_module": "@jupyter-widgets/controls",
            "_model_module_version": "1.5.0",
            "_view_count": null,
            "_view_module_version": "1.5.0",
            "box_style": "",
            "layout": "IPY_MODEL_31c0fadcdc5a43cfaf2d87c00b00d4fe",
            "_model_module": "@jupyter-widgets/controls",
            "children": [
              "IPY_MODEL_2e26f3283c52478699f89db00d97fd7b",
              "IPY_MODEL_6806a75f267c48cf8288855e24f0988b"
            ]
          }
        },
        "2e26f3283c52478699f89db00d97fd7b": {
          "model_module": "@jupyter-widgets/controls",
          "model_name": "VBoxModel",
          "state": {
            "_view_name": "VBoxView",
            "_dom_classes": [],
            "_model_name": "VBoxModel",
            "_view_module": "@jupyter-widgets/controls",
            "_model_module_version": "1.5.0",
            "_view_count": null,
            "_view_module_version": "1.5.0",
            "box_style": "",
            "layout": "IPY_MODEL_5784f064fb0744d7bb4f416add5ba067",
            "_model_module": "@jupyter-widgets/controls",
            "children": [
              "IPY_MODEL_08417de3357d427d94b3f0517b25c6cd",
              "IPY_MODEL_2285618ea56e453892f0cdd1ca92654e"
            ]
          }
        },
        "6806a75f267c48cf8288855e24f0988b": {
          "model_module": "@jupyter-widgets/controls",
          "model_name": "VBoxModel",
          "state": {
            "_view_name": "VBoxView",
            "_dom_classes": [],
            "_model_name": "VBoxModel",
            "_view_module": "@jupyter-widgets/controls",
            "_model_module_version": "1.5.0",
            "_view_count": null,
            "_view_module_version": "1.5.0",
            "box_style": "",
            "layout": "IPY_MODEL_5784f064fb0744d7bb4f416add5ba067",
            "_model_module": "@jupyter-widgets/controls",
            "children": [
              "IPY_MODEL_77f21c1f184e47b4a8343916f867c361",
              "IPY_MODEL_7f425cc5882448b8928ad4cd1a4f1754"
            ]
          }
        },
        "08417de3357d427d94b3f0517b25c6cd": {
          "model_module": "@jupyter-widgets/controls",
          "model_name": "ImageModel",
          "state": {
            "_view_name": "ImageView",
            "_dom_classes": [],
            "_model_name": "ImageModel",
            "format": "jpg",
            "_view_module": "@jupyter-widgets/controls",
            "_model_module_version": "1.5.0",
            "_view_count": null,
            "width": "",
            "_view_module_version": "1.5.0",
            "layout": "IPY_MODEL_f8a95b9928a047eaac340a25c25d6b72",
            "height": "",
            "_model_module": "@jupyter-widgets/controls"
          }
        },
        "2285618ea56e453892f0cdd1ca92654e": {
          "model_module": "@jupyter-widgets/controls",
          "model_name": "ButtonModel",
          "state": {
            "_view_name": "ButtonView",
            "style": "IPY_MODEL_de45cd78b6944cccbe12dd5d5591f28f",
            "_dom_classes": [],
            "description": "Delete",
            "_model_name": "ButtonModel",
            "button_style": "",
            "_view_module": "@jupyter-widgets/controls",
            "_model_module_version": "1.5.0",
            "tooltip": "",
            "_view_count": null,
            "disabled": false,
            "_view_module_version": "1.5.0",
            "layout": "IPY_MODEL_bcfc7057e0db460ca181995c4bbeb0c6",
            "_model_module": "@jupyter-widgets/controls",
            "icon": ""
          }
        },
        "77f21c1f184e47b4a8343916f867c361": {
          "model_module": "@jupyter-widgets/controls",
          "model_name": "ImageModel",
          "state": {
            "_view_name": "ImageView",
            "_dom_classes": [],
            "_model_name": "ImageModel",
            "format": "jpg",
            "_view_module": "@jupyter-widgets/controls",
            "_model_module_version": "1.5.0",
            "_view_count": null,
            "width": "",
            "_view_module_version": "1.5.0",
            "layout": "IPY_MODEL_f8a95b9928a047eaac340a25c25d6b72",
            "height": "",
            "_model_module": "@jupyter-widgets/controls"
          }
        },
        "7f425cc5882448b8928ad4cd1a4f1754": {
          "model_module": "@jupyter-widgets/controls",
          "model_name": "ButtonModel",
          "state": {
            "_view_name": "ButtonView",
            "style": "IPY_MODEL_d7ec87dd79a54e63af7365b1a31522b8",
            "_dom_classes": [],
            "description": "Delete",
            "_model_name": "ButtonModel",
            "button_style": "",
            "_view_module": "@jupyter-widgets/controls",
            "_model_module_version": "1.5.0",
            "tooltip": "",
            "_view_count": null,
            "disabled": false,
            "_view_module_version": "1.5.0",
            "layout": "IPY_MODEL_bcfc7057e0db460ca181995c4bbeb0c6",
            "_model_module": "@jupyter-widgets/controls",
            "icon": ""
          }
        },
        "de45cd78b6944cccbe12dd5d5591f28f": {
          "model_module": "@jupyter-widgets/controls",
          "model_name": "ButtonStyleModel",
          "state": {
            "_view_name": "StyleView",
            "_model_name": "ButtonStyleModel",
            "_view_module": "@jupyter-widgets/base",
            "_model_module_version": "1.5.0",
            "_view_count": null,
            "button_color": null,
            "font_weight": "",
            "_view_module_version": "1.2.0",
            "_model_module": "@jupyter-widgets/controls"
          }
        },
        "d7ec87dd79a54e63af7365b1a31522b8": {
          "model_module": "@jupyter-widgets/controls",
          "model_name": "ButtonStyleModel",
          "state": {
            "_view_name": "StyleView",
            "_model_name": "ButtonStyleModel",
            "_view_module": "@jupyter-widgets/base",
            "_model_module_version": "1.5.0",
            "_view_count": null,
            "button_color": null,
            "font_weight": "",
            "_view_module_version": "1.2.0",
            "_model_module": "@jupyter-widgets/controls"
          }
        },
        "178a059dbd014c2cac1e513360bbca00": {
          "model_module": "@jupyter-widgets/controls",
          "model_name": "ButtonModel",
          "state": {
            "_view_name": "ButtonView",
            "style": "IPY_MODEL_38b4010ec9484768a3a963e1d0bacfbd",
            "_dom_classes": [],
            "description": "Next Batch",
            "_model_name": "ButtonModel",
            "button_style": "primary",
            "_view_module": "@jupyter-widgets/controls",
            "_model_module_version": "1.5.0",
            "tooltip": "",
            "_view_count": null,
            "disabled": false,
            "_view_module_version": "1.5.0",
            "layout": "IPY_MODEL_bcfc7057e0db460ca181995c4bbeb0c6",
            "_model_module": "@jupyter-widgets/controls",
            "icon": ""
          }
        },
        "38b4010ec9484768a3a963e1d0bacfbd": {
          "model_module": "@jupyter-widgets/controls",
          "model_name": "ButtonStyleModel",
          "state": {
            "_view_name": "StyleView",
            "_model_name": "ButtonStyleModel",
            "_view_module": "@jupyter-widgets/base",
            "_model_module_version": "1.5.0",
            "_view_count": null,
            "button_color": null,
            "font_weight": "",
            "_view_module_version": "1.2.0",
            "_model_module": "@jupyter-widgets/controls"
          }
        },
        "11ad4657bfbc4dc7be14839c1af36e8a": {
          "model_module": "@jupyter-widgets/controls",
          "model_name": "HBoxModel",
          "state": {
            "_view_name": "HBoxView",
            "_dom_classes": [],
            "_model_name": "HBoxModel",
            "_view_module": "@jupyter-widgets/controls",
            "_model_module_version": "1.5.0",
            "_view_count": null,
            "_view_module_version": "1.5.0",
            "box_style": "",
            "layout": "IPY_MODEL_31c0fadcdc5a43cfaf2d87c00b00d4fe",
            "_model_module": "@jupyter-widgets/controls",
            "children": [
              "IPY_MODEL_e71c62e172e143a79777d92e162e7ca9",
              "IPY_MODEL_0b650395a6c544bfa9162eb608696b3a"
            ]
          }
        },
        "e71c62e172e143a79777d92e162e7ca9": {
          "model_module": "@jupyter-widgets/controls",
          "model_name": "VBoxModel",
          "state": {
            "_view_name": "VBoxView",
            "_dom_classes": [],
            "_model_name": "VBoxModel",
            "_view_module": "@jupyter-widgets/controls",
            "_model_module_version": "1.5.0",
            "_view_count": null,
            "_view_module_version": "1.5.0",
            "box_style": "",
            "layout": "IPY_MODEL_5784f064fb0744d7bb4f416add5ba067",
            "_model_module": "@jupyter-widgets/controls",
            "children": [
              "IPY_MODEL_cb52a7f25bfa43ae9400cd7a49332297",
              "IPY_MODEL_3a1d314c42e54aac98bcc17b8c4555b4"
            ]
          }
        },
        "0b650395a6c544bfa9162eb608696b3a": {
          "model_module": "@jupyter-widgets/controls",
          "model_name": "VBoxModel",
          "state": {
            "_view_name": "VBoxView",
            "_dom_classes": [],
            "_model_name": "VBoxModel",
            "_view_module": "@jupyter-widgets/controls",
            "_model_module_version": "1.5.0",
            "_view_count": null,
            "_view_module_version": "1.5.0",
            "box_style": "",
            "layout": "IPY_MODEL_5784f064fb0744d7bb4f416add5ba067",
            "_model_module": "@jupyter-widgets/controls",
            "children": [
              "IPY_MODEL_4a6d1a71da37498bb76bbc592c0f959d",
              "IPY_MODEL_06fc92b474a24cec9733ffe35d3b872c"
            ]
          }
        },
        "cb52a7f25bfa43ae9400cd7a49332297": {
          "model_module": "@jupyter-widgets/controls",
          "model_name": "ImageModel",
          "state": {
            "_view_name": "ImageView",
            "_dom_classes": [],
            "_model_name": "ImageModel",
            "format": "jpg",
            "_view_module": "@jupyter-widgets/controls",
            "_model_module_version": "1.5.0",
            "_view_count": null,
            "width": "",
            "_view_module_version": "1.5.0",
            "layout": "IPY_MODEL_f8a95b9928a047eaac340a25c25d6b72",
            "height": "",
            "_model_module": "@jupyter-widgets/controls"
          }
        },
        "3a1d314c42e54aac98bcc17b8c4555b4": {
          "model_module": "@jupyter-widgets/controls",
          "model_name": "ButtonModel",
          "state": {
            "_view_name": "ButtonView",
            "style": "IPY_MODEL_84c607cdd65c4f6dae5e1c0779e10cd6",
            "_dom_classes": [],
            "description": "Delete",
            "_model_name": "ButtonModel",
            "button_style": "",
            "_view_module": "@jupyter-widgets/controls",
            "_model_module_version": "1.5.0",
            "tooltip": "",
            "_view_count": null,
            "disabled": false,
            "_view_module_version": "1.5.0",
            "layout": "IPY_MODEL_bcfc7057e0db460ca181995c4bbeb0c6",
            "_model_module": "@jupyter-widgets/controls",
            "icon": ""
          }
        },
        "4a6d1a71da37498bb76bbc592c0f959d": {
          "model_module": "@jupyter-widgets/controls",
          "model_name": "ImageModel",
          "state": {
            "_view_name": "ImageView",
            "_dom_classes": [],
            "_model_name": "ImageModel",
            "format": "jpg",
            "_view_module": "@jupyter-widgets/controls",
            "_model_module_version": "1.5.0",
            "_view_count": null,
            "width": "",
            "_view_module_version": "1.5.0",
            "layout": "IPY_MODEL_f8a95b9928a047eaac340a25c25d6b72",
            "height": "",
            "_model_module": "@jupyter-widgets/controls"
          }
        },
        "06fc92b474a24cec9733ffe35d3b872c": {
          "model_module": "@jupyter-widgets/controls",
          "model_name": "ButtonModel",
          "state": {
            "_view_name": "ButtonView",
            "style": "IPY_MODEL_c7e0d2f18d33477ca2e00b772dc1b965",
            "_dom_classes": [],
            "description": "Delete",
            "_model_name": "ButtonModel",
            "button_style": "",
            "_view_module": "@jupyter-widgets/controls",
            "_model_module_version": "1.5.0",
            "tooltip": "",
            "_view_count": null,
            "disabled": false,
            "_view_module_version": "1.5.0",
            "layout": "IPY_MODEL_bcfc7057e0db460ca181995c4bbeb0c6",
            "_model_module": "@jupyter-widgets/controls",
            "icon": ""
          }
        },
        "84c607cdd65c4f6dae5e1c0779e10cd6": {
          "model_module": "@jupyter-widgets/controls",
          "model_name": "ButtonStyleModel",
          "state": {
            "_view_name": "StyleView",
            "_model_name": "ButtonStyleModel",
            "_view_module": "@jupyter-widgets/base",
            "_model_module_version": "1.5.0",
            "_view_count": null,
            "button_color": null,
            "font_weight": "",
            "_view_module_version": "1.2.0",
            "_model_module": "@jupyter-widgets/controls"
          }
        },
        "c7e0d2f18d33477ca2e00b772dc1b965": {
          "model_module": "@jupyter-widgets/controls",
          "model_name": "ButtonStyleModel",
          "state": {
            "_view_name": "StyleView",
            "_model_name": "ButtonStyleModel",
            "_view_module": "@jupyter-widgets/base",
            "_model_module_version": "1.5.0",
            "_view_count": null,
            "button_color": null,
            "font_weight": "",
            "_view_module_version": "1.2.0",
            "_model_module": "@jupyter-widgets/controls"
          }
        },
        "dbb99355319f4360ad8c733a1a2aeecd": {
          "model_module": "@jupyter-widgets/controls",
          "model_name": "ButtonModel",
          "state": {
            "_view_name": "ButtonView",
            "style": "IPY_MODEL_38b41bbb144542e3b676fb2feb8305d8",
            "_dom_classes": [],
            "description": "Next Batch",
            "_model_name": "ButtonModel",
            "button_style": "primary",
            "_view_module": "@jupyter-widgets/controls",
            "_model_module_version": "1.5.0",
            "tooltip": "",
            "_view_count": null,
            "disabled": false,
            "_view_module_version": "1.5.0",
            "layout": "IPY_MODEL_bcfc7057e0db460ca181995c4bbeb0c6",
            "_model_module": "@jupyter-widgets/controls",
            "icon": ""
          }
        },
        "38b41bbb144542e3b676fb2feb8305d8": {
          "model_module": "@jupyter-widgets/controls",
          "model_name": "ButtonStyleModel",
          "state": {
            "_view_name": "StyleView",
            "_model_name": "ButtonStyleModel",
            "_view_module": "@jupyter-widgets/base",
            "_model_module_version": "1.5.0",
            "_view_count": null,
            "button_color": null,
            "font_weight": "",
            "_view_module_version": "1.2.0",
            "_model_module": "@jupyter-widgets/controls"
          }
        },
        "613163f78b524811ae43122cb4d1922e": {
          "model_module": "@jupyter-widgets/controls",
          "model_name": "HBoxModel",
          "state": {
            "_view_name": "HBoxView",
            "_dom_classes": [],
            "_model_name": "HBoxModel",
            "_view_module": "@jupyter-widgets/controls",
            "_model_module_version": "1.5.0",
            "_view_count": null,
            "_view_module_version": "1.5.0",
            "box_style": "",
            "layout": "IPY_MODEL_31c0fadcdc5a43cfaf2d87c00b00d4fe",
            "_model_module": "@jupyter-widgets/controls",
            "children": [
              "IPY_MODEL_9b7f65335eb14054a1b41e9ba2c76727",
              "IPY_MODEL_fc5db22a6edd4210aba48b6597cd05b4"
            ]
          }
        },
        "9b7f65335eb14054a1b41e9ba2c76727": {
          "model_module": "@jupyter-widgets/controls",
          "model_name": "VBoxModel",
          "state": {
            "_view_name": "VBoxView",
            "_dom_classes": [],
            "_model_name": "VBoxModel",
            "_view_module": "@jupyter-widgets/controls",
            "_model_module_version": "1.5.0",
            "_view_count": null,
            "_view_module_version": "1.5.0",
            "box_style": "",
            "layout": "IPY_MODEL_5784f064fb0744d7bb4f416add5ba067",
            "_model_module": "@jupyter-widgets/controls",
            "children": [
              "IPY_MODEL_af80f0ab31b9408f9976c43ec6df68a1",
              "IPY_MODEL_1c3e7049fb334ac8a0cae71542f8c3f3"
            ]
          }
        },
        "fc5db22a6edd4210aba48b6597cd05b4": {
          "model_module": "@jupyter-widgets/controls",
          "model_name": "VBoxModel",
          "state": {
            "_view_name": "VBoxView",
            "_dom_classes": [],
            "_model_name": "VBoxModel",
            "_view_module": "@jupyter-widgets/controls",
            "_model_module_version": "1.5.0",
            "_view_count": null,
            "_view_module_version": "1.5.0",
            "box_style": "",
            "layout": "IPY_MODEL_5784f064fb0744d7bb4f416add5ba067",
            "_model_module": "@jupyter-widgets/controls",
            "children": [
              "IPY_MODEL_4752b36a19b64050859d670dcc0c1385",
              "IPY_MODEL_9a023a43a9484806a03de9cbed18674c"
            ]
          }
        },
        "af80f0ab31b9408f9976c43ec6df68a1": {
          "model_module": "@jupyter-widgets/controls",
          "model_name": "ImageModel",
          "state": {
            "_view_name": "ImageView",
            "_dom_classes": [],
            "_model_name": "ImageModel",
            "format": "jpg",
            "_view_module": "@jupyter-widgets/controls",
            "_model_module_version": "1.5.0",
            "_view_count": null,
            "width": "",
            "_view_module_version": "1.5.0",
            "layout": "IPY_MODEL_f8a95b9928a047eaac340a25c25d6b72",
            "height": "",
            "_model_module": "@jupyter-widgets/controls"
          }
        },
        "1c3e7049fb334ac8a0cae71542f8c3f3": {
          "model_module": "@jupyter-widgets/controls",
          "model_name": "ButtonModel",
          "state": {
            "_view_name": "ButtonView",
            "style": "IPY_MODEL_7df4b5ed0dcb4c34a8537aa5992a607d",
            "_dom_classes": [],
            "description": "Delete",
            "_model_name": "ButtonModel",
            "button_style": "",
            "_view_module": "@jupyter-widgets/controls",
            "_model_module_version": "1.5.0",
            "tooltip": "",
            "_view_count": null,
            "disabled": false,
            "_view_module_version": "1.5.0",
            "layout": "IPY_MODEL_bcfc7057e0db460ca181995c4bbeb0c6",
            "_model_module": "@jupyter-widgets/controls",
            "icon": ""
          }
        },
        "4752b36a19b64050859d670dcc0c1385": {
          "model_module": "@jupyter-widgets/controls",
          "model_name": "ImageModel",
          "state": {
            "_view_name": "ImageView",
            "_dom_classes": [],
            "_model_name": "ImageModel",
            "format": "jpg",
            "_view_module": "@jupyter-widgets/controls",
            "_model_module_version": "1.5.0",
            "_view_count": null,
            "width": "",
            "_view_module_version": "1.5.0",
            "layout": "IPY_MODEL_f8a95b9928a047eaac340a25c25d6b72",
            "height": "",
            "_model_module": "@jupyter-widgets/controls"
          }
        },
        "9a023a43a9484806a03de9cbed18674c": {
          "model_module": "@jupyter-widgets/controls",
          "model_name": "ButtonModel",
          "state": {
            "_view_name": "ButtonView",
            "style": "IPY_MODEL_884144ba075645a1bbd570bdb95eeff5",
            "_dom_classes": [],
            "description": "Delete",
            "_model_name": "ButtonModel",
            "button_style": "",
            "_view_module": "@jupyter-widgets/controls",
            "_model_module_version": "1.5.0",
            "tooltip": "",
            "_view_count": null,
            "disabled": false,
            "_view_module_version": "1.5.0",
            "layout": "IPY_MODEL_bcfc7057e0db460ca181995c4bbeb0c6",
            "_model_module": "@jupyter-widgets/controls",
            "icon": ""
          }
        },
        "7df4b5ed0dcb4c34a8537aa5992a607d": {
          "model_module": "@jupyter-widgets/controls",
          "model_name": "ButtonStyleModel",
          "state": {
            "_view_name": "StyleView",
            "_model_name": "ButtonStyleModel",
            "_view_module": "@jupyter-widgets/base",
            "_model_module_version": "1.5.0",
            "_view_count": null,
            "button_color": null,
            "font_weight": "",
            "_view_module_version": "1.2.0",
            "_model_module": "@jupyter-widgets/controls"
          }
        },
        "884144ba075645a1bbd570bdb95eeff5": {
          "model_module": "@jupyter-widgets/controls",
          "model_name": "ButtonStyleModel",
          "state": {
            "_view_name": "StyleView",
            "_model_name": "ButtonStyleModel",
            "_view_module": "@jupyter-widgets/base",
            "_model_module_version": "1.5.0",
            "_view_count": null,
            "button_color": null,
            "font_weight": "",
            "_view_module_version": "1.2.0",
            "_model_module": "@jupyter-widgets/controls"
          }
        },
        "8b88b7db67334b04a40586cf2dd94617": {
          "model_module": "@jupyter-widgets/controls",
          "model_name": "ButtonModel",
          "state": {
            "_view_name": "ButtonView",
            "style": "IPY_MODEL_e7bf5ae0e8f84ca7b97a2646ac4ade51",
            "_dom_classes": [],
            "description": "Next Batch",
            "_model_name": "ButtonModel",
            "button_style": "primary",
            "_view_module": "@jupyter-widgets/controls",
            "_model_module_version": "1.5.0",
            "tooltip": "",
            "_view_count": null,
            "disabled": false,
            "_view_module_version": "1.5.0",
            "layout": "IPY_MODEL_bcfc7057e0db460ca181995c4bbeb0c6",
            "_model_module": "@jupyter-widgets/controls",
            "icon": ""
          }
        },
        "e7bf5ae0e8f84ca7b97a2646ac4ade51": {
          "model_module": "@jupyter-widgets/controls",
          "model_name": "ButtonStyleModel",
          "state": {
            "_view_name": "StyleView",
            "_model_name": "ButtonStyleModel",
            "_view_module": "@jupyter-widgets/base",
            "_model_module_version": "1.5.0",
            "_view_count": null,
            "button_color": null,
            "font_weight": "",
            "_view_module_version": "1.2.0",
            "_model_module": "@jupyter-widgets/controls"
          }
        },
        "033e2f2928b148768d0587b25e036059": {
          "model_module": "@jupyter-widgets/controls",
          "model_name": "HBoxModel",
          "state": {
            "_view_name": "HBoxView",
            "_dom_classes": [],
            "_model_name": "HBoxModel",
            "_view_module": "@jupyter-widgets/controls",
            "_model_module_version": "1.5.0",
            "_view_count": null,
            "_view_module_version": "1.5.0",
            "box_style": "",
            "layout": "IPY_MODEL_31c0fadcdc5a43cfaf2d87c00b00d4fe",
            "_model_module": "@jupyter-widgets/controls",
            "children": [
              "IPY_MODEL_09ad88fb97ca4a7f84ba98574201c9b3",
              "IPY_MODEL_e28576b6a17b4b288cd428a036bf3160"
            ]
          }
        },
        "09ad88fb97ca4a7f84ba98574201c9b3": {
          "model_module": "@jupyter-widgets/controls",
          "model_name": "VBoxModel",
          "state": {
            "_view_name": "VBoxView",
            "_dom_classes": [],
            "_model_name": "VBoxModel",
            "_view_module": "@jupyter-widgets/controls",
            "_model_module_version": "1.5.0",
            "_view_count": null,
            "_view_module_version": "1.5.0",
            "box_style": "",
            "layout": "IPY_MODEL_5784f064fb0744d7bb4f416add5ba067",
            "_model_module": "@jupyter-widgets/controls",
            "children": [
              "IPY_MODEL_79272e4efdf04f13ae1088b84f54529b",
              "IPY_MODEL_7252e7c6ecea426cb4c54e6b978985d4"
            ]
          }
        },
        "e28576b6a17b4b288cd428a036bf3160": {
          "model_module": "@jupyter-widgets/controls",
          "model_name": "VBoxModel",
          "state": {
            "_view_name": "VBoxView",
            "_dom_classes": [],
            "_model_name": "VBoxModel",
            "_view_module": "@jupyter-widgets/controls",
            "_model_module_version": "1.5.0",
            "_view_count": null,
            "_view_module_version": "1.5.0",
            "box_style": "",
            "layout": "IPY_MODEL_5784f064fb0744d7bb4f416add5ba067",
            "_model_module": "@jupyter-widgets/controls",
            "children": [
              "IPY_MODEL_497a16c5754e4a7bae6a342810191417",
              "IPY_MODEL_51b4326b993948e8a7d1c30529edad08"
            ]
          }
        },
        "79272e4efdf04f13ae1088b84f54529b": {
          "model_module": "@jupyter-widgets/controls",
          "model_name": "ImageModel",
          "state": {
            "_view_name": "ImageView",
            "_dom_classes": [],
            "_model_name": "ImageModel",
            "format": "jpg",
            "_view_module": "@jupyter-widgets/controls",
            "_model_module_version": "1.5.0",
            "_view_count": null,
            "width": "",
            "_view_module_version": "1.5.0",
            "layout": "IPY_MODEL_f8a95b9928a047eaac340a25c25d6b72",
            "height": "",
            "_model_module": "@jupyter-widgets/controls"
          }
        },
        "7252e7c6ecea426cb4c54e6b978985d4": {
          "model_module": "@jupyter-widgets/controls",
          "model_name": "ButtonModel",
          "state": {
            "_view_name": "ButtonView",
            "style": "IPY_MODEL_721bc4aeefb0455dbb5cd3c87af1ec6b",
            "_dom_classes": [],
            "description": "Delete",
            "_model_name": "ButtonModel",
            "button_style": "",
            "_view_module": "@jupyter-widgets/controls",
            "_model_module_version": "1.5.0",
            "tooltip": "",
            "_view_count": null,
            "disabled": false,
            "_view_module_version": "1.5.0",
            "layout": "IPY_MODEL_bcfc7057e0db460ca181995c4bbeb0c6",
            "_model_module": "@jupyter-widgets/controls",
            "icon": ""
          }
        },
        "497a16c5754e4a7bae6a342810191417": {
          "model_module": "@jupyter-widgets/controls",
          "model_name": "ImageModel",
          "state": {
            "_view_name": "ImageView",
            "_dom_classes": [],
            "_model_name": "ImageModel",
            "format": "jpg",
            "_view_module": "@jupyter-widgets/controls",
            "_model_module_version": "1.5.0",
            "_view_count": null,
            "width": "",
            "_view_module_version": "1.5.0",
            "layout": "IPY_MODEL_f8a95b9928a047eaac340a25c25d6b72",
            "height": "",
            "_model_module": "@jupyter-widgets/controls"
          }
        },
        "51b4326b993948e8a7d1c30529edad08": {
          "model_module": "@jupyter-widgets/controls",
          "model_name": "ButtonModel",
          "state": {
            "_view_name": "ButtonView",
            "style": "IPY_MODEL_f8f031951ff04eb5a3fb5ac31fcef0ad",
            "_dom_classes": [],
            "description": "Delete",
            "_model_name": "ButtonModel",
            "button_style": "",
            "_view_module": "@jupyter-widgets/controls",
            "_model_module_version": "1.5.0",
            "tooltip": "",
            "_view_count": null,
            "disabled": false,
            "_view_module_version": "1.5.0",
            "layout": "IPY_MODEL_bcfc7057e0db460ca181995c4bbeb0c6",
            "_model_module": "@jupyter-widgets/controls",
            "icon": ""
          }
        },
        "721bc4aeefb0455dbb5cd3c87af1ec6b": {
          "model_module": "@jupyter-widgets/controls",
          "model_name": "ButtonStyleModel",
          "state": {
            "_view_name": "StyleView",
            "_model_name": "ButtonStyleModel",
            "_view_module": "@jupyter-widgets/base",
            "_model_module_version": "1.5.0",
            "_view_count": null,
            "button_color": null,
            "font_weight": "",
            "_view_module_version": "1.2.0",
            "_model_module": "@jupyter-widgets/controls"
          }
        },
        "f8f031951ff04eb5a3fb5ac31fcef0ad": {
          "model_module": "@jupyter-widgets/controls",
          "model_name": "ButtonStyleModel",
          "state": {
            "_view_name": "StyleView",
            "_model_name": "ButtonStyleModel",
            "_view_module": "@jupyter-widgets/base",
            "_model_module_version": "1.5.0",
            "_view_count": null,
            "button_color": null,
            "font_weight": "",
            "_view_module_version": "1.2.0",
            "_model_module": "@jupyter-widgets/controls"
          }
        },
        "af17328115234dafa953152483347b30": {
          "model_module": "@jupyter-widgets/controls",
          "model_name": "ButtonModel",
          "state": {
            "_view_name": "ButtonView",
            "style": "IPY_MODEL_092452fbad504525a8ac53189f93f9ae",
            "_dom_classes": [],
            "description": "Next Batch",
            "_model_name": "ButtonModel",
            "button_style": "primary",
            "_view_module": "@jupyter-widgets/controls",
            "_model_module_version": "1.5.0",
            "tooltip": "",
            "_view_count": null,
            "disabled": false,
            "_view_module_version": "1.5.0",
            "layout": "IPY_MODEL_bcfc7057e0db460ca181995c4bbeb0c6",
            "_model_module": "@jupyter-widgets/controls",
            "icon": ""
          }
        },
        "092452fbad504525a8ac53189f93f9ae": {
          "model_module": "@jupyter-widgets/controls",
          "model_name": "ButtonStyleModel",
          "state": {
            "_view_name": "StyleView",
            "_model_name": "ButtonStyleModel",
            "_view_module": "@jupyter-widgets/base",
            "_model_module_version": "1.5.0",
            "_view_count": null,
            "button_color": null,
            "font_weight": "",
            "_view_module_version": "1.2.0",
            "_model_module": "@jupyter-widgets/controls"
          }
        }
      }
    }
  },
  "cells": [
    {
      "cell_type": "markdown",
      "metadata": {
        "id": "view-in-github",
        "colab_type": "text"
      },
      "source": [
        "<a href=\"https://colab.research.google.com/github/sarthakpruthi/deep-learning-fastai/blob/master/Bears_Image_Classification.ipynb\" target=\"_parent\"><img src=\"https://colab.research.google.com/assets/colab-badge.svg\" alt=\"Open In Colab\"/></a>"
      ]
    },
    {
      "cell_type": "code",
      "metadata": {
        "id": "pHDbPs6Y17Bi",
        "colab_type": "code",
        "colab": {}
      },
      "source": [
        "%reload_ext autoreload\n",
        "%autoreload 2\n",
        "%matplotlib inline\n",
        "import warnings\n",
        "warnings.filterwarnings('ignore')"
      ],
      "execution_count": null,
      "outputs": []
    },
    {
      "cell_type": "code",
      "metadata": {
        "id": "HLhS3b--2h0n",
        "colab_type": "code",
        "colab": {}
      },
      "source": [
        "from fastai.vision import *"
      ],
      "execution_count": null,
      "outputs": []
    },
    {
      "cell_type": "markdown",
      "metadata": {
        "id": "PJtr_Q5t2qkD",
        "colab_type": "text"
      },
      "source": [
        "Data is scraped from google and then uploaded here."
      ]
    },
    {
      "cell_type": "code",
      "metadata": {
        "id": "8GGaCg5c2ms_",
        "colab_type": "code",
        "colab": {
          "base_uri": "https://localhost:8080/",
          "height": 17
        },
        "outputId": "3004632d-af65-4dcb-b095-8b33464eb3a4"
      },
      "source": [
        "folder = 'black'\n",
        "file = 'black.txt'\n",
        "path = Path('data/bears')\n",
        "dest = path/folder\n",
        "dest.mkdir(parents=True, exist_ok=True)\n",
        "download_images(file, dest, max_pics=200)"
      ],
      "execution_count": null,
      "outputs": [
        {
          "output_type": "display_data",
          "data": {
            "text/html": [
              ""
            ],
            "text/plain": [
              "<IPython.core.display.HTML object>"
            ]
          },
          "metadata": {
            "tags": []
          }
        }
      ]
    },
    {
      "cell_type": "code",
      "metadata": {
        "id": "mW1Is9Q44gWv",
        "colab_type": "code",
        "colab": {
          "base_uri": "https://localhost:8080/",
          "height": 17
        },
        "outputId": "3567dbd7-6bd5-40ee-e7ba-f68f8bba9a21"
      },
      "source": [
        "folder = 'teddys'\n",
        "file = 'teddy.txt'\n",
        "path = Path('data/bears')\n",
        "dest = path/folder\n",
        "dest.mkdir(parents=True, exist_ok=True)\n",
        "download_images(file, dest, max_pics=200)"
      ],
      "execution_count": null,
      "outputs": [
        {
          "output_type": "display_data",
          "data": {
            "text/html": [
              ""
            ],
            "text/plain": [
              "<IPython.core.display.HTML object>"
            ]
          },
          "metadata": {
            "tags": []
          }
        }
      ]
    },
    {
      "cell_type": "code",
      "metadata": {
        "id": "Ct6EjSZf4mL5",
        "colab_type": "code",
        "colab": {
          "base_uri": "https://localhost:8080/",
          "height": 17
        },
        "outputId": "99b28dfe-bcd0-4de3-aa38-17e4b89b886d"
      },
      "source": [
        "folder = 'grizzly'\n",
        "file = 'grizzly.txt'\n",
        "path = Path('data/bears')\n",
        "dest = path/folder\n",
        "dest.mkdir(parents=True, exist_ok=True)\n",
        "download_images(file, dest, max_pics=200)"
      ],
      "execution_count": null,
      "outputs": [
        {
          "output_type": "display_data",
          "data": {
            "text/html": [
              ""
            ],
            "text/plain": [
              "<IPython.core.display.HTML object>"
            ]
          },
          "metadata": {
            "tags": []
          }
        }
      ]
    },
    {
      "cell_type": "code",
      "metadata": {
        "id": "VDOhUccV4s21",
        "colab_type": "code",
        "colab": {
          "base_uri": "https://localhost:8080/",
          "height": 70
        },
        "outputId": "f89224d4-efff-4170-a173-53bcc5c4ede2"
      },
      "source": [
        "path.ls()"
      ],
      "execution_count": null,
      "outputs": [
        {
          "output_type": "execute_result",
          "data": {
            "text/plain": [
              "[PosixPath('data/bears/teddys'),\n",
              " PosixPath('data/bears/black'),\n",
              " PosixPath('data/bears/grizzly')]"
            ]
          },
          "metadata": {
            "tags": []
          },
          "execution_count": 6
        }
      ]
    },
    {
      "cell_type": "markdown",
      "metadata": {
        "id": "S195ETEP433u",
        "colab_type": "text"
      },
      "source": [
        "# **Download Images**"
      ]
    },
    {
      "cell_type": "code",
      "metadata": {
        "id": "pgJSSN2R4zQQ",
        "colab_type": "code",
        "colab": {}
      },
      "source": [
        "classes = ['teddys','grizzly','black']"
      ],
      "execution_count": null,
      "outputs": []
    },
    {
      "cell_type": "code",
      "metadata": {
        "id": "NEW53iSC4_wM",
        "colab_type": "code",
        "colab": {}
      },
      "source": [
        "#download_images(file, dest, max_pics=200)"
      ],
      "execution_count": null,
      "outputs": []
    },
    {
      "cell_type": "code",
      "metadata": {
        "id": "Jbqdbws25-Co",
        "colab_type": "code",
        "colab": {
          "base_uri": "https://localhost:8080/",
          "height": 70
        },
        "outputId": "fa940f1d-f1cf-4cfa-aac7-4be7380d7a85"
      },
      "source": [
        "for c in classes:\n",
        "    print(c)\n",
        "    verify_images(path/c, delete=True, max_size=500)"
      ],
      "execution_count": null,
      "outputs": [
        {
          "output_type": "stream",
          "text": [
            "teddys\n"
          ],
          "name": "stdout"
        },
        {
          "output_type": "display_data",
          "data": {
            "text/html": [
              ""
            ],
            "text/plain": [
              "<IPython.core.display.HTML object>"
            ]
          },
          "metadata": {
            "tags": []
          }
        },
        {
          "output_type": "stream",
          "text": [
            "grizzly\n"
          ],
          "name": "stdout"
        },
        {
          "output_type": "display_data",
          "data": {
            "text/html": [
              ""
            ],
            "text/plain": [
              "<IPython.core.display.HTML object>"
            ]
          },
          "metadata": {
            "tags": []
          }
        },
        {
          "output_type": "stream",
          "text": [
            "black\n"
          ],
          "name": "stdout"
        },
        {
          "output_type": "display_data",
          "data": {
            "text/html": [
              ""
            ],
            "text/plain": [
              "<IPython.core.display.HTML object>"
            ]
          },
          "metadata": {
            "tags": []
          }
        }
      ]
    },
    {
      "cell_type": "markdown",
      "metadata": {
        "id": "_UNau6UV6T_P",
        "colab_type": "text"
      },
      "source": [
        "# **View Data**"
      ]
    },
    {
      "cell_type": "code",
      "metadata": {
        "id": "uWTzQRQ26I6k",
        "colab_type": "code",
        "colab": {}
      },
      "source": [
        "np.random.seed(2)\n",
        "data = ImageDataBunch.from_folder(path, train=\".\", valid_pct=0.2,\n",
        "        ds_tfms=get_transforms(), size=224, num_workers=4).normalize(imagenet_stats)"
      ],
      "execution_count": null,
      "outputs": []
    },
    {
      "cell_type": "code",
      "metadata": {
        "id": "FbMJgCsj6bEe",
        "colab_type": "code",
        "colab": {
          "base_uri": "https://localhost:8080/",
          "height": 34
        },
        "outputId": "da21b2ed-ae55-4e76-e9b4-a4933d3fd9af"
      },
      "source": [
        "data.classes"
      ],
      "execution_count": null,
      "outputs": [
        {
          "output_type": "execute_result",
          "data": {
            "text/plain": [
              "['black', 'grizzly', 'teddys']"
            ]
          },
          "metadata": {
            "tags": []
          },
          "execution_count": 11
        }
      ]
    },
    {
      "cell_type": "code",
      "metadata": {
        "id": "IN7qNMZV6kGI",
        "colab_type": "code",
        "colab": {
          "base_uri": "https://localhost:8080/",
          "height": 573
        },
        "outputId": "30abb2b5-5944-4d35-c3ab-aad251ea5d9a"
      },
      "source": [
        "data.show_batch(rows=3, figsize=(7,8))"
      ],
      "execution_count": null,
      "outputs": [
        {
          "output_type": "display_data",
          "data": {
            "image/png": "[encoded data removed]",
            "text/plain": [
              "<Figure size 504x576 with 9 Axes>"
            ]
          },
          "metadata": {
            "tags": [],
            "needs_background": "light"
          }
        }
      ]
    },
    {
      "cell_type": "code",
      "metadata": {
        "id": "7cG8ngaq6nDj",
        "colab_type": "code",
        "colab": {
          "base_uri": "https://localhost:8080/",
          "height": 34
        },
        "outputId": "1482e1c5-73a2-469e-8805-0162e70ef650"
      },
      "source": [
        "data.classes, data.c, len(data.train_ds), len(data.valid_ds)"
      ],
      "execution_count": null,
      "outputs": [
        {
          "output_type": "execute_result",
          "data": {
            "text/plain": [
              "(['black', 'grizzly', 'teddys'], 3, 480, 120)"
            ]
          },
          "metadata": {
            "tags": []
          },
          "execution_count": 13
        }
      ]
    },
    {
      "cell_type": "markdown",
      "metadata": {
        "id": "p554xKaq60Oh",
        "colab_type": "text"
      },
      "source": [
        "# **Training Data**"
      ]
    },
    {
      "cell_type": "code",
      "metadata": {
        "id": "2yf2uCxj6spt",
        "colab_type": "code",
        "colab": {
          "base_uri": "https://localhost:8080/",
          "height": 84,
          "referenced_widgets": [
            "1728e0b43f28448e855381896b62fa18",
            "cc730747e1804b13bdc5047e1e10dacb",
            "6d83465772a24019ae6f2624a31feeca",
            "52f5e0a4591c4c3ebce5e628a6b391e9",
            "b4276d6f54c3476b96799ccb318d603a",
            "4dec44988a4c422ebcd7d2ff0ebf65f1",
            "9e35d8bfccf44bcca139395c405377ed",
            "38939954594f4b849e858775ac8bfb44"
          ]
        },
        "outputId": "5876982f-f37d-4113-ccf4-0ae891b1cade"
      },
      "source": [
        "learn = cnn_learner(data, models.resnet50, metrics=error_rate)"
      ],
      "execution_count": null,
      "outputs": [
        {
          "output_type": "stream",
          "text": [
            "Downloading: \"https://download.pytorch.org/models/resnet50-19c8e357.pth\" to /root/.cache/torch/checkpoints/resnet50-19c8e357.pth\n"
          ],
          "name": "stderr"
        },
        {
          "output_type": "display_data",
          "data": {
            "application/vnd.jupyter.widget-view+json": {
              "model_id": "1728e0b43f28448e855381896b62fa18",
              "version_minor": 0,
              "version_major": 2
            },
            "text/plain": [
              "HBox(children=(FloatProgress(value=0.0, max=102502400.0), HTML(value='')))"
            ]
          },
          "metadata": {
            "tags": []
          }
        },
        {
          "output_type": "stream",
          "text": [
            "\n"
          ],
          "name": "stdout"
        }
      ]
    },
    {
      "cell_type": "code",
      "metadata": {
        "id": "IZ77WYnh7HxU",
        "colab_type": "code",
        "colab": {
          "base_uri": "https://localhost:8080/",
          "height": 166
        },
        "outputId": "6c2b1b98-f163-4588-aa26-a6745295d35b"
      },
      "source": [
        "learn.fit_one_cycle(4)"
      ],
      "execution_count": null,
      "outputs": [
        {
          "output_type": "display_data",
          "data": {
            "text/html": [
              "<table border=\"1\" class=\"dataframe\">\n",
              "  <thead>\n",
              "    <tr style=\"text-align: left;\">\n",
              "      <th>epoch</th>\n",
              "      <th>train_loss</th>\n",
              "      <th>valid_loss</th>\n",
              "      <th>error_rate</th>\n",
              "      <th>time</th>\n",
              "    </tr>\n",
              "  </thead>\n",
              "  <tbody>\n",
              "    <tr>\n",
              "      <td>0</td>\n",
              "      <td>0.723211</td>\n",
              "      <td>0.156919</td>\n",
              "      <td>0.025000</td>\n",
              "      <td>00:08</td>\n",
              "    </tr>\n",
              "    <tr>\n",
              "      <td>1</td>\n",
              "      <td>0.397845</td>\n",
              "      <td>0.167521</td>\n",
              "      <td>0.033333</td>\n",
              "      <td>00:06</td>\n",
              "    </tr>\n",
              "    <tr>\n",
              "      <td>2</td>\n",
              "      <td>0.280825</td>\n",
              "      <td>0.141123</td>\n",
              "      <td>0.033333</td>\n",
              "      <td>00:06</td>\n",
              "    </tr>\n",
              "    <tr>\n",
              "      <td>3</td>\n",
              "      <td>0.218680</td>\n",
              "      <td>0.140090</td>\n",
              "      <td>0.033333</td>\n",
              "      <td>00:06</td>\n",
              "    </tr>\n",
              "  </tbody>\n",
              "</table>"
            ],
            "text/plain": [
              "<IPython.core.display.HTML object>"
            ]
          },
          "metadata": {
            "tags": []
          }
        }
      ]
    },
    {
      "cell_type": "code",
      "metadata": {
        "id": "X94k2bCl7L0u",
        "colab_type": "code",
        "colab": {}
      },
      "source": [
        "learn.save('stage-1')"
      ],
      "execution_count": null,
      "outputs": []
    },
    {
      "cell_type": "code",
      "metadata": {
        "id": "EJBF3O7I7SRR",
        "colab_type": "code",
        "colab": {}
      },
      "source": [
        "learn.unfreeze()"
      ],
      "execution_count": null,
      "outputs": []
    },
    {
      "cell_type": "code",
      "metadata": {
        "id": "zQVIlMWm7Uhm",
        "colab_type": "code",
        "colab": {
          "base_uri": "https://localhost:8080/",
          "height": 318
        },
        "outputId": "177c378b-ba45-4cad-9f20-ec9d845e443e"
      },
      "source": [
        "learn.lr_find()"
      ],
      "execution_count": null,
      "outputs": [
        {
          "output_type": "display_data",
          "data": {
            "text/html": [
              "\n",
              "    <div>\n",
              "        <style>\n",
              "            /* Turns off some styling */\n",
              "            progress {\n",
              "                /* gets rid of default border in Firefox and Opera. */\n",
              "                border: none;\n",
              "                /* Needs to be in here for Safari polyfill so background images work as expected. */\n",
              "                background-size: auto;\n",
              "            }\n",
              "            .progress-bar-interrupted, .progress-bar-interrupted::-webkit-progress-bar {\n",
              "                background: #F44336;\n",
              "            }\n",
              "        </style>\n",
              "      <progress value='7' class='' max='15' style='width:300px; height:20px; vertical-align: middle;'></progress>\n",
              "      46.67% [7/15 00:47<00:54]\n",
              "    </div>\n",
              "    \n",
              "<table border=\"1\" class=\"dataframe\">\n",
              "  <thead>\n",
              "    <tr style=\"text-align: left;\">\n",
              "      <th>epoch</th>\n",
              "      <th>train_loss</th>\n",
              "      <th>valid_loss</th>\n",
              "      <th>error_rate</th>\n",
              "      <th>time</th>\n",
              "    </tr>\n",
              "  </thead>\n",
              "  <tbody>\n",
              "    <tr>\n",
              "      <td>0</td>\n",
              "      <td>0.038324</td>\n",
              "      <td>#na#</td>\n",
              "      <td>00:07</td>\n",
              "    </tr>\n",
              "    <tr>\n",
              "      <td>1</td>\n",
              "      <td>0.075517</td>\n",
              "      <td>#na#</td>\n",
              "      <td>00:06</td>\n",
              "    </tr>\n",
              "    <tr>\n",
              "      <td>2</td>\n",
              "      <td>0.086692</td>\n",
              "      <td>#na#</td>\n",
              "      <td>00:06</td>\n",
              "    </tr>\n",
              "    <tr>\n",
              "      <td>3</td>\n",
              "      <td>0.101515</td>\n",
              "      <td>#na#</td>\n",
              "      <td>00:06</td>\n",
              "    </tr>\n",
              "    <tr>\n",
              "      <td>4</td>\n",
              "      <td>0.085681</td>\n",
              "      <td>#na#</td>\n",
              "      <td>00:06</td>\n",
              "    </tr>\n",
              "    <tr>\n",
              "      <td>5</td>\n",
              "      <td>0.080687</td>\n",
              "      <td>#na#</td>\n",
              "      <td>00:06</td>\n",
              "    </tr>\n",
              "    <tr>\n",
              "      <td>6</td>\n",
              "      <td>0.094815</td>\n",
              "      <td>#na#</td>\n",
              "      <td>00:06</td>\n",
              "    </tr>\n",
              "  </tbody>\n",
              "</table><p>\n",
              "\n",
              "    <div>\n",
              "        <style>\n",
              "            /* Turns off some styling */\n",
              "            progress {\n",
              "                /* gets rid of default border in Firefox and Opera. */\n",
              "                border: none;\n",
              "                /* Needs to be in here for Safari polyfill so background images work as expected. */\n",
              "                background-size: auto;\n",
              "            }\n",
              "            .progress-bar-interrupted, .progress-bar-interrupted::-webkit-progress-bar {\n",
              "                background: #F44336;\n",
              "            }\n",
              "        </style>\n",
              "      <progress value='4' class='' max='7' style='width:300px; height:20px; vertical-align: middle;'></progress>\n",
              "      57.14% [4/7 00:04<00:03 0.1060]\n",
              "    </div>\n",
              "    "
            ],
            "text/plain": [
              "<IPython.core.display.HTML object>"
            ]
          },
          "metadata": {
            "tags": []
          }
        },
        {
          "output_type": "stream",
          "text": [
            "LR Finder is complete, type {learner_name}.recorder.plot() to see the graph.\n"
          ],
          "name": "stdout"
        }
      ]
    },
    {
      "cell_type": "code",
      "metadata": {
        "id": "14ksFRFU7WVh",
        "colab_type": "code",
        "colab": {
          "base_uri": "https://localhost:8080/",
          "height": 279
        },
        "outputId": "b2b83df2-394f-4f1b-ca87-a287ec7d7fb7"
      },
      "source": [
        "learn.recorder.plot()"
      ],
      "execution_count": null,
      "outputs": [
        {
          "output_type": "display_data",
          "data": {
            "image/png": "[encoded data removed]",
            "text/plain": [
              "<Figure size 432x288 with 1 Axes>"
            ]
          },
          "metadata": {
            "tags": [],
            "needs_background": "light"
          }
        }
      ]
    },
    {
      "cell_type": "code",
      "metadata": {
        "id": "EdGc5zUZ7j62",
        "colab_type": "code",
        "colab": {
          "base_uri": "https://localhost:8080/",
          "height": 106
        },
        "outputId": "d0c89474-b010-4864-952f-73b910e72a36"
      },
      "source": [
        "learn.fit_one_cycle(2, max_lr=slice(3e-5,8e-5))"
      ],
      "execution_count": null,
      "outputs": [
        {
          "output_type": "display_data",
          "data": {
            "text/html": [
              "<table border=\"1\" class=\"dataframe\">\n",
              "  <thead>\n",
              "    <tr style=\"text-align: left;\">\n",
              "      <th>epoch</th>\n",
              "      <th>train_loss</th>\n",
              "      <th>valid_loss</th>\n",
              "      <th>error_rate</th>\n",
              "      <th>time</th>\n",
              "    </tr>\n",
              "  </thead>\n",
              "  <tbody>\n",
              "    <tr>\n",
              "      <td>0</td>\n",
              "      <td>0.033057</td>\n",
              "      <td>0.210656</td>\n",
              "      <td>0.025000</td>\n",
              "      <td>00:07</td>\n",
              "    </tr>\n",
              "    <tr>\n",
              "      <td>1</td>\n",
              "      <td>0.024864</td>\n",
              "      <td>0.203337</td>\n",
              "      <td>0.033333</td>\n",
              "      <td>00:07</td>\n",
              "    </tr>\n",
              "  </tbody>\n",
              "</table>"
            ],
            "text/plain": [
              "<IPython.core.display.HTML object>"
            ]
          },
          "metadata": {
            "tags": []
          }
        }
      ]
    },
    {
      "cell_type": "markdown",
      "metadata": {
        "id": "R0WtAOzZ83Lr",
        "colab_type": "text"
      },
      "source": [
        "# **Interpretation**"
      ]
    },
    {
      "cell_type": "code",
      "metadata": {
        "id": "ALgrOOVr7yP5",
        "colab_type": "code",
        "colab": {}
      },
      "source": [
        "learn.save('stage-2')"
      ],
      "execution_count": null,
      "outputs": []
    },
    {
      "cell_type": "code",
      "metadata": {
        "id": "ZFQ7mp4w80Gk",
        "colab_type": "code",
        "colab": {
          "base_uri": "https://localhost:8080/",
          "height": 17
        },
        "outputId": "79d5fade-0880-48ac-f593-292d53cfed1e"
      },
      "source": [
        "interp = ClassificationInterpretation.from_learner(learn)"
      ],
      "execution_count": null,
      "outputs": [
        {
          "output_type": "display_data",
          "data": {
            "text/html": [
              ""
            ],
            "text/plain": [
              "<IPython.core.display.HTML object>"
            ]
          },
          "metadata": {
            "tags": []
          }
        }
      ]
    },
    {
      "cell_type": "code",
      "metadata": {
        "id": "uFSHexZu899Y",
        "colab_type": "code",
        "colab": {
          "base_uri": "https://localhost:8080/",
          "height": 311
        },
        "outputId": "9a1b7d7a-171f-4179-ca60-548970f00637"
      },
      "source": [
        "interp.plot_confusion_matrix()\n"
      ],
      "execution_count": null,
      "outputs": [
        {
          "output_type": "display_data",
          "data": {
            "image/png": "[encoded data removed]",
            "text/plain": [
              "<Figure size 432x288 with 1 Axes>"
            ]
          },
          "metadata": {
            "tags": [],
            "needs_background": "light"
          }
        }
      ]
    },
    {
      "cell_type": "markdown",
      "metadata": {
        "id": "ZqKlgzpz9Pfx",
        "colab_type": "text"
      },
      "source": [
        "# **Cleaning Data**"
      ]
    },
    {
      "cell_type": "code",
      "metadata": {
        "id": "y4G1kqOG-DEp",
        "colab_type": "code",
        "colab": {}
      },
      "source": [
        "from fastai.widgets import *"
      ],
      "execution_count": null,
      "outputs": []
    },
    {
      "cell_type": "code",
      "metadata": {
        "id": "sdX1Sc3L9AKQ",
        "colab_type": "code",
        "colab": {}
      },
      "source": [
        "db = (ImageList.from_folder(path)\n",
        "                   .split_none()\n",
        "                   .label_from_folder()\n",
        "                   .transform(get_transforms(), size=224)\n",
        "                   .databunch()\n",
        "     )"
      ],
      "execution_count": null,
      "outputs": []
    },
    {
      "cell_type": "code",
      "metadata": {
        "id": "o8CjOUn69V_x",
        "colab_type": "code",
        "colab": {}
      },
      "source": [
        "# Creating new learner\n",
        "learn_cln = cnn_learner(db, models.resnet34, metrics=error_rate)\n",
        "\n",
        "learn_cln.load('stage-2');"
      ],
      "execution_count": null,
      "outputs": []
    },
    {
      "cell_type": "code",
      "metadata": {
        "id": "cbJEGvIM9cB9",
        "colab_type": "code",
        "colab": {
          "base_uri": "https://localhost:8080/",
          "height": 17
        },
        "outputId": "24cb4781-f4fa-467c-9d4c-43f5e28ef6fb"
      },
      "source": [
        "ds, idxs = DatasetFormatter().from_toplosses(learn_cln)"
      ],
      "execution_count": null,
      "outputs": [
        {
          "output_type": "display_data",
          "data": {
            "text/html": [
              ""
            ],
            "text/plain": [
              "<IPython.core.display.HTML object>"
            ]
          },
          "metadata": {
            "tags": []
          }
        }
      ]
    },
    {
      "cell_type": "code",
      "metadata": {
        "id": "6ePZW09J9fpy",
        "colab_type": "code",
        "colab": {
          "base_uri": "https://localhost:8080/",
          "height": 72
        },
        "outputId": "d9fd9d95-b646-41a4-97d7-7fcda9938f6a"
      },
      "source": [
        "ds, idxs = DatasetFormatter().from_similars(learn_cln)"
      ],
      "execution_count": null,
      "outputs": [
        {
          "output_type": "stream",
          "text": [
            "Getting activations...\n"
          ],
          "name": "stdout"
        },
        {
          "output_type": "display_data",
          "data": {
            "text/html": [
              "\n",
              "    <div>\n",
              "        <style>\n",
              "            /* Turns off some styling */\n",
              "            progress {\n",
              "                /* gets rid of default border in Firefox and Opera. */\n",
              "                border: none;\n",
              "                /* Needs to be in here for Safari polyfill so background images work as expected. */\n",
              "                background-size: auto;\n",
              "            }\n",
              "            .progress-bar-interrupted, .progress-bar-interrupted::-webkit-progress-bar {\n",
              "                background: #F44336;\n",
              "            }\n",
              "        </style>\n",
              "      <progress value='10' class='' max='10' style='width:300px; height:20px; vertical-align: middle;'></progress>\n",
              "      100.00% [10/10 00:04<00:00]\n",
              "    </div>\n",
              "    "
            ],
            "text/plain": [
              "<IPython.core.display.HTML object>"
            ]
          },
          "metadata": {
            "tags": []
          }
        },
        {
          "output_type": "stream",
          "text": [
            "Computing similarities...\n"
          ],
          "name": "stdout"
        }
      ]
    },
    {
      "cell_type": "code",
      "metadata": {
        "id": "GrzuFgSN-J4x",
        "colab_type": "code",
        "colab": {
          "base_uri": "https://localhost:8080/",
          "height": 349,
          "referenced_widgets": [
            "a87ca3ea39c841619a3fce402ed6b01d",
            "31c0fadcdc5a43cfaf2d87c00b00d4fe",
            "9046e6825f9f493796c7bd16e4955122",
            "f01a1f1e57504d2e9edde21be1ed5351",
            "5784f064fb0744d7bb4f416add5ba067",
            "175033f4fec443c39df9cea260c87aff",
            "579f52b82a644b9ea366f506d8373d32",
            "2a70bbded7df40edb2fac1f494530982",
            "9d52b89b60ac4cfba5855eed7d47cbe4",
            "f8a95b9928a047eaac340a25c25d6b72",
            "6917fbd32e964265a511fa799db3edaa",
            "bcfc7057e0db460ca181995c4bbeb0c6",
            "db21dc740422496991cc10ad46e6e887",
            "4b31a6ab9dc44caa9f80352da7806ac6",
            "7356f028333343b8953089a23b7b5f77",
            "70346e96f0144a4ba8096483c6b75527",
            "3c8da9c0d6e54af193d22c93a16b62c9",
            "e8e4727d55714a03b69bf758b3a835f1",
            "a390e9d1f5ec4c4daa9fc3afa3e89361",
            "8d438eef494b4d15835eab5330088ba6",
            "4f3f197d08984a49b73301da39cd0496",
            "16eec165b2a44c0e8f31250525c44018",
            "23bf344dc43a4257b00bd8910ae6c207",
            "95ba234d27b244e190135bfbea1d29c6",
            "58f8226923dd43dd8089dae243b31d04",
            "c0dba9ba1198436b9e889ea9545b1340",
            "a486840348bf4053a5b8e8dfebc2971f",
            "54648117c6b8469d8ac7ad359392ee30",
            "7e7f7f67faae4d249c862ef957804d46",
            "8b1140057afb4284a6f8997d64214f8e",
            "8749faebe22f43009816b2f3856d27cf",
            "fd94cb96ab26428c972c3c9bbece30e0",
            "816db8c3e6dd46b6973fa903ffb0b56b",
            "3ccd67ed5c7147aba65c3aa4fbbd7405",
            "91bb8ad4227449229b0cf4e072bbbafe",
            "8c1591055138483d93a41858f0580002",
            "930adf480d174432a5a9b6fb41450b3f",
            "41b340de53f3483d9b33079850f72878",
            "afaf7a4fd68447c59e9dd87ef018d1de",
            "51e3f657636f410f9dee097702fa3a6c",
            "aad94b6d28e04bf9a24f1f71021020a4",
            "56fc893badde40009a4fa0c994eddb52",
            "5877c88145cd455183945d790e2302a4",
            "158dbb89e39e4e40b9ead98a8614aafa",
            "2fba053be2a2417494947dd4f61e681d",
            "a6e6f684626c439985ff5227037c4a51",
            "c32da5dd4481406eadf87e206beca81b",
            "6eee88a0def549e391d3ff1ce955db11",
            "6a2ecaf8c77e4656bdfe5f1d07494c74",
            "6fe6e705d49847e7b83b3f88cae42e4a",
            "e9b78a5bb2a4402baa7ff863ca8fa5e5",
            "aa2b9c106d1345349982c23d09965acb",
            "4ae2a355faca455c8af6cf8d16c2c3d9",
            "07d2b77bb7764e119360d5dcf0fa5678",
            "9f344538f144418fa2a51256e6d1245b",
            "78d9a380fb014d0b97f902645d341ddf",
            "57cd9b9c29ee41a1987170946b4249b2",
            "195bb689d6c849a281c25d7a721085fe",
            "7326e1820fe243b3976682a9a5804fe2",
            "22237189495e4b9fb1d2c5bbbbb48a92",
            "17b3961c21f7408387772579ce260428",
            "b201b891138748fcbfab5a4ac69d2fa2",
            "66ec62d7f6c84d1a81067df359c6b013",
            "2384e7cbabc74630a6aa9db3c0c7382f",
            "cbe534a281e6468d83dda1e239959bb6",
            "fc58bf5e26e64f38bffaf2dbfa7c5185",
            "9f72bb8c53dc4442ba09387abe56eb3a",
            "46d90f21fe01469c88e3df5684032ab2",
            "fedc6d64a37c4021bad9b95e35a818da",
            "3c4b4fb3a2a740d088552205d8f84c95",
            "a95cdf6454524cd2a6cb9ef203b07528",
            "288ce4599d3e4f06a33a20d6bab90c6c",
            "618127aea840451585913a061891b224",
            "9e562af59bb7489eb463d5480e789510",
            "3d395618b845415ca9e0612f0552bb54",
            "77d9877799404cd9b2874a4f83c7d68b",
            "87ea9576dc5f4c919c2ead4e13cf3ae8",
            "af1a0bf63c1d4444acddc173949ab3ce",
            "267fd052c51147b7927e1a8f7e0c0a21",
            "1d96cd77c1234758af8f4508b272967c",
            "bcca15054b8244568a8ccd783af7ae18",
            "25b2dbe805a8484bbdbf01208f01cc68",
            "f05c5c674c9548dab4e8e26d6651c560",
            "cea5c344110e4b17a98281a1067c24c7",
            "47c47f4eeba140308357c65a073ad1ec",
            "f0d22cd0ff684862910afb2d76d93a35",
            "678b05ad55c64c3d8d1d87c546f26fc4",
            "55d147305d16403c8bf44c68ad6811cd",
            "af5041f8f8134b3fbe08da8f799614ab",
            "c6625da8510642c28756e6fc2df83acd",
            "476c40cda88b463c8ac813b06516604b",
            "1adbbc2466644e0d9c7609726d59309f",
            "d5d8e84f58bc4261a023f495d0a9f12d",
            "2ff3e167c2c84023a1a685b6c6c0c318",
            "a3f39d0d68ed40eeb2ed98d466a3554e",
            "92f3ff940f6c43b9999a5549546f509a",
            "0876e4a387fe4ad3a1ec571b4d0b4375",
            "3bf4cc45815b4cc3b09016ce6577bd8e",
            "d8e4b9cb4ae34d539c4937baa0d3cae3",
            "2331e548883f4de1a04e8ddd6da3dbbc",
            "33befe357c2b41aea6e88dc7f4d3ec40",
            "1ea777cd0fc54ea196d16828e9655e43",
            "05741a863b224a8092687a6ea45997ed",
            "893987582e464fa2b8cbeaba5bd5fc57",
            "cb5f0ae740e744dfb6506f83854e4917",
            "1f27bc27d4c74264b240993d45cdde3a",
            "9442a1e903104fdda6ed168ee9065014",
            "16de01be4afb407785dd7e689866e6f3",
            "98b75d52363144f89173ef14f6656ebe",
            "ea5c206f7cac410091781cd666089600",
            "0a7e6324e85b4a758be777a3c9e5c488",
            "e366ef1b280243599173f95e9a39a665",
            "905a4778781348ebb27719cfba2b6e42",
            "cd70ca39de364ba1b7ab50061e2ca89f",
            "48bf8d1408cb44f89094401a03bbda33",
            "a89d4c9c90c242ca8deeb5efaf75bafc",
            "4fa8e86ab563406aaa7db21756cdae96",
            "5b409e92dd69427aa85b70b70adfa44a",
            "b215040d102443a2822aba354c7ffc8c",
            "dbd5075b96d841c2902a244b55b2a562",
            "cd6660da8bc1409d9f17895af83030cb",
            "f09bcbde554c4ecbbc475d73df23c81d",
            "f548cabb8e664e1f93d40b9dcfb0a0c3",
            "843a81203eb04d00bed19ff2d371d901",
            "b28e80e68aa14f818c747930ca667506",
            "cb803c5a4cb849cda80107fe074a5d6e",
            "943dbc22cc154fd8ae1e2ae912c76553",
            "b22d09a0b000467c9aa070eddfaad181",
            "c494064a07f34e39973078d26dee9b05",
            "317ae7f5a9c44103b9abeeb5d4aeee51",
            "7514fdf1ac0041b8950ef7a63820d51a",
            "0fd661f88d2f4f7fb10e6df9a2091e9c",
            "27c4adb830314c63ab58a1b1b7052e91",
            "5b48b371a44e4c46aeb466b7771c615f",
            "a53cd46c81244924a83ee76056990b6c",
            "7bd2e7344c2844c288abb79396705c7b",
            "1cb7b93bee77403987d5ab7e1489e516",
            "97f2fe6fdc2c4e2c9afcbc6442e8a8aa",
            "a095b966fe314172acaebb18ff0e3c6d",
            "8bc313349bab4fadb2f675fd9146edba",
            "23ba2a2e45034f09a9ef70943b0e9d62",
            "124107ebcc004ba5bc69fd52ba5c4773",
            "4c58b64f52a343b9b4116b4c4466c26c",
            "44bb662289824d5096c95a61f917fe42",
            "49698bb33ead4a2f80f1f661969e47a6",
            "cda81e1171a346cd943c76f91cb402ed",
            "20907a6b52004186bbe955a06fb5e0a7",
            "a2d19f806f6845a7a0f4fb897f6dbddb",
            "930c1f5dc64745389f132932d7bc07a3",
            "8fc1cad9ece84a9e99439c3572c4b6dd",
            "85436922eb314befaee33887f568e549",
            "ac6403b0e9e14d9f9bddb171569adf9a",
            "99048d5566ef485481db144ce28a0ada",
            "e1399b3cb055470f8b8074a424ff871d",
            "220e2e6c4a81422eb67e1bc50a91a9c9",
            "37b75a8ce0844eeb99a1f3b1642a09b1",
            "b946031e2ca24c30ab9ec5f50a83ed5f",
            "049827063c544a88b24264f9deb3deeb",
            "ef26726f467343ddad3ea18bab1c075f",
            "47a0e5018b884f34afd14af60b464138",
            "3e5520faae51459db5acdff8cd19f2b3",
            "c6859a99bd484a17a87c9504da3ebc9d",
            "fd8e05f731a9411385812799ea377f6d",
            "b9ab66918b7545a585b4009590ce0d88",
            "cf6fcf372aa44c29bf0a3abb1852aaef",
            "d3cfa869adb4462d9e14434c1084415c",
            "11501d6d81da44208ff8a2e257d03e9e",
            "ccf5884e82d240c68b11ec0c32fabaf9",
            "96b91dfd6fbe446b98c6c1b557c374f4",
            "dae8b0dbd5cf4ea3a8384906b6421f1f",
            "35c51dfe96c349509b4076808e5da0ac",
            "8c75c5f0e9524fb8bc84273fedd417aa",
            "004d1e272ac641dd8bd0ddf31e3a1f79",
            "bbb44d7f708d447189a57436de0b77fe",
            "9847353d34784ed9bd7070cb4b86ab10",
            "d5ef5ef5de5a45588bc36b3b86ea45dc",
            "af7b9401aef14a43842733a143d28a96",
            "60806f0354b444d4a2cfebe760a32f0b",
            "f1ee52a97b794db5830e6b5ebbd26ba3",
            "477a3e516de245bfa5afa9357c478261",
            "aa7ff00a62384630a59d0f1b25e4a8a1",
            "e8c06fd26a5348608fbbef24e413ed8f",
            "c5ed452fb80b4977b421088d67e75033",
            "aaa2df501df34e91b9f47b16a2ec745e",
            "46ce97b24fa04886b3ced22d8f8a6e81",
            "903590b8c7974598b91cac2583913d5d",
            "174209905efb4711bad13938ad6e06f1",
            "814b9c3d21c3420899f27dcc933595fc",
            "2a703bc0d97a43b0a070a59a34b28966",
            "37f449135e1c45d9ae4a00f581458d0a",
            "cde5827f22ea405ab61d2b01393e21d1",
            "ac0d90e5a94b41708a4658172c01d16b",
            "ea41f9398e0b4916ae2b88c905077db8",
            "15dd5aa9dec74a62adbe2778130fe4d7",
            "8312b9e7f656461cbacb46bc843af07d",
            "de018a7bab8e46b9834573a0784eba52",
            "a997bbe6d3824cd9abc1bffff75631a0",
            "a2fa9b49c22f459981d20a6e7b4b6ca6",
            "9df3165bba674e97baf2ccbbdfb1ec8f",
            "83813a2afe874118af04f2043a95f92e",
            "b40bf38a5b5e4cc3973de8285472b8f2",
            "b3f583e6ca0846c7b74fe4b2b1ccf50e",
            "a9e18619e8f2466abd6de3827fed2055",
            "6db7fdd64b68489e83f97b608ec96e3b",
            "1bb8d49bbab34c4e94f2f26114f0ac93",
            "afed688455944191991721488c03e9df",
            "a2d47baef6eb4635a0defd8c764012f6",
            "0fe6253193f44ec7bfea9e96fc7d1fa5",
            "2c2e8f5d3650460ca2751fb05778e697",
            "3b29e33ade674d8eb18049002e7a5041",
            "b30ab6ff42454117a37840832876263a",
            "072d9a2409594d9c9ac8b61ec9524481",
            "43c5729f00764960a04463efeba14731",
            "b2ebbf275d484e7391f21117fdd521aa",
            "87007db081364d459c1be2b88de51f11",
            "c94dbb61deac4aa2b2ad31acb122646b",
            "a64199819c2b445182ddc42ffb8d6ec1",
            "ade12cf1a4034faca3b13fd17e93a2f6",
            "7c91c2c252f74adf86764c536435525e",
            "977e9e9046e34eabb1964b31aee9c67b",
            "06920419d1b94df69e971a064144a972",
            "d5554a32572f4716b2ec4aff2bd100af",
            "a3e86e3574184f92b9349201f594bb69",
            "79dbdb8b232d4f95b833996f752c5140",
            "a1f1456513e349c18af93fe54136e180",
            "6ca647e115cd4e758ab7078ade8c7df3",
            "18f93c8782b0450981d43165bb5a493d",
            "e8065e7ef94e403cadc30963226b6134",
            "6a5e3a483a604d6c9b155deb4ab5c438",
            "cd3cb0c8d9f440509863c3009a69cdd4",
            "50f2f815be1848938a5db39ff57108b0",
            "b492bca4ffad4c1cbda34353f9cf01b9",
            "21bc3efd8e3546dd9c4dd523700e76c6",
            "bd78c54d34124a4d813ccdd06f72d020",
            "cb42294244264f6a94f42f47d8acb68c",
            "e3839060ca204e7f931531f5d54947ab",
            "a669d9ab16c64c9cbb0e3b8ba491267c",
            "7137722725614fa6b18d939b860d781f",
            "4df487b75fc14d929e2cfe8e38dc19c1",
            "475f30b319244869854f2de4488bea58",
            "6da99939f24d4183a67ab43b31da6060",
            "71cb11a5a80e49a587a48d1693825dd8",
            "a951029dcc7543059077aae895a71cd4",
            "4b1ea3ee886347fa945bdb7b964173f1",
            "b2fcecc1b945463cad194cae1cd29306",
            "c707d52b4c7c48f8813a487c56ada322",
            "10105cc71ea7471aa18f51389466088d",
            "ed5a06dad6ea4021b3aeb8c1ce8cc5c2",
            "aef7d909d50349bb8f9eae0f338ede48",
            "979a87bfdce24c5eaa454926780e2068",
            "4fc727554d8d486582b0894f37744c83",
            "6905eaec66fb4ee39bd445468343c76f",
            "b889602c941a4d97b47cb19e753eb961",
            "4b360ded65944209865703613a7016e0",
            "b6de745dbbad40bd89bd5aa1e56e690f",
            "aa7b7a50e92e407799d799d0fc0236e2",
            "cd560193292f4d0e8bd8643b10e9a77a",
            "040663c573c04ec188990229e675880a",
            "484f151815ee4dfab9265b86c2c092dc",
            "301c5c5df9a94b9c94aa10db1c701fdb",
            "6b884352390347cfb3c4858d795ba085",
            "7cc61ab5694a4ceab949aa9ad0681859",
            "6b579a823a8849bb8b35316b761065f4",
            "1ecec14f22cf44739d91e74b150f897c",
            "b09b886ae7914c678e2f93d56ad83e68",
            "3e6805f641bc4ec1b3e98ce928fe432e",
            "e74ca75037cd4b178692bc923860e98f",
            "35a75f047c7d47ac9d7402d543ba70be",
            "d28a40ba8da8410ba63fb13d23b36d6f",
            "07aaba37b87d4e1f8484afa7cbd87d7b",
            "233037e236314145b1bb889ffe3fcc7f",
            "9606ad35a0264856b8fff6bd5745793b",
            "32d665715fd542818bb0deb73fc0771b",
            "1f088c46c8204ca4b450b72a122708b1",
            "e7479528ddfa495a95b5fd1738b931f4",
            "2acf16e4a05e4ee6b92e7e48fa69c70d",
            "9dae1c0c80464b97a5c10c1c3f49b91a",
            "e0915ad8657247c1a203c60e3c3f1aae",
            "2338736e12784ef786e1b8b67f7a56b5",
            "6a996c9a98884becb98f72b17fd2c8a3",
            "7c89b0c3837c436d89d45024a0eb8f29",
            "0d8931da700f4461a225db46ffa7601c",
            "ad5a97a0bcf4446cb9be52c4241872ce",
            "bcf8d52b42fa481ab7efbba78e1e43b7",
            "30c2005578d04ca3b38e1a56ed6c0d63",
            "323caf5267fb4312872adb4cc8393345",
            "a37522059b1d4adf8c54bd81e4aea16b",
            "d8f6c3929baf42858cf9dae3a3dfc0ba",
            "c524c26e83b64141999bd0a5fa99705d",
            "2aa5d1a8bf424ddfa52283cab0fd4a67",
            "b3b394ff64ba40398a4bd5e7c29c7ef7",
            "0ceaeca3fa97455889e8a1063d03af6a",
            "35d957cb1efc43fd849b0cbb4dfdfb50",
            "813b785adcdf4dd4a6bfcf246f867b52",
            "97a8bfe7fdf74c1fb0e989d4f7601bfd",
            "bc2533fcddaf469c8c59956353fffd99",
            "7ea37aac63784c8194e39bd56eb941a4",
            "7ecf1ac4e8a24e878f35eabf92fa1658",
            "2f06627300104308ab1a5bb59732bf1e",
            "aa33167d9cad48c9842c87f02de36e3a",
            "4799cb0d1ab6470db65c5bc7584acf52",
            "93ace3af595c4eb7a92e02686ca9f99b",
            "2e26f3283c52478699f89db00d97fd7b",
            "6806a75f267c48cf8288855e24f0988b",
            "08417de3357d427d94b3f0517b25c6cd",
            "2285618ea56e453892f0cdd1ca92654e",
            "77f21c1f184e47b4a8343916f867c361",
            "7f425cc5882448b8928ad4cd1a4f1754",
            "de45cd78b6944cccbe12dd5d5591f28f",
            "d7ec87dd79a54e63af7365b1a31522b8",
            "178a059dbd014c2cac1e513360bbca00",
            "38b4010ec9484768a3a963e1d0bacfbd",
            "11ad4657bfbc4dc7be14839c1af36e8a",
            "e71c62e172e143a79777d92e162e7ca9",
            "0b650395a6c544bfa9162eb608696b3a",
            "cb52a7f25bfa43ae9400cd7a49332297",
            "3a1d314c42e54aac98bcc17b8c4555b4",
            "4a6d1a71da37498bb76bbc592c0f959d",
            "06fc92b474a24cec9733ffe35d3b872c",
            "84c607cdd65c4f6dae5e1c0779e10cd6",
            "c7e0d2f18d33477ca2e00b772dc1b965",
            "dbb99355319f4360ad8c733a1a2aeecd",
            "38b41bbb144542e3b676fb2feb8305d8",
            "613163f78b524811ae43122cb4d1922e",
            "9b7f65335eb14054a1b41e9ba2c76727",
            "fc5db22a6edd4210aba48b6597cd05b4",
            "af80f0ab31b9408f9976c43ec6df68a1",
            "1c3e7049fb334ac8a0cae71542f8c3f3",
            "4752b36a19b64050859d670dcc0c1385",
            "9a023a43a9484806a03de9cbed18674c",
            "7df4b5ed0dcb4c34a8537aa5992a607d",
            "884144ba075645a1bbd570bdb95eeff5",
            "8b88b7db67334b04a40586cf2dd94617",
            "e7bf5ae0e8f84ca7b97a2646ac4ade51",
            "033e2f2928b148768d0587b25e036059",
            "09ad88fb97ca4a7f84ba98574201c9b3",
            "e28576b6a17b4b288cd428a036bf3160",
            "79272e4efdf04f13ae1088b84f54529b",
            "7252e7c6ecea426cb4c54e6b978985d4",
            "497a16c5754e4a7bae6a342810191417",
            "51b4326b993948e8a7d1c30529edad08",
            "721bc4aeefb0455dbb5cd3c87af1ec6b",
            "f8f031951ff04eb5a3fb5ac31fcef0ad",
            "af17328115234dafa953152483347b30",
            "092452fbad504525a8ac53189f93f9ae"
          ]
        },
        "outputId": "727e7c1d-d3b1-4473-fc09-bc5ea1411f8c"
      },
      "source": [
        "ImageCleaner(ds, idxs, path, duplicates=True)"
      ],
      "execution_count": null,
      "outputs": [
        {
          "output_type": "display_data",
          "data": {
            "application/vnd.jupyter.widget-view+json": {
              "model_id": "033e2f2928b148768d0587b25e036059",
              "version_minor": 0,
              "version_major": 2
            },
            "text/plain": [
              "HBox(children=(VBox(children=(Image(value=b'\\xff\\xd8\\xff\\xe0\\x00\\x10JFIF\\x00\\x01\\x01\\x01\\x00d\\x00d\\x00\\x00\\xff…"
            ]
          },
          "metadata": {
            "tags": []
          }
        },
        {
          "output_type": "display_data",
          "data": {
            "application/vnd.jupyter.widget-view+json": {
              "model_id": "af17328115234dafa953152483347b30",
              "version_minor": 0,
              "version_major": 2
            },
            "text/plain": [
              "Button(button_style='primary', description='Next Batch', layout=Layout(width='auto'), style=ButtonStyle())"
            ]
          },
          "metadata": {
            "tags": []
          }
        }
      ]
    },
    {
      "cell_type": "code",
      "metadata": {
        "id": "Ea8WAHZv-Ong",
        "colab_type": "code",
        "colab": {}
      },
      "source": [
        ""
      ],
      "execution_count": null,
      "outputs": []
    }
  ]
}